{
 "cells": [
  {
   "cell_type": "code",
   "execution_count": 1,
   "id": "874ce05f",
   "metadata": {},
   "outputs": [],
   "source": [
    "#NN library\n",
    "import numpy as np\n",
    "import pandas as pd\n",
    "import matplotlib.pyplot as plt\n",
    "import math\n",
    "import numpy as np\n",
    "import torch\n",
    "from typing import Optional, Union, Tuple\n",
    "\n",
    "\n",
    "import torch.nn.functional as F\n",
    "from torch.distributions import Distribution\n",
    "from torch.distributions import Bernoulli, Normal, StudentT, Poisson, NegativeBinomial\n",
    "\n",
    "from torch.distributions import constraints\n",
    "\n",
    "from ray import tune\n",
    "\n",
    "from neuralforecast import NeuralForecast\n",
    "from neuralforecast.models import NBEATSx, NHITS\n",
    "from neuralforecast.auto import AutoNHITS, AutoLSTM\n",
    "from neuralforecast.tsdataset import TimeSeriesDataset\n",
    "from neuralforecast.utils import AirPassengers, AirPassengersPanel, AirPassengersStatic\n",
    "from neuralforecast.losses.numpy import rmse, mape\n",
    "from pandas.tseries.holiday import USFederalHolidayCalendar\n",
    "from pandas.tseries.offsets import CustomBusinessDay\n",
    "from neuralforecast.losses.pytorch import MSE"
   ]
  },
  {
   "cell_type": "code",
   "execution_count": 2,
   "id": "cafd0e0f",
   "metadata": {},
   "outputs": [],
   "source": [
    "from numpy.random import seed\n",
    "from random import randrange"
   ]
  },
  {
   "cell_type": "code",
   "execution_count": 3,
   "id": "7db1efda",
   "metadata": {},
   "outputs": [],
   "source": [
    "#Realized volatility \n",
    "def Yang_Zhang_RV_yahoo(tickers, start=None, end=None, period=None, interval=None):\n",
    "    # importing needed libraries\n",
    "    import yfinance as yf\n",
    "    import pandas as pd\n",
    "    import numpy as np\n",
    "    import warnings\n",
    "    warnings.filterwarnings(\"ignore\")\n",
    "    \n",
    "    #Data extraction\n",
    "    if period==None:\n",
    "        data=yf.download(tickers=tickers, start=start, end=end, interval=interval)\n",
    "    else:\n",
    "        data=yf.download(tickers=tickers, period=period, interval=interval)\n",
    "    #dropping N/A values\n",
    "    if data.isnull().values.any()==True:\n",
    "        data=data.dropna()\n",
    "        print(\"Rows with missing values were removed\")\n",
    "    else:\n",
    "        data=data\n",
    "        \n",
    "    # Yang_Zhang_RV formula is give as:\n",
    "    # RV^2 = Vo + k*Vc + (1-k)*Vrs\n",
    "    # where Vo = 1/(n-1)*sum(Oi-Obar)^2\n",
    "    # with oi = normalized opening price at time t and Obar = mean of normalized opening prices\n",
    "    # Vc = = 1/(n-1)*sum(ci-Cbar)^2\n",
    "    # with ci = normalized close price at time t and Cbar = mean of normalized close prices\n",
    "    # k = 0.34/(1.34+(n+1)/(n-1))\n",
    "    # with n = total number of days or time periods considered\n",
    "    # Vrs (Rogers & Satchell RV proxy) = ui(ui-ci)+di(di-ci)\n",
    "    # with ui = ln(Hi/Oi), ci = ln(Ci/Oi), di=(Li/Oi), oi = ln(Oi/Ci-1)\n",
    "    # where Hi = high price at time t and Li = low price at time t\n",
    "    \n",
    "    data[\"ui\"]=np.log(np.divide(data[\"High\"][1:],data[\"Open\"][1:]))\n",
    "    data[\"ci\"]=np.log(np.divide(data[\"Close\"][1:],data[\"Open\"][1:]))\n",
    "    data[\"di\"]=np.log(np.divide(data[\"Low\"][1:],data[\"Open\"][1:]))\n",
    "    data[\"oi\"]=np.log(np.divide(data[\"Open\"][1:],data[\"Close\"][:len(data)-1].shift(1)))\n",
    "    data=data[1:]\n",
    "    data[\"RS\"]=data[\"ui\"]*(data[\"ui\"]-data[\"ci\"])+data[\"di\"]*(data[\"di\"]-data[\"ci\"])\n",
    "    RS_var= data[\"RS\"].groupby(pd.Grouper(freq='W')).mean().dropna()\n",
    "    Vc_and_Vo=data[[\"oi\", \"ci\"]].groupby(pd.Grouper(freq='W')).var().dropna()\n",
    "    n=int(len(data)/len(RS_var))\n",
    "    k = 0.34/(1.34+(n+1)/(n-1))\n",
    "    Yang_Zhang_RV=np.sqrt((1-k)*RS_var+Vc_and_Vo[\"oi\"]+Vc_and_Vo[\"ci\"]*k)\n",
    "    Yang_Zhang_RV_df=pd.DataFrame(Yang_Zhang_RV)\n",
    "    Yang_Zhang_RV_df.rename(columns={0: \"Yang & Zhang RV proxy\"},inplace=True)\n",
    "    \n",
    "    return Yang_Zhang_RV_df\n",
    "\n",
    "def Yang_Zhang_RV_own_data(data):\n",
    "    # importing needed libraries\n",
    "    import pandas as pd\n",
    "    import numpy as np\n",
    "    import warnings\n",
    "    warnings.filterwarnings(\"ignore\")\n",
    "    \n",
    "    # Yang_Zhang_RV formula is give as:\n",
    "    # RV^2 = Vo + k*Vc + (1-k)*Vrs\n",
    "    # where Vo = 1/(n-1)*sum(Oi-Obar)^2\n",
    "    # with oi = normalized opening price at time t and Obar = mean of normalized opening prices\n",
    "    # Vc = = 1/(n-1)*sum(ci-Cbar)^2\n",
    "    # with ci = normalized close price at time t and Cbar = mean of normalized close prices\n",
    "    # k = 0.34/(1.34+(n+1)/(n-1))\n",
    "    # with n = total number of days or time periods considered\n",
    "    # Vrs (Rogers & Satchell RV proxy) = ui(ui-ci)+di(di-ci)\n",
    "    # with ui = ln(Hi/Oi), ci = ln(Ci/Oi), di=(Li/Oi), oi = ln(Oi/Ci-1)\n",
    "    # where Hi = high price at time t and Li = low price at time t\n",
    "    \n",
    "    data[\"ui\"]=np.log(np.divide(data[\"High\"][1:],data[\"Open\"][1:]))\n",
    "    data[\"ci\"]=np.log(np.divide(data[\"Close\"][1:],data[\"Open\"][1:]))\n",
    "    data[\"di\"]=np.log(np.divide(data[\"Low\"][1:],data[\"Open\"][1:]))\n",
    "    data[\"oi\"]=np.log(np.divide(data[\"Open\"][1:],data[\"Close\"][:len(data)-1].shift(1)))\n",
    "    data=data[1:]\n",
    "    data[\"RS\"]=data[\"ui\"]*(data[\"ui\"]-data[\"ci\"])+data[\"di\"]*(data[\"di\"]-data[\"ci\"])\n",
    "    RS_var= data[\"RS\"].groupby(pd.Grouper(freq='D')).mean().dropna()\n",
    "    Vc_and_Vo=data[[\"oi\", \"ci\"]].groupby(pd.Grouper(freq='D')).var().dropna()\n",
    "    n=int(len(data)/len(RS_var))\n",
    "    k = 0.34/(1.34+(n+1)/(n-1))\n",
    "    Yang_Zhang_RV=np.sqrt((1-k)*RS_var+Vc_and_Vo[\"oi\"]+Vc_and_Vo[\"ci\"]*k)\n",
    "    Yang_Zhang_RV_df=pd.DataFrame(Yang_Zhang_RV)\n",
    "    Yang_Zhang_RV_df.rename(columns={0: \"Yang & Zhang RV proxy\"},inplace=True)\n",
    "    \n",
    "    return Yang_Zhang_RV_df\n",
    "    \n",
    "    \n",
    "    \n",
    "def Multivariate_Yang_Zhang_RV_own_data(data_list):\n",
    "    Multivariate_Yang_Zhang_RV=[]\n",
    "    for i in range(len(data_list)):\n",
    "        Yang_Zhang_RV_df=Yang_Zhang_RV_own_data(data=data_list[i])\n",
    "        Multivariate_Yang_Zhang_RV.append(Yang_Zhang_RV_df)\n",
    "    return Multivariate_Yang_Zhang_RV\n",
    "    \n",
    "    \n",
    "def Multivariate_Yang_Zhang_RV_yahoo(tickers, start=None, end=None, period=None, interval=None):\n",
    "    # importing needed libraries\n",
    "    import yfinance as yf\n",
    "    import pandas as pd\n",
    "    import numpy as np\n",
    "    import warnings\n",
    "    warnings.filterwarnings(\"ignore\")\n",
    "    \n",
    "    #Data extraction\n",
    "    if period==None:\n",
    "        data=yf.download(tickers=tickers, start=start, end=end, interval=interval)\n",
    "    else:\n",
    "        data=yf.download(tickers=tickers, period=period, interval=interval)\n",
    "    #dropping N/A values\n",
    "    if data.isnull().values.any()==True:\n",
    "        data=data.dropna()\n",
    "        print(\"Rows with missing values were removed\")\n",
    "    else:\n",
    "        data=data\n",
    "\n",
    "    data=data.unstack().reset_index(name=\"Actuals\").rename(columns={\"level_1\":\"Stocks\"}).set_index(\"Datetime\").pivot(columns=['Stocks','level_0'])\n",
    "    data=data['Actuals']\n",
    "        \n",
    "    # Yang_Zhang_RV formula is give as:\n",
    "    # RV^2 = Vo + k*Vc + (1-k)*Vrs\n",
    "    # where Vo = 1/(n-1)*sum(Oi-Obar)^2\n",
    "    # with oi = normalized opening price at time t and Obar = mean of normalized opening prices\n",
    "    # Vc = = 1/(n-1)*sum(ci-Cbar)^2\n",
    "    # with ci = normalized close price at time t and Cbar = mean of normalized close prices\n",
    "    # k = 0.34/(1.34+(n+1)/(n-1))\n",
    "    # with n = total number of days or time periods considered\n",
    "    # Vrs (Rogers & Satchell RV proxy) = ui(ui-ci)+di(di-ci)\n",
    "    # with ui = ln(Hi/Oi), ci = ln(Ci/Oi), di=(Li/Oi), oi = ln(Oi/Ci-1)\n",
    "    # where Hi = high price at time t and Li = low price at time t\n",
    "    \n",
    "    Multivariate_Yang_Zhang_RV=[]\n",
    "    for i in range(len(tickers)):\n",
    "        data1=data[tickers[i]]\n",
    "        data1[\"ui\"]=np.log(np.divide(data1[\"High\"][1:],data1[\"Open\"][1:]))\n",
    "        data1[\"ci\"]=np.log(np.divide(data1[\"Close\"][1:],data1[\"Open\"][1:]))\n",
    "        data1[\"di\"]=np.log(np.divide(data1[\"Low\"][1:],data1[\"Open\"][1:]))\n",
    "        data1[\"oi\"]=np.log(np.divide(data1[\"Open\"][1:],data1[\"Close\"][:len(data1)-1].shift(1)))\n",
    "        data1=data1[1:]\n",
    "        data1[\"RS\"]=data1[\"ui\"]*(data1[\"ui\"]-data1[\"ci\"])+data1[\"di\"]*(data1[\"di\"]-data1[\"ci\"])\n",
    "        RS_var= data1[\"RS\"].groupby(pd.Grouper(freq='D')).mean().dropna()\n",
    "        Vc_and_Vo=data1[[\"oi\", \"ci\"]].groupby(pd.Grouper(freq='D')).var().dropna()\n",
    "        n=int(len(data1)/len(RS_var))\n",
    "        k = 0.34/(1.34+(n+1)/(n-1))\n",
    "        Yang_Zhang_RV=np.sqrt((1-k)*RS_var+Vc_and_Vo[\"oi\"]+Vc_and_Vo[\"ci\"]*k)\n",
    "        Yang_Zhang_RV_df=pd.DataFrame(Yang_Zhang_RV)\n",
    "        Yang_Zhang_RV_df.rename(columns={0: \"Yang & Zhang RV proxy\"},inplace=True)\n",
    "        Multivariate_Yang_Zhang_RV.append(Yang_Zhang_RV_df)\n",
    "    \n",
    "    return Multivariate_Yang_Zhang_RV"
   ]
  },
  {
   "cell_type": "code",
   "execution_count": 4,
   "id": "90af9c0b",
   "metadata": {},
   "outputs": [
    {
     "data": {
      "text/html": [
       "<div>\n",
       "<style scoped>\n",
       "    .dataframe tbody tr th:only-of-type {\n",
       "        vertical-align: middle;\n",
       "    }\n",
       "\n",
       "    .dataframe tbody tr th {\n",
       "        vertical-align: top;\n",
       "    }\n",
       "\n",
       "    .dataframe thead th {\n",
       "        text-align: right;\n",
       "    }\n",
       "</style>\n",
       "<table border=\"1\" class=\"dataframe\">\n",
       "  <thead>\n",
       "    <tr style=\"text-align: right;\">\n",
       "      <th></th>\n",
       "      <th>Open</th>\n",
       "      <th>High</th>\n",
       "      <th>Low</th>\n",
       "      <th>Close</th>\n",
       "      <th>Volume</th>\n",
       "    </tr>\n",
       "    <tr>\n",
       "      <th>Date</th>\n",
       "      <th></th>\n",
       "      <th></th>\n",
       "      <th></th>\n",
       "      <th></th>\n",
       "      <th></th>\n",
       "    </tr>\n",
       "  </thead>\n",
       "  <tbody>\n",
       "    <tr>\n",
       "      <th>2018-01-01 00:59:59.999</th>\n",
       "      <td>13715.65</td>\n",
       "      <td>13715.65</td>\n",
       "      <td>13400.01</td>\n",
       "      <td>13529.01</td>\n",
       "      <td>443.356199</td>\n",
       "    </tr>\n",
       "    <tr>\n",
       "      <th>2018-01-01 01:59:59.999</th>\n",
       "      <td>13528.99</td>\n",
       "      <td>13595.89</td>\n",
       "      <td>13155.38</td>\n",
       "      <td>13203.06</td>\n",
       "      <td>383.697006</td>\n",
       "    </tr>\n",
       "    <tr>\n",
       "      <th>2018-01-01 02:59:59.999</th>\n",
       "      <td>13203.00</td>\n",
       "      <td>13418.43</td>\n",
       "      <td>13200.00</td>\n",
       "      <td>13330.18</td>\n",
       "      <td>429.064572</td>\n",
       "    </tr>\n",
       "    <tr>\n",
       "      <th>2018-01-01 03:59:59.999</th>\n",
       "      <td>13330.26</td>\n",
       "      <td>13611.27</td>\n",
       "      <td>13290.00</td>\n",
       "      <td>13410.03</td>\n",
       "      <td>420.087030</td>\n",
       "    </tr>\n",
       "    <tr>\n",
       "      <th>2018-01-01 04:59:59.999</th>\n",
       "      <td>13434.98</td>\n",
       "      <td>13623.29</td>\n",
       "      <td>13322.15</td>\n",
       "      <td>13601.01</td>\n",
       "      <td>340.807329</td>\n",
       "    </tr>\n",
       "    <tr>\n",
       "      <th>...</th>\n",
       "      <td>...</td>\n",
       "      <td>...</td>\n",
       "      <td>...</td>\n",
       "      <td>...</td>\n",
       "      <td>...</td>\n",
       "    </tr>\n",
       "    <tr>\n",
       "      <th>2024-02-29 20:59:59.999</th>\n",
       "      <td>61599.99</td>\n",
       "      <td>62285.47</td>\n",
       "      <td>61521.73</td>\n",
       "      <td>61934.73</td>\n",
       "      <td>3755.220100</td>\n",
       "    </tr>\n",
       "    <tr>\n",
       "      <th>2024-02-29 21:59:59.999</th>\n",
       "      <td>61934.73</td>\n",
       "      <td>61999.75</td>\n",
       "      <td>60584.07</td>\n",
       "      <td>61374.94</td>\n",
       "      <td>4040.139080</td>\n",
       "    </tr>\n",
       "    <tr>\n",
       "      <th>2024-02-29 22:59:59.999</th>\n",
       "      <td>61374.95</td>\n",
       "      <td>61474.81</td>\n",
       "      <td>60672.82</td>\n",
       "      <td>61224.02</td>\n",
       "      <td>1906.566300</td>\n",
       "    </tr>\n",
       "    <tr>\n",
       "      <th>2024-02-29 23:59:59.999</th>\n",
       "      <td>61224.02</td>\n",
       "      <td>61536.94</td>\n",
       "      <td>60998.51</td>\n",
       "      <td>61130.98</td>\n",
       "      <td>1694.180000</td>\n",
       "    </tr>\n",
       "    <tr>\n",
       "      <th>2024-03-01 00:59:59.999</th>\n",
       "      <td>61130.99</td>\n",
       "      <td>61749.00</td>\n",
       "      <td>61126.00</td>\n",
       "      <td>61501.11</td>\n",
       "      <td>1867.799020</td>\n",
       "    </tr>\n",
       "  </tbody>\n",
       "</table>\n",
       "<p>53903 rows × 5 columns</p>\n",
       "</div>"
      ],
      "text/plain": [
       "                             Open      High       Low     Close       Volume\n",
       "Date                                                                        \n",
       "2018-01-01 00:59:59.999  13715.65  13715.65  13400.01  13529.01   443.356199\n",
       "2018-01-01 01:59:59.999  13528.99  13595.89  13155.38  13203.06   383.697006\n",
       "2018-01-01 02:59:59.999  13203.00  13418.43  13200.00  13330.18   429.064572\n",
       "2018-01-01 03:59:59.999  13330.26  13611.27  13290.00  13410.03   420.087030\n",
       "2018-01-01 04:59:59.999  13434.98  13623.29  13322.15  13601.01   340.807329\n",
       "...                           ...       ...       ...       ...          ...\n",
       "2024-02-29 20:59:59.999  61599.99  62285.47  61521.73  61934.73  3755.220100\n",
       "2024-02-29 21:59:59.999  61934.73  61999.75  60584.07  61374.94  4040.139080\n",
       "2024-02-29 22:59:59.999  61374.95  61474.81  60672.82  61224.02  1906.566300\n",
       "2024-02-29 23:59:59.999  61224.02  61536.94  60998.51  61130.98  1694.180000\n",
       "2024-03-01 00:59:59.999  61130.99  61749.00  61126.00  61501.11  1867.799020\n",
       "\n",
       "[53903 rows x 5 columns]"
      ]
     },
     "execution_count": 4,
     "metadata": {},
     "output_type": "execute_result"
    }
   ],
   "source": [
    "import pandas as pd\n",
    "from binance import Client\n",
    "from dotenv import dotenv_values\n",
    "from datetime import datetime\n",
    "\n",
    "config = dotenv_values('.env')\n",
    "client = Client(config.get('KEY'), config.get('SECRET_KEY'))\n",
    "TICKER = 'BTCUSDT'\n",
    "start_date = datetime(2018, 1, 1)\n",
    "end_date = datetime(2024, 3, 1)\n",
    "\n",
    "start_date_str = start_date.strftime('%d %b, %Y')\n",
    "end_date_str = end_date.strftime('%d %b, %Y')\n",
    "\n",
    "klines = client.get_historical_klines(TICKER, client.KLINE_INTERVAL_1HOUR, start_date_str, end_date_str)\n",
    "dataBTC = pd.DataFrame(\n",
    "    data=[row[1:7] for row in klines],\n",
    "    columns=['Open', 'High', 'Low', 'Close', 'Volume', 'Date'],\n",
    ").set_index('Date')\n",
    "dataBTC.index = pd.to_datetime(dataBTC.index, unit='ms')\n",
    "dataBTC = dataBTC.sort_index()\n",
    "dataBTC = dataBTC.apply(pd.to_numeric, axis=1)\n",
    "dataBTC"
   ]
  },
  {
   "cell_type": "code",
   "execution_count": 5,
   "id": "4d2d7917",
   "metadata": {},
   "outputs": [
    {
     "data": {
      "text/html": [
       "<div>\n",
       "<style scoped>\n",
       "    .dataframe tbody tr th:only-of-type {\n",
       "        vertical-align: middle;\n",
       "    }\n",
       "\n",
       "    .dataframe tbody tr th {\n",
       "        vertical-align: top;\n",
       "    }\n",
       "\n",
       "    .dataframe thead th {\n",
       "        text-align: right;\n",
       "    }\n",
       "</style>\n",
       "<table border=\"1\" class=\"dataframe\">\n",
       "  <thead>\n",
       "    <tr style=\"text-align: right;\">\n",
       "      <th></th>\n",
       "      <th>Open</th>\n",
       "      <th>High</th>\n",
       "      <th>Low</th>\n",
       "      <th>Close</th>\n",
       "      <th>Volume</th>\n",
       "    </tr>\n",
       "    <tr>\n",
       "      <th>Date</th>\n",
       "      <th></th>\n",
       "      <th></th>\n",
       "      <th></th>\n",
       "      <th></th>\n",
       "      <th></th>\n",
       "    </tr>\n",
       "  </thead>\n",
       "  <tbody>\n",
       "    <tr>\n",
       "      <th>2018-01-01 00:59:59.999</th>\n",
       "      <td>733.01</td>\n",
       "      <td>734.52</td>\n",
       "      <td>720.03</td>\n",
       "      <td>727.62</td>\n",
       "      <td>2105.90100</td>\n",
       "    </tr>\n",
       "    <tr>\n",
       "      <th>2018-01-01 01:59:59.999</th>\n",
       "      <td>727.01</td>\n",
       "      <td>732.00</td>\n",
       "      <td>716.80</td>\n",
       "      <td>717.97</td>\n",
       "      <td>2305.97086</td>\n",
       "    </tr>\n",
       "    <tr>\n",
       "      <th>2018-01-01 02:59:59.999</th>\n",
       "      <td>717.67</td>\n",
       "      <td>725.75</td>\n",
       "      <td>717.59</td>\n",
       "      <td>724.05</td>\n",
       "      <td>2166.45725</td>\n",
       "    </tr>\n",
       "    <tr>\n",
       "      <th>2018-01-01 03:59:59.999</th>\n",
       "      <td>723.95</td>\n",
       "      <td>737.99</td>\n",
       "      <td>722.70</td>\n",
       "      <td>734.50</td>\n",
       "      <td>2160.90450</td>\n",
       "    </tr>\n",
       "    <tr>\n",
       "      <th>2018-01-01 04:59:59.999</th>\n",
       "      <td>734.99</td>\n",
       "      <td>744.98</td>\n",
       "      <td>730.01</td>\n",
       "      <td>744.82</td>\n",
       "      <td>2335.33705</td>\n",
       "    </tr>\n",
       "    <tr>\n",
       "      <th>...</th>\n",
       "      <td>...</td>\n",
       "      <td>...</td>\n",
       "      <td>...</td>\n",
       "      <td>...</td>\n",
       "      <td>...</td>\n",
       "    </tr>\n",
       "    <tr>\n",
       "      <th>2024-02-29 20:59:59.999</th>\n",
       "      <td>3403.27</td>\n",
       "      <td>3415.44</td>\n",
       "      <td>3393.61</td>\n",
       "      <td>3393.99</td>\n",
       "      <td>18045.00550</td>\n",
       "    </tr>\n",
       "    <tr>\n",
       "      <th>2024-02-29 21:59:59.999</th>\n",
       "      <td>3393.99</td>\n",
       "      <td>3398.63</td>\n",
       "      <td>3310.00</td>\n",
       "      <td>3347.74</td>\n",
       "      <td>40472.54590</td>\n",
       "    </tr>\n",
       "    <tr>\n",
       "      <th>2024-02-29 22:59:59.999</th>\n",
       "      <td>3347.73</td>\n",
       "      <td>3358.53</td>\n",
       "      <td>3300.00</td>\n",
       "      <td>3322.61</td>\n",
       "      <td>24605.94420</td>\n",
       "    </tr>\n",
       "    <tr>\n",
       "      <th>2024-02-29 23:59:59.999</th>\n",
       "      <td>3322.60</td>\n",
       "      <td>3358.97</td>\n",
       "      <td>3319.18</td>\n",
       "      <td>3340.09</td>\n",
       "      <td>14635.58870</td>\n",
       "    </tr>\n",
       "    <tr>\n",
       "      <th>2024-03-01 00:59:59.999</th>\n",
       "      <td>3340.10</td>\n",
       "      <td>3380.00</td>\n",
       "      <td>3338.54</td>\n",
       "      <td>3378.73</td>\n",
       "      <td>21396.39190</td>\n",
       "    </tr>\n",
       "  </tbody>\n",
       "</table>\n",
       "<p>53903 rows × 5 columns</p>\n",
       "</div>"
      ],
      "text/plain": [
       "                            Open     High      Low    Close       Volume\n",
       "Date                                                                    \n",
       "2018-01-01 00:59:59.999   733.01   734.52   720.03   727.62   2105.90100\n",
       "2018-01-01 01:59:59.999   727.01   732.00   716.80   717.97   2305.97086\n",
       "2018-01-01 02:59:59.999   717.67   725.75   717.59   724.05   2166.45725\n",
       "2018-01-01 03:59:59.999   723.95   737.99   722.70   734.50   2160.90450\n",
       "2018-01-01 04:59:59.999   734.99   744.98   730.01   744.82   2335.33705\n",
       "...                          ...      ...      ...      ...          ...\n",
       "2024-02-29 20:59:59.999  3403.27  3415.44  3393.61  3393.99  18045.00550\n",
       "2024-02-29 21:59:59.999  3393.99  3398.63  3310.00  3347.74  40472.54590\n",
       "2024-02-29 22:59:59.999  3347.73  3358.53  3300.00  3322.61  24605.94420\n",
       "2024-02-29 23:59:59.999  3322.60  3358.97  3319.18  3340.09  14635.58870\n",
       "2024-03-01 00:59:59.999  3340.10  3380.00  3338.54  3378.73  21396.39190\n",
       "\n",
       "[53903 rows x 5 columns]"
      ]
     },
     "execution_count": 5,
     "metadata": {},
     "output_type": "execute_result"
    }
   ],
   "source": [
    "TICKER = 'ETHUSDT'\n",
    "start_date = datetime(2018, 1, 1)\n",
    "end_date = datetime(2024, 3, 1)\n",
    "\n",
    "start_date_str = start_date.strftime('%d %b, %Y')\n",
    "end_date_str = end_date.strftime('%d %b, %Y')\n",
    "\n",
    "klines = client.get_historical_klines(TICKER, client.KLINE_INTERVAL_1HOUR, start_date_str, end_date_str)\n",
    "dataETH = pd.DataFrame(\n",
    "    data=[row[1:7] for row in klines],\n",
    "    columns=['Open', 'High', 'Low', 'Close', 'Volume', 'Date'],\n",
    ").set_index('Date')\n",
    "dataETH.index = pd.to_datetime(dataETH.index, unit='ms')\n",
    "dataETH = dataETH.sort_index()\n",
    "dataETH = dataETH.apply(pd.to_numeric, axis=1)\n",
    "dataETH"
   ]
  },
  {
   "cell_type": "code",
   "execution_count": 6,
   "id": "908cf329",
   "metadata": {},
   "outputs": [
    {
     "data": {
      "text/html": [
       "<div>\n",
       "<style scoped>\n",
       "    .dataframe tbody tr th:only-of-type {\n",
       "        vertical-align: middle;\n",
       "    }\n",
       "\n",
       "    .dataframe tbody tr th {\n",
       "        vertical-align: top;\n",
       "    }\n",
       "\n",
       "    .dataframe thead th {\n",
       "        text-align: right;\n",
       "    }\n",
       "</style>\n",
       "<table border=\"1\" class=\"dataframe\">\n",
       "  <thead>\n",
       "    <tr style=\"text-align: right;\">\n",
       "      <th></th>\n",
       "      <th>Yang &amp; Zhang RV proxy</th>\n",
       "      <th>unique_id</th>\n",
       "    </tr>\n",
       "    <tr>\n",
       "      <th>Date</th>\n",
       "      <th></th>\n",
       "      <th></th>\n",
       "    </tr>\n",
       "  </thead>\n",
       "  <tbody>\n",
       "    <tr>\n",
       "      <th>2018-01-01</th>\n",
       "      <td>0.018721</td>\n",
       "      <td>BTC</td>\n",
       "    </tr>\n",
       "    <tr>\n",
       "      <th>2018-01-02</th>\n",
       "      <td>0.024600</td>\n",
       "      <td>BTC</td>\n",
       "    </tr>\n",
       "    <tr>\n",
       "      <th>2018-01-03</th>\n",
       "      <td>0.020226</td>\n",
       "      <td>BTC</td>\n",
       "    </tr>\n",
       "    <tr>\n",
       "      <th>2018-01-04</th>\n",
       "      <td>0.018651</td>\n",
       "      <td>BTC</td>\n",
       "    </tr>\n",
       "    <tr>\n",
       "      <th>2018-01-05</th>\n",
       "      <td>0.020923</td>\n",
       "      <td>BTC</td>\n",
       "    </tr>\n",
       "    <tr>\n",
       "      <th>...</th>\n",
       "      <td>...</td>\n",
       "      <td>...</td>\n",
       "    </tr>\n",
       "    <tr>\n",
       "      <th>2024-02-26</th>\n",
       "      <td>0.008030</td>\n",
       "      <td>BTC</td>\n",
       "    </tr>\n",
       "    <tr>\n",
       "      <th>2024-02-27</th>\n",
       "      <td>0.010189</td>\n",
       "      <td>BTC</td>\n",
       "    </tr>\n",
       "    <tr>\n",
       "      <th>2024-02-28</th>\n",
       "      <td>0.018636</td>\n",
       "      <td>BTC</td>\n",
       "    </tr>\n",
       "    <tr>\n",
       "      <th>2024-02-29</th>\n",
       "      <td>0.012955</td>\n",
       "      <td>BTC</td>\n",
       "    </tr>\n",
       "    <tr>\n",
       "      <th>2024-03-01</th>\n",
       "      <td>NaN</td>\n",
       "      <td>BTC</td>\n",
       "    </tr>\n",
       "  </tbody>\n",
       "</table>\n",
       "<p>2252 rows × 2 columns</p>\n",
       "</div>"
      ],
      "text/plain": [
       "            Yang & Zhang RV proxy unique_id\n",
       "Date                                       \n",
       "2018-01-01               0.018721       BTC\n",
       "2018-01-02               0.024600       BTC\n",
       "2018-01-03               0.020226       BTC\n",
       "2018-01-04               0.018651       BTC\n",
       "2018-01-05               0.020923       BTC\n",
       "...                           ...       ...\n",
       "2024-02-26               0.008030       BTC\n",
       "2024-02-27               0.010189       BTC\n",
       "2024-02-28               0.018636       BTC\n",
       "2024-02-29               0.012955       BTC\n",
       "2024-03-01                    NaN       BTC\n",
       "\n",
       "[2252 rows x 2 columns]"
      ]
     },
     "execution_count": 6,
     "metadata": {},
     "output_type": "execute_result"
    }
   ],
   "source": [
    "RVBTC=Yang_Zhang_RV_own_data(dataBTC)\n",
    "RVBTC['unique_id']=f'BTC'\n",
    "RVBTC"
   ]
  },
  {
   "cell_type": "code",
   "execution_count": 7,
   "id": "afd469c0",
   "metadata": {},
   "outputs": [
    {
     "data": {
      "text/html": [
       "<div>\n",
       "<style scoped>\n",
       "    .dataframe tbody tr th:only-of-type {\n",
       "        vertical-align: middle;\n",
       "    }\n",
       "\n",
       "    .dataframe tbody tr th {\n",
       "        vertical-align: top;\n",
       "    }\n",
       "\n",
       "    .dataframe thead th {\n",
       "        text-align: right;\n",
       "    }\n",
       "</style>\n",
       "<table border=\"1\" class=\"dataframe\">\n",
       "  <thead>\n",
       "    <tr style=\"text-align: right;\">\n",
       "      <th></th>\n",
       "      <th>Yang &amp; Zhang RV proxy</th>\n",
       "      <th>unique_id</th>\n",
       "    </tr>\n",
       "    <tr>\n",
       "      <th>Date</th>\n",
       "      <th></th>\n",
       "      <th></th>\n",
       "    </tr>\n",
       "  </thead>\n",
       "  <tbody>\n",
       "    <tr>\n",
       "      <th>2018-01-01</th>\n",
       "      <td>0.015968</td>\n",
       "      <td>ETH</td>\n",
       "    </tr>\n",
       "    <tr>\n",
       "      <th>2018-01-02</th>\n",
       "      <td>0.033049</td>\n",
       "      <td>ETH</td>\n",
       "    </tr>\n",
       "    <tr>\n",
       "      <th>2018-01-03</th>\n",
       "      <td>0.026744</td>\n",
       "      <td>ETH</td>\n",
       "    </tr>\n",
       "    <tr>\n",
       "      <th>2018-01-04</th>\n",
       "      <td>0.026073</td>\n",
       "      <td>ETH</td>\n",
       "    </tr>\n",
       "    <tr>\n",
       "      <th>2018-01-05</th>\n",
       "      <td>0.022854</td>\n",
       "      <td>ETH</td>\n",
       "    </tr>\n",
       "    <tr>\n",
       "      <th>...</th>\n",
       "      <td>...</td>\n",
       "      <td>...</td>\n",
       "    </tr>\n",
       "    <tr>\n",
       "      <th>2024-02-26</th>\n",
       "      <td>0.008802</td>\n",
       "      <td>ETH</td>\n",
       "    </tr>\n",
       "    <tr>\n",
       "      <th>2024-02-27</th>\n",
       "      <td>0.008446</td>\n",
       "      <td>ETH</td>\n",
       "    </tr>\n",
       "    <tr>\n",
       "      <th>2024-02-28</th>\n",
       "      <td>0.019383</td>\n",
       "      <td>ETH</td>\n",
       "    </tr>\n",
       "    <tr>\n",
       "      <th>2024-02-29</th>\n",
       "      <td>0.013349</td>\n",
       "      <td>ETH</td>\n",
       "    </tr>\n",
       "    <tr>\n",
       "      <th>2024-03-01</th>\n",
       "      <td>NaN</td>\n",
       "      <td>ETH</td>\n",
       "    </tr>\n",
       "  </tbody>\n",
       "</table>\n",
       "<p>2252 rows × 2 columns</p>\n",
       "</div>"
      ],
      "text/plain": [
       "            Yang & Zhang RV proxy unique_id\n",
       "Date                                       \n",
       "2018-01-01               0.015968       ETH\n",
       "2018-01-02               0.033049       ETH\n",
       "2018-01-03               0.026744       ETH\n",
       "2018-01-04               0.026073       ETH\n",
       "2018-01-05               0.022854       ETH\n",
       "...                           ...       ...\n",
       "2024-02-26               0.008802       ETH\n",
       "2024-02-27               0.008446       ETH\n",
       "2024-02-28               0.019383       ETH\n",
       "2024-02-29               0.013349       ETH\n",
       "2024-03-01                    NaN       ETH\n",
       "\n",
       "[2252 rows x 2 columns]"
      ]
     },
     "execution_count": 7,
     "metadata": {},
     "output_type": "execute_result"
    }
   ],
   "source": [
    "RVETH=Yang_Zhang_RV_own_data(dataETH)\n",
    "RVETH['unique_id']=f'ETH'\n",
    "\n",
    "RVETH"
   ]
  },
  {
   "cell_type": "code",
   "execution_count": 8,
   "id": "4408f119",
   "metadata": {},
   "outputs": [
    {
     "data": {
      "text/html": [
       "<div>\n",
       "<style scoped>\n",
       "    .dataframe tbody tr th:only-of-type {\n",
       "        vertical-align: middle;\n",
       "    }\n",
       "\n",
       "    .dataframe tbody tr th {\n",
       "        vertical-align: top;\n",
       "    }\n",
       "\n",
       "    .dataframe thead th {\n",
       "        text-align: right;\n",
       "    }\n",
       "</style>\n",
       "<table border=\"1\" class=\"dataframe\">\n",
       "  <thead>\n",
       "    <tr style=\"text-align: right;\">\n",
       "      <th></th>\n",
       "      <th>unique_id</th>\n",
       "      <th>BTC</th>\n",
       "      <th>ETH</th>\n",
       "    </tr>\n",
       "  </thead>\n",
       "  <tbody>\n",
       "    <tr>\n",
       "      <th>0</th>\n",
       "      <td>BTC</td>\n",
       "      <td>1</td>\n",
       "      <td>0</td>\n",
       "    </tr>\n",
       "    <tr>\n",
       "      <th>1</th>\n",
       "      <td>ETH</td>\n",
       "      <td>0</td>\n",
       "      <td>1</td>\n",
       "    </tr>\n",
       "  </tbody>\n",
       "</table>\n",
       "</div>"
      ],
      "text/plain": [
       "  unique_id  BTC  ETH\n",
       "0       BTC    1    0\n",
       "1       ETH    0    1"
      ]
     },
     "execution_count": 8,
     "metadata": {},
     "output_type": "execute_result"
    }
   ],
   "source": [
    "static = [['BTC',1,0,], ['ETH',0,1] ]\n",
    "static_df = pd.DataFrame(static, columns = ['unique_id','BTC','ETH'])\n",
    "static_df"
   ]
  },
  {
   "cell_type": "code",
   "execution_count": 9,
   "id": "756846dd",
   "metadata": {},
   "outputs": [
    {
     "data": {
      "text/html": [
       "<div>\n",
       "<style scoped>\n",
       "    .dataframe tbody tr th:only-of-type {\n",
       "        vertical-align: middle;\n",
       "    }\n",
       "\n",
       "    .dataframe tbody tr th {\n",
       "        vertical-align: top;\n",
       "    }\n",
       "\n",
       "    .dataframe thead th {\n",
       "        text-align: right;\n",
       "    }\n",
       "</style>\n",
       "<table border=\"1\" class=\"dataframe\">\n",
       "  <thead>\n",
       "    <tr style=\"text-align: right;\">\n",
       "      <th></th>\n",
       "      <th>y</th>\n",
       "      <th>unique_id</th>\n",
       "      <th>ds</th>\n",
       "    </tr>\n",
       "    <tr>\n",
       "      <th>Date</th>\n",
       "      <th></th>\n",
       "      <th></th>\n",
       "      <th></th>\n",
       "    </tr>\n",
       "  </thead>\n",
       "  <tbody>\n",
       "    <tr>\n",
       "      <th>2018-01-01</th>\n",
       "      <td>0.015968</td>\n",
       "      <td>ETH</td>\n",
       "      <td>2018-01-01</td>\n",
       "    </tr>\n",
       "    <tr>\n",
       "      <th>2018-01-02</th>\n",
       "      <td>0.033049</td>\n",
       "      <td>ETH</td>\n",
       "      <td>2018-01-02</td>\n",
       "    </tr>\n",
       "    <tr>\n",
       "      <th>2018-01-03</th>\n",
       "      <td>0.026744</td>\n",
       "      <td>ETH</td>\n",
       "      <td>2018-01-03</td>\n",
       "    </tr>\n",
       "    <tr>\n",
       "      <th>2018-01-04</th>\n",
       "      <td>0.026073</td>\n",
       "      <td>ETH</td>\n",
       "      <td>2018-01-04</td>\n",
       "    </tr>\n",
       "    <tr>\n",
       "      <th>2018-01-05</th>\n",
       "      <td>0.022854</td>\n",
       "      <td>ETH</td>\n",
       "      <td>2018-01-05</td>\n",
       "    </tr>\n",
       "    <tr>\n",
       "      <th>...</th>\n",
       "      <td>...</td>\n",
       "      <td>...</td>\n",
       "      <td>...</td>\n",
       "    </tr>\n",
       "    <tr>\n",
       "      <th>2024-02-26</th>\n",
       "      <td>0.008030</td>\n",
       "      <td>BTC</td>\n",
       "      <td>2024-02-26</td>\n",
       "    </tr>\n",
       "    <tr>\n",
       "      <th>2024-02-27</th>\n",
       "      <td>0.010189</td>\n",
       "      <td>BTC</td>\n",
       "      <td>2024-02-27</td>\n",
       "    </tr>\n",
       "    <tr>\n",
       "      <th>2024-02-28</th>\n",
       "      <td>0.018636</td>\n",
       "      <td>BTC</td>\n",
       "      <td>2024-02-28</td>\n",
       "    </tr>\n",
       "    <tr>\n",
       "      <th>2024-02-29</th>\n",
       "      <td>0.012955</td>\n",
       "      <td>BTC</td>\n",
       "      <td>2024-02-29</td>\n",
       "    </tr>\n",
       "    <tr>\n",
       "      <th>2024-03-01</th>\n",
       "      <td>NaN</td>\n",
       "      <td>BTC</td>\n",
       "      <td>2024-03-01</td>\n",
       "    </tr>\n",
       "  </tbody>\n",
       "</table>\n",
       "<p>4504 rows × 3 columns</p>\n",
       "</div>"
      ],
      "text/plain": [
       "                   y unique_id         ds\n",
       "Date                                     \n",
       "2018-01-01  0.015968       ETH 2018-01-01\n",
       "2018-01-02  0.033049       ETH 2018-01-02\n",
       "2018-01-03  0.026744       ETH 2018-01-03\n",
       "2018-01-04  0.026073       ETH 2018-01-04\n",
       "2018-01-05  0.022854       ETH 2018-01-05\n",
       "...              ...       ...        ...\n",
       "2024-02-26  0.008030       BTC 2024-02-26\n",
       "2024-02-27  0.010189       BTC 2024-02-27\n",
       "2024-02-28  0.018636       BTC 2024-02-28\n",
       "2024-02-29  0.012955       BTC 2024-02-29\n",
       "2024-03-01       NaN       BTC 2024-03-01\n",
       "\n",
       "[4504 rows x 3 columns]"
      ]
     },
     "execution_count": 9,
     "metadata": {},
     "output_type": "execute_result"
    }
   ],
   "source": [
    "tabData=RVETH.append(RVBTC)\n",
    "tabData = tabData.rename(columns={\"Yang & Zhang RV proxy\":\"y\"})\n",
    "tabData['ds']=tabData.index.strftime('%Y-%m-%d')\n",
    "tabData['ds']=pd.to_datetime(tabData['ds'])\n",
    "tabData"
   ]
  },
  {
   "cell_type": "code",
   "execution_count": 10,
   "id": "f72c988a",
   "metadata": {},
   "outputs": [
    {
     "data": {
      "text/html": [
       "<div>\n",
       "<style scoped>\n",
       "    .dataframe tbody tr th:only-of-type {\n",
       "        vertical-align: middle;\n",
       "    }\n",
       "\n",
       "    .dataframe tbody tr th {\n",
       "        vertical-align: top;\n",
       "    }\n",
       "\n",
       "    .dataframe thead th {\n",
       "        text-align: right;\n",
       "    }\n",
       "</style>\n",
       "<table border=\"1\" class=\"dataframe\">\n",
       "  <thead>\n",
       "    <tr style=\"text-align: right;\">\n",
       "      <th></th>\n",
       "      <th>y</th>\n",
       "      <th>unique_id</th>\n",
       "      <th>ds</th>\n",
       "    </tr>\n",
       "    <tr>\n",
       "      <th>Date</th>\n",
       "      <th></th>\n",
       "      <th></th>\n",
       "      <th></th>\n",
       "    </tr>\n",
       "  </thead>\n",
       "  <tbody>\n",
       "    <tr>\n",
       "      <th>2018-01-01</th>\n",
       "      <td>0.015968</td>\n",
       "      <td>ETH</td>\n",
       "      <td>2018-01-01</td>\n",
       "    </tr>\n",
       "    <tr>\n",
       "      <th>2018-01-02</th>\n",
       "      <td>0.033049</td>\n",
       "      <td>ETH</td>\n",
       "      <td>2018-01-02</td>\n",
       "    </tr>\n",
       "    <tr>\n",
       "      <th>2018-01-03</th>\n",
       "      <td>0.026744</td>\n",
       "      <td>ETH</td>\n",
       "      <td>2018-01-03</td>\n",
       "    </tr>\n",
       "    <tr>\n",
       "      <th>2018-01-04</th>\n",
       "      <td>0.026073</td>\n",
       "      <td>ETH</td>\n",
       "      <td>2018-01-04</td>\n",
       "    </tr>\n",
       "    <tr>\n",
       "      <th>2018-01-05</th>\n",
       "      <td>0.022854</td>\n",
       "      <td>ETH</td>\n",
       "      <td>2018-01-05</td>\n",
       "    </tr>\n",
       "    <tr>\n",
       "      <th>...</th>\n",
       "      <td>...</td>\n",
       "      <td>...</td>\n",
       "      <td>...</td>\n",
       "    </tr>\n",
       "    <tr>\n",
       "      <th>2024-02-25</th>\n",
       "      <td>0.003153</td>\n",
       "      <td>BTC</td>\n",
       "      <td>2024-02-25</td>\n",
       "    </tr>\n",
       "    <tr>\n",
       "      <th>2024-02-26</th>\n",
       "      <td>0.008030</td>\n",
       "      <td>BTC</td>\n",
       "      <td>2024-02-26</td>\n",
       "    </tr>\n",
       "    <tr>\n",
       "      <th>2024-02-27</th>\n",
       "      <td>0.010189</td>\n",
       "      <td>BTC</td>\n",
       "      <td>2024-02-27</td>\n",
       "    </tr>\n",
       "    <tr>\n",
       "      <th>2024-02-28</th>\n",
       "      <td>0.018636</td>\n",
       "      <td>BTC</td>\n",
       "      <td>2024-02-28</td>\n",
       "    </tr>\n",
       "    <tr>\n",
       "      <th>2024-02-29</th>\n",
       "      <td>0.012955</td>\n",
       "      <td>BTC</td>\n",
       "      <td>2024-02-29</td>\n",
       "    </tr>\n",
       "  </tbody>\n",
       "</table>\n",
       "<p>4500 rows × 3 columns</p>\n",
       "</div>"
      ],
      "text/plain": [
       "                   y unique_id         ds\n",
       "Date                                     \n",
       "2018-01-01  0.015968       ETH 2018-01-01\n",
       "2018-01-02  0.033049       ETH 2018-01-02\n",
       "2018-01-03  0.026744       ETH 2018-01-03\n",
       "2018-01-04  0.026073       ETH 2018-01-04\n",
       "2018-01-05  0.022854       ETH 2018-01-05\n",
       "...              ...       ...        ...\n",
       "2024-02-25  0.003153       BTC 2024-02-25\n",
       "2024-02-26  0.008030       BTC 2024-02-26\n",
       "2024-02-27  0.010189       BTC 2024-02-27\n",
       "2024-02-28  0.018636       BTC 2024-02-28\n",
       "2024-02-29  0.012955       BTC 2024-02-29\n",
       "\n",
       "[4500 rows x 3 columns]"
      ]
     },
     "execution_count": 10,
     "metadata": {},
     "output_type": "execute_result"
    }
   ],
   "source": [
    "tabData=tabData.dropna()\n",
    "tabData"
   ]
  },
  {
   "cell_type": "code",
   "execution_count": 11,
   "id": "5d2224e5",
   "metadata": {},
   "outputs": [],
   "source": [
    "# 2D-Wasserstein loss function\n",
    "from ripser import Rips\n",
    "import persim\n",
    "def _divide_no_nan(a: torch.Tensor, b: torch.Tensor) -> torch.Tensor:\n",
    "    \"\"\"\n",
    "    Auxiliary funtion to handle divide by 0\n",
    "    \"\"\"\n",
    "    div = a / b\n",
    "    div[div != div] = 0.0\n",
    "    div[div == float(\"inf\")] = 0.0\n",
    "    return div\n",
    "\n",
    "def _weighted_mean(losses, weights):\n",
    "    \"\"\"\n",
    "    Compute weighted mean of losses per datapoint.\n",
    "    \"\"\"\n",
    "    return _divide_no_nan(torch.sum(losses * weights), torch.sum(weights))\n",
    "\n",
    "# %% ../../nbs/losses.pytorch.ipynb 7\n",
    "class BasePointLoss(torch.nn.Module):\n",
    "    \"\"\"\n",
    "    Base class for point loss functions.\n",
    "\n",
    "    **Parameters:**\n",
    "    `horizon_weight`: Tensor of size h, weight for each timestamp of the forecasting window. \n",
    "    `outputsize_multiplier`: Multiplier for the output size. \n",
    "    `output_names`: Names of the outputs. \n",
    "    \"\"\"\n",
    "\n",
    "    def __init__(self, horizon_weight, outputsize_multiplier, output_names):\n",
    "        super(BasePointLoss, self).__init__()\n",
    "        if horizon_weight is not None:\n",
    "            horizon_weight = torch.Tensor(horizon_weight.flatten())\n",
    "        self.horizon_weight = horizon_weight\n",
    "        self.outputsize_multiplier = outputsize_multiplier\n",
    "        self.output_names = output_names\n",
    "        self.is_distribution_output = False\n",
    "\n",
    "    def domain_map(self, y_hat: torch.Tensor):\n",
    "        \"\"\"\n",
    "        Univariate loss operates in dimension [B,T,H]/[B,H]\n",
    "        This changes the network's output from [B,H,1]->[B,H]\n",
    "        \"\"\"\n",
    "        return y_hat.squeeze(-1)\n",
    "\n",
    "    def _compute_weights(self, y, mask):\n",
    "        \"\"\"\n",
    "        Compute final weights for each datapoint (based on all weights and all masks)\n",
    "        Set horizon_weight to a ones[H] tensor if not set.\n",
    "        If set, check that it has the same length as the horizon in x.\n",
    "        \"\"\"\n",
    "        if mask is None:\n",
    "            mask = torch.ones_like(y).to(y.device)\n",
    "\n",
    "        if self.horizon_weight is None:\n",
    "            self.horizon_weight = torch.ones(mask.shape[-1])\n",
    "        else:\n",
    "            assert mask.shape[-1] == len(\n",
    "                self.horizon_weight\n",
    "            ), \"horizon_weight must have same length as Y\"\n",
    "\n",
    "        weights = self.horizon_weight.clone()\n",
    "        weights = torch.ones_like(mask, device=mask.device) * weights.to(mask.device)\n",
    "        return weights * mask\n",
    "\n",
    "\n",
    "class MSE_2DWD(BasePointLoss):\n",
    "    from ripser import Rips\n",
    "    import persim\n",
    "\n",
    "    def __init__(self, horizon_weight=None):\n",
    "        super(MSE_2DWD, self).__init__(\n",
    "            horizon_weight=horizon_weight, outputsize_multiplier=1, output_names=[\"\"]\n",
    "        )\n",
    "\n",
    "    def __call__(\n",
    "        self,\n",
    "        y: torch.Tensor,\n",
    "        y_hat: torch.Tensor,\n",
    "        mask: Union[torch.Tensor, None] = None,\n",
    "    ):\n",
    "        \"\"\"\n",
    "        **Parameters:**\n",
    "        `y`: tensor, Actual values.\n",
    "        `y_hat`: tensor, Predicted values.\n",
    "        `mask`: tensor, Specifies datapoints to consider in loss.\n",
    "\n",
    "        **Returns:**\n",
    "        `mse`: tensor (single value).\n",
    "        \"\"\"\n",
    "        rips = Rips(maxdim = 2, verbose=False)\n",
    "        n=2\n",
    "        wasserstein_dists = np.zeros((n))\n",
    "\n",
    "        for i in range(2):\n",
    "          dgm1 = rips.fit_transform(y_hat[:,int(y_hat.shape[1]/2*i):int(y_hat.shape[1]/2*(i+1))].to('cpu').detach().numpy())\n",
    "          dgm2 = rips.fit_transform(y[:,int(y_hat.shape[1]/2*i):int(y_hat.shape[1]/2*(i+1))].to('cpu').detach().numpy())\n",
    "          wasserstein_dists[i] = persim.wasserstein(dgm1[0], dgm2[0], matching=False)\n",
    "\n",
    "        losses = torch.sum((y - y_hat) ** 2)/(y_hat.shape[0]*y_hat.shape[1]) + torch.tensor((np.sum(wasserstein_dists))/n)\n",
    "        return losses\n",
    "     "
   ]
  },
  {
   "cell_type": "code",
   "execution_count": 12,
   "id": "3942f499",
   "metadata": {},
   "outputs": [
    {
     "data": {
      "text/html": [
       "<div>\n",
       "<style scoped>\n",
       "    .dataframe tbody tr th:only-of-type {\n",
       "        vertical-align: middle;\n",
       "    }\n",
       "\n",
       "    .dataframe tbody tr th {\n",
       "        vertical-align: top;\n",
       "    }\n",
       "\n",
       "    .dataframe thead th {\n",
       "        text-align: right;\n",
       "    }\n",
       "</style>\n",
       "<table border=\"1\" class=\"dataframe\">\n",
       "  <thead>\n",
       "    <tr style=\"text-align: right;\">\n",
       "      <th></th>\n",
       "      <th>y</th>\n",
       "      <th>unique_id</th>\n",
       "      <th>ds</th>\n",
       "    </tr>\n",
       "    <tr>\n",
       "      <th>Date</th>\n",
       "      <th></th>\n",
       "      <th></th>\n",
       "      <th></th>\n",
       "    </tr>\n",
       "  </thead>\n",
       "  <tbody>\n",
       "    <tr>\n",
       "      <th>2018-01-01</th>\n",
       "      <td>0.015968</td>\n",
       "      <td>ETH</td>\n",
       "      <td>2018-01-01</td>\n",
       "    </tr>\n",
       "    <tr>\n",
       "      <th>2018-01-02</th>\n",
       "      <td>0.033049</td>\n",
       "      <td>ETH</td>\n",
       "      <td>2018-01-02</td>\n",
       "    </tr>\n",
       "    <tr>\n",
       "      <th>2018-01-03</th>\n",
       "      <td>0.026744</td>\n",
       "      <td>ETH</td>\n",
       "      <td>2018-01-03</td>\n",
       "    </tr>\n",
       "    <tr>\n",
       "      <th>2018-01-04</th>\n",
       "      <td>0.026073</td>\n",
       "      <td>ETH</td>\n",
       "      <td>2018-01-04</td>\n",
       "    </tr>\n",
       "    <tr>\n",
       "      <th>2018-01-05</th>\n",
       "      <td>0.022854</td>\n",
       "      <td>ETH</td>\n",
       "      <td>2018-01-05</td>\n",
       "    </tr>\n",
       "    <tr>\n",
       "      <th>...</th>\n",
       "      <td>...</td>\n",
       "      <td>...</td>\n",
       "      <td>...</td>\n",
       "    </tr>\n",
       "    <tr>\n",
       "      <th>2022-04-22</th>\n",
       "      <td>0.007001</td>\n",
       "      <td>BTC</td>\n",
       "      <td>2022-04-22</td>\n",
       "    </tr>\n",
       "    <tr>\n",
       "      <th>2022-04-23</th>\n",
       "      <td>0.004106</td>\n",
       "      <td>BTC</td>\n",
       "      <td>2022-04-23</td>\n",
       "    </tr>\n",
       "    <tr>\n",
       "      <th>2022-04-24</th>\n",
       "      <td>0.005758</td>\n",
       "      <td>BTC</td>\n",
       "      <td>2022-04-24</td>\n",
       "    </tr>\n",
       "    <tr>\n",
       "      <th>2022-04-25</th>\n",
       "      <td>0.010509</td>\n",
       "      <td>BTC</td>\n",
       "      <td>2022-04-25</td>\n",
       "    </tr>\n",
       "    <tr>\n",
       "      <th>2022-04-26</th>\n",
       "      <td>0.009021</td>\n",
       "      <td>BTC</td>\n",
       "      <td>2022-04-26</td>\n",
       "    </tr>\n",
       "  </tbody>\n",
       "</table>\n",
       "<p>3152 rows × 3 columns</p>\n",
       "</div>"
      ],
      "text/plain": [
       "                   y unique_id         ds\n",
       "Date                                     \n",
       "2018-01-01  0.015968       ETH 2018-01-01\n",
       "2018-01-02  0.033049       ETH 2018-01-02\n",
       "2018-01-03  0.026744       ETH 2018-01-03\n",
       "2018-01-04  0.026073       ETH 2018-01-04\n",
       "2018-01-05  0.022854       ETH 2018-01-05\n",
       "...              ...       ...        ...\n",
       "2022-04-22  0.007001       BTC 2022-04-22\n",
       "2022-04-23  0.004106       BTC 2022-04-23\n",
       "2022-04-24  0.005758       BTC 2022-04-24\n",
       "2022-04-25  0.010509       BTC 2022-04-25\n",
       "2022-04-26  0.009021       BTC 2022-04-26\n",
       "\n",
       "[3152 rows x 3 columns]"
      ]
     },
     "execution_count": 12,
     "metadata": {},
     "output_type": "execute_result"
    }
   ],
   "source": [
    "#creating train dataset\n",
    "train = tabData.iloc[:int(len(RVBTC)*0.7)]\n",
    "validation_length=int(len(RVBTC)*0.7)-int(len(RVBTC)*0.5)\n",
    "train = tabData[tabData['ds']<= '2022-04-26']\n",
    "train\n"
   ]
  },
  {
   "cell_type": "code",
   "execution_count": 13,
   "id": "c942c8a4",
   "metadata": {},
   "outputs": [],
   "source": [
    "#Hyperparameter search\n",
    "\n",
    "n_inputs =[3,5,10,15,21,42,84]\n",
    "mlp_units = [[[712, 712], [712, 712]],[[512, 512], [512, 512]],[[250, 250], [250, 250]],[[100, 100], [100, 100]]]\n",
    "epochs=[50,100,150,250,350,450,550,650,750]\n",
    "learning_rate=[0.0005,0.0001,0.00005,0.00001]\n",
    "num_lr_decays=[5,3,2,1]\n",
    "scaler_type=[\"robust\",\"standard\",'minmax']\n",
    "dropout_prob_theta=[0, 0.2, 0.3, 0.4]\n",
    "n_pool_kernel_size=[[2,2,1], [4,2,1], [4,4,2]]\n",
    "pooling_mode=['MaxPool1d', 'AvgPool1d']\n",
    "interpolation_mode=['linear', 'nearest']\n",
    "n_blocks=[[1, 1],[2, 2],[3, 3],[5, 5]]\n"
   ]
  },
  {
   "cell_type": "code",
   "execution_count": 14,
   "id": "51d3da42",
   "metadata": {},
   "outputs": [
    {
     "name": "stderr",
     "output_type": "stream",
     "text": [
      "Seed set to 12830740\n",
      "2024-03-18 16:44:01.309250: I tensorflow/core/platform/cpu_feature_guard.cc:182] This TensorFlow binary is optimized to use available CPU instructions in performance-critical operations.\n",
      "To enable the following instructions: AVX2 FMA, in other operations, rebuild TensorFlow with the appropriate compiler flags.\n"
     ]
    },
    {
     "data": {
      "application/vnd.jupyter.widget-view+json": {
       "model_id": "",
       "version_major": 2,
       "version_minor": 0
      },
      "text/plain": [
       "Sanity Checking: |                                        | 0/? [00:00<?, ?it/s]"
      ]
     },
     "metadata": {},
     "output_type": "display_data"
    },
    {
     "data": {
      "application/vnd.jupyter.widget-view+json": {
       "model_id": "a611565c47b14d80b3bf7b9fcb84f591",
       "version_major": 2,
       "version_minor": 0
      },
      "text/plain": [
       "Training: |                                               | 0/? [00:00<?, ?it/s]"
      ]
     },
     "metadata": {},
     "output_type": "display_data"
    },
    {
     "data": {
      "application/vnd.jupyter.widget-view+json": {
       "model_id": "",
       "version_major": 2,
       "version_minor": 0
      },
      "text/plain": [
       "Validation: |                                             | 0/? [00:00<?, ?it/s]"
      ]
     },
     "metadata": {},
     "output_type": "display_data"
    },
    {
     "data": {
      "application/vnd.jupyter.widget-view+json": {
       "model_id": "2a59756ce2af4cd39c6e6a911ec8681c",
       "version_major": 2,
       "version_minor": 0
      },
      "text/plain": [
       "Predicting: |                                             | 0/? [00:00<?, ?it/s]"
      ]
     },
     "metadata": {},
     "output_type": "display_data"
    },
    {
     "name": "stdout",
     "output_type": "stream",
     "text": [
      "Epoch: 550 | Inputs: 10 | MLP units: [[250, 250], [250, 250]] | Scaler Type: robust\n",
      "Pooling mode: AvgPool1d | Learning Rate: 0 | Block: [1, 1]| Dropout:0  \n",
      "RMSE: 0.009927744107958361 | QLIKE: 0.13157798478993074 | MAPE: 0.0066970986949069404\n"
     ]
    }
   ],
   "source": [
    "import random\n",
    "for m in range (1):\n",
    "  i=random.randrange(7)\n",
    "  h=random.randrange(4)\n",
    "  a=random.randrange(4)\n",
    "  k=random.randrange(9)\n",
    "  l=random.randrange(4)\n",
    "  n=random.randrange(4)\n",
    "  o=random.randrange(3)\n",
    "  p=random.randrange(2)\n",
    "  model = NHITS(h=28, input_size=n_inputs[i],\n",
    "                loss=MSE(),\n",
    "                scaler_type=scaler_type[o],\n",
    "                learning_rate=learning_rate[n],\n",
    "                stack_types=['identity','identity'],\n",
    "                n_blocks=n_blocks[a],\n",
    "                mlp_units=mlp_units[h],\n",
    "                windows_batch_size=32,\n",
    "                num_lr_decays=num_lr_decays[n],\n",
    "                val_check_steps=500,\n",
    "                stat_exog_list=['BTC'],\n",
    "                dropout_prob_theta=dropout_prob_theta[l], n_pool_kernel_size=n_pool_kernel_size[o],\n",
    "                pooling_mode = pooling_mode[p],\n",
    "                interpolation_mode= interpolation_mode[p],\n",
    "                max_steps=epochs[k],\n",
    "                random_seed=random.randrange(129228148))\n",
    "  fcst = NeuralForecast(models=[model],freq='D')\n",
    "  forecasts = fcst.cross_validation(df=train,val_size=28,static_df=static_df,n_windows=None, test_size=validation_length-validation_length%28,step_size=1)\n",
    "  forecasts = forecasts[forecasts['unique_id']=='ETH'].dropna().drop_duplicates(subset='ds', keep='first')\n",
    "  if \"NHITS-median\" not in list(forecasts.columns.values):\n",
    "    Y_hat=forecasts[\"NHITS\"].values\n",
    "  else:\n",
    "    Y_hat=forecasts[\"NHTS-median\"].values\n",
    "  Y_true=forecasts[\"y\"].values\n",
    "  RMSE=np.sqrt(np.sum(((Y_true-Y_hat)**2))/len(Y_true))\n",
    "  QLIKE=(np.sum(Y_true/Y_hat-np.log(abs(Y_true)/abs(Y_hat))-1)/len(Y_true))\n",
    "  MAE=np.sum(abs(Y_true-Y_hat))/len(Y_true)\n",
    "  print(f\"Epoch: {epochs[k]} | Inputs: {n_inputs[i]} | MLP units: {mlp_units[h]} | Scaler Type: {scaler_type[o]}\")\n",
    "  print(f\"Pooling mode: {pooling_mode[p]} | Learning Rate: {n} | Block: {n_blocks[a]}| Dropout:{dropout_prob_theta[l]}  \")\n",
    "  print(f\"RMSE: {RMSE} | QLIKE: {QLIKE} | MAPE: {MAE}\")"
   ]
  },
  {
   "cell_type": "code",
   "execution_count": 15,
   "id": "37ef25e0",
   "metadata": {},
   "outputs": [
    {
     "name": "stderr",
     "output_type": "stream",
     "text": [
      "Seed set to 107086890\n"
     ]
    },
    {
     "data": {
      "application/vnd.jupyter.widget-view+json": {
       "model_id": "",
       "version_major": 2,
       "version_minor": 0
      },
      "text/plain": [
       "Sanity Checking: |                                        | 0/? [00:00<?, ?it/s]"
      ]
     },
     "metadata": {},
     "output_type": "display_data"
    },
    {
     "data": {
      "application/vnd.jupyter.widget-view+json": {
       "model_id": "5249dc8782ae4b058e3984eadc5c9b4c",
       "version_major": 2,
       "version_minor": 0
      },
      "text/plain": [
       "Training: |                                               | 0/? [00:00<?, ?it/s]"
      ]
     },
     "metadata": {},
     "output_type": "display_data"
    },
    {
     "data": {
      "application/vnd.jupyter.widget-view+json": {
       "model_id": "",
       "version_major": 2,
       "version_minor": 0
      },
      "text/plain": [
       "Validation: |                                             | 0/? [00:00<?, ?it/s]"
      ]
     },
     "metadata": {},
     "output_type": "display_data"
    },
    {
     "data": {
      "application/vnd.jupyter.widget-view+json": {
       "model_id": "0fc1b7c48c944c2dacdafbf4160f0815",
       "version_major": 2,
       "version_minor": 0
      },
      "text/plain": [
       "Predicting: |                                             | 0/? [00:00<?, ?it/s]"
      ]
     },
     "metadata": {},
     "output_type": "display_data"
    },
    {
     "name": "stderr",
     "output_type": "stream",
     "text": [
      "Seed set to 3903120\n"
     ]
    },
    {
     "name": "stdout",
     "output_type": "stream",
     "text": [
      "Epoch: 150 | Inputs: 15 | MLP units: [[250, 250], [250, 250]] | Scaler Type: standard\n",
      "Pooling mode: MaxPool1d | Learning Rate: 1 | Block: [5, 5]| Dropout:0.4  \n",
      "RMSE: 0.009103676804830535 | QLIKE: 0.12405825051285381 | MAPE: 0.006303719024742265\n"
     ]
    },
    {
     "data": {
      "application/vnd.jupyter.widget-view+json": {
       "model_id": "",
       "version_major": 2,
       "version_minor": 0
      },
      "text/plain": [
       "Sanity Checking: |                                        | 0/? [00:00<?, ?it/s]"
      ]
     },
     "metadata": {},
     "output_type": "display_data"
    },
    {
     "data": {
      "application/vnd.jupyter.widget-view+json": {
       "model_id": "e3b96f07387c46ac82a63729b9c0156d",
       "version_major": 2,
       "version_minor": 0
      },
      "text/plain": [
       "Training: |                                               | 0/? [00:00<?, ?it/s]"
      ]
     },
     "metadata": {},
     "output_type": "display_data"
    },
    {
     "data": {
      "application/vnd.jupyter.widget-view+json": {
       "model_id": "",
       "version_major": 2,
       "version_minor": 0
      },
      "text/plain": [
       "Validation: |                                             | 0/? [00:00<?, ?it/s]"
      ]
     },
     "metadata": {},
     "output_type": "display_data"
    },
    {
     "data": {
      "application/vnd.jupyter.widget-view+json": {
       "model_id": "18655c7134a44d79b03a8cbb7c52716f",
       "version_major": 2,
       "version_minor": 0
      },
      "text/plain": [
       "Predicting: |                                             | 0/? [00:00<?, ?it/s]"
      ]
     },
     "metadata": {},
     "output_type": "display_data"
    },
    {
     "name": "stderr",
     "output_type": "stream",
     "text": [
      "Seed set to 7859368\n"
     ]
    },
    {
     "name": "stdout",
     "output_type": "stream",
     "text": [
      "Epoch: 550 | Inputs: 15 | MLP units: [[512, 512], [512, 512]] | Scaler Type: standard\n",
      "Pooling mode: AvgPool1d | Learning Rate: 0 | Block: [3, 3]| Dropout:0  \n",
      "RMSE: 0.01044281925977069 | QLIKE: 0.15377889775735287 | MAPE: 0.00676200289218864\n"
     ]
    },
    {
     "data": {
      "application/vnd.jupyter.widget-view+json": {
       "model_id": "",
       "version_major": 2,
       "version_minor": 0
      },
      "text/plain": [
       "Sanity Checking: |                                        | 0/? [00:00<?, ?it/s]"
      ]
     },
     "metadata": {},
     "output_type": "display_data"
    },
    {
     "data": {
      "application/vnd.jupyter.widget-view+json": {
       "model_id": "6d63cfe1834e4f39964b96f4f4174eeb",
       "version_major": 2,
       "version_minor": 0
      },
      "text/plain": [
       "Training: |                                               | 0/? [00:00<?, ?it/s]"
      ]
     },
     "metadata": {},
     "output_type": "display_data"
    },
    {
     "data": {
      "application/vnd.jupyter.widget-view+json": {
       "model_id": "",
       "version_major": 2,
       "version_minor": 0
      },
      "text/plain": [
       "Validation: |                                             | 0/? [00:00<?, ?it/s]"
      ]
     },
     "metadata": {},
     "output_type": "display_data"
    },
    {
     "data": {
      "application/vnd.jupyter.widget-view+json": {
       "model_id": "60258cc05cb741ae88035ff969ed17ac",
       "version_major": 2,
       "version_minor": 0
      },
      "text/plain": [
       "Predicting: |                                             | 0/? [00:00<?, ?it/s]"
      ]
     },
     "metadata": {},
     "output_type": "display_data"
    },
    {
     "name": "stderr",
     "output_type": "stream",
     "text": [
      "Seed set to 43244099\n"
     ]
    },
    {
     "name": "stdout",
     "output_type": "stream",
     "text": [
      "Epoch: 250 | Inputs: 84 | MLP units: [[100, 100], [100, 100]] | Scaler Type: minmax\n",
      "Pooling mode: MaxPool1d | Learning Rate: 1 | Block: [3, 3]| Dropout:0.2  \n",
      "RMSE: 0.00983988195020459 | QLIKE: 0.1274048998819183 | MAPE: 0.006443401783718038\n"
     ]
    },
    {
     "data": {
      "application/vnd.jupyter.widget-view+json": {
       "model_id": "",
       "version_major": 2,
       "version_minor": 0
      },
      "text/plain": [
       "Sanity Checking: |                                        | 0/? [00:00<?, ?it/s]"
      ]
     },
     "metadata": {},
     "output_type": "display_data"
    },
    {
     "data": {
      "application/vnd.jupyter.widget-view+json": {
       "model_id": "5baa11e1b9724e3b878992f98988cc6b",
       "version_major": 2,
       "version_minor": 0
      },
      "text/plain": [
       "Training: |                                               | 0/? [00:00<?, ?it/s]"
      ]
     },
     "metadata": {},
     "output_type": "display_data"
    },
    {
     "data": {
      "application/vnd.jupyter.widget-view+json": {
       "model_id": "",
       "version_major": 2,
       "version_minor": 0
      },
      "text/plain": [
       "Validation: |                                             | 0/? [00:00<?, ?it/s]"
      ]
     },
     "metadata": {},
     "output_type": "display_data"
    },
    {
     "data": {
      "application/vnd.jupyter.widget-view+json": {
       "model_id": "a954c11f68424b73b410ca9db98ab7cd",
       "version_major": 2,
       "version_minor": 0
      },
      "text/plain": [
       "Predicting: |                                             | 0/? [00:00<?, ?it/s]"
      ]
     },
     "metadata": {},
     "output_type": "display_data"
    },
    {
     "name": "stdout",
     "output_type": "stream",
     "text": [
      "Epoch: 650 | Inputs: 5 | MLP units: [[712, 712], [712, 712]] | Scaler Type: minmax\n",
      "Pooling mode: MaxPool1d | Learning Rate: 3 | Block: [3, 3]| Dropout:0.4  \n",
      "RMSE: 0.010908880605092297 | QLIKE: 0.14057066624544293 | MAPE: 0.007296628449751879\n"
     ]
    }
   ],
   "source": [
    "for m in range (4):\n",
    "  i=random.randrange(7)\n",
    "  h=random.randrange(4)\n",
    "  a=random.randrange(4)\n",
    "  k=random.randrange(9)\n",
    "  l=random.randrange(4)\n",
    "  n=random.randrange(4)\n",
    "  o=random.randrange(3)\n",
    "  p=random.randrange(2)\n",
    "  model = NHITS(h=28, input_size=n_inputs[i],\n",
    "                loss=MSE(),\n",
    "                scaler_type=scaler_type[o],\n",
    "                learning_rate=learning_rate[n],\n",
    "                stack_types=['identity','identity'],\n",
    "                n_blocks=n_blocks[a],\n",
    "                mlp_units=mlp_units[h],\n",
    "                windows_batch_size=32,\n",
    "                num_lr_decays=num_lr_decays[n],\n",
    "                val_check_steps=500,\n",
    "                stat_exog_list=['BTC'],\n",
    "                dropout_prob_theta=dropout_prob_theta[l], n_pool_kernel_size=n_pool_kernel_size[o],\n",
    "                pooling_mode = pooling_mode[p],\n",
    "                interpolation_mode= interpolation_mode[p],\n",
    "                max_steps=epochs[k],\n",
    "                random_seed=random.randrange(129228148))\n",
    "  fcst = NeuralForecast(models=[model],freq='D')\n",
    "  forecasts = fcst.cross_validation(df=train,val_size=28,static_df=static_df,n_windows=None, test_size=validation_length-validation_length%28,step_size=1)\n",
    "  forecasts = forecasts[forecasts['unique_id']=='ETH'].dropna().drop_duplicates(subset='ds', keep='first')\n",
    "  if \"NHITS-median\" not in list(forecasts.columns.values):\n",
    "    Y_hat=forecasts[\"NHITS\"].values\n",
    "  else:\n",
    "    Y_hat=forecasts[\"NHTS-median\"].values\n",
    "  Y_true=forecasts[\"y\"].values\n",
    "  RMSE=np.sqrt(np.sum(((Y_true-Y_hat)**2))/len(Y_true))\n",
    "  QLIKE=(np.sum(Y_true/Y_hat-np.log(abs(Y_true)/abs(Y_hat))-1)/len(Y_true))\n",
    "  MAE=np.sum(abs(Y_true-Y_hat))/len(Y_true)\n",
    "  print(f\"Epoch: {epochs[k]} | Inputs: {n_inputs[i]} | MLP units: {mlp_units[h]} | Scaler Type: {scaler_type[o]}\")\n",
    "  print(f\"Pooling mode: {pooling_mode[p]} | Learning Rate: {n} | Block: {n_blocks[a]}| Dropout:{dropout_prob_theta[l]}  \")\n",
    "  print(f\"RMSE: {RMSE} | QLIKE: {QLIKE} | MAPE: {MAE}\")"
   ]
  },
  {
   "cell_type": "code",
   "execution_count": 16,
   "id": "a4ca5753",
   "metadata": {},
   "outputs": [
    {
     "name": "stderr",
     "output_type": "stream",
     "text": [
      "Seed set to 71715799\n"
     ]
    },
    {
     "data": {
      "application/vnd.jupyter.widget-view+json": {
       "model_id": "",
       "version_major": 2,
       "version_minor": 0
      },
      "text/plain": [
       "Sanity Checking: |                                        | 0/? [00:00<?, ?it/s]"
      ]
     },
     "metadata": {},
     "output_type": "display_data"
    },
    {
     "data": {
      "application/vnd.jupyter.widget-view+json": {
       "model_id": "722bff70a67649a482375c0eac023dbc",
       "version_major": 2,
       "version_minor": 0
      },
      "text/plain": [
       "Training: |                                               | 0/? [00:00<?, ?it/s]"
      ]
     },
     "metadata": {},
     "output_type": "display_data"
    },
    {
     "data": {
      "application/vnd.jupyter.widget-view+json": {
       "model_id": "",
       "version_major": 2,
       "version_minor": 0
      },
      "text/plain": [
       "Validation: |                                             | 0/? [00:00<?, ?it/s]"
      ]
     },
     "metadata": {},
     "output_type": "display_data"
    },
    {
     "data": {
      "application/vnd.jupyter.widget-view+json": {
       "model_id": "e8c910ddc4ed453b8725a229428db832",
       "version_major": 2,
       "version_minor": 0
      },
      "text/plain": [
       "Predicting: |                                             | 0/? [00:00<?, ?it/s]"
      ]
     },
     "metadata": {},
     "output_type": "display_data"
    },
    {
     "name": "stderr",
     "output_type": "stream",
     "text": [
      "Seed set to 9025005\n"
     ]
    },
    {
     "name": "stdout",
     "output_type": "stream",
     "text": [
      "Epoch: 650 | Inputs: 42 | MLP units: [[250, 250], [250, 250]] | Scaler Type: minmax\n",
      "Pooling mode: MaxPool1d | Learning Rate: 2 | Block: [2, 2]| Dropout:0.3  \n",
      "RMSE: 0.009732747806092614 | QLIKE: 0.13682534382872452 | MAPE: 0.007047751776259223\n"
     ]
    },
    {
     "data": {
      "application/vnd.jupyter.widget-view+json": {
       "model_id": "",
       "version_major": 2,
       "version_minor": 0
      },
      "text/plain": [
       "Sanity Checking: |                                        | 0/? [00:00<?, ?it/s]"
      ]
     },
     "metadata": {},
     "output_type": "display_data"
    },
    {
     "data": {
      "application/vnd.jupyter.widget-view+json": {
       "model_id": "2ce8881a088547d9b5a2bde6f586fb5b",
       "version_major": 2,
       "version_minor": 0
      },
      "text/plain": [
       "Training: |                                               | 0/? [00:00<?, ?it/s]"
      ]
     },
     "metadata": {},
     "output_type": "display_data"
    },
    {
     "data": {
      "application/vnd.jupyter.widget-view+json": {
       "model_id": "",
       "version_major": 2,
       "version_minor": 0
      },
      "text/plain": [
       "Validation: |                                             | 0/? [00:00<?, ?it/s]"
      ]
     },
     "metadata": {},
     "output_type": "display_data"
    },
    {
     "data": {
      "application/vnd.jupyter.widget-view+json": {
       "model_id": "44f089d995cc443e8d6387c39556c979",
       "version_major": 2,
       "version_minor": 0
      },
      "text/plain": [
       "Predicting: |                                             | 0/? [00:00<?, ?it/s]"
      ]
     },
     "metadata": {},
     "output_type": "display_data"
    },
    {
     "name": "stderr",
     "output_type": "stream",
     "text": [
      "Seed set to 77466703\n"
     ]
    },
    {
     "name": "stdout",
     "output_type": "stream",
     "text": [
      "Epoch: 50 | Inputs: 42 | MLP units: [[712, 712], [712, 712]] | Scaler Type: standard\n",
      "Pooling mode: MaxPool1d | Learning Rate: 3 | Block: [3, 3]| Dropout:0.3  \n",
      "RMSE: 0.010233046191069827 | QLIKE: 0.13497596031787737 | MAPE: 0.0066045041403990905\n"
     ]
    },
    {
     "data": {
      "application/vnd.jupyter.widget-view+json": {
       "model_id": "",
       "version_major": 2,
       "version_minor": 0
      },
      "text/plain": [
       "Sanity Checking: |                                        | 0/? [00:00<?, ?it/s]"
      ]
     },
     "metadata": {},
     "output_type": "display_data"
    },
    {
     "data": {
      "application/vnd.jupyter.widget-view+json": {
       "model_id": "38d0a119255a4186893afd3ea9678f87",
       "version_major": 2,
       "version_minor": 0
      },
      "text/plain": [
       "Training: |                                               | 0/? [00:00<?, ?it/s]"
      ]
     },
     "metadata": {},
     "output_type": "display_data"
    },
    {
     "data": {
      "application/vnd.jupyter.widget-view+json": {
       "model_id": "",
       "version_major": 2,
       "version_minor": 0
      },
      "text/plain": [
       "Validation: |                                             | 0/? [00:00<?, ?it/s]"
      ]
     },
     "metadata": {},
     "output_type": "display_data"
    },
    {
     "data": {
      "application/vnd.jupyter.widget-view+json": {
       "model_id": "c7a4c8454f88409fa48470121315f203",
       "version_major": 2,
       "version_minor": 0
      },
      "text/plain": [
       "Predicting: |                                             | 0/? [00:00<?, ?it/s]"
      ]
     },
     "metadata": {},
     "output_type": "display_data"
    },
    {
     "name": "stderr",
     "output_type": "stream",
     "text": [
      "Seed set to 94844731\n"
     ]
    },
    {
     "name": "stdout",
     "output_type": "stream",
     "text": [
      "Epoch: 450 | Inputs: 21 | MLP units: [[250, 250], [250, 250]] | Scaler Type: robust\n",
      "Pooling mode: MaxPool1d | Learning Rate: 1 | Block: [3, 3]| Dropout:0.4  \n",
      "RMSE: 0.009859256821000605 | QLIKE: 0.13323015866080118 | MAPE: 0.0068722527832886515\n"
     ]
    },
    {
     "data": {
      "application/vnd.jupyter.widget-view+json": {
       "model_id": "",
       "version_major": 2,
       "version_minor": 0
      },
      "text/plain": [
       "Sanity Checking: |                                        | 0/? [00:00<?, ?it/s]"
      ]
     },
     "metadata": {},
     "output_type": "display_data"
    },
    {
     "data": {
      "application/vnd.jupyter.widget-view+json": {
       "model_id": "e262eab9eb1c4c5384ec2cb5eb8d77c5",
       "version_major": 2,
       "version_minor": 0
      },
      "text/plain": [
       "Training: |                                               | 0/? [00:00<?, ?it/s]"
      ]
     },
     "metadata": {},
     "output_type": "display_data"
    },
    {
     "data": {
      "application/vnd.jupyter.widget-view+json": {
       "model_id": "",
       "version_major": 2,
       "version_minor": 0
      },
      "text/plain": [
       "Validation: |                                             | 0/? [00:00<?, ?it/s]"
      ]
     },
     "metadata": {},
     "output_type": "display_data"
    },
    {
     "data": {
      "application/vnd.jupyter.widget-view+json": {
       "model_id": "a80276e9a198423aa630fe2d2fc6d421",
       "version_major": 2,
       "version_minor": 0
      },
      "text/plain": [
       "Predicting: |                                             | 0/? [00:00<?, ?it/s]"
      ]
     },
     "metadata": {},
     "output_type": "display_data"
    },
    {
     "name": "stderr",
     "output_type": "stream",
     "text": [
      "Seed set to 118536898\n"
     ]
    },
    {
     "name": "stdout",
     "output_type": "stream",
     "text": [
      "Epoch: 50 | Inputs: 3 | MLP units: [[100, 100], [100, 100]] | Scaler Type: minmax\n",
      "Pooling mode: MaxPool1d | Learning Rate: 0 | Block: [1, 1]| Dropout:0.3  \n",
      "RMSE: 0.012056557918709018 | QLIKE: 0.14962227037255493 | MAPE: 0.007294571361804739\n"
     ]
    },
    {
     "data": {
      "application/vnd.jupyter.widget-view+json": {
       "model_id": "",
       "version_major": 2,
       "version_minor": 0
      },
      "text/plain": [
       "Sanity Checking: |                                        | 0/? [00:00<?, ?it/s]"
      ]
     },
     "metadata": {},
     "output_type": "display_data"
    },
    {
     "data": {
      "application/vnd.jupyter.widget-view+json": {
       "model_id": "9ef79115460748309f2fda3d10b14011",
       "version_major": 2,
       "version_minor": 0
      },
      "text/plain": [
       "Training: |                                               | 0/? [00:00<?, ?it/s]"
      ]
     },
     "metadata": {},
     "output_type": "display_data"
    },
    {
     "data": {
      "application/vnd.jupyter.widget-view+json": {
       "model_id": "",
       "version_major": 2,
       "version_minor": 0
      },
      "text/plain": [
       "Validation: |                                             | 0/? [00:00<?, ?it/s]"
      ]
     },
     "metadata": {},
     "output_type": "display_data"
    },
    {
     "data": {
      "application/vnd.jupyter.widget-view+json": {
       "model_id": "68595dfe100d414da1eeec06e0a8b9f2",
       "version_major": 2,
       "version_minor": 0
      },
      "text/plain": [
       "Predicting: |                                             | 0/? [00:00<?, ?it/s]"
      ]
     },
     "metadata": {},
     "output_type": "display_data"
    },
    {
     "name": "stdout",
     "output_type": "stream",
     "text": [
      "Epoch: 350 | Inputs: 5 | MLP units: [[512, 512], [512, 512]] | Scaler Type: robust\n",
      "Pooling mode: MaxPool1d | Learning Rate: 3 | Block: [5, 5]| Dropout:0.4  \n",
      "RMSE: 0.010744549222048051 | QLIKE: 0.14129466828150036 | MAPE: 0.006695536540951884\n"
     ]
    }
   ],
   "source": [
    "#first\n",
    "for m in range (5):\n",
    "  i=random.randrange(7)\n",
    "  h=random.randrange(4)\n",
    "  a=random.randrange(4)\n",
    "  k=random.randrange(9)\n",
    "  l=random.randrange(4)\n",
    "  n=random.randrange(4)\n",
    "  o=random.randrange(3)\n",
    "  p=random.randrange(2)\n",
    "  model = NHITS(h=28, input_size=n_inputs[i],\n",
    "                loss=MSE(),\n",
    "                scaler_type=scaler_type[o],\n",
    "                learning_rate=learning_rate[n],\n",
    "                stack_types=['identity','identity'],\n",
    "                n_blocks=n_blocks[a],\n",
    "                mlp_units=mlp_units[h],\n",
    "                windows_batch_size=32,\n",
    "                num_lr_decays=num_lr_decays[n],\n",
    "                val_check_steps=500,\n",
    "                stat_exog_list=['BTC'],\n",
    "                dropout_prob_theta=dropout_prob_theta[l], n_pool_kernel_size=n_pool_kernel_size[o],\n",
    "                pooling_mode = pooling_mode[p],\n",
    "                interpolation_mode= interpolation_mode[p],\n",
    "                max_steps=epochs[k],\n",
    "                random_seed=random.randrange(129228148))\n",
    "  fcst = NeuralForecast(models=[model],freq='D')\n",
    "  forecasts = fcst.cross_validation(df=train,val_size=28,static_df=static_df,n_windows=None, test_size=validation_length-validation_length%28,step_size=1)\n",
    "  forecasts = forecasts[forecasts['unique_id']=='ETH'].dropna().drop_duplicates(subset='ds', keep='first')\n",
    "  if \"NHITS-median\" not in list(forecasts.columns.values):\n",
    "    Y_hat=forecasts[\"NHITS\"].values\n",
    "  else:\n",
    "    Y_hat=forecasts[\"NHTS-median\"].values\n",
    "  Y_true=forecasts[\"y\"].values\n",
    "  RMSE=np.sqrt(np.sum(((Y_true-Y_hat)**2))/len(Y_true))\n",
    "  QLIKE=(np.sum(Y_true/Y_hat-np.log(abs(Y_true)/abs(Y_hat))-1)/len(Y_true))\n",
    "  MAE=np.sum(abs(Y_true-Y_hat))/len(Y_true)\n",
    "  print(f\"Epoch: {epochs[k]} | Inputs: {n_inputs[i]} | MLP units: {mlp_units[h]} | Scaler Type: {scaler_type[o]}\")\n",
    "  print(f\"Pooling mode: {pooling_mode[p]} | Learning Rate: {n} | Block: {n_blocks[a]}| Dropout:{dropout_prob_theta[l]}  \")\n",
    "  print(f\"RMSE: {RMSE} | QLIKE: {QLIKE} | MAPE: {MAE}\")"
   ]
  },
  {
   "cell_type": "code",
   "execution_count": 17,
   "id": "097fa5cf",
   "metadata": {},
   "outputs": [
    {
     "name": "stderr",
     "output_type": "stream",
     "text": [
      "Seed set to 96693490\n"
     ]
    },
    {
     "data": {
      "application/vnd.jupyter.widget-view+json": {
       "model_id": "",
       "version_major": 2,
       "version_minor": 0
      },
      "text/plain": [
       "Sanity Checking: |                                        | 0/? [00:00<?, ?it/s]"
      ]
     },
     "metadata": {},
     "output_type": "display_data"
    },
    {
     "data": {
      "application/vnd.jupyter.widget-view+json": {
       "model_id": "ab9478f1fa014018b08783a82f0f0c9c",
       "version_major": 2,
       "version_minor": 0
      },
      "text/plain": [
       "Training: |                                               | 0/? [00:00<?, ?it/s]"
      ]
     },
     "metadata": {},
     "output_type": "display_data"
    },
    {
     "data": {
      "application/vnd.jupyter.widget-view+json": {
       "model_id": "",
       "version_major": 2,
       "version_minor": 0
      },
      "text/plain": [
       "Validation: |                                             | 0/? [00:00<?, ?it/s]"
      ]
     },
     "metadata": {},
     "output_type": "display_data"
    },
    {
     "data": {
      "application/vnd.jupyter.widget-view+json": {
       "model_id": "f0d9c2e6b4144d508c5e5026ab293a8a",
       "version_major": 2,
       "version_minor": 0
      },
      "text/plain": [
       "Predicting: |                                             | 0/? [00:00<?, ?it/s]"
      ]
     },
     "metadata": {},
     "output_type": "display_data"
    },
    {
     "name": "stderr",
     "output_type": "stream",
     "text": [
      "Seed set to 75482139\n"
     ]
    },
    {
     "name": "stdout",
     "output_type": "stream",
     "text": [
      "Epoch: 550 | Inputs: 5 | MLP units: [[712, 712], [712, 712]] | Scaler Type: standard\n",
      "Pooling mode: AvgPool1d | Learning Rate: 0 | Block: [1, 1]| Dropout:0  \n",
      "RMSE: 0.011371500896927973 | QLIKE: 0.14053280281052719 | MAPE: 0.007375450501156814\n"
     ]
    },
    {
     "data": {
      "application/vnd.jupyter.widget-view+json": {
       "model_id": "",
       "version_major": 2,
       "version_minor": 0
      },
      "text/plain": [
       "Sanity Checking: |                                        | 0/? [00:00<?, ?it/s]"
      ]
     },
     "metadata": {},
     "output_type": "display_data"
    },
    {
     "data": {
      "application/vnd.jupyter.widget-view+json": {
       "model_id": "3886cb39351f4368808c47302d73ac4b",
       "version_major": 2,
       "version_minor": 0
      },
      "text/plain": [
       "Training: |                                               | 0/? [00:00<?, ?it/s]"
      ]
     },
     "metadata": {},
     "output_type": "display_data"
    },
    {
     "data": {
      "application/vnd.jupyter.widget-view+json": {
       "model_id": "",
       "version_major": 2,
       "version_minor": 0
      },
      "text/plain": [
       "Validation: |                                             | 0/? [00:00<?, ?it/s]"
      ]
     },
     "metadata": {},
     "output_type": "display_data"
    },
    {
     "data": {
      "application/vnd.jupyter.widget-view+json": {
       "model_id": "d074834c689d476c9ff572955e99a7b3",
       "version_major": 2,
       "version_minor": 0
      },
      "text/plain": [
       "Predicting: |                                             | 0/? [00:00<?, ?it/s]"
      ]
     },
     "metadata": {},
     "output_type": "display_data"
    },
    {
     "name": "stderr",
     "output_type": "stream",
     "text": [
      "Seed set to 91716337\n"
     ]
    },
    {
     "name": "stdout",
     "output_type": "stream",
     "text": [
      "Epoch: 350 | Inputs: 10 | MLP units: [[100, 100], [100, 100]] | Scaler Type: standard\n",
      "Pooling mode: MaxPool1d | Learning Rate: 3 | Block: [3, 3]| Dropout:0.4  \n",
      "RMSE: 0.009850727578072357 | QLIKE: 0.1422993872221207 | MAPE: 0.006042336956104089\n"
     ]
    },
    {
     "data": {
      "application/vnd.jupyter.widget-view+json": {
       "model_id": "",
       "version_major": 2,
       "version_minor": 0
      },
      "text/plain": [
       "Sanity Checking: |                                        | 0/? [00:00<?, ?it/s]"
      ]
     },
     "metadata": {},
     "output_type": "display_data"
    },
    {
     "data": {
      "application/vnd.jupyter.widget-view+json": {
       "model_id": "438d9ea4bc914e8b8a5389ae607b8388",
       "version_major": 2,
       "version_minor": 0
      },
      "text/plain": [
       "Training: |                                               | 0/? [00:00<?, ?it/s]"
      ]
     },
     "metadata": {},
     "output_type": "display_data"
    },
    {
     "data": {
      "application/vnd.jupyter.widget-view+json": {
       "model_id": "",
       "version_major": 2,
       "version_minor": 0
      },
      "text/plain": [
       "Validation: |                                             | 0/? [00:00<?, ?it/s]"
      ]
     },
     "metadata": {},
     "output_type": "display_data"
    },
    {
     "data": {
      "application/vnd.jupyter.widget-view+json": {
       "model_id": "f1541f4b32004457bc3197eadc27e750",
       "version_major": 2,
       "version_minor": 0
      },
      "text/plain": [
       "Predicting: |                                             | 0/? [00:00<?, ?it/s]"
      ]
     },
     "metadata": {},
     "output_type": "display_data"
    },
    {
     "name": "stderr",
     "output_type": "stream",
     "text": [
      "Seed set to 65508774\n"
     ]
    },
    {
     "name": "stdout",
     "output_type": "stream",
     "text": [
      "Epoch: 150 | Inputs: 15 | MLP units: [[250, 250], [250, 250]] | Scaler Type: minmax\n",
      "Pooling mode: MaxPool1d | Learning Rate: 0 | Block: [3, 3]| Dropout:0.4  \n",
      "RMSE: 0.00953217867618912 | QLIKE: 0.1254996272345716 | MAPE: 0.006720427348931926\n"
     ]
    },
    {
     "data": {
      "application/vnd.jupyter.widget-view+json": {
       "model_id": "",
       "version_major": 2,
       "version_minor": 0
      },
      "text/plain": [
       "Sanity Checking: |                                        | 0/? [00:00<?, ?it/s]"
      ]
     },
     "metadata": {},
     "output_type": "display_data"
    },
    {
     "data": {
      "application/vnd.jupyter.widget-view+json": {
       "model_id": "0f15cbd10df046c8bfce3e26b38feaa8",
       "version_major": 2,
       "version_minor": 0
      },
      "text/plain": [
       "Training: |                                               | 0/? [00:00<?, ?it/s]"
      ]
     },
     "metadata": {},
     "output_type": "display_data"
    },
    {
     "data": {
      "application/vnd.jupyter.widget-view+json": {
       "model_id": "",
       "version_major": 2,
       "version_minor": 0
      },
      "text/plain": [
       "Validation: |                                             | 0/? [00:00<?, ?it/s]"
      ]
     },
     "metadata": {},
     "output_type": "display_data"
    },
    {
     "data": {
      "application/vnd.jupyter.widget-view+json": {
       "model_id": "c632476b86ea441e9dc98399cf31a5e3",
       "version_major": 2,
       "version_minor": 0
      },
      "text/plain": [
       "Predicting: |                                             | 0/? [00:00<?, ?it/s]"
      ]
     },
     "metadata": {},
     "output_type": "display_data"
    },
    {
     "name": "stderr",
     "output_type": "stream",
     "text": [
      "Seed set to 59960836\n"
     ]
    },
    {
     "name": "stdout",
     "output_type": "stream",
     "text": [
      "Epoch: 450 | Inputs: 10 | MLP units: [[250, 250], [250, 250]] | Scaler Type: minmax\n",
      "Pooling mode: AvgPool1d | Learning Rate: 2 | Block: [2, 2]| Dropout:0  \n",
      "RMSE: 0.01013727665954049 | QLIKE: 0.13302198483412886 | MAPE: 0.00690580276648071\n"
     ]
    },
    {
     "data": {
      "application/vnd.jupyter.widget-view+json": {
       "model_id": "",
       "version_major": 2,
       "version_minor": 0
      },
      "text/plain": [
       "Sanity Checking: |                                        | 0/? [00:00<?, ?it/s]"
      ]
     },
     "metadata": {},
     "output_type": "display_data"
    },
    {
     "data": {
      "application/vnd.jupyter.widget-view+json": {
       "model_id": "ade8b437426b4d0f8d733ccf6418bcce",
       "version_major": 2,
       "version_minor": 0
      },
      "text/plain": [
       "Training: |                                               | 0/? [00:00<?, ?it/s]"
      ]
     },
     "metadata": {},
     "output_type": "display_data"
    },
    {
     "data": {
      "application/vnd.jupyter.widget-view+json": {
       "model_id": "",
       "version_major": 2,
       "version_minor": 0
      },
      "text/plain": [
       "Validation: |                                             | 0/? [00:00<?, ?it/s]"
      ]
     },
     "metadata": {},
     "output_type": "display_data"
    },
    {
     "data": {
      "application/vnd.jupyter.widget-view+json": {
       "model_id": "ba85928d17084acd9f4f9e287dfbc291",
       "version_major": 2,
       "version_minor": 0
      },
      "text/plain": [
       "Predicting: |                                             | 0/? [00:00<?, ?it/s]"
      ]
     },
     "metadata": {},
     "output_type": "display_data"
    },
    {
     "name": "stdout",
     "output_type": "stream",
     "text": [
      "Epoch: 100 | Inputs: 3 | MLP units: [[512, 512], [512, 512]] | Scaler Type: standard\n",
      "Pooling mode: AvgPool1d | Learning Rate: 2 | Block: [3, 3]| Dropout:0  \n",
      "RMSE: 0.013411413604735573 | QLIKE: 0.15913676797830156 | MAPE: 0.008244336777377029\n"
     ]
    }
   ],
   "source": [
    "#second\n",
    "for m in range (5):\n",
    "  i=random.randrange(7)\n",
    "  h=random.randrange(4)\n",
    "  a=random.randrange(4)\n",
    "  k=random.randrange(9)\n",
    "  l=random.randrange(4)\n",
    "  n=random.randrange(4)\n",
    "  o=random.randrange(3)\n",
    "  p=random.randrange(2)\n",
    "  model = NHITS(h=28, input_size=n_inputs[i],\n",
    "                loss=MSE(),\n",
    "                scaler_type=scaler_type[o],\n",
    "                learning_rate=learning_rate[n],\n",
    "                stack_types=['identity','identity'],\n",
    "                n_blocks=n_blocks[a],\n",
    "                mlp_units=mlp_units[h],\n",
    "                windows_batch_size=32,\n",
    "                num_lr_decays=num_lr_decays[n],\n",
    "                val_check_steps=500,\n",
    "                stat_exog_list=['BTC'],\n",
    "                dropout_prob_theta=dropout_prob_theta[l], n_pool_kernel_size=n_pool_kernel_size[o],\n",
    "                pooling_mode = pooling_mode[p],\n",
    "                interpolation_mode= interpolation_mode[p],\n",
    "                max_steps=epochs[k],\n",
    "                random_seed=random.randrange(129228148))\n",
    "  fcst = NeuralForecast(models=[model],freq='D')\n",
    "  forecasts = fcst.cross_validation(df=train,val_size=28,static_df=static_df,n_windows=None, test_size=validation_length-validation_length%28,step_size=1)\n",
    "  forecasts = forecasts[forecasts['unique_id']=='ETH'].dropna().drop_duplicates(subset='ds', keep='first')\n",
    "  if \"NHITS-median\" not in list(forecasts.columns.values):\n",
    "    Y_hat=forecasts[\"NHITS\"].values\n",
    "  else:\n",
    "    Y_hat=forecasts[\"NHTS-median\"].values\n",
    "  Y_true=forecasts[\"y\"].values\n",
    "  RMSE=np.sqrt(np.sum(((Y_true-Y_hat)**2))/len(Y_true))\n",
    "  QLIKE=(np.sum(Y_true/Y_hat-np.log(abs(Y_true)/abs(Y_hat))-1)/len(Y_true))\n",
    "  MAE=np.sum(abs(Y_true-Y_hat))/len(Y_true)\n",
    "  print(f\"Epoch: {epochs[k]} | Inputs: {n_inputs[i]} | MLP units: {mlp_units[h]} | Scaler Type: {scaler_type[o]}\")\n",
    "  print(f\"Pooling mode: {pooling_mode[p]} | Learning Rate: {n} | Block: {n_blocks[a]}| Dropout:{dropout_prob_theta[l]}  \")\n",
    "  print(f\"RMSE: {RMSE} | QLIKE: {QLIKE} | MAPE: {MAE}\")"
   ]
  },
  {
   "cell_type": "code",
   "execution_count": 18,
   "id": "15017481",
   "metadata": {},
   "outputs": [
    {
     "name": "stderr",
     "output_type": "stream",
     "text": [
      "Seed set to 71661734\n"
     ]
    },
    {
     "data": {
      "application/vnd.jupyter.widget-view+json": {
       "model_id": "",
       "version_major": 2,
       "version_minor": 0
      },
      "text/plain": [
       "Sanity Checking: |                                        | 0/? [00:00<?, ?it/s]"
      ]
     },
     "metadata": {},
     "output_type": "display_data"
    },
    {
     "data": {
      "application/vnd.jupyter.widget-view+json": {
       "model_id": "045ea5bd00384875a3825db65b0d6e5f",
       "version_major": 2,
       "version_minor": 0
      },
      "text/plain": [
       "Training: |                                               | 0/? [00:00<?, ?it/s]"
      ]
     },
     "metadata": {},
     "output_type": "display_data"
    },
    {
     "data": {
      "application/vnd.jupyter.widget-view+json": {
       "model_id": "",
       "version_major": 2,
       "version_minor": 0
      },
      "text/plain": [
       "Validation: |                                             | 0/? [00:00<?, ?it/s]"
      ]
     },
     "metadata": {},
     "output_type": "display_data"
    },
    {
     "data": {
      "application/vnd.jupyter.widget-view+json": {
       "model_id": "96f67a70498e4434b79d3ff0a4726a3a",
       "version_major": 2,
       "version_minor": 0
      },
      "text/plain": [
       "Predicting: |                                             | 0/? [00:00<?, ?it/s]"
      ]
     },
     "metadata": {},
     "output_type": "display_data"
    },
    {
     "name": "stderr",
     "output_type": "stream",
     "text": [
      "Seed set to 84789189\n"
     ]
    },
    {
     "name": "stdout",
     "output_type": "stream",
     "text": [
      "Epoch: 100 | Inputs: 5 | MLP units: [[250, 250], [250, 250]] | Scaler Type: standard\n",
      "Pooling mode: AvgPool1d | Learning Rate: 2 | Block: [3, 3]| Dropout:0  \n",
      "RMSE: 0.011416583543071655 | QLIKE: 0.14102847755968453 | MAPE: 0.007246197507699277\n"
     ]
    },
    {
     "data": {
      "application/vnd.jupyter.widget-view+json": {
       "model_id": "",
       "version_major": 2,
       "version_minor": 0
      },
      "text/plain": [
       "Sanity Checking: |                                        | 0/? [00:00<?, ?it/s]"
      ]
     },
     "metadata": {},
     "output_type": "display_data"
    },
    {
     "data": {
      "application/vnd.jupyter.widget-view+json": {
       "model_id": "87f6843cfbec48f2b5025ee0dc8f4201",
       "version_major": 2,
       "version_minor": 0
      },
      "text/plain": [
       "Training: |                                               | 0/? [00:00<?, ?it/s]"
      ]
     },
     "metadata": {},
     "output_type": "display_data"
    },
    {
     "data": {
      "application/vnd.jupyter.widget-view+json": {
       "model_id": "",
       "version_major": 2,
       "version_minor": 0
      },
      "text/plain": [
       "Validation: |                                             | 0/? [00:00<?, ?it/s]"
      ]
     },
     "metadata": {},
     "output_type": "display_data"
    },
    {
     "data": {
      "application/vnd.jupyter.widget-view+json": {
       "model_id": "69b0f341b67b4446b4bd6718566f7ea2",
       "version_major": 2,
       "version_minor": 0
      },
      "text/plain": [
       "Predicting: |                                             | 0/? [00:00<?, ?it/s]"
      ]
     },
     "metadata": {},
     "output_type": "display_data"
    },
    {
     "name": "stderr",
     "output_type": "stream",
     "text": [
      "Seed set to 40704125\n"
     ]
    },
    {
     "name": "stdout",
     "output_type": "stream",
     "text": [
      "Epoch: 750 | Inputs: 3 | MLP units: [[250, 250], [250, 250]] | Scaler Type: minmax\n",
      "Pooling mode: MaxPool1d | Learning Rate: 1 | Block: [3, 3]| Dropout:0.4  \n",
      "RMSE: 0.012855377191335497 | QLIKE: 0.1571446711802414 | MAPE: 0.008121529234619253\n"
     ]
    },
    {
     "data": {
      "application/vnd.jupyter.widget-view+json": {
       "model_id": "",
       "version_major": 2,
       "version_minor": 0
      },
      "text/plain": [
       "Sanity Checking: |                                        | 0/? [00:00<?, ?it/s]"
      ]
     },
     "metadata": {},
     "output_type": "display_data"
    },
    {
     "data": {
      "application/vnd.jupyter.widget-view+json": {
       "model_id": "a55e955ba5c4414ea12e6e35b7729b40",
       "version_major": 2,
       "version_minor": 0
      },
      "text/plain": [
       "Training: |                                               | 0/? [00:00<?, ?it/s]"
      ]
     },
     "metadata": {},
     "output_type": "display_data"
    },
    {
     "data": {
      "application/vnd.jupyter.widget-view+json": {
       "model_id": "",
       "version_major": 2,
       "version_minor": 0
      },
      "text/plain": [
       "Validation: |                                             | 0/? [00:00<?, ?it/s]"
      ]
     },
     "metadata": {},
     "output_type": "display_data"
    },
    {
     "data": {
      "application/vnd.jupyter.widget-view+json": {
       "model_id": "95e3cf06467844f28a8c3a8a2497530d",
       "version_major": 2,
       "version_minor": 0
      },
      "text/plain": [
       "Predicting: |                                             | 0/? [00:00<?, ?it/s]"
      ]
     },
     "metadata": {},
     "output_type": "display_data"
    },
    {
     "name": "stderr",
     "output_type": "stream",
     "text": [
      "Seed set to 55295810\n"
     ]
    },
    {
     "name": "stdout",
     "output_type": "stream",
     "text": [
      "Epoch: 450 | Inputs: 15 | MLP units: [[100, 100], [100, 100]] | Scaler Type: minmax\n",
      "Pooling mode: AvgPool1d | Learning Rate: 2 | Block: [2, 2]| Dropout:0.3  \n",
      "RMSE: 0.01073587432685045 | QLIKE: 0.13775147740452767 | MAPE: 0.006895716287323893\n"
     ]
    },
    {
     "data": {
      "application/vnd.jupyter.widget-view+json": {
       "model_id": "",
       "version_major": 2,
       "version_minor": 0
      },
      "text/plain": [
       "Sanity Checking: |                                        | 0/? [00:00<?, ?it/s]"
      ]
     },
     "metadata": {},
     "output_type": "display_data"
    },
    {
     "data": {
      "application/vnd.jupyter.widget-view+json": {
       "model_id": "3aba586b227445aa9f0638fb7d53880b",
       "version_major": 2,
       "version_minor": 0
      },
      "text/plain": [
       "Training: |                                               | 0/? [00:00<?, ?it/s]"
      ]
     },
     "metadata": {},
     "output_type": "display_data"
    },
    {
     "data": {
      "application/vnd.jupyter.widget-view+json": {
       "model_id": "",
       "version_major": 2,
       "version_minor": 0
      },
      "text/plain": [
       "Validation: |                                             | 0/? [00:00<?, ?it/s]"
      ]
     },
     "metadata": {},
     "output_type": "display_data"
    },
    {
     "data": {
      "application/vnd.jupyter.widget-view+json": {
       "model_id": "9921128e111f43b9b6241da2f5c8e067",
       "version_major": 2,
       "version_minor": 0
      },
      "text/plain": [
       "Predicting: |                                             | 0/? [00:00<?, ?it/s]"
      ]
     },
     "metadata": {},
     "output_type": "display_data"
    },
    {
     "name": "stderr",
     "output_type": "stream",
     "text": [
      "Seed set to 41709117\n"
     ]
    },
    {
     "name": "stdout",
     "output_type": "stream",
     "text": [
      "Epoch: 750 | Inputs: 15 | MLP units: [[250, 250], [250, 250]] | Scaler Type: standard\n",
      "Pooling mode: MaxPool1d | Learning Rate: 0 | Block: [1, 1]| Dropout:0  \n",
      "RMSE: 0.008928190906657698 | QLIKE: 0.12170664353378413 | MAPE: 0.006292497355891569\n"
     ]
    },
    {
     "data": {
      "application/vnd.jupyter.widget-view+json": {
       "model_id": "",
       "version_major": 2,
       "version_minor": 0
      },
      "text/plain": [
       "Sanity Checking: |                                        | 0/? [00:00<?, ?it/s]"
      ]
     },
     "metadata": {},
     "output_type": "display_data"
    },
    {
     "data": {
      "application/vnd.jupyter.widget-view+json": {
       "model_id": "d1002afb03b543408ddb0fe213b56fba",
       "version_major": 2,
       "version_minor": 0
      },
      "text/plain": [
       "Training: |                                               | 0/? [00:00<?, ?it/s]"
      ]
     },
     "metadata": {},
     "output_type": "display_data"
    },
    {
     "data": {
      "application/vnd.jupyter.widget-view+json": {
       "model_id": "",
       "version_major": 2,
       "version_minor": 0
      },
      "text/plain": [
       "Validation: |                                             | 0/? [00:00<?, ?it/s]"
      ]
     },
     "metadata": {},
     "output_type": "display_data"
    },
    {
     "data": {
      "application/vnd.jupyter.widget-view+json": {
       "model_id": "b2ce6c53c2ef4f33a1ac50d2b161f225",
       "version_major": 2,
       "version_minor": 0
      },
      "text/plain": [
       "Predicting: |                                             | 0/? [00:00<?, ?it/s]"
      ]
     },
     "metadata": {},
     "output_type": "display_data"
    },
    {
     "name": "stdout",
     "output_type": "stream",
     "text": [
      "Epoch: 650 | Inputs: 3 | MLP units: [[250, 250], [250, 250]] | Scaler Type: minmax\n",
      "Pooling mode: AvgPool1d | Learning Rate: 3 | Block: [5, 5]| Dropout:0.4  \n",
      "RMSE: 0.014791502908009535 | QLIKE: 0.1709365966952638 | MAPE: 0.00895599716845434\n"
     ]
    }
   ],
   "source": [
    "#third\n",
    "for m in range (5):\n",
    "  i=random.randrange(7)\n",
    "  h=random.randrange(4)\n",
    "  a=random.randrange(4)\n",
    "  k=random.randrange(9)\n",
    "  l=random.randrange(4)\n",
    "  n=random.randrange(4)\n",
    "  o=random.randrange(3)\n",
    "  p=random.randrange(2)\n",
    "  model = NHITS(h=28, input_size=n_inputs[i],\n",
    "                loss=MSE(),\n",
    "                scaler_type=scaler_type[o],\n",
    "                learning_rate=learning_rate[n],\n",
    "                stack_types=['identity','identity'],\n",
    "                n_blocks=n_blocks[a],\n",
    "                mlp_units=mlp_units[h],\n",
    "                windows_batch_size=32,\n",
    "                num_lr_decays=num_lr_decays[n],\n",
    "                val_check_steps=500,\n",
    "                stat_exog_list=['BTC'],\n",
    "                dropout_prob_theta=dropout_prob_theta[l], n_pool_kernel_size=n_pool_kernel_size[o],\n",
    "                pooling_mode = pooling_mode[p],\n",
    "                interpolation_mode= interpolation_mode[p],\n",
    "                max_steps=epochs[k],\n",
    "                random_seed=random.randrange(129228148))\n",
    "  fcst = NeuralForecast(models=[model],freq='D')\n",
    "  forecasts = fcst.cross_validation(df=train,val_size=28,static_df=static_df,n_windows=None, test_size=validation_length-validation_length%28,step_size=1)\n",
    "  forecasts = forecasts[forecasts['unique_id']=='ETH'].dropna().drop_duplicates(subset='ds', keep='first')\n",
    "  if \"NHITS-median\" not in list(forecasts.columns.values):\n",
    "    Y_hat=forecasts[\"NHITS\"].values\n",
    "  else:\n",
    "    Y_hat=forecasts[\"NHTS-median\"].values\n",
    "  Y_true=forecasts[\"y\"].values\n",
    "  RMSE=np.sqrt(np.sum(((Y_true-Y_hat)**2))/len(Y_true))\n",
    "  QLIKE=(np.sum(Y_true/Y_hat-np.log(abs(Y_true)/abs(Y_hat))-1)/len(Y_true))\n",
    "  MAE=np.sum(abs(Y_true-Y_hat))/len(Y_true)\n",
    "  print(f\"Epoch: {epochs[k]} | Inputs: {n_inputs[i]} | MLP units: {mlp_units[h]} | Scaler Type: {scaler_type[o]}\")\n",
    "  print(f\"Pooling mode: {pooling_mode[p]} | Learning Rate: {n} | Block: {n_blocks[a]}| Dropout:{dropout_prob_theta[l]}  \")\n",
    "  print(f\"RMSE: {RMSE} | QLIKE: {QLIKE} | MAPE: {MAE}\")"
   ]
  },
  {
   "cell_type": "code",
   "execution_count": 19,
   "id": "8d90c45e",
   "metadata": {},
   "outputs": [
    {
     "name": "stderr",
     "output_type": "stream",
     "text": [
      "Seed set to 84453367\n"
     ]
    },
    {
     "data": {
      "application/vnd.jupyter.widget-view+json": {
       "model_id": "",
       "version_major": 2,
       "version_minor": 0
      },
      "text/plain": [
       "Sanity Checking: |                                        | 0/? [00:00<?, ?it/s]"
      ]
     },
     "metadata": {},
     "output_type": "display_data"
    },
    {
     "data": {
      "application/vnd.jupyter.widget-view+json": {
       "model_id": "6086e9b17184433cb124f5642ca796e9",
       "version_major": 2,
       "version_minor": 0
      },
      "text/plain": [
       "Training: |                                               | 0/? [00:00<?, ?it/s]"
      ]
     },
     "metadata": {},
     "output_type": "display_data"
    },
    {
     "data": {
      "application/vnd.jupyter.widget-view+json": {
       "model_id": "",
       "version_major": 2,
       "version_minor": 0
      },
      "text/plain": [
       "Validation: |                                             | 0/? [00:00<?, ?it/s]"
      ]
     },
     "metadata": {},
     "output_type": "display_data"
    },
    {
     "data": {
      "application/vnd.jupyter.widget-view+json": {
       "model_id": "9a21d059967149d1be7b46411b871197",
       "version_major": 2,
       "version_minor": 0
      },
      "text/plain": [
       "Predicting: |                                             | 0/? [00:00<?, ?it/s]"
      ]
     },
     "metadata": {},
     "output_type": "display_data"
    },
    {
     "name": "stderr",
     "output_type": "stream",
     "text": [
      "Seed set to 67181195\n"
     ]
    },
    {
     "name": "stdout",
     "output_type": "stream",
     "text": [
      "Epoch: 100 | Inputs: 21 | MLP units: [[100, 100], [100, 100]] | Scaler Type: robust\n",
      "Pooling mode: MaxPool1d | Learning Rate: 1 | Block: [2, 2]| Dropout:0.3  \n",
      "RMSE: 0.009762149848061686 | QLIKE: 0.13493410377487272 | MAPE: 0.006081825323017451\n"
     ]
    },
    {
     "data": {
      "application/vnd.jupyter.widget-view+json": {
       "model_id": "",
       "version_major": 2,
       "version_minor": 0
      },
      "text/plain": [
       "Sanity Checking: |                                        | 0/? [00:00<?, ?it/s]"
      ]
     },
     "metadata": {},
     "output_type": "display_data"
    },
    {
     "data": {
      "application/vnd.jupyter.widget-view+json": {
       "model_id": "3401d8cb9e80437fb38dc4662462755c",
       "version_major": 2,
       "version_minor": 0
      },
      "text/plain": [
       "Training: |                                               | 0/? [00:00<?, ?it/s]"
      ]
     },
     "metadata": {},
     "output_type": "display_data"
    },
    {
     "data": {
      "application/vnd.jupyter.widget-view+json": {
       "model_id": "",
       "version_major": 2,
       "version_minor": 0
      },
      "text/plain": [
       "Validation: |                                             | 0/? [00:00<?, ?it/s]"
      ]
     },
     "metadata": {},
     "output_type": "display_data"
    },
    {
     "data": {
      "application/vnd.jupyter.widget-view+json": {
       "model_id": "bfa9799d02cb43fb8c1ac27e4d591a91",
       "version_major": 2,
       "version_minor": 0
      },
      "text/plain": [
       "Predicting: |                                             | 0/? [00:00<?, ?it/s]"
      ]
     },
     "metadata": {},
     "output_type": "display_data"
    },
    {
     "name": "stderr",
     "output_type": "stream",
     "text": [
      "Seed set to 61100451\n"
     ]
    },
    {
     "name": "stdout",
     "output_type": "stream",
     "text": [
      "Epoch: 100 | Inputs: 5 | MLP units: [[250, 250], [250, 250]] | Scaler Type: minmax\n",
      "Pooling mode: AvgPool1d | Learning Rate: 2 | Block: [2, 2]| Dropout:0.4  \n",
      "RMSE: 0.012459489904510354 | QLIKE: 0.1492796003153745 | MAPE: 0.007824975049895365\n"
     ]
    },
    {
     "data": {
      "application/vnd.jupyter.widget-view+json": {
       "model_id": "",
       "version_major": 2,
       "version_minor": 0
      },
      "text/plain": [
       "Sanity Checking: |                                        | 0/? [00:00<?, ?it/s]"
      ]
     },
     "metadata": {},
     "output_type": "display_data"
    },
    {
     "data": {
      "application/vnd.jupyter.widget-view+json": {
       "model_id": "d3a2b04cdc48468a848cf33f7d510f94",
       "version_major": 2,
       "version_minor": 0
      },
      "text/plain": [
       "Training: |                                               | 0/? [00:00<?, ?it/s]"
      ]
     },
     "metadata": {},
     "output_type": "display_data"
    },
    {
     "data": {
      "application/vnd.jupyter.widget-view+json": {
       "model_id": "",
       "version_major": 2,
       "version_minor": 0
      },
      "text/plain": [
       "Validation: |                                             | 0/? [00:00<?, ?it/s]"
      ]
     },
     "metadata": {},
     "output_type": "display_data"
    },
    {
     "data": {
      "application/vnd.jupyter.widget-view+json": {
       "model_id": "0c6c0f01cd0f45a2b6d301082b1759f0",
       "version_major": 2,
       "version_minor": 0
      },
      "text/plain": [
       "Predicting: |                                             | 0/? [00:00<?, ?it/s]"
      ]
     },
     "metadata": {},
     "output_type": "display_data"
    },
    {
     "name": "stderr",
     "output_type": "stream",
     "text": [
      "Seed set to 20887135\n"
     ]
    },
    {
     "name": "stdout",
     "output_type": "stream",
     "text": [
      "Epoch: 650 | Inputs: 84 | MLP units: [[100, 100], [100, 100]] | Scaler Type: standard\n",
      "Pooling mode: MaxPool1d | Learning Rate: 2 | Block: [1, 1]| Dropout:0.2  \n",
      "RMSE: 0.009547836415163 | QLIKE: 0.12322128857862866 | MAPE: 0.006236138841010296\n"
     ]
    },
    {
     "data": {
      "application/vnd.jupyter.widget-view+json": {
       "model_id": "",
       "version_major": 2,
       "version_minor": 0
      },
      "text/plain": [
       "Sanity Checking: |                                        | 0/? [00:00<?, ?it/s]"
      ]
     },
     "metadata": {},
     "output_type": "display_data"
    },
    {
     "data": {
      "application/vnd.jupyter.widget-view+json": {
       "model_id": "ad2a7323a60047219982f17869b53743",
       "version_major": 2,
       "version_minor": 0
      },
      "text/plain": [
       "Training: |                                               | 0/? [00:00<?, ?it/s]"
      ]
     },
     "metadata": {},
     "output_type": "display_data"
    },
    {
     "data": {
      "application/vnd.jupyter.widget-view+json": {
       "model_id": "",
       "version_major": 2,
       "version_minor": 0
      },
      "text/plain": [
       "Validation: |                                             | 0/? [00:00<?, ?it/s]"
      ]
     },
     "metadata": {},
     "output_type": "display_data"
    },
    {
     "data": {
      "application/vnd.jupyter.widget-view+json": {
       "model_id": "dfccf15b151342db97e524b0047a00ea",
       "version_major": 2,
       "version_minor": 0
      },
      "text/plain": [
       "Predicting: |                                             | 0/? [00:00<?, ?it/s]"
      ]
     },
     "metadata": {},
     "output_type": "display_data"
    },
    {
     "name": "stderr",
     "output_type": "stream",
     "text": [
      "Seed set to 25517486\n"
     ]
    },
    {
     "name": "stdout",
     "output_type": "stream",
     "text": [
      "Epoch: 750 | Inputs: 84 | MLP units: [[512, 512], [512, 512]] | Scaler Type: minmax\n",
      "Pooling mode: AvgPool1d | Learning Rate: 1 | Block: [1, 1]| Dropout:0.2  \n",
      "RMSE: 0.009159067349191533 | QLIKE: 0.08310542344293902 | MAPE: 0.006145677870221424\n"
     ]
    },
    {
     "data": {
      "application/vnd.jupyter.widget-view+json": {
       "model_id": "",
       "version_major": 2,
       "version_minor": 0
      },
      "text/plain": [
       "Sanity Checking: |                                        | 0/? [00:00<?, ?it/s]"
      ]
     },
     "metadata": {},
     "output_type": "display_data"
    },
    {
     "data": {
      "application/vnd.jupyter.widget-view+json": {
       "model_id": "b13f2710aae84329b72c648839a03127",
       "version_major": 2,
       "version_minor": 0
      },
      "text/plain": [
       "Training: |                                               | 0/? [00:00<?, ?it/s]"
      ]
     },
     "metadata": {},
     "output_type": "display_data"
    },
    {
     "data": {
      "application/vnd.jupyter.widget-view+json": {
       "model_id": "",
       "version_major": 2,
       "version_minor": 0
      },
      "text/plain": [
       "Validation: |                                             | 0/? [00:00<?, ?it/s]"
      ]
     },
     "metadata": {},
     "output_type": "display_data"
    },
    {
     "data": {
      "application/vnd.jupyter.widget-view+json": {
       "model_id": "0b5dd526ec8a468db8de7586cc0e7d03",
       "version_major": 2,
       "version_minor": 0
      },
      "text/plain": [
       "Predicting: |                                             | 0/? [00:00<?, ?it/s]"
      ]
     },
     "metadata": {},
     "output_type": "display_data"
    },
    {
     "name": "stdout",
     "output_type": "stream",
     "text": [
      "Epoch: 650 | Inputs: 84 | MLP units: [[250, 250], [250, 250]] | Scaler Type: robust\n",
      "Pooling mode: MaxPool1d | Learning Rate: 0 | Block: [5, 5]| Dropout:0  \n",
      "RMSE: 0.008011690748731459 | QLIKE: 0.169762378989087 | MAPE: 0.005561464579958127\n"
     ]
    }
   ],
   "source": [
    "#fourth\n",
    "for m in range (5):\n",
    "  i=random.randrange(7)\n",
    "  h=random.randrange(4)\n",
    "  a=random.randrange(4)\n",
    "  k=random.randrange(9)\n",
    "  l=random.randrange(4)\n",
    "  n=random.randrange(4)\n",
    "  o=random.randrange(3)\n",
    "  p=random.randrange(2)\n",
    "  model = NHITS(h=28, input_size=n_inputs[i],\n",
    "                loss=MSE(),\n",
    "                scaler_type=scaler_type[o],\n",
    "                learning_rate=learning_rate[n],\n",
    "                stack_types=['identity','identity'],\n",
    "                n_blocks=n_blocks[a],\n",
    "                mlp_units=mlp_units[h],\n",
    "                windows_batch_size=32,\n",
    "                num_lr_decays=num_lr_decays[n],\n",
    "                val_check_steps=500,\n",
    "                stat_exog_list=['BTC'],\n",
    "                dropout_prob_theta=dropout_prob_theta[l], n_pool_kernel_size=n_pool_kernel_size[o],\n",
    "                pooling_mode = pooling_mode[p],\n",
    "                interpolation_mode= interpolation_mode[p],\n",
    "                max_steps=epochs[k],\n",
    "                random_seed=random.randrange(129228148))\n",
    "  fcst = NeuralForecast(models=[model],freq='D')\n",
    "  forecasts = fcst.cross_validation(df=train,val_size=28,static_df=static_df,n_windows=None, test_size=validation_length-validation_length%28,step_size=1)\n",
    "  forecasts = forecasts[forecasts['unique_id']=='ETH'].dropna().drop_duplicates(subset='ds', keep='first')\n",
    "  if \"NHITS-median\" not in list(forecasts.columns.values):\n",
    "    Y_hat=forecasts[\"NHITS\"].values\n",
    "  else:\n",
    "    Y_hat=forecasts[\"NHTS-median\"].values\n",
    "  Y_true=forecasts[\"y\"].values\n",
    "  RMSE=np.sqrt(np.sum(((Y_true-Y_hat)**2))/len(Y_true))\n",
    "  QLIKE=(np.sum(Y_true/Y_hat-np.log(abs(Y_true)/abs(Y_hat))-1)/len(Y_true))\n",
    "  MAE=np.sum(abs(Y_true-Y_hat))/len(Y_true)\n",
    "  print(f\"Epoch: {epochs[k]} | Inputs: {n_inputs[i]} | MLP units: {mlp_units[h]} | Scaler Type: {scaler_type[o]}\")\n",
    "  print(f\"Pooling mode: {pooling_mode[p]} | Learning Rate: {n} | Block: {n_blocks[a]}| Dropout:{dropout_prob_theta[l]}  \")\n",
    "  print(f\"RMSE: {RMSE} | QLIKE: {QLIKE} | MAPE: {MAE}\")"
   ]
  },
  {
   "cell_type": "code",
   "execution_count": 20,
   "id": "1d3e92a6",
   "metadata": {},
   "outputs": [
    {
     "name": "stderr",
     "output_type": "stream",
     "text": [
      "Seed set to 49928015\n"
     ]
    },
    {
     "data": {
      "application/vnd.jupyter.widget-view+json": {
       "model_id": "",
       "version_major": 2,
       "version_minor": 0
      },
      "text/plain": [
       "Sanity Checking: |                                        | 0/? [00:00<?, ?it/s]"
      ]
     },
     "metadata": {},
     "output_type": "display_data"
    },
    {
     "data": {
      "application/vnd.jupyter.widget-view+json": {
       "model_id": "a45336ff02794b3387af643e25e4a7d5",
       "version_major": 2,
       "version_minor": 0
      },
      "text/plain": [
       "Training: |                                               | 0/? [00:00<?, ?it/s]"
      ]
     },
     "metadata": {},
     "output_type": "display_data"
    },
    {
     "data": {
      "application/vnd.jupyter.widget-view+json": {
       "model_id": "",
       "version_major": 2,
       "version_minor": 0
      },
      "text/plain": [
       "Validation: |                                             | 0/? [00:00<?, ?it/s]"
      ]
     },
     "metadata": {},
     "output_type": "display_data"
    },
    {
     "data": {
      "application/vnd.jupyter.widget-view+json": {
       "model_id": "ba5a7cfe960e4bf89d8d82f130988f05",
       "version_major": 2,
       "version_minor": 0
      },
      "text/plain": [
       "Predicting: |                                             | 0/? [00:00<?, ?it/s]"
      ]
     },
     "metadata": {},
     "output_type": "display_data"
    },
    {
     "name": "stderr",
     "output_type": "stream",
     "text": [
      "Seed set to 3211965\n"
     ]
    },
    {
     "name": "stdout",
     "output_type": "stream",
     "text": [
      "Epoch: 550 | Inputs: 15 | MLP units: [[100, 100], [100, 100]] | Scaler Type: minmax\n",
      "Pooling mode: AvgPool1d | Learning Rate: 1 | Block: [5, 5]| Dropout:0.4  \n",
      "RMSE: 0.009584988443074016 | QLIKE: 0.12561249498404758 | MAPE: 0.006402940625971582\n"
     ]
    },
    {
     "data": {
      "application/vnd.jupyter.widget-view+json": {
       "model_id": "",
       "version_major": 2,
       "version_minor": 0
      },
      "text/plain": [
       "Sanity Checking: |                                        | 0/? [00:00<?, ?it/s]"
      ]
     },
     "metadata": {},
     "output_type": "display_data"
    },
    {
     "data": {
      "application/vnd.jupyter.widget-view+json": {
       "model_id": "8227d78626284bf69f650cd86ee102ec",
       "version_major": 2,
       "version_minor": 0
      },
      "text/plain": [
       "Training: |                                               | 0/? [00:00<?, ?it/s]"
      ]
     },
     "metadata": {},
     "output_type": "display_data"
    },
    {
     "data": {
      "application/vnd.jupyter.widget-view+json": {
       "model_id": "",
       "version_major": 2,
       "version_minor": 0
      },
      "text/plain": [
       "Validation: |                                             | 0/? [00:00<?, ?it/s]"
      ]
     },
     "metadata": {},
     "output_type": "display_data"
    },
    {
     "data": {
      "application/vnd.jupyter.widget-view+json": {
       "model_id": "4a9c1e77336840ae882d258353bb673a",
       "version_major": 2,
       "version_minor": 0
      },
      "text/plain": [
       "Predicting: |                                             | 0/? [00:00<?, ?it/s]"
      ]
     },
     "metadata": {},
     "output_type": "display_data"
    },
    {
     "name": "stderr",
     "output_type": "stream",
     "text": [
      "Seed set to 66571515\n"
     ]
    },
    {
     "name": "stdout",
     "output_type": "stream",
     "text": [
      "Epoch: 450 | Inputs: 21 | MLP units: [[712, 712], [712, 712]] | Scaler Type: minmax\n",
      "Pooling mode: MaxPool1d | Learning Rate: 1 | Block: [5, 5]| Dropout:0.4  \n",
      "RMSE: 0.009390232335976955 | QLIKE: 0.12350921309408613 | MAPE: 0.00684906853621312\n"
     ]
    },
    {
     "data": {
      "application/vnd.jupyter.widget-view+json": {
       "model_id": "",
       "version_major": 2,
       "version_minor": 0
      },
      "text/plain": [
       "Sanity Checking: |                                        | 0/? [00:00<?, ?it/s]"
      ]
     },
     "metadata": {},
     "output_type": "display_data"
    },
    {
     "data": {
      "application/vnd.jupyter.widget-view+json": {
       "model_id": "75689942d29c45fd8701fb4a0944b073",
       "version_major": 2,
       "version_minor": 0
      },
      "text/plain": [
       "Training: |                                               | 0/? [00:00<?, ?it/s]"
      ]
     },
     "metadata": {},
     "output_type": "display_data"
    },
    {
     "data": {
      "application/vnd.jupyter.widget-view+json": {
       "model_id": "",
       "version_major": 2,
       "version_minor": 0
      },
      "text/plain": [
       "Validation: |                                             | 0/? [00:00<?, ?it/s]"
      ]
     },
     "metadata": {},
     "output_type": "display_data"
    },
    {
     "data": {
      "application/vnd.jupyter.widget-view+json": {
       "model_id": "2fcbdc611a154c4682e5c6fc0fb546ae",
       "version_major": 2,
       "version_minor": 0
      },
      "text/plain": [
       "Predicting: |                                             | 0/? [00:00<?, ?it/s]"
      ]
     },
     "metadata": {},
     "output_type": "display_data"
    },
    {
     "name": "stderr",
     "output_type": "stream",
     "text": [
      "Seed set to 79266025\n"
     ]
    },
    {
     "name": "stdout",
     "output_type": "stream",
     "text": [
      "Epoch: 50 | Inputs: 21 | MLP units: [[712, 712], [712, 712]] | Scaler Type: robust\n",
      "Pooling mode: MaxPool1d | Learning Rate: 0 | Block: [2, 2]| Dropout:0.4  \n",
      "RMSE: 0.009851813607812083 | QLIKE: 0.13998514171153556 | MAPE: 0.006725979849806857\n"
     ]
    },
    {
     "data": {
      "application/vnd.jupyter.widget-view+json": {
       "model_id": "",
       "version_major": 2,
       "version_minor": 0
      },
      "text/plain": [
       "Sanity Checking: |                                        | 0/? [00:00<?, ?it/s]"
      ]
     },
     "metadata": {},
     "output_type": "display_data"
    },
    {
     "data": {
      "application/vnd.jupyter.widget-view+json": {
       "model_id": "e554444a04274afd96daba1e9668a9d8",
       "version_major": 2,
       "version_minor": 0
      },
      "text/plain": [
       "Training: |                                               | 0/? [00:00<?, ?it/s]"
      ]
     },
     "metadata": {},
     "output_type": "display_data"
    },
    {
     "data": {
      "application/vnd.jupyter.widget-view+json": {
       "model_id": "",
       "version_major": 2,
       "version_minor": 0
      },
      "text/plain": [
       "Validation: |                                             | 0/? [00:00<?, ?it/s]"
      ]
     },
     "metadata": {},
     "output_type": "display_data"
    },
    {
     "data": {
      "application/vnd.jupyter.widget-view+json": {
       "model_id": "764eb682eff94c1581b824828cd0fcfc",
       "version_major": 2,
       "version_minor": 0
      },
      "text/plain": [
       "Predicting: |                                             | 0/? [00:00<?, ?it/s]"
      ]
     },
     "metadata": {},
     "output_type": "display_data"
    },
    {
     "name": "stderr",
     "output_type": "stream",
     "text": [
      "Seed set to 80464632\n"
     ]
    },
    {
     "name": "stdout",
     "output_type": "stream",
     "text": [
      "Epoch: 550 | Inputs: 10 | MLP units: [[512, 512], [512, 512]] | Scaler Type: robust\n",
      "Pooling mode: MaxPool1d | Learning Rate: 0 | Block: [2, 2]| Dropout:0.2  \n",
      "RMSE: 0.009458776229690442 | QLIKE: 0.1232284245362372 | MAPE: 0.006604002741801974\n"
     ]
    },
    {
     "data": {
      "application/vnd.jupyter.widget-view+json": {
       "model_id": "",
       "version_major": 2,
       "version_minor": 0
      },
      "text/plain": [
       "Sanity Checking: |                                        | 0/? [00:00<?, ?it/s]"
      ]
     },
     "metadata": {},
     "output_type": "display_data"
    },
    {
     "data": {
      "application/vnd.jupyter.widget-view+json": {
       "model_id": "21c4ff7029f24a618662d5290dc6b741",
       "version_major": 2,
       "version_minor": 0
      },
      "text/plain": [
       "Training: |                                               | 0/? [00:00<?, ?it/s]"
      ]
     },
     "metadata": {},
     "output_type": "display_data"
    },
    {
     "data": {
      "application/vnd.jupyter.widget-view+json": {
       "model_id": "",
       "version_major": 2,
       "version_minor": 0
      },
      "text/plain": [
       "Validation: |                                             | 0/? [00:00<?, ?it/s]"
      ]
     },
     "metadata": {},
     "output_type": "display_data"
    },
    {
     "data": {
      "application/vnd.jupyter.widget-view+json": {
       "model_id": "acc7b1746dc444d18997272a10d30e78",
       "version_major": 2,
       "version_minor": 0
      },
      "text/plain": [
       "Predicting: |                                             | 0/? [00:00<?, ?it/s]"
      ]
     },
     "metadata": {},
     "output_type": "display_data"
    },
    {
     "name": "stdout",
     "output_type": "stream",
     "text": [
      "Epoch: 450 | Inputs: 21 | MLP units: [[512, 512], [512, 512]] | Scaler Type: standard\n",
      "Pooling mode: MaxPool1d | Learning Rate: 2 | Block: [3, 3]| Dropout:0.2  \n",
      "RMSE: 0.008831174127707831 | QLIKE: 0.1174238895107549 | MAPE: 0.006072026715535876\n"
     ]
    }
   ],
   "source": [
    "#fifth\n",
    "for m in range (5):\n",
    "  i=random.randrange(7)\n",
    "  h=random.randrange(4)\n",
    "  a=random.randrange(4)\n",
    "  k=random.randrange(9)\n",
    "  l=random.randrange(4)\n",
    "  n=random.randrange(4)\n",
    "  o=random.randrange(3)\n",
    "  p=random.randrange(2)\n",
    "  model = NHITS(h=28, input_size=n_inputs[i],\n",
    "                loss=MSE(),\n",
    "                scaler_type=scaler_type[o],\n",
    "                learning_rate=learning_rate[n],\n",
    "                stack_types=['identity','identity'],\n",
    "                n_blocks=n_blocks[a],\n",
    "                mlp_units=mlp_units[h],\n",
    "                windows_batch_size=32,\n",
    "                num_lr_decays=num_lr_decays[n],\n",
    "                val_check_steps=500,\n",
    "                stat_exog_list=['BTC'],\n",
    "                dropout_prob_theta=dropout_prob_theta[l], n_pool_kernel_size=n_pool_kernel_size[o],\n",
    "                pooling_mode = pooling_mode[p],\n",
    "                interpolation_mode= interpolation_mode[p],\n",
    "                max_steps=epochs[k],\n",
    "                random_seed=random.randrange(129228148))\n",
    "  fcst = NeuralForecast(models=[model],freq='D')\n",
    "  forecasts = fcst.cross_validation(df=train,val_size=28,static_df=static_df,n_windows=None, test_size=validation_length-validation_length%28,step_size=1)\n",
    "  forecasts = forecasts[forecasts['unique_id']=='ETH'].dropna().drop_duplicates(subset='ds', keep='first')\n",
    "  if \"NHITS-median\" not in list(forecasts.columns.values):\n",
    "    Y_hat=forecasts[\"NHITS\"].values\n",
    "  else:\n",
    "    Y_hat=forecasts[\"NHTS-median\"].values\n",
    "  Y_true=forecasts[\"y\"].values\n",
    "  RMSE=np.sqrt(np.sum(((Y_true-Y_hat)**2))/len(Y_true))\n",
    "  QLIKE=(np.sum(Y_true/Y_hat-np.log(abs(Y_true)/abs(Y_hat))-1)/len(Y_true))\n",
    "  MAE=np.sum(abs(Y_true-Y_hat))/len(Y_true)\n",
    "  print(f\"Epoch: {epochs[k]} | Inputs: {n_inputs[i]} | MLP units: {mlp_units[h]} | Scaler Type: {scaler_type[o]}\")\n",
    "  print(f\"Pooling mode: {pooling_mode[p]} | Learning Rate: {n} | Block: {n_blocks[a]}| Dropout:{dropout_prob_theta[l]}  \")\n",
    "  print(f\"RMSE: {RMSE} | QLIKE: {QLIKE} | MAPE: {MAE}\")"
   ]
  },
  {
   "cell_type": "code",
   "execution_count": null,
   "id": "5f14d0c0",
   "metadata": {},
   "outputs": [],
   "source": [
    "#Hyperparameter search\n",
    "\n",
    "n_inputs =[3,5,10,15,21,42,84]\n",
    "mlp_units = [[[712, 712], [712, 712]],[[512, 512], [512, 512]],[[250, 250], [250, 250]],[[100, 100], [100, 100]]]\n",
    "epochs=[50,100,150,250,350,450,550,650,750]\n",
    "learning_rate=[0.0005,0.0001,0.00005,0.00001]\n",
    "num_lr_decays=[5,3,2,1]\n",
    "scaler_type=[\"robust\",\"standard\",'minmax']\n",
    "dropout_prob_theta=[0, 0.2, 0.3, 0.4]\n",
    "n_pool_kernel_size=[[2,2,1], [4,2,1], [4,4,2]]\n",
    "pooling_mode=['MaxPool1d', 'AvgPool1d']\n",
    "interpolation_mode=['linear', 'nearest']\n",
    "n_blocks=[[1, 1],[2, 2],[3, 3],[5, 5]]\n"
   ]
  },
  {
   "cell_type": "code",
   "execution_count": null,
   "id": "525f707f",
   "metadata": {},
   "outputs": [],
   "source": [
    "Seed set to 25517486\n",
    "Epoch: 650 | Inputs: 84 | MLP units: [[250, 250], [250, 250]] | Scaler Type: robust\n",
    "Pooling mode: MaxPool1d | Learning Rate: 0 | Block: [5, 5]| Dropout:0  \n",
    "RMSE: 0.008011690748731459 | QLIKE: 0.169762378989087 | MAPE: 0.005561464579958127"
   ]
  },
  {
   "cell_type": "code",
   "execution_count": 21,
   "id": "fadf3ead",
   "metadata": {},
   "outputs": [
    {
     "name": "stderr",
     "output_type": "stream",
     "text": [
      "Seed set to 19161429\n"
     ]
    },
    {
     "data": {
      "application/vnd.jupyter.widget-view+json": {
       "model_id": "",
       "version_major": 2,
       "version_minor": 0
      },
      "text/plain": [
       "Sanity Checking: |                                        | 0/? [00:00<?, ?it/s]"
      ]
     },
     "metadata": {},
     "output_type": "display_data"
    },
    {
     "data": {
      "application/vnd.jupyter.widget-view+json": {
       "model_id": "2652131183004d2dab2eeeedfcd4421c",
       "version_major": 2,
       "version_minor": 0
      },
      "text/plain": [
       "Training: |                                               | 0/? [00:00<?, ?it/s]"
      ]
     },
     "metadata": {},
     "output_type": "display_data"
    },
    {
     "data": {
      "application/vnd.jupyter.widget-view+json": {
       "model_id": "",
       "version_major": 2,
       "version_minor": 0
      },
      "text/plain": [
       "Validation: |                                             | 0/? [00:00<?, ?it/s]"
      ]
     },
     "metadata": {},
     "output_type": "display_data"
    },
    {
     "data": {
      "application/vnd.jupyter.widget-view+json": {
       "model_id": "102d49710a98496cb8658c6ee9013b48",
       "version_major": 2,
       "version_minor": 0
      },
      "text/plain": [
       "Predicting: |                                             | 0/? [00:00<?, ?it/s]"
      ]
     },
     "metadata": {},
     "output_type": "display_data"
    },
    {
     "name": "stderr",
     "output_type": "stream",
     "text": [
      "Seed set to 9902359\n"
     ]
    },
    {
     "name": "stdout",
     "output_type": "stream",
     "text": [
      "Random Seed: 19161429\n",
      "RMSE: 0.00816589636719511 | QLIKE: 0.20128180844851082 | MAPE: 0.005550938624258542\n"
     ]
    },
    {
     "data": {
      "application/vnd.jupyter.widget-view+json": {
       "model_id": "",
       "version_major": 2,
       "version_minor": 0
      },
      "text/plain": [
       "Sanity Checking: |                                        | 0/? [00:00<?, ?it/s]"
      ]
     },
     "metadata": {},
     "output_type": "display_data"
    },
    {
     "data": {
      "application/vnd.jupyter.widget-view+json": {
       "model_id": "eed99dd447194bf4a4fb1f4d24840f36",
       "version_major": 2,
       "version_minor": 0
      },
      "text/plain": [
       "Training: |                                               | 0/? [00:00<?, ?it/s]"
      ]
     },
     "metadata": {},
     "output_type": "display_data"
    },
    {
     "data": {
      "application/vnd.jupyter.widget-view+json": {
       "model_id": "",
       "version_major": 2,
       "version_minor": 0
      },
      "text/plain": [
       "Validation: |                                             | 0/? [00:00<?, ?it/s]"
      ]
     },
     "metadata": {},
     "output_type": "display_data"
    },
    {
     "data": {
      "application/vnd.jupyter.widget-view+json": {
       "model_id": "c1d5b67d22c84babb7324d6450a734e8",
       "version_major": 2,
       "version_minor": 0
      },
      "text/plain": [
       "Predicting: |                                             | 0/? [00:00<?, ?it/s]"
      ]
     },
     "metadata": {},
     "output_type": "display_data"
    },
    {
     "name": "stderr",
     "output_type": "stream",
     "text": [
      "Seed set to 23813884\n"
     ]
    },
    {
     "name": "stdout",
     "output_type": "stream",
     "text": [
      "Random Seed: 9902359\n",
      "RMSE: 0.008094562940787366 | QLIKE: 0.20288939977739281 | MAPE: 0.005533450313853288\n"
     ]
    },
    {
     "data": {
      "application/vnd.jupyter.widget-view+json": {
       "model_id": "",
       "version_major": 2,
       "version_minor": 0
      },
      "text/plain": [
       "Sanity Checking: |                                        | 0/? [00:00<?, ?it/s]"
      ]
     },
     "metadata": {},
     "output_type": "display_data"
    },
    {
     "data": {
      "application/vnd.jupyter.widget-view+json": {
       "model_id": "b59b94733545467db6dd14b5f7aa8a09",
       "version_major": 2,
       "version_minor": 0
      },
      "text/plain": [
       "Training: |                                               | 0/? [00:00<?, ?it/s]"
      ]
     },
     "metadata": {},
     "output_type": "display_data"
    },
    {
     "data": {
      "application/vnd.jupyter.widget-view+json": {
       "model_id": "",
       "version_major": 2,
       "version_minor": 0
      },
      "text/plain": [
       "Validation: |                                             | 0/? [00:00<?, ?it/s]"
      ]
     },
     "metadata": {},
     "output_type": "display_data"
    },
    {
     "data": {
      "application/vnd.jupyter.widget-view+json": {
       "model_id": "51aefe64b8a84bc285e66c93422eb403",
       "version_major": 2,
       "version_minor": 0
      },
      "text/plain": [
       "Predicting: |                                             | 0/? [00:00<?, ?it/s]"
      ]
     },
     "metadata": {},
     "output_type": "display_data"
    },
    {
     "name": "stderr",
     "output_type": "stream",
     "text": [
      "Seed set to 23873968\n"
     ]
    },
    {
     "name": "stdout",
     "output_type": "stream",
     "text": [
      "Random Seed: 23813884\n",
      "RMSE: 0.00817543345156168 | QLIKE: 0.22316168806416023 | MAPE: 0.005638267980887348\n"
     ]
    },
    {
     "data": {
      "application/vnd.jupyter.widget-view+json": {
       "model_id": "",
       "version_major": 2,
       "version_minor": 0
      },
      "text/plain": [
       "Sanity Checking: |                                        | 0/? [00:00<?, ?it/s]"
      ]
     },
     "metadata": {},
     "output_type": "display_data"
    },
    {
     "data": {
      "application/vnd.jupyter.widget-view+json": {
       "model_id": "bf062c1a532d409880e8f8c81f1e5477",
       "version_major": 2,
       "version_minor": 0
      },
      "text/plain": [
       "Training: |                                               | 0/? [00:00<?, ?it/s]"
      ]
     },
     "metadata": {},
     "output_type": "display_data"
    },
    {
     "data": {
      "application/vnd.jupyter.widget-view+json": {
       "model_id": "",
       "version_major": 2,
       "version_minor": 0
      },
      "text/plain": [
       "Validation: |                                             | 0/? [00:00<?, ?it/s]"
      ]
     },
     "metadata": {},
     "output_type": "display_data"
    },
    {
     "data": {
      "application/vnd.jupyter.widget-view+json": {
       "model_id": "1b1537fab6714563839b3cc0d55b7e9b",
       "version_major": 2,
       "version_minor": 0
      },
      "text/plain": [
       "Predicting: |                                             | 0/? [00:00<?, ?it/s]"
      ]
     },
     "metadata": {},
     "output_type": "display_data"
    },
    {
     "name": "stderr",
     "output_type": "stream",
     "text": [
      "Seed set to 16606075\n"
     ]
    },
    {
     "name": "stdout",
     "output_type": "stream",
     "text": [
      "Random Seed: 23873968\n",
      "RMSE: 0.008106249104251137 | QLIKE: 0.21638219289251484 | MAPE: 0.0054846996523416425\n"
     ]
    },
    {
     "data": {
      "application/vnd.jupyter.widget-view+json": {
       "model_id": "",
       "version_major": 2,
       "version_minor": 0
      },
      "text/plain": [
       "Sanity Checking: |                                        | 0/? [00:00<?, ?it/s]"
      ]
     },
     "metadata": {},
     "output_type": "display_data"
    },
    {
     "data": {
      "application/vnd.jupyter.widget-view+json": {
       "model_id": "b6e62cc57cda445b9c2e2f22dae72345",
       "version_major": 2,
       "version_minor": 0
      },
      "text/plain": [
       "Training: |                                               | 0/? [00:00<?, ?it/s]"
      ]
     },
     "metadata": {},
     "output_type": "display_data"
    },
    {
     "data": {
      "application/vnd.jupyter.widget-view+json": {
       "model_id": "",
       "version_major": 2,
       "version_minor": 0
      },
      "text/plain": [
       "Validation: |                                             | 0/? [00:00<?, ?it/s]"
      ]
     },
     "metadata": {},
     "output_type": "display_data"
    },
    {
     "data": {
      "application/vnd.jupyter.widget-view+json": {
       "model_id": "9ba7548e96ee47c9839bcab408658c4d",
       "version_major": 2,
       "version_minor": 0
      },
      "text/plain": [
       "Predicting: |                                             | 0/? [00:00<?, ?it/s]"
      ]
     },
     "metadata": {},
     "output_type": "display_data"
    },
    {
     "name": "stdout",
     "output_type": "stream",
     "text": [
      "Random Seed: 16606075\n",
      "RMSE: 0.007881513071007006 | QLIKE: 0.1604941963136862 | MAPE: 0.005393948455261742\n"
     ]
    }
   ],
   "source": [
    "#random seed tuning\n",
    "for m in range (5):\n",
    "  randomseed=random.randrange(25517486)\n",
    "  model = NHITS(h=28, input_size=84,\n",
    "                loss=MSE(),\n",
    "                scaler_type='robust',\n",
    "                learning_rate=learning_rate[0],\n",
    "                stack_types=['identity','identity'],\n",
    "                n_blocks=[5,5],\n",
    "                mlp_units=[[250, 250], [250, 250]],\n",
    "                windows_batch_size=32,\n",
    "                num_lr_decays=num_lr_decays[0],\n",
    "                val_check_steps=500,\n",
    "                stat_exog_list=['BTC'],\n",
    "                dropout_prob_theta=0, n_pool_kernel_size=[2,2,1],\n",
    "                pooling_mode = 'MaxPool1d',\n",
    "                interpolation_mode= 'linear',\n",
    "                max_steps=650,\n",
    "                random_seed=randomseed)\n",
    "  fcst = NeuralForecast(models=[model],freq='D')\n",
    "  forecasts = fcst.cross_validation(df=train,val_size=28,static_df=static_df,n_windows=None, test_size=validation_length-validation_length%28,step_size=1)\n",
    "  forecasts = forecasts[forecasts['unique_id']=='ETH'].dropna().drop_duplicates(subset='ds', keep='first')\n",
    "  if \"NHITS-median\" not in list(forecasts.columns.values):\n",
    "    Y_hat=forecasts[\"NHITS\"].values\n",
    "  else:\n",
    "    Y_hat=forecasts[\"NHTS-median\"].values\n",
    "  Y_true=forecasts[\"y\"].values\n",
    "  RMSE=np.sqrt(np.sum(((Y_true-Y_hat)**2))/len(Y_true))\n",
    "  QLIKE=(np.sum(Y_true/Y_hat-np.log(abs(Y_true)/abs(Y_hat))-1)/len(Y_true))\n",
    "  MAE=np.sum(abs(Y_true-Y_hat))/len(Y_true)\n",
    "  print(f\"Random Seed: {randomseed}\")\n",
    "  print(f\"RMSE: {RMSE} | QLIKE: {QLIKE} | MAPE: {MAE}\")"
   ]
  },
  {
   "cell_type": "code",
   "execution_count": 22,
   "id": "a6a75f0d",
   "metadata": {},
   "outputs": [
    {
     "name": "stderr",
     "output_type": "stream",
     "text": [
      "Seed set to 16288969\n"
     ]
    },
    {
     "data": {
      "application/vnd.jupyter.widget-view+json": {
       "model_id": "",
       "version_major": 2,
       "version_minor": 0
      },
      "text/plain": [
       "Sanity Checking: |                                        | 0/? [00:00<?, ?it/s]"
      ]
     },
     "metadata": {},
     "output_type": "display_data"
    },
    {
     "data": {
      "application/vnd.jupyter.widget-view+json": {
       "model_id": "f35ebac35b5e4700b147817219dac18e",
       "version_major": 2,
       "version_minor": 0
      },
      "text/plain": [
       "Training: |                                               | 0/? [00:00<?, ?it/s]"
      ]
     },
     "metadata": {},
     "output_type": "display_data"
    },
    {
     "data": {
      "application/vnd.jupyter.widget-view+json": {
       "model_id": "",
       "version_major": 2,
       "version_minor": 0
      },
      "text/plain": [
       "Validation: |                                             | 0/? [00:00<?, ?it/s]"
      ]
     },
     "metadata": {},
     "output_type": "display_data"
    },
    {
     "data": {
      "application/vnd.jupyter.widget-view+json": {
       "model_id": "658f4bb5b1154243b24e0f796d438952",
       "version_major": 2,
       "version_minor": 0
      },
      "text/plain": [
       "Predicting: |                                             | 0/? [00:00<?, ?it/s]"
      ]
     },
     "metadata": {},
     "output_type": "display_data"
    },
    {
     "name": "stderr",
     "output_type": "stream",
     "text": [
      "Seed set to 12560572\n"
     ]
    },
    {
     "name": "stdout",
     "output_type": "stream",
     "text": [
      "Random Seed: 16288969\n",
      "RMSE: 0.008383482501493122 | QLIKE: 0.23363173044817684 | MAPE: 0.005800912967116099\n"
     ]
    },
    {
     "data": {
      "application/vnd.jupyter.widget-view+json": {
       "model_id": "",
       "version_major": 2,
       "version_minor": 0
      },
      "text/plain": [
       "Sanity Checking: |                                        | 0/? [00:00<?, ?it/s]"
      ]
     },
     "metadata": {},
     "output_type": "display_data"
    },
    {
     "data": {
      "application/vnd.jupyter.widget-view+json": {
       "model_id": "52d07c82873d4efab69bdae1d92eb97b",
       "version_major": 2,
       "version_minor": 0
      },
      "text/plain": [
       "Training: |                                               | 0/? [00:00<?, ?it/s]"
      ]
     },
     "metadata": {},
     "output_type": "display_data"
    },
    {
     "data": {
      "application/vnd.jupyter.widget-view+json": {
       "model_id": "",
       "version_major": 2,
       "version_minor": 0
      },
      "text/plain": [
       "Validation: |                                             | 0/? [00:00<?, ?it/s]"
      ]
     },
     "metadata": {},
     "output_type": "display_data"
    },
    {
     "data": {
      "application/vnd.jupyter.widget-view+json": {
       "model_id": "6d51c5b6590d48bfae7f64cc4a204e5b",
       "version_major": 2,
       "version_minor": 0
      },
      "text/plain": [
       "Predicting: |                                             | 0/? [00:00<?, ?it/s]"
      ]
     },
     "metadata": {},
     "output_type": "display_data"
    },
    {
     "name": "stderr",
     "output_type": "stream",
     "text": [
      "Seed set to 8793535\n"
     ]
    },
    {
     "name": "stdout",
     "output_type": "stream",
     "text": [
      "Random Seed: 12560572\n",
      "RMSE: 0.008129407999864082 | QLIKE: 0.17217032587487008 | MAPE: 0.005558904997359149\n"
     ]
    },
    {
     "data": {
      "application/vnd.jupyter.widget-view+json": {
       "model_id": "",
       "version_major": 2,
       "version_minor": 0
      },
      "text/plain": [
       "Sanity Checking: |                                        | 0/? [00:00<?, ?it/s]"
      ]
     },
     "metadata": {},
     "output_type": "display_data"
    },
    {
     "data": {
      "application/vnd.jupyter.widget-view+json": {
       "model_id": "621a13e5727e445984f5f753e5d1b477",
       "version_major": 2,
       "version_minor": 0
      },
      "text/plain": [
       "Training: |                                               | 0/? [00:00<?, ?it/s]"
      ]
     },
     "metadata": {},
     "output_type": "display_data"
    },
    {
     "data": {
      "application/vnd.jupyter.widget-view+json": {
       "model_id": "",
       "version_major": 2,
       "version_minor": 0
      },
      "text/plain": [
       "Validation: |                                             | 0/? [00:00<?, ?it/s]"
      ]
     },
     "metadata": {},
     "output_type": "display_data"
    },
    {
     "data": {
      "application/vnd.jupyter.widget-view+json": {
       "model_id": "27c2852cd4a54c45a9781352aa87bf55",
       "version_major": 2,
       "version_minor": 0
      },
      "text/plain": [
       "Predicting: |                                             | 0/? [00:00<?, ?it/s]"
      ]
     },
     "metadata": {},
     "output_type": "display_data"
    },
    {
     "name": "stderr",
     "output_type": "stream",
     "text": [
      "Seed set to 22423955\n"
     ]
    },
    {
     "name": "stdout",
     "output_type": "stream",
     "text": [
      "Random Seed: 8793535\n",
      "RMSE: 0.008099523471479011 | QLIKE: 0.15911315297600503 | MAPE: 0.005567065891954951\n"
     ]
    },
    {
     "data": {
      "application/vnd.jupyter.widget-view+json": {
       "model_id": "",
       "version_major": 2,
       "version_minor": 0
      },
      "text/plain": [
       "Sanity Checking: |                                        | 0/? [00:00<?, ?it/s]"
      ]
     },
     "metadata": {},
     "output_type": "display_data"
    },
    {
     "data": {
      "application/vnd.jupyter.widget-view+json": {
       "model_id": "d221030339894656ba982d2546049206",
       "version_major": 2,
       "version_minor": 0
      },
      "text/plain": [
       "Training: |                                               | 0/? [00:00<?, ?it/s]"
      ]
     },
     "metadata": {},
     "output_type": "display_data"
    },
    {
     "data": {
      "application/vnd.jupyter.widget-view+json": {
       "model_id": "",
       "version_major": 2,
       "version_minor": 0
      },
      "text/plain": [
       "Validation: |                                             | 0/? [00:00<?, ?it/s]"
      ]
     },
     "metadata": {},
     "output_type": "display_data"
    },
    {
     "data": {
      "application/vnd.jupyter.widget-view+json": {
       "model_id": "db7a51c6fa2e4b478ed5b1f951a24aa2",
       "version_major": 2,
       "version_minor": 0
      },
      "text/plain": [
       "Predicting: |                                             | 0/? [00:00<?, ?it/s]"
      ]
     },
     "metadata": {},
     "output_type": "display_data"
    },
    {
     "name": "stderr",
     "output_type": "stream",
     "text": [
      "Seed set to 4498536\n"
     ]
    },
    {
     "name": "stdout",
     "output_type": "stream",
     "text": [
      "Random Seed: 22423955\n",
      "RMSE: 0.008163123467997423 | QLIKE: 0.1553042989260149 | MAPE: 0.005566198573866922\n"
     ]
    },
    {
     "data": {
      "application/vnd.jupyter.widget-view+json": {
       "model_id": "",
       "version_major": 2,
       "version_minor": 0
      },
      "text/plain": [
       "Sanity Checking: |                                        | 0/? [00:00<?, ?it/s]"
      ]
     },
     "metadata": {},
     "output_type": "display_data"
    },
    {
     "data": {
      "application/vnd.jupyter.widget-view+json": {
       "model_id": "f260812f667a4b319bf674a413280cef",
       "version_major": 2,
       "version_minor": 0
      },
      "text/plain": [
       "Training: |                                               | 0/? [00:00<?, ?it/s]"
      ]
     },
     "metadata": {},
     "output_type": "display_data"
    },
    {
     "data": {
      "application/vnd.jupyter.widget-view+json": {
       "model_id": "",
       "version_major": 2,
       "version_minor": 0
      },
      "text/plain": [
       "Validation: |                                             | 0/? [00:00<?, ?it/s]"
      ]
     },
     "metadata": {},
     "output_type": "display_data"
    },
    {
     "data": {
      "application/vnd.jupyter.widget-view+json": {
       "model_id": "3f52e16bbce442b883c7a0fb828e295a",
       "version_major": 2,
       "version_minor": 0
      },
      "text/plain": [
       "Predicting: |                                             | 0/? [00:00<?, ?it/s]"
      ]
     },
     "metadata": {},
     "output_type": "display_data"
    },
    {
     "name": "stdout",
     "output_type": "stream",
     "text": [
      "Random Seed: 4498536\n",
      "RMSE: 0.007990816741122076 | QLIKE: 0.18984878332575228 | MAPE: 0.0053182064251797575\n"
     ]
    }
   ],
   "source": [
    "#second\n",
    "for m in range (5):\n",
    "  randomseed=random.randrange(25517486)\n",
    "  model = NHITS(h=28, input_size=84,\n",
    "                loss=MSE(),\n",
    "                scaler_type='robust',\n",
    "                learning_rate=learning_rate[0],\n",
    "                stack_types=['identity','identity'],\n",
    "                n_blocks=[5,5],\n",
    "                mlp_units=[[250, 250], [250, 250]],\n",
    "                windows_batch_size=32,\n",
    "                num_lr_decays=num_lr_decays[0],\n",
    "                val_check_steps=500,\n",
    "                stat_exog_list=['BTC'],\n",
    "                dropout_prob_theta=0, n_pool_kernel_size=[2,2,1],\n",
    "                pooling_mode = 'MaxPool1d',\n",
    "                interpolation_mode= 'linear',\n",
    "                max_steps=650,\n",
    "                random_seed=randomseed)\n",
    "  fcst = NeuralForecast(models=[model],freq='D')\n",
    "  forecasts = fcst.cross_validation(df=train,val_size=28,static_df=static_df,n_windows=None, test_size=validation_length-validation_length%28,step_size=1)\n",
    "  forecasts = forecasts[forecasts['unique_id']=='ETH'].dropna().drop_duplicates(subset='ds', keep='first')\n",
    "  if \"NHITS-median\" not in list(forecasts.columns.values):\n",
    "    Y_hat=forecasts[\"NHITS\"].values\n",
    "  else:\n",
    "    Y_hat=forecasts[\"NHTS-median\"].values\n",
    "  Y_true=forecasts[\"y\"].values\n",
    "  RMSE=np.sqrt(np.sum(((Y_true-Y_hat)**2))/len(Y_true))\n",
    "  QLIKE=(np.sum(Y_true/Y_hat-np.log(abs(Y_true)/abs(Y_hat))-1)/len(Y_true))\n",
    "  MAE=np.sum(abs(Y_true-Y_hat))/len(Y_true)\n",
    "  print(f\"Random Seed: {randomseed}\")\n",
    "  print(f\"RMSE: {RMSE} | QLIKE: {QLIKE} | MAPE: {MAE}\")"
   ]
  },
  {
   "cell_type": "code",
   "execution_count": 23,
   "id": "7c544e1a",
   "metadata": {},
   "outputs": [
    {
     "name": "stderr",
     "output_type": "stream",
     "text": [
      "Seed set to 14550156\n"
     ]
    },
    {
     "data": {
      "application/vnd.jupyter.widget-view+json": {
       "model_id": "",
       "version_major": 2,
       "version_minor": 0
      },
      "text/plain": [
       "Sanity Checking: |                                        | 0/? [00:00<?, ?it/s]"
      ]
     },
     "metadata": {},
     "output_type": "display_data"
    },
    {
     "data": {
      "application/vnd.jupyter.widget-view+json": {
       "model_id": "f2d861c87d714da28127cc0c5fcbbc70",
       "version_major": 2,
       "version_minor": 0
      },
      "text/plain": [
       "Training: |                                               | 0/? [00:00<?, ?it/s]"
      ]
     },
     "metadata": {},
     "output_type": "display_data"
    },
    {
     "data": {
      "application/vnd.jupyter.widget-view+json": {
       "model_id": "",
       "version_major": 2,
       "version_minor": 0
      },
      "text/plain": [
       "Validation: |                                             | 0/? [00:00<?, ?it/s]"
      ]
     },
     "metadata": {},
     "output_type": "display_data"
    },
    {
     "data": {
      "application/vnd.jupyter.widget-view+json": {
       "model_id": "0f99a68f0fe943a3bcd2d8899792ffce",
       "version_major": 2,
       "version_minor": 0
      },
      "text/plain": [
       "Predicting: |                                             | 0/? [00:00<?, ?it/s]"
      ]
     },
     "metadata": {},
     "output_type": "display_data"
    },
    {
     "name": "stderr",
     "output_type": "stream",
     "text": [
      "Seed set to 17634832\n"
     ]
    },
    {
     "name": "stdout",
     "output_type": "stream",
     "text": [
      "Random Seed: 14550156\n",
      "RMSE: 0.007891083057236022 | QLIKE: 0.7866643037066445 | MAPE: 0.005202925879880543\n"
     ]
    },
    {
     "data": {
      "application/vnd.jupyter.widget-view+json": {
       "model_id": "",
       "version_major": 2,
       "version_minor": 0
      },
      "text/plain": [
       "Sanity Checking: |                                        | 0/? [00:00<?, ?it/s]"
      ]
     },
     "metadata": {},
     "output_type": "display_data"
    },
    {
     "data": {
      "application/vnd.jupyter.widget-view+json": {
       "model_id": "1c521a28f231434abd7637ffa42be3f1",
       "version_major": 2,
       "version_minor": 0
      },
      "text/plain": [
       "Training: |                                               | 0/? [00:00<?, ?it/s]"
      ]
     },
     "metadata": {},
     "output_type": "display_data"
    },
    {
     "data": {
      "application/vnd.jupyter.widget-view+json": {
       "model_id": "",
       "version_major": 2,
       "version_minor": 0
      },
      "text/plain": [
       "Validation: |                                             | 0/? [00:00<?, ?it/s]"
      ]
     },
     "metadata": {},
     "output_type": "display_data"
    },
    {
     "data": {
      "application/vnd.jupyter.widget-view+json": {
       "model_id": "b02afb47456c4f74bccb706e74b089dd",
       "version_major": 2,
       "version_minor": 0
      },
      "text/plain": [
       "Predicting: |                                             | 0/? [00:00<?, ?it/s]"
      ]
     },
     "metadata": {},
     "output_type": "display_data"
    },
    {
     "name": "stderr",
     "output_type": "stream",
     "text": [
      "Seed set to 18254201\n"
     ]
    },
    {
     "name": "stdout",
     "output_type": "stream",
     "text": [
      "Random Seed: 17634832\n",
      "RMSE: 0.008407851018127457 | QLIKE: 0.2048666468456759 | MAPE: 0.00576360244099292\n"
     ]
    },
    {
     "data": {
      "application/vnd.jupyter.widget-view+json": {
       "model_id": "",
       "version_major": 2,
       "version_minor": 0
      },
      "text/plain": [
       "Sanity Checking: |                                        | 0/? [00:00<?, ?it/s]"
      ]
     },
     "metadata": {},
     "output_type": "display_data"
    },
    {
     "data": {
      "application/vnd.jupyter.widget-view+json": {
       "model_id": "04c78108b02a4859a37f3646fe98b743",
       "version_major": 2,
       "version_minor": 0
      },
      "text/plain": [
       "Training: |                                               | 0/? [00:00<?, ?it/s]"
      ]
     },
     "metadata": {},
     "output_type": "display_data"
    },
    {
     "data": {
      "application/vnd.jupyter.widget-view+json": {
       "model_id": "",
       "version_major": 2,
       "version_minor": 0
      },
      "text/plain": [
       "Validation: |                                             | 0/? [00:00<?, ?it/s]"
      ]
     },
     "metadata": {},
     "output_type": "display_data"
    },
    {
     "data": {
      "application/vnd.jupyter.widget-view+json": {
       "model_id": "bc2d6f402c954d46b0e712a3ecc14233",
       "version_major": 2,
       "version_minor": 0
      },
      "text/plain": [
       "Predicting: |                                             | 0/? [00:00<?, ?it/s]"
      ]
     },
     "metadata": {},
     "output_type": "display_data"
    },
    {
     "name": "stderr",
     "output_type": "stream",
     "text": [
      "Seed set to 17028284\n"
     ]
    },
    {
     "name": "stdout",
     "output_type": "stream",
     "text": [
      "Random Seed: 18254201\n",
      "RMSE: 0.00840405714562707 | QLIKE: 0.28161382507139593 | MAPE: 0.005676069095562802\n"
     ]
    },
    {
     "data": {
      "application/vnd.jupyter.widget-view+json": {
       "model_id": "",
       "version_major": 2,
       "version_minor": 0
      },
      "text/plain": [
       "Sanity Checking: |                                        | 0/? [00:00<?, ?it/s]"
      ]
     },
     "metadata": {},
     "output_type": "display_data"
    },
    {
     "data": {
      "application/vnd.jupyter.widget-view+json": {
       "model_id": "a4fabcc2b76c48199d3a30bb8f56c9c3",
       "version_major": 2,
       "version_minor": 0
      },
      "text/plain": [
       "Training: |                                               | 0/? [00:00<?, ?it/s]"
      ]
     },
     "metadata": {},
     "output_type": "display_data"
    },
    {
     "data": {
      "application/vnd.jupyter.widget-view+json": {
       "model_id": "",
       "version_major": 2,
       "version_minor": 0
      },
      "text/plain": [
       "Validation: |                                             | 0/? [00:00<?, ?it/s]"
      ]
     },
     "metadata": {},
     "output_type": "display_data"
    },
    {
     "data": {
      "application/vnd.jupyter.widget-view+json": {
       "model_id": "63877d08f7da4919a237cfda168f57ac",
       "version_major": 2,
       "version_minor": 0
      },
      "text/plain": [
       "Predicting: |                                             | 0/? [00:00<?, ?it/s]"
      ]
     },
     "metadata": {},
     "output_type": "display_data"
    },
    {
     "name": "stderr",
     "output_type": "stream",
     "text": [
      "Seed set to 20710803\n"
     ]
    },
    {
     "name": "stdout",
     "output_type": "stream",
     "text": [
      "Random Seed: 17028284\n",
      "RMSE: 0.008206842227711396 | QLIKE: 0.18331144719195253 | MAPE: 0.005634959915173862\n"
     ]
    },
    {
     "data": {
      "application/vnd.jupyter.widget-view+json": {
       "model_id": "",
       "version_major": 2,
       "version_minor": 0
      },
      "text/plain": [
       "Sanity Checking: |                                        | 0/? [00:00<?, ?it/s]"
      ]
     },
     "metadata": {},
     "output_type": "display_data"
    },
    {
     "data": {
      "application/vnd.jupyter.widget-view+json": {
       "model_id": "69e207bb7b7d411c92fbb44334c2c14c",
       "version_major": 2,
       "version_minor": 0
      },
      "text/plain": [
       "Training: |                                               | 0/? [00:00<?, ?it/s]"
      ]
     },
     "metadata": {},
     "output_type": "display_data"
    },
    {
     "data": {
      "application/vnd.jupyter.widget-view+json": {
       "model_id": "",
       "version_major": 2,
       "version_minor": 0
      },
      "text/plain": [
       "Validation: |                                             | 0/? [00:00<?, ?it/s]"
      ]
     },
     "metadata": {},
     "output_type": "display_data"
    },
    {
     "data": {
      "application/vnd.jupyter.widget-view+json": {
       "model_id": "ddc43fcba2d14158bff8d1c51603836d",
       "version_major": 2,
       "version_minor": 0
      },
      "text/plain": [
       "Predicting: |                                             | 0/? [00:00<?, ?it/s]"
      ]
     },
     "metadata": {},
     "output_type": "display_data"
    },
    {
     "name": "stdout",
     "output_type": "stream",
     "text": [
      "Random Seed: 20710803\n",
      "RMSE: 0.008250472480717535 | QLIKE: 0.22233881179500856 | MAPE: 0.005776082558702273\n"
     ]
    }
   ],
   "source": [
    "#third\n",
    "for m in range (5):\n",
    "  randomseed=random.randrange(25517486)\n",
    "  model = NHITS(h=28, input_size=84,\n",
    "                loss=MSE(),\n",
    "                scaler_type='robust',\n",
    "                learning_rate=learning_rate[0],\n",
    "                stack_types=['identity','identity'],\n",
    "                n_blocks=[5,5],\n",
    "                mlp_units=[[250, 250], [250, 250]],\n",
    "                windows_batch_size=32,\n",
    "                num_lr_decays=num_lr_decays[0],\n",
    "                val_check_steps=500,\n",
    "                stat_exog_list=['BTC'],\n",
    "                dropout_prob_theta=0, n_pool_kernel_size=[2,2,1],\n",
    "                pooling_mode = 'MaxPool1d',\n",
    "                interpolation_mode= 'linear',\n",
    "                max_steps=650,\n",
    "                random_seed=randomseed)\n",
    "  fcst = NeuralForecast(models=[model],freq='D')\n",
    "  forecasts = fcst.cross_validation(df=train,val_size=28,static_df=static_df,n_windows=None, test_size=validation_length-validation_length%28,step_size=1)\n",
    "  forecasts = forecasts[forecasts['unique_id']=='ETH'].dropna().drop_duplicates(subset='ds', keep='first')\n",
    "  if \"NHITS-median\" not in list(forecasts.columns.values):\n",
    "    Y_hat=forecasts[\"NHITS\"].values\n",
    "  else:\n",
    "    Y_hat=forecasts[\"NHTS-median\"].values\n",
    "  Y_true=forecasts[\"y\"].values\n",
    "  RMSE=np.sqrt(np.sum(((Y_true-Y_hat)**2))/len(Y_true))\n",
    "  QLIKE=(np.sum(Y_true/Y_hat-np.log(abs(Y_true)/abs(Y_hat))-1)/len(Y_true))\n",
    "  MAE=np.sum(abs(Y_true-Y_hat))/len(Y_true)\n",
    "  print(f\"Random Seed: {randomseed}\")\n",
    "  print(f\"RMSE: {RMSE} | QLIKE: {QLIKE} | MAPE: {MAE}\")"
   ]
  },
  {
   "cell_type": "code",
   "execution_count": 24,
   "id": "d70a20b6",
   "metadata": {},
   "outputs": [],
   "source": [
    "#Testing\n",
    "test_length=int(len(tabData[tabData['unique_id']=='BTC'])*0.3)"
   ]
  },
  {
   "cell_type": "code",
   "execution_count": 25,
   "id": "5f5c009f",
   "metadata": {},
   "outputs": [
    {
     "name": "stderr",
     "output_type": "stream",
     "text": [
      "Seed set to 16606075\n"
     ]
    },
    {
     "data": {
      "application/vnd.jupyter.widget-view+json": {
       "model_id": "",
       "version_major": 2,
       "version_minor": 0
      },
      "text/plain": [
       "Sanity Checking: |                                        | 0/? [00:00<?, ?it/s]"
      ]
     },
     "metadata": {},
     "output_type": "display_data"
    },
    {
     "data": {
      "application/vnd.jupyter.widget-view+json": {
       "model_id": "e1fc1c8a42724df6a06d818c8c4aa298",
       "version_major": 2,
       "version_minor": 0
      },
      "text/plain": [
       "Training: |                                               | 0/? [00:00<?, ?it/s]"
      ]
     },
     "metadata": {},
     "output_type": "display_data"
    },
    {
     "data": {
      "application/vnd.jupyter.widget-view+json": {
       "model_id": "",
       "version_major": 2,
       "version_minor": 0
      },
      "text/plain": [
       "Validation: |                                             | 0/? [00:00<?, ?it/s]"
      ]
     },
     "metadata": {},
     "output_type": "display_data"
    },
    {
     "data": {
      "application/vnd.jupyter.widget-view+json": {
       "model_id": "d0dd97c8b30e4d9c8414cac001de9d32",
       "version_major": 2,
       "version_minor": 0
      },
      "text/plain": [
       "Predicting: |                                             | 0/? [00:00<?, ?it/s]"
      ]
     },
     "metadata": {},
     "output_type": "display_data"
    },
    {
     "name": "stdout",
     "output_type": "stream",
     "text": [
      "RMSE: 0.003617969651877506 | QLIKE: 0.1379416905301119 | MAPE: 0.0027837998483489015\n"
     ]
    }
   ],
   "source": [
    "model = NHITS(h=28, input_size=84,\n",
    "                loss=MSE(),\n",
    "                scaler_type='robust',\n",
    "                learning_rate=learning_rate[0],\n",
    "                stack_types=['identity','identity'],\n",
    "                n_blocks=[5,5],\n",
    "                mlp_units=[[250, 250], [250, 250]],\n",
    "                windows_batch_size=32,\n",
    "                num_lr_decays=num_lr_decays[0],\n",
    "                val_check_steps=500,\n",
    "                stat_exog_list=['BTC'],\n",
    "                dropout_prob_theta=0, n_pool_kernel_size=[2,2,1],\n",
    "                pooling_mode = 'MaxPool1d',\n",
    "                interpolation_mode= 'linear',\n",
    "                max_steps=650,\n",
    "                random_seed=16606075)\n",
    "fcst = NeuralForecast(models=[model],freq='D')\n",
    "forecasts = fcst.cross_validation(df=tabData,val_size=28,static_df=static_df,n_windows=None, test_size=test_length-test_length%28,step_size=1)\n",
    "forecasts = forecasts[forecasts['unique_id']=='ETH'].dropna().drop_duplicates(subset='ds', keep='first')\n",
    "if \"NHITS-median\" not in list(forecasts.columns.values):\n",
    "    Y_hat=forecasts[\"NHITS\"].values\n",
    "else:\n",
    "    Y_hat=forecasts[\"NHTS-median\"].values\n",
    "Y_true=forecasts[\"y\"].values\n",
    "RMSE=np.sqrt(np.sum(((Y_true-Y_hat)**2))/len(Y_true))\n",
    "QLIKE=(np.sum(Y_true/Y_hat-np.log(abs(Y_true)/abs(Y_hat))-1)/len(Y_true))\n",
    "MAE=np.sum(abs(Y_true-Y_hat))/len(Y_true)\n",
    "\n",
    "print(f\"RMSE: {RMSE} | QLIKE: {QLIKE} | MAPE: {MAE}\")"
   ]
  },
  {
   "cell_type": "code",
   "execution_count": null,
   "id": "d2e499ae",
   "metadata": {},
   "outputs": [],
   "source": [
    "import plotly.express as px\n",
    "import pandas as pd\n",
    "import numpy as np\n",
    "fig = px.line(forecasts, x='ds', y=forecasts.columns[3:], color='variable', title='H=28 N-HITS prediction')\n",
    "\n",
    "fig.show()"
   ]
  },
  {
   "cell_type": "code",
   "execution_count": null,
   "id": "675b2261",
   "metadata": {},
   "outputs": [],
   "source": [
    "forecasts=forecasts.rename(columns={'y':'Real_value'})\n",
    "forecasts.to_csv('ETH-H=28-NHITS.csv')"
   ]
  }
 ],
 "metadata": {
  "kernelspec": {
   "display_name": "Python 3 (ipykernel)",
   "language": "python",
   "name": "python3"
  },
  "language_info": {
   "codemirror_mode": {
    "name": "ipython",
    "version": 3
   },
   "file_extension": ".py",
   "mimetype": "text/x-python",
   "name": "python",
   "nbconvert_exporter": "python",
   "pygments_lexer": "ipython3",
   "version": "3.11.5"
  }
 },
 "nbformat": 4,
 "nbformat_minor": 5
}
