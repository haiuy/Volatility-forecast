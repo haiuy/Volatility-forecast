{
 "cells": [
  {
   "cell_type": "code",
   "execution_count": 27,
   "id": "b2fdd98d",
   "metadata": {},
   "outputs": [],
   "source": [
    "#NN library\n",
    "import numpy as np\n",
    "import pandas as pd\n",
    "import matplotlib.pyplot as plt\n",
    "import math\n",
    "import numpy as np\n",
    "import torch\n",
    "from typing import Optional, Union, Tuple\n",
    "\n",
    "\n",
    "import torch.nn.functional as F\n",
    "from torch.distributions import Distribution\n",
    "from torch.distributions import Bernoulli, Normal, StudentT, Poisson, NegativeBinomial\n",
    "\n",
    "from torch.distributions import constraints\n",
    "\n",
    "\n",
    "from neuralforecast import NeuralForecast\n",
    "from neuralforecast.models import NBEATSx, NHITS\n",
    "from neuralforecast.tsdataset import TimeSeriesDataset\n",
    "from neuralforecast.utils import AirPassengers, AirPassengersPanel, AirPassengersStatic\n",
    "from neuralforecast.losses.numpy import rmse, mape\n",
    "from pandas.tseries.holiday import USFederalHolidayCalendar\n",
    "from pandas.tseries.offsets import CustomBusinessDay\n",
    "from neuralforecast.losses.pytorch import MSE\n"
   ]
  },
  {
   "cell_type": "code",
   "execution_count": 28,
   "id": "5effb917",
   "metadata": {},
   "outputs": [],
   "source": [
    "from numpy.random import seed\n",
    "from random import randrange"
   ]
  },
  {
   "cell_type": "code",
   "execution_count": 29,
   "id": "a2dce754",
   "metadata": {},
   "outputs": [],
   "source": [
    "#Realized volatility \n",
    "def Yang_Zhang_RV_yahoo(tickers, start=None, end=None, period=None, interval=None):\n",
    "    # importing needed libraries\n",
    "    import yfinance as yf\n",
    "    import pandas as pd\n",
    "    import numpy as np\n",
    "    import warnings\n",
    "    warnings.filterwarnings(\"ignore\")\n",
    "    \n",
    "    #Data extraction\n",
    "    if period==None:\n",
    "        data=yf.download(tickers=tickers, start=start, end=end, interval=interval)\n",
    "    else:\n",
    "        data=yf.download(tickers=tickers, period=period, interval=interval)\n",
    "    #dropping N/A values\n",
    "    if data.isnull().values.any()==True:\n",
    "        data=data.dropna()\n",
    "        print(\"Rows with missing values were removed\")\n",
    "    else:\n",
    "        data=data\n",
    "    data['Date_only']=data.index.strftime('%Y-%m-%d')\n",
    "    data['Date_only']=pd.to_datetime(data['Date_only'])\n",
    "    #Sorting function\n",
    "    def replace_first_price(group):\n",
    "      # Set a new value to nan\n",
    "      new_oi = np.nan \n",
    "      group.iloc[0, group.columns.get_loc('oi')] = new_oi\n",
    "      return group    \n",
    "    # Yang_Zhang_RV formula is give as:\n",
    "    # RV^2 = Vo + k*Vc + (1-k)*Vrs\n",
    "    # where Vo = 1/(n-1)*sum(Oi-Obar)^2\n",
    "    # with oi = normalized opening price at time t and Obar = mean of normalized opening prices\n",
    "    # Vc = = 1/(n-1)*sum(ci-Cbar)^2\n",
    "    # with ci = normalized close price at time t and Cbar = mean of normalized close prices\n",
    "    # k = 0.34/(1.34+(n+1)/(n-1))\n",
    "    # with n = total number of days or time periods considered\n",
    "    # Vrs (Rogers & Satchell RV proxy) = ui(ui-ci)+di(di-ci)\n",
    "    # with ui = ln(Hi/Oi), ci = ln(Ci/Oi), di=(Li/Oi), oi = ln(Oi/Ci-1)\n",
    "    # where Hi = high price at time t and Li = low price at time t\n",
    "    \n",
    "    data[\"ui\"]=np.log(np.divide(data[\"High\"][1:],data[\"Open\"][1:]))\n",
    "    data[\"ci\"]=np.log(np.divide(data[\"Close\"][1:],data[\"Open\"][1:]))\n",
    "    data[\"di\"]=np.log(np.divide(data[\"Low\"][1:],data[\"Open\"][1:]))\n",
    "    data[\"oi\"]=np.log(np.divide(data[\"Open\"][1:],data[\"Close\"][:len(data)-1].shift(1)))\n",
    "    data = data.groupby('Date_only').apply(replace_first_price)\n",
    "    data=data[1:]\n",
    "    data[\"RS\"]=data[\"ui\"]*(data[\"ui\"]-data[\"ci\"])+data[\"di\"]*(data[\"di\"]-data[\"ci\"])\n",
    "    RS_var= data[\"RS\"].groupby(pd.Grouper(freq='W')).mean().dropna()\n",
    "    Vc_and_Vo=data[[\"oi\", \"ci\"]].groupby(pd.Grouper(freq='W')).var().dropna()\n",
    "    n=int(len(data)/len(RS_var))\n",
    "    k = 0.34/(1.34+(n+1)/(n-1))\n",
    "    Yang_Zhang_RV=np.sqrt((1-k)*RS_var+Vc_and_Vo[\"oi\"]+Vc_and_Vo[\"ci\"]*k)\n",
    "    Yang_Zhang_RV_df=pd.DataFrame(Yang_Zhang_RV)\n",
    "    Yang_Zhang_RV_df.rename(columns={0: \"Yang & Zhang RV proxy\"},inplace=True)\n",
    "    \n",
    "    return Yang_Zhang_RV_df\n",
    "\n",
    "def Yang_Zhang_RV_own_data(data):\n",
    "    # importing needed libraries\n",
    "    import pandas as pd\n",
    "    import numpy as np\n",
    "    import warnings\n",
    "    warnings.filterwarnings(\"ignore\")\n",
    "    #sorting first values of each day\n",
    "    data['Date_only']=data.index.strftime('%Y-%m-%d')\n",
    "    data['Date_only']=pd.to_datetime(data['Date_only'])\n",
    "    #Sorting function\n",
    "    def replace_first_price(group):\n",
    "      # Set a new value to nan\n",
    "      new_oi = np.nan \n",
    "      group.iloc[0, group.columns.get_loc('oi')] = new_oi\n",
    "      return group\n",
    "    # Yang_Zhang_RV formula is give as:\n",
    "    # RV^2 = Vo + k*Vc + (1-k)*Vrs\n",
    "    # where Vo = 1/(n-1)*sum(Oi-Obar)^2\n",
    "    # with oi = normalized opening price at time t and Obar = mean of normalized opening prices\n",
    "    # Vc = = 1/(n-1)*sum(ci-Cbar)^2\n",
    "    # with ci = normalized close price at time t and Cbar = mean of normalized close prices\n",
    "    # k = 0.34/(1.34+(n+1)/(n-1))\n",
    "    # with n = total number of days or time periods considered\n",
    "    # Vrs (Rogers & Satchell RV proxy) = ui(ui-ci)+di(di-ci)\n",
    "    # with ui = ln(Hi/Oi), ci = ln(Ci/Oi), di=(Li/Oi), oi = ln(Oi/Ci-1)\n",
    "    # where Hi = high price at time t and Li = low price at time t\n",
    "    \n",
    "    data[\"ui\"]=np.log(np.divide(data[\"High\"][1:],data[\"Open\"][1:]))\n",
    "    data[\"ci\"]=np.log(np.divide(data[\"Close\"][1:],data[\"Open\"][1:]))\n",
    "    data[\"di\"]=np.log(np.divide(data[\"Low\"][1:],data[\"Open\"][1:]))\n",
    "    data[\"oi\"]=np.log(np.divide(data[\"Open\"][1:],data[\"Close\"][:len(data)-1].shift(1)))\n",
    "    #Apply sort function\n",
    "    data = data.groupby('Date_only').apply(replace_first_price)\n",
    "    data=data[1:]\n",
    "    data[\"RS\"]=data[\"ui\"]*(data[\"ui\"]-data[\"ci\"])+data[\"di\"]*(data[\"di\"]-data[\"ci\"])\n",
    "    RS_var= data[\"RS\"].groupby(pd.Grouper(freq='D')).mean().dropna()\n",
    "    Vc_and_Vo=data[[\"oi\", \"ci\"]].groupby(pd.Grouper(freq='D')).var().dropna()\n",
    "    n=int(len(data)/len(RS_var))\n",
    "    k = 0.34/(1.34+(n+1)/(n-1))\n",
    "    Yang_Zhang_RV=np.sqrt((1-k)*RS_var+Vc_and_Vo[\"oi\"]+Vc_and_Vo[\"ci\"]*k)\n",
    "    Yang_Zhang_RV_df=pd.DataFrame(Yang_Zhang_RV)\n",
    "    Yang_Zhang_RV_df.rename(columns={0: \"Yang & Zhang RV proxy\"},inplace=True)\n",
    "    \n",
    "    return Yang_Zhang_RV_df\n",
    "    \n",
    "    \n",
    "    \n",
    "def Multivariate_Yang_Zhang_RV_own_data(data_list):\n",
    "    Multivariate_Yang_Zhang_RV=[]\n",
    "    for i in range(len(data_list)):\n",
    "        Yang_Zhang_RV_df=Yang_Zhang_RV_own_data(data=data_list[i])\n",
    "        Multivariate_Yang_Zhang_RV.append(Yang_Zhang_RV_df)\n",
    "    return Multivariate_Yang_Zhang_RV\n",
    "    \n",
    "    \n",
    "def Multivariate_Yang_Zhang_RV_yahoo(tickers, start=None, end=None, period=None, interval=None):\n",
    "    # importing needed libraries\n",
    "    import yfinance as yf\n",
    "    import pandas as pd\n",
    "    import numpy as np\n",
    "    import warnings\n",
    "    warnings.filterwarnings(\"ignore\")\n",
    "    \n",
    "    #Data extraction\n",
    "    if period==None:\n",
    "        data=yf.download(tickers=tickers, start=start, end=end, interval=interval)\n",
    "    else:\n",
    "        data=yf.download(tickers=tickers, period=period, interval=interval)\n",
    "    #dropping N/A values\n",
    "    if data.isnull().values.any()==True:\n",
    "        data=data.dropna()\n",
    "        print(\"Rows with missing values were removed\")\n",
    "    else:\n",
    "        data=data\n",
    "\n",
    "    data=data.unstack().reset_index(name=\"Actuals\").rename(columns={\"level_1\":\"Stocks\"}).set_index(\"Datetime\").pivot(columns=['Stocks','level_0'])\n",
    "    data=data['Actuals']\n",
    "    data['Date_only']=data.index.strftime('%Y-%m-%d')\n",
    "    data['Date_only']=pd.to_datetime(data['Date_only'])\n",
    "    #Sorting function\n",
    "    def replace_first_price(group):\n",
    "      # Set a new value to nan\n",
    "      new_oi = np.nan \n",
    "      group.iloc[0, group.columns.get_loc('oi')] = new_oi\n",
    "      return group    \n",
    "    # Yang_Zhang_RV formula is give as:\n",
    "    # RV^2 = Vo + k*Vc + (1-k)*Vrs\n",
    "    # where Vo = 1/(n-1)*sum(Oi-Obar)^2\n",
    "    # with oi = normalized opening price at time t and Obar = mean of normalized opening prices\n",
    "    # Vc = = 1/(n-1)*sum(ci-Cbar)^2\n",
    "    # with ci = normalized close price at time t and Cbar = mean of normalized close prices\n",
    "    # k = 0.34/(1.34+(n+1)/(n-1))\n",
    "    # with n = total number of days or time periods considered\n",
    "    # Vrs (Rogers & Satchell RV proxy) = ui(ui-ci)+di(di-ci)\n",
    "    # with ui = ln(Hi/Oi), ci = ln(Ci/Oi), di=(Li/Oi), oi = ln(Oi/Ci-1)\n",
    "    # where Hi = high price at time t and Li = low price at time t\n",
    "    \n",
    "    Multivariate_Yang_Zhang_RV=[]\n",
    "    for i in range(len(tickers)):\n",
    "        data1=data[tickers[i]]\n",
    "        data1[\"ui\"]=np.log(np.divide(data1[\"High\"][1:],data1[\"Open\"][1:]))\n",
    "        data1[\"ci\"]=np.log(np.divide(data1[\"Close\"][1:],data1[\"Open\"][1:]))\n",
    "        data1[\"di\"]=np.log(np.divide(data1[\"Low\"][1:],data1[\"Open\"][1:]))\n",
    "        data1[\"oi\"]=np.log(np.divide(data1[\"Open\"][1:],data1[\"Close\"][:len(data1)-1].shift(1)))\n",
    "        data = data.groupby('Date_only').apply(replace_first_price)\n",
    "        data1=data1[1:]\n",
    "        data1[\"RS\"]=data1[\"ui\"]*(data1[\"ui\"]-data1[\"ci\"])+data1[\"di\"]*(data1[\"di\"]-data1[\"ci\"])\n",
    "        RS_var= data1[\"RS\"].groupby(pd.Grouper(freq='D')).mean().dropna()\n",
    "        Vc_and_Vo=data1[[\"oi\", \"ci\"]].groupby(pd.Grouper(freq='D')).var().dropna()\n",
    "        n=int(len(data1)/len(RS_var))\n",
    "        k = 0.34/(1.34+(n+1)/(n-1))\n",
    "        Yang_Zhang_RV=np.sqrt((1-k)*RS_var+Vc_and_Vo[\"oi\"]+Vc_and_Vo[\"ci\"]*k)\n",
    "        Yang_Zhang_RV_df=pd.DataFrame(Yang_Zhang_RV)\n",
    "        Yang_Zhang_RV_df.rename(columns={0: \"Yang & Zhang RV proxy\"},inplace=True)\n",
    "        Multivariate_Yang_Zhang_RV.append(Yang_Zhang_RV_df)\n",
    "    \n",
    "    return Multivariate_Yang_Zhang_RV"
   ]
  },
  {
   "cell_type": "code",
   "execution_count": 30,
   "id": "7fbb7247",
   "metadata": {},
   "outputs": [
    {
     "data": {
      "text/html": [
       "<div>\n",
       "<style scoped>\n",
       "    .dataframe tbody tr th:only-of-type {\n",
       "        vertical-align: middle;\n",
       "    }\n",
       "\n",
       "    .dataframe tbody tr th {\n",
       "        vertical-align: top;\n",
       "    }\n",
       "\n",
       "    .dataframe thead th {\n",
       "        text-align: right;\n",
       "    }\n",
       "</style>\n",
       "<table border=\"1\" class=\"dataframe\">\n",
       "  <thead>\n",
       "    <tr style=\"text-align: right;\">\n",
       "      <th></th>\n",
       "      <th>Open</th>\n",
       "      <th>High</th>\n",
       "      <th>Low</th>\n",
       "      <th>Close</th>\n",
       "      <th>Volume</th>\n",
       "    </tr>\n",
       "    <tr>\n",
       "      <th>Date</th>\n",
       "      <th></th>\n",
       "      <th></th>\n",
       "      <th></th>\n",
       "      <th></th>\n",
       "      <th></th>\n",
       "    </tr>\n",
       "  </thead>\n",
       "  <tbody>\n",
       "    <tr>\n",
       "      <th>2018-01-01 00:59:59.999</th>\n",
       "      <td>13715.65</td>\n",
       "      <td>13715.65</td>\n",
       "      <td>13400.01</td>\n",
       "      <td>13529.01</td>\n",
       "      <td>443.356199</td>\n",
       "    </tr>\n",
       "    <tr>\n",
       "      <th>2018-01-01 01:59:59.999</th>\n",
       "      <td>13528.99</td>\n",
       "      <td>13595.89</td>\n",
       "      <td>13155.38</td>\n",
       "      <td>13203.06</td>\n",
       "      <td>383.697006</td>\n",
       "    </tr>\n",
       "    <tr>\n",
       "      <th>2018-01-01 02:59:59.999</th>\n",
       "      <td>13203.00</td>\n",
       "      <td>13418.43</td>\n",
       "      <td>13200.00</td>\n",
       "      <td>13330.18</td>\n",
       "      <td>429.064572</td>\n",
       "    </tr>\n",
       "    <tr>\n",
       "      <th>2018-01-01 03:59:59.999</th>\n",
       "      <td>13330.26</td>\n",
       "      <td>13611.27</td>\n",
       "      <td>13290.00</td>\n",
       "      <td>13410.03</td>\n",
       "      <td>420.087030</td>\n",
       "    </tr>\n",
       "    <tr>\n",
       "      <th>2018-01-01 04:59:59.999</th>\n",
       "      <td>13434.98</td>\n",
       "      <td>13623.29</td>\n",
       "      <td>13322.15</td>\n",
       "      <td>13601.01</td>\n",
       "      <td>340.807329</td>\n",
       "    </tr>\n",
       "    <tr>\n",
       "      <th>...</th>\n",
       "      <td>...</td>\n",
       "      <td>...</td>\n",
       "      <td>...</td>\n",
       "      <td>...</td>\n",
       "      <td>...</td>\n",
       "    </tr>\n",
       "    <tr>\n",
       "      <th>2024-02-29 20:59:59.999</th>\n",
       "      <td>61599.99</td>\n",
       "      <td>62285.47</td>\n",
       "      <td>61521.73</td>\n",
       "      <td>61934.73</td>\n",
       "      <td>3755.220100</td>\n",
       "    </tr>\n",
       "    <tr>\n",
       "      <th>2024-02-29 21:59:59.999</th>\n",
       "      <td>61934.73</td>\n",
       "      <td>61999.75</td>\n",
       "      <td>60584.07</td>\n",
       "      <td>61374.94</td>\n",
       "      <td>4040.139080</td>\n",
       "    </tr>\n",
       "    <tr>\n",
       "      <th>2024-02-29 22:59:59.999</th>\n",
       "      <td>61374.95</td>\n",
       "      <td>61474.81</td>\n",
       "      <td>60672.82</td>\n",
       "      <td>61224.02</td>\n",
       "      <td>1906.566300</td>\n",
       "    </tr>\n",
       "    <tr>\n",
       "      <th>2024-02-29 23:59:59.999</th>\n",
       "      <td>61224.02</td>\n",
       "      <td>61536.94</td>\n",
       "      <td>60998.51</td>\n",
       "      <td>61130.98</td>\n",
       "      <td>1694.180000</td>\n",
       "    </tr>\n",
       "    <tr>\n",
       "      <th>2024-03-01 00:59:59.999</th>\n",
       "      <td>61130.99</td>\n",
       "      <td>61749.00</td>\n",
       "      <td>61126.00</td>\n",
       "      <td>61501.11</td>\n",
       "      <td>1867.799020</td>\n",
       "    </tr>\n",
       "  </tbody>\n",
       "</table>\n",
       "<p>53903 rows × 5 columns</p>\n",
       "</div>"
      ],
      "text/plain": [
       "                             Open      High       Low     Close       Volume\n",
       "Date                                                                        \n",
       "2018-01-01 00:59:59.999  13715.65  13715.65  13400.01  13529.01   443.356199\n",
       "2018-01-01 01:59:59.999  13528.99  13595.89  13155.38  13203.06   383.697006\n",
       "2018-01-01 02:59:59.999  13203.00  13418.43  13200.00  13330.18   429.064572\n",
       "2018-01-01 03:59:59.999  13330.26  13611.27  13290.00  13410.03   420.087030\n",
       "2018-01-01 04:59:59.999  13434.98  13623.29  13322.15  13601.01   340.807329\n",
       "...                           ...       ...       ...       ...          ...\n",
       "2024-02-29 20:59:59.999  61599.99  62285.47  61521.73  61934.73  3755.220100\n",
       "2024-02-29 21:59:59.999  61934.73  61999.75  60584.07  61374.94  4040.139080\n",
       "2024-02-29 22:59:59.999  61374.95  61474.81  60672.82  61224.02  1906.566300\n",
       "2024-02-29 23:59:59.999  61224.02  61536.94  60998.51  61130.98  1694.180000\n",
       "2024-03-01 00:59:59.999  61130.99  61749.00  61126.00  61501.11  1867.799020\n",
       "\n",
       "[53903 rows x 5 columns]"
      ]
     },
     "execution_count": 30,
     "metadata": {},
     "output_type": "execute_result"
    }
   ],
   "source": [
    "#KLINE data\n",
    "import pandas as pd\n",
    "from binance import Client\n",
    "from dotenv import dotenv_values\n",
    "from datetime import datetime\n",
    "\n",
    "config = dotenv_values('.env')\n",
    "client = Client(config.get('KEY'), config.get('SECRET_KEY'))\n",
    "TICKER = 'BTCUSDT'\n",
    "start_date = datetime(2018, 1, 1)\n",
    "end_date = datetime(2024, 3, 1)\n",
    "\n",
    "start_date_str = start_date.strftime('%d %b, %Y')\n",
    "end_date_str = end_date.strftime('%d %b, %Y')\n",
    "\n",
    "klines = client.get_historical_klines(TICKER, client.KLINE_INTERVAL_1HOUR, start_date_str, end_date_str)\n",
    "dataBTC = pd.DataFrame(\n",
    "    data=[row[1:7] for row in klines],\n",
    "    columns=['Open', 'High', 'Low', 'Close', 'Volume', 'Date'],\n",
    ").set_index('Date')\n",
    "dataBTC.index = pd.to_datetime(dataBTC.index, unit='ms')\n",
    "dataBTC = dataBTC.sort_index()\n",
    "dataBTC = dataBTC.apply(pd.to_numeric, axis=1)\n",
    "dataBTC"
   ]
  },
  {
   "cell_type": "code",
   "execution_count": 31,
   "id": "a0940aff",
   "metadata": {},
   "outputs": [
    {
     "data": {
      "text/html": [
       "<div>\n",
       "<style scoped>\n",
       "    .dataframe tbody tr th:only-of-type {\n",
       "        vertical-align: middle;\n",
       "    }\n",
       "\n",
       "    .dataframe tbody tr th {\n",
       "        vertical-align: top;\n",
       "    }\n",
       "\n",
       "    .dataframe thead th {\n",
       "        text-align: right;\n",
       "    }\n",
       "</style>\n",
       "<table border=\"1\" class=\"dataframe\">\n",
       "  <thead>\n",
       "    <tr style=\"text-align: right;\">\n",
       "      <th></th>\n",
       "      <th>Open</th>\n",
       "      <th>High</th>\n",
       "      <th>Low</th>\n",
       "      <th>Close</th>\n",
       "      <th>Volume</th>\n",
       "    </tr>\n",
       "    <tr>\n",
       "      <th>Date</th>\n",
       "      <th></th>\n",
       "      <th></th>\n",
       "      <th></th>\n",
       "      <th></th>\n",
       "      <th></th>\n",
       "    </tr>\n",
       "  </thead>\n",
       "  <tbody>\n",
       "    <tr>\n",
       "      <th>2018-01-01 00:59:59.999</th>\n",
       "      <td>733.01</td>\n",
       "      <td>734.52</td>\n",
       "      <td>720.03</td>\n",
       "      <td>727.62</td>\n",
       "      <td>2105.90100</td>\n",
       "    </tr>\n",
       "    <tr>\n",
       "      <th>2018-01-01 01:59:59.999</th>\n",
       "      <td>727.01</td>\n",
       "      <td>732.00</td>\n",
       "      <td>716.80</td>\n",
       "      <td>717.97</td>\n",
       "      <td>2305.97086</td>\n",
       "    </tr>\n",
       "    <tr>\n",
       "      <th>2018-01-01 02:59:59.999</th>\n",
       "      <td>717.67</td>\n",
       "      <td>725.75</td>\n",
       "      <td>717.59</td>\n",
       "      <td>724.05</td>\n",
       "      <td>2166.45725</td>\n",
       "    </tr>\n",
       "    <tr>\n",
       "      <th>2018-01-01 03:59:59.999</th>\n",
       "      <td>723.95</td>\n",
       "      <td>737.99</td>\n",
       "      <td>722.70</td>\n",
       "      <td>734.50</td>\n",
       "      <td>2160.90450</td>\n",
       "    </tr>\n",
       "    <tr>\n",
       "      <th>2018-01-01 04:59:59.999</th>\n",
       "      <td>734.99</td>\n",
       "      <td>744.98</td>\n",
       "      <td>730.01</td>\n",
       "      <td>744.82</td>\n",
       "      <td>2335.33705</td>\n",
       "    </tr>\n",
       "    <tr>\n",
       "      <th>...</th>\n",
       "      <td>...</td>\n",
       "      <td>...</td>\n",
       "      <td>...</td>\n",
       "      <td>...</td>\n",
       "      <td>...</td>\n",
       "    </tr>\n",
       "    <tr>\n",
       "      <th>2024-02-29 20:59:59.999</th>\n",
       "      <td>3403.27</td>\n",
       "      <td>3415.44</td>\n",
       "      <td>3393.61</td>\n",
       "      <td>3393.99</td>\n",
       "      <td>18045.00550</td>\n",
       "    </tr>\n",
       "    <tr>\n",
       "      <th>2024-02-29 21:59:59.999</th>\n",
       "      <td>3393.99</td>\n",
       "      <td>3398.63</td>\n",
       "      <td>3310.00</td>\n",
       "      <td>3347.74</td>\n",
       "      <td>40472.54590</td>\n",
       "    </tr>\n",
       "    <tr>\n",
       "      <th>2024-02-29 22:59:59.999</th>\n",
       "      <td>3347.73</td>\n",
       "      <td>3358.53</td>\n",
       "      <td>3300.00</td>\n",
       "      <td>3322.61</td>\n",
       "      <td>24605.94420</td>\n",
       "    </tr>\n",
       "    <tr>\n",
       "      <th>2024-02-29 23:59:59.999</th>\n",
       "      <td>3322.60</td>\n",
       "      <td>3358.97</td>\n",
       "      <td>3319.18</td>\n",
       "      <td>3340.09</td>\n",
       "      <td>14635.58870</td>\n",
       "    </tr>\n",
       "    <tr>\n",
       "      <th>2024-03-01 00:59:59.999</th>\n",
       "      <td>3340.10</td>\n",
       "      <td>3380.00</td>\n",
       "      <td>3338.54</td>\n",
       "      <td>3378.73</td>\n",
       "      <td>21396.39190</td>\n",
       "    </tr>\n",
       "  </tbody>\n",
       "</table>\n",
       "<p>53903 rows × 5 columns</p>\n",
       "</div>"
      ],
      "text/plain": [
       "                            Open     High      Low    Close       Volume\n",
       "Date                                                                    \n",
       "2018-01-01 00:59:59.999   733.01   734.52   720.03   727.62   2105.90100\n",
       "2018-01-01 01:59:59.999   727.01   732.00   716.80   717.97   2305.97086\n",
       "2018-01-01 02:59:59.999   717.67   725.75   717.59   724.05   2166.45725\n",
       "2018-01-01 03:59:59.999   723.95   737.99   722.70   734.50   2160.90450\n",
       "2018-01-01 04:59:59.999   734.99   744.98   730.01   744.82   2335.33705\n",
       "...                          ...      ...      ...      ...          ...\n",
       "2024-02-29 20:59:59.999  3403.27  3415.44  3393.61  3393.99  18045.00550\n",
       "2024-02-29 21:59:59.999  3393.99  3398.63  3310.00  3347.74  40472.54590\n",
       "2024-02-29 22:59:59.999  3347.73  3358.53  3300.00  3322.61  24605.94420\n",
       "2024-02-29 23:59:59.999  3322.60  3358.97  3319.18  3340.09  14635.58870\n",
       "2024-03-01 00:59:59.999  3340.10  3380.00  3338.54  3378.73  21396.39190\n",
       "\n",
       "[53903 rows x 5 columns]"
      ]
     },
     "execution_count": 31,
     "metadata": {},
     "output_type": "execute_result"
    }
   ],
   "source": [
    "TICKER = 'ETHUSDT'\n",
    "start_date = datetime(2018, 1, 1)\n",
    "end_date = datetime(2024, 3, 1)\n",
    "\n",
    "start_date_str = start_date.strftime('%d %b, %Y')\n",
    "end_date_str = end_date.strftime('%d %b, %Y')\n",
    "\n",
    "klines = client.get_historical_klines(TICKER, client.KLINE_INTERVAL_1HOUR, start_date_str, end_date_str)\n",
    "dataETH = pd.DataFrame(\n",
    "    data=[row[1:7] for row in klines],\n",
    "    columns=['Open', 'High', 'Low', 'Close', 'Volume', 'Date'],\n",
    ").set_index('Date')\n",
    "dataETH.index = pd.to_datetime(dataETH.index, unit='ms')\n",
    "dataETH = dataETH.sort_index()\n",
    "dataETH = dataETH.apply(pd.to_numeric, axis=1)\n",
    "dataETH"
   ]
  },
  {
   "cell_type": "code",
   "execution_count": 32,
   "id": "64822c66",
   "metadata": {},
   "outputs": [
    {
     "data": {
      "text/html": [
       "<div>\n",
       "<style scoped>\n",
       "    .dataframe tbody tr th:only-of-type {\n",
       "        vertical-align: middle;\n",
       "    }\n",
       "\n",
       "    .dataframe tbody tr th {\n",
       "        vertical-align: top;\n",
       "    }\n",
       "\n",
       "    .dataframe thead th {\n",
       "        text-align: right;\n",
       "    }\n",
       "</style>\n",
       "<table border=\"1\" class=\"dataframe\">\n",
       "  <thead>\n",
       "    <tr style=\"text-align: right;\">\n",
       "      <th></th>\n",
       "      <th>BTC</th>\n",
       "      <th>unique_id</th>\n",
       "    </tr>\n",
       "    <tr>\n",
       "      <th>Date</th>\n",
       "      <th></th>\n",
       "      <th></th>\n",
       "    </tr>\n",
       "  </thead>\n",
       "  <tbody>\n",
       "    <tr>\n",
       "      <th>2018-01-01</th>\n",
       "      <td>0.014103</td>\n",
       "      <td>BTC</td>\n",
       "    </tr>\n",
       "    <tr>\n",
       "      <th>2018-01-02</th>\n",
       "      <td>0.018719</td>\n",
       "      <td>BTC</td>\n",
       "    </tr>\n",
       "    <tr>\n",
       "      <th>2018-01-03</th>\n",
       "      <td>0.014785</td>\n",
       "      <td>BTC</td>\n",
       "    </tr>\n",
       "    <tr>\n",
       "      <th>2018-01-04</th>\n",
       "      <td>0.013654</td>\n",
       "      <td>BTC</td>\n",
       "    </tr>\n",
       "    <tr>\n",
       "      <th>2018-01-05</th>\n",
       "      <td>0.016831</td>\n",
       "      <td>BTC</td>\n",
       "    </tr>\n",
       "    <tr>\n",
       "      <th>...</th>\n",
       "      <td>...</td>\n",
       "      <td>...</td>\n",
       "    </tr>\n",
       "    <tr>\n",
       "      <th>2024-02-26</th>\n",
       "      <td>0.004685</td>\n",
       "      <td>BTC</td>\n",
       "    </tr>\n",
       "    <tr>\n",
       "      <th>2024-02-27</th>\n",
       "      <td>0.007689</td>\n",
       "      <td>BTC</td>\n",
       "    </tr>\n",
       "    <tr>\n",
       "      <th>2024-02-28</th>\n",
       "      <td>0.015570</td>\n",
       "      <td>BTC</td>\n",
       "    </tr>\n",
       "    <tr>\n",
       "      <th>2024-02-29</th>\n",
       "      <td>0.010279</td>\n",
       "      <td>BTC</td>\n",
       "    </tr>\n",
       "    <tr>\n",
       "      <th>2024-03-01</th>\n",
       "      <td>NaN</td>\n",
       "      <td>BTC</td>\n",
       "    </tr>\n",
       "  </tbody>\n",
       "</table>\n",
       "<p>2252 rows × 2 columns</p>\n",
       "</div>"
      ],
      "text/plain": [
       "                 BTC unique_id\n",
       "Date                          \n",
       "2018-01-01  0.014103       BTC\n",
       "2018-01-02  0.018719       BTC\n",
       "2018-01-03  0.014785       BTC\n",
       "2018-01-04  0.013654       BTC\n",
       "2018-01-05  0.016831       BTC\n",
       "...              ...       ...\n",
       "2024-02-26  0.004685       BTC\n",
       "2024-02-27  0.007689       BTC\n",
       "2024-02-28  0.015570       BTC\n",
       "2024-02-29  0.010279       BTC\n",
       "2024-03-01       NaN       BTC\n",
       "\n",
       "[2252 rows x 2 columns]"
      ]
     },
     "execution_count": 32,
     "metadata": {},
     "output_type": "execute_result"
    }
   ],
   "source": [
    "#calculating RV_BTC\n",
    "RVBTC=Yang_Zhang_RV_own_data(dataBTC)\n",
    "RVBTC['unique_id']=f'BTC'\n",
    "RVBTC=RVBTC.rename(columns={'Yang & Zhang RV proxy':'BTC'})\n",
    "RVBTC"
   ]
  },
  {
   "cell_type": "code",
   "execution_count": 33,
   "id": "e8147866",
   "metadata": {},
   "outputs": [
    {
     "data": {
      "text/html": [
       "<div>\n",
       "<style scoped>\n",
       "    .dataframe tbody tr th:only-of-type {\n",
       "        vertical-align: middle;\n",
       "    }\n",
       "\n",
       "    .dataframe tbody tr th {\n",
       "        vertical-align: top;\n",
       "    }\n",
       "\n",
       "    .dataframe thead th {\n",
       "        text-align: right;\n",
       "    }\n",
       "</style>\n",
       "<table border=\"1\" class=\"dataframe\">\n",
       "  <thead>\n",
       "    <tr style=\"text-align: right;\">\n",
       "      <th></th>\n",
       "      <th>Yang &amp; Zhang RV proxy</th>\n",
       "      <th>unique_id</th>\n",
       "      <th>BTC</th>\n",
       "    </tr>\n",
       "    <tr>\n",
       "      <th>Date</th>\n",
       "      <th></th>\n",
       "      <th></th>\n",
       "      <th></th>\n",
       "    </tr>\n",
       "  </thead>\n",
       "  <tbody>\n",
       "    <tr>\n",
       "      <th>2018-01-01</th>\n",
       "      <td>0.011856</td>\n",
       "      <td>ETH</td>\n",
       "      <td>0.014103</td>\n",
       "    </tr>\n",
       "    <tr>\n",
       "      <th>2018-01-02</th>\n",
       "      <td>0.024648</td>\n",
       "      <td>ETH</td>\n",
       "      <td>0.018719</td>\n",
       "    </tr>\n",
       "    <tr>\n",
       "      <th>2018-01-03</th>\n",
       "      <td>0.019458</td>\n",
       "      <td>ETH</td>\n",
       "      <td>0.014785</td>\n",
       "    </tr>\n",
       "    <tr>\n",
       "      <th>2018-01-04</th>\n",
       "      <td>0.020923</td>\n",
       "      <td>ETH</td>\n",
       "      <td>0.013654</td>\n",
       "    </tr>\n",
       "    <tr>\n",
       "      <th>2018-01-05</th>\n",
       "      <td>0.016601</td>\n",
       "      <td>ETH</td>\n",
       "      <td>0.016831</td>\n",
       "    </tr>\n",
       "    <tr>\n",
       "      <th>...</th>\n",
       "      <td>...</td>\n",
       "      <td>...</td>\n",
       "      <td>...</td>\n",
       "    </tr>\n",
       "    <tr>\n",
       "      <th>2024-02-26</th>\n",
       "      <td>0.005743</td>\n",
       "      <td>ETH</td>\n",
       "      <td>0.004685</td>\n",
       "    </tr>\n",
       "    <tr>\n",
       "      <th>2024-02-27</th>\n",
       "      <td>0.006462</td>\n",
       "      <td>ETH</td>\n",
       "      <td>0.007689</td>\n",
       "    </tr>\n",
       "    <tr>\n",
       "      <th>2024-02-28</th>\n",
       "      <td>0.016756</td>\n",
       "      <td>ETH</td>\n",
       "      <td>0.015570</td>\n",
       "    </tr>\n",
       "    <tr>\n",
       "      <th>2024-02-29</th>\n",
       "      <td>0.009992</td>\n",
       "      <td>ETH</td>\n",
       "      <td>0.010279</td>\n",
       "    </tr>\n",
       "    <tr>\n",
       "      <th>2024-03-01</th>\n",
       "      <td>NaN</td>\n",
       "      <td>ETH</td>\n",
       "      <td>NaN</td>\n",
       "    </tr>\n",
       "  </tbody>\n",
       "</table>\n",
       "<p>2252 rows × 3 columns</p>\n",
       "</div>"
      ],
      "text/plain": [
       "            Yang & Zhang RV proxy unique_id       BTC\n",
       "Date                                                 \n",
       "2018-01-01               0.011856       ETH  0.014103\n",
       "2018-01-02               0.024648       ETH  0.018719\n",
       "2018-01-03               0.019458       ETH  0.014785\n",
       "2018-01-04               0.020923       ETH  0.013654\n",
       "2018-01-05               0.016601       ETH  0.016831\n",
       "...                           ...       ...       ...\n",
       "2024-02-26               0.005743       ETH  0.004685\n",
       "2024-02-27               0.006462       ETH  0.007689\n",
       "2024-02-28               0.016756       ETH  0.015570\n",
       "2024-02-29               0.009992       ETH  0.010279\n",
       "2024-03-01                    NaN       ETH       NaN\n",
       "\n",
       "[2252 rows x 3 columns]"
      ]
     },
     "execution_count": 33,
     "metadata": {},
     "output_type": "execute_result"
    }
   ],
   "source": [
    "#calculating RV_ETH\n",
    "RVETH=Yang_Zhang_RV_own_data(dataETH)\n",
    "RVETH['unique_id']=f'ETH'\n",
    "\n",
    "RVETH['BTC']=RVBTC['BTC']\n",
    "RVETH"
   ]
  },
  {
   "cell_type": "code",
   "execution_count": 34,
   "id": "e82eadea",
   "metadata": {},
   "outputs": [
    {
     "data": {
      "text/html": [
       "<div>\n",
       "<style scoped>\n",
       "    .dataframe tbody tr th:only-of-type {\n",
       "        vertical-align: middle;\n",
       "    }\n",
       "\n",
       "    .dataframe tbody tr th {\n",
       "        vertical-align: top;\n",
       "    }\n",
       "\n",
       "    .dataframe thead th {\n",
       "        text-align: right;\n",
       "    }\n",
       "</style>\n",
       "<table border=\"1\" class=\"dataframe\">\n",
       "  <thead>\n",
       "    <tr style=\"text-align: right;\">\n",
       "      <th></th>\n",
       "      <th>y</th>\n",
       "      <th>unique_id</th>\n",
       "      <th>BTC</th>\n",
       "      <th>ds</th>\n",
       "    </tr>\n",
       "    <tr>\n",
       "      <th>Date</th>\n",
       "      <th></th>\n",
       "      <th></th>\n",
       "      <th></th>\n",
       "      <th></th>\n",
       "    </tr>\n",
       "  </thead>\n",
       "  <tbody>\n",
       "    <tr>\n",
       "      <th>2018-01-01</th>\n",
       "      <td>0.011856</td>\n",
       "      <td>ETH</td>\n",
       "      <td>0.014103</td>\n",
       "      <td>2018-01-01</td>\n",
       "    </tr>\n",
       "    <tr>\n",
       "      <th>2018-01-02</th>\n",
       "      <td>0.024648</td>\n",
       "      <td>ETH</td>\n",
       "      <td>0.018719</td>\n",
       "      <td>2018-01-02</td>\n",
       "    </tr>\n",
       "    <tr>\n",
       "      <th>2018-01-03</th>\n",
       "      <td>0.019458</td>\n",
       "      <td>ETH</td>\n",
       "      <td>0.014785</td>\n",
       "      <td>2018-01-03</td>\n",
       "    </tr>\n",
       "    <tr>\n",
       "      <th>2018-01-04</th>\n",
       "      <td>0.020923</td>\n",
       "      <td>ETH</td>\n",
       "      <td>0.013654</td>\n",
       "      <td>2018-01-04</td>\n",
       "    </tr>\n",
       "    <tr>\n",
       "      <th>2018-01-05</th>\n",
       "      <td>0.016601</td>\n",
       "      <td>ETH</td>\n",
       "      <td>0.016831</td>\n",
       "      <td>2018-01-05</td>\n",
       "    </tr>\n",
       "    <tr>\n",
       "      <th>...</th>\n",
       "      <td>...</td>\n",
       "      <td>...</td>\n",
       "      <td>...</td>\n",
       "      <td>...</td>\n",
       "    </tr>\n",
       "    <tr>\n",
       "      <th>2024-02-25</th>\n",
       "      <td>0.004872</td>\n",
       "      <td>ETH</td>\n",
       "      <td>0.002504</td>\n",
       "      <td>2024-02-25</td>\n",
       "    </tr>\n",
       "    <tr>\n",
       "      <th>2024-02-26</th>\n",
       "      <td>0.005743</td>\n",
       "      <td>ETH</td>\n",
       "      <td>0.004685</td>\n",
       "      <td>2024-02-26</td>\n",
       "    </tr>\n",
       "    <tr>\n",
       "      <th>2024-02-27</th>\n",
       "      <td>0.006462</td>\n",
       "      <td>ETH</td>\n",
       "      <td>0.007689</td>\n",
       "      <td>2024-02-27</td>\n",
       "    </tr>\n",
       "    <tr>\n",
       "      <th>2024-02-28</th>\n",
       "      <td>0.016756</td>\n",
       "      <td>ETH</td>\n",
       "      <td>0.015570</td>\n",
       "      <td>2024-02-28</td>\n",
       "    </tr>\n",
       "    <tr>\n",
       "      <th>2024-02-29</th>\n",
       "      <td>0.009992</td>\n",
       "      <td>ETH</td>\n",
       "      <td>0.010279</td>\n",
       "      <td>2024-02-29</td>\n",
       "    </tr>\n",
       "  </tbody>\n",
       "</table>\n",
       "<p>2250 rows × 4 columns</p>\n",
       "</div>"
      ],
      "text/plain": [
       "                   y unique_id       BTC         ds\n",
       "Date                                               \n",
       "2018-01-01  0.011856       ETH  0.014103 2018-01-01\n",
       "2018-01-02  0.024648       ETH  0.018719 2018-01-02\n",
       "2018-01-03  0.019458       ETH  0.014785 2018-01-03\n",
       "2018-01-04  0.020923       ETH  0.013654 2018-01-04\n",
       "2018-01-05  0.016601       ETH  0.016831 2018-01-05\n",
       "...              ...       ...       ...        ...\n",
       "2024-02-25  0.004872       ETH  0.002504 2024-02-25\n",
       "2024-02-26  0.005743       ETH  0.004685 2024-02-26\n",
       "2024-02-27  0.006462       ETH  0.007689 2024-02-27\n",
       "2024-02-28  0.016756       ETH  0.015570 2024-02-28\n",
       "2024-02-29  0.009992       ETH  0.010279 2024-02-29\n",
       "\n",
       "[2250 rows x 4 columns]"
      ]
     },
     "execution_count": 34,
     "metadata": {},
     "output_type": "execute_result"
    }
   ],
   "source": [
    "RVETH = RVETH.rename(columns={\"Yang & Zhang RV proxy\":\"y\"})\n",
    "RVETH['ds']=RVETH.index.strftime('%Y-%m-%d')\n",
    "RVETH['ds']=pd.to_datetime(RVETH['ds'])\n",
    "RVETH=RVETH.dropna()\n",
    "RVETH"
   ]
  },
  {
   "cell_type": "code",
   "execution_count": 35,
   "id": "ebaa8715",
   "metadata": {},
   "outputs": [],
   "source": [
    "# 2D-Wasserstein loss function\n",
    "from ripser import Rips\n",
    "import persim\n",
    "def _divide_no_nan(a: torch.Tensor, b: torch.Tensor) -> torch.Tensor:\n",
    "    \"\"\"\n",
    "    Auxiliary funtion to handle divide by 0\n",
    "    \"\"\"\n",
    "    div = a / b\n",
    "    div[div != div] = 0.0\n",
    "    div[div == float(\"inf\")] = 0.0\n",
    "    return div\n",
    "\n",
    "def _weighted_mean(losses, weights):\n",
    "    \"\"\"\n",
    "    Compute weighted mean of losses per datapoint.\n",
    "    \"\"\"\n",
    "    return _divide_no_nan(torch.sum(losses * weights), torch.sum(weights))\n",
    "\n",
    "# %% ../../nbs/losses.pytorch.ipynb 7\n",
    "class BasePointLoss(torch.nn.Module):\n",
    "    \"\"\"\n",
    "    Base class for point loss functions.\n",
    "\n",
    "    **Parameters:**\n",
    "    `horizon_weight`: Tensor of size h, weight for each timestamp of the forecasting window. \n",
    "    `outputsize_multiplier`: Multiplier for the output size. \n",
    "    `output_names`: Names of the outputs. \n",
    "    \"\"\"\n",
    "\n",
    "    def __init__(self, horizon_weight, outputsize_multiplier, output_names):\n",
    "        super(BasePointLoss, self).__init__()\n",
    "        if horizon_weight is not None:\n",
    "            horizon_weight = torch.Tensor(horizon_weight.flatten())\n",
    "        self.horizon_weight = horizon_weight\n",
    "        self.outputsize_multiplier = outputsize_multiplier\n",
    "        self.output_names = output_names\n",
    "        self.is_distribution_output = False\n",
    "\n",
    "    def domain_map(self, y_hat: torch.Tensor):\n",
    "        \"\"\"\n",
    "        Univariate loss operates in dimension [B,T,H]/[B,H]\n",
    "        This changes the network's output from [B,H,1]->[B,H]\n",
    "        \"\"\"\n",
    "        return y_hat.squeeze(-1)\n",
    "\n",
    "    def _compute_weights(self, y, mask):\n",
    "        \"\"\"\n",
    "        Compute final weights for each datapoint (based on all weights and all masks)\n",
    "        Set horizon_weight to a ones[H] tensor if not set.\n",
    "        If set, check that it has the same length as the horizon in x.\n",
    "        \"\"\"\n",
    "        if mask is None:\n",
    "            mask = torch.ones_like(y).to(y.device)\n",
    "\n",
    "        if self.horizon_weight is None:\n",
    "            self.horizon_weight = torch.ones(mask.shape[-1])\n",
    "        else:\n",
    "            assert mask.shape[-1] == len(\n",
    "                self.horizon_weight\n",
    "            ), \"horizon_weight must have same length as Y\"\n",
    "\n",
    "        weights = self.horizon_weight.clone()\n",
    "        weights = torch.ones_like(mask, device=mask.device) * weights.to(mask.device)\n",
    "        return weights * mask\n",
    "\n",
    "\n",
    "class MSE_2DWD(BasePointLoss):\n",
    "    from ripser import Rips\n",
    "    import persim\n",
    "\n",
    "    def __init__(self, horizon_weight=None):\n",
    "        super(MSE_2DWD, self).__init__(\n",
    "            horizon_weight=horizon_weight, outputsize_multiplier=1, output_names=[\"\"]\n",
    "        )\n",
    "\n",
    "    def __call__(\n",
    "        self,\n",
    "        y: torch.Tensor,\n",
    "        y_hat: torch.Tensor,\n",
    "        mask: Union[torch.Tensor, None] = None,\n",
    "    ):\n",
    "        \"\"\"\n",
    "        **Parameters:**\n",
    "        `y`: tensor, Actual values.\n",
    "        `y_hat`: tensor, Predicted values.\n",
    "        `mask`: tensor, Specifies datapoints to consider in loss.\n",
    "\n",
    "        **Returns:**\n",
    "        `mse`: tensor (single value).\n",
    "        \"\"\"\n",
    "        rips = Rips(maxdim = 2, verbose=False)\n",
    "        n=2\n",
    "        wasserstein_dists = np.zeros((n))\n",
    "\n",
    "        for i in range(2):\n",
    "          dgm1 = rips.fit_transform(y_hat[:,int(y_hat.shape[1]/2*i):int(y_hat.shape[1]/2*(i+1))].to('cpu').detach().numpy())\n",
    "          dgm2 = rips.fit_transform(y[:,int(y_hat.shape[1]/2*i):int(y_hat.shape[1]/2*(i+1))].to('cpu').detach().numpy())\n",
    "          wasserstein_dists[i] = persim.wasserstein(dgm1[0], dgm2[0], matching=False)\n",
    "\n",
    "        losses = torch.sum((y - y_hat) ** 2)/(y_hat.shape[0]*y_hat.shape[1]) + torch.tensor((np.sum(wasserstein_dists))/n)\n",
    "        return losses\n",
    "     "
   ]
  },
  {
   "cell_type": "code",
   "execution_count": 36,
   "id": "44b26efd",
   "metadata": {},
   "outputs": [
    {
     "data": {
      "text/html": [
       "<div>\n",
       "<style scoped>\n",
       "    .dataframe tbody tr th:only-of-type {\n",
       "        vertical-align: middle;\n",
       "    }\n",
       "\n",
       "    .dataframe tbody tr th {\n",
       "        vertical-align: top;\n",
       "    }\n",
       "\n",
       "    .dataframe thead th {\n",
       "        text-align: right;\n",
       "    }\n",
       "</style>\n",
       "<table border=\"1\" class=\"dataframe\">\n",
       "  <thead>\n",
       "    <tr style=\"text-align: right;\">\n",
       "      <th></th>\n",
       "      <th>y</th>\n",
       "      <th>unique_id</th>\n",
       "      <th>BTC</th>\n",
       "      <th>ds</th>\n",
       "    </tr>\n",
       "    <tr>\n",
       "      <th>Date</th>\n",
       "      <th></th>\n",
       "      <th></th>\n",
       "      <th></th>\n",
       "      <th></th>\n",
       "    </tr>\n",
       "  </thead>\n",
       "  <tbody>\n",
       "    <tr>\n",
       "      <th>2018-01-01</th>\n",
       "      <td>0.011856</td>\n",
       "      <td>ETH</td>\n",
       "      <td>0.014103</td>\n",
       "      <td>2018-01-01</td>\n",
       "    </tr>\n",
       "    <tr>\n",
       "      <th>2018-01-02</th>\n",
       "      <td>0.024648</td>\n",
       "      <td>ETH</td>\n",
       "      <td>0.018719</td>\n",
       "      <td>2018-01-02</td>\n",
       "    </tr>\n",
       "    <tr>\n",
       "      <th>2018-01-03</th>\n",
       "      <td>0.019458</td>\n",
       "      <td>ETH</td>\n",
       "      <td>0.014785</td>\n",
       "      <td>2018-01-03</td>\n",
       "    </tr>\n",
       "    <tr>\n",
       "      <th>2018-01-04</th>\n",
       "      <td>0.020923</td>\n",
       "      <td>ETH</td>\n",
       "      <td>0.013654</td>\n",
       "      <td>2018-01-04</td>\n",
       "    </tr>\n",
       "    <tr>\n",
       "      <th>2018-01-05</th>\n",
       "      <td>0.016601</td>\n",
       "      <td>ETH</td>\n",
       "      <td>0.016831</td>\n",
       "      <td>2018-01-05</td>\n",
       "    </tr>\n",
       "    <tr>\n",
       "      <th>...</th>\n",
       "      <td>...</td>\n",
       "      <td>...</td>\n",
       "      <td>...</td>\n",
       "      <td>...</td>\n",
       "    </tr>\n",
       "    <tr>\n",
       "      <th>2022-04-21</th>\n",
       "      <td>0.006363</td>\n",
       "      <td>ETH</td>\n",
       "      <td>0.006513</td>\n",
       "      <td>2022-04-21</td>\n",
       "    </tr>\n",
       "    <tr>\n",
       "      <th>2022-04-22</th>\n",
       "      <td>0.006104</td>\n",
       "      <td>ETH</td>\n",
       "      <td>0.005723</td>\n",
       "      <td>2022-04-22</td>\n",
       "    </tr>\n",
       "    <tr>\n",
       "      <th>2022-04-23</th>\n",
       "      <td>0.003978</td>\n",
       "      <td>ETH</td>\n",
       "      <td>0.003116</td>\n",
       "      <td>2022-04-23</td>\n",
       "    </tr>\n",
       "    <tr>\n",
       "      <th>2022-04-24</th>\n",
       "      <td>0.004486</td>\n",
       "      <td>ETH</td>\n",
       "      <td>0.004945</td>\n",
       "      <td>2022-04-24</td>\n",
       "    </tr>\n",
       "    <tr>\n",
       "      <th>2022-04-25</th>\n",
       "      <td>0.007578</td>\n",
       "      <td>ETH</td>\n",
       "      <td>0.008144</td>\n",
       "      <td>2022-04-25</td>\n",
       "    </tr>\n",
       "  </tbody>\n",
       "</table>\n",
       "<p>1575 rows × 4 columns</p>\n",
       "</div>"
      ],
      "text/plain": [
       "                   y unique_id       BTC         ds\n",
       "Date                                               \n",
       "2018-01-01  0.011856       ETH  0.014103 2018-01-01\n",
       "2018-01-02  0.024648       ETH  0.018719 2018-01-02\n",
       "2018-01-03  0.019458       ETH  0.014785 2018-01-03\n",
       "2018-01-04  0.020923       ETH  0.013654 2018-01-04\n",
       "2018-01-05  0.016601       ETH  0.016831 2018-01-05\n",
       "...              ...       ...       ...        ...\n",
       "2022-04-21  0.006363       ETH  0.006513 2022-04-21\n",
       "2022-04-22  0.006104       ETH  0.005723 2022-04-22\n",
       "2022-04-23  0.003978       ETH  0.003116 2022-04-23\n",
       "2022-04-24  0.004486       ETH  0.004945 2022-04-24\n",
       "2022-04-25  0.007578       ETH  0.008144 2022-04-25\n",
       "\n",
       "[1575 rows x 4 columns]"
      ]
     },
     "execution_count": 36,
     "metadata": {},
     "output_type": "execute_result"
    }
   ],
   "source": [
    "#creating train dataset\n",
    "train = RVETH.iloc[:int(len(RVETH)*0.7)]\n",
    "validation_length=int(len(RVETH)*0.7)-int(len(RVETH)*0.5)\n",
    "train"
   ]
  },
  {
   "cell_type": "code",
   "execution_count": 37,
   "id": "d949ce47",
   "metadata": {},
   "outputs": [],
   "source": [
    "#Hyperparameter search\n",
    "n_inputs = [3,5,10,15,21,42,84]\n",
    "mlp_units = [[[712, 712], [712, 712]],[[512, 512], [512, 512]],[[250, 250], [250, 250]],[[100, 100], [100, 100]]]\n",
    "epochs=[50,100,150,250,350,450,550,650,750]\n",
    "learning_rate=[0.0005,0.0001,0.00005,0.00001]\n",
    "num_lr_decays=[5,3,2,1]\n",
    "scaler_type=[\"robust\",\"standard\",'minmax']\n",
    "stack_types=[['identity','identity'],['identity','trend'],['seasonality','identity'],['seasonality','trend']]\n",
    "n_harmonics=[0,0,1,1]\n",
    "n_blocks=[[1, 1],[2, 2],[3, 3],[5, 5]]\n",
    "n_polynomials=[0,1,0,1]\n",
    "     "
   ]
  },
  {
   "cell_type": "code",
   "execution_count": 12,
   "id": "2935e3e5",
   "metadata": {},
   "outputs": [
    {
     "name": "stderr",
     "output_type": "stream",
     "text": [
      "Seed set to 113870047\n",
      "2024-03-27 16:29:24.378727: I tensorflow/core/platform/cpu_feature_guard.cc:182] This TensorFlow binary is optimized to use available CPU instructions in performance-critical operations.\n",
      "To enable the following instructions: AVX2 FMA, in other operations, rebuild TensorFlow with the appropriate compiler flags.\n"
     ]
    },
    {
     "data": {
      "application/vnd.jupyter.widget-view+json": {
       "model_id": "",
       "version_major": 2,
       "version_minor": 0
      },
      "text/plain": [
       "Sanity Checking: |                                        | 0/? [00:00<?, ?it/s]"
      ]
     },
     "metadata": {},
     "output_type": "display_data"
    },
    {
     "data": {
      "application/vnd.jupyter.widget-view+json": {
       "model_id": "38d60c39d362419b8cca1d7b9cff87b6",
       "version_major": 2,
       "version_minor": 0
      },
      "text/plain": [
       "Training: |                                               | 0/? [00:00<?, ?it/s]"
      ]
     },
     "metadata": {},
     "output_type": "display_data"
    },
    {
     "data": {
      "application/vnd.jupyter.widget-view+json": {
       "model_id": "",
       "version_major": 2,
       "version_minor": 0
      },
      "text/plain": [
       "Validation: |                                             | 0/? [00:00<?, ?it/s]"
      ]
     },
     "metadata": {},
     "output_type": "display_data"
    },
    {
     "data": {
      "application/vnd.jupyter.widget-view+json": {
       "model_id": "a28e97e052344605b8e61b80922d0eb7",
       "version_major": 2,
       "version_minor": 0
      },
      "text/plain": [
       "Predicting: |                                             | 0/? [00:00<?, ?it/s]"
      ]
     },
     "metadata": {},
     "output_type": "display_data"
    },
    {
     "name": "stdout",
     "output_type": "stream",
     "text": [
      "Epoch: 350 | Inputs: 5 | MLP units: [[712, 712], [712, 712]] | Scaler Type: standard\n",
      "Stack Types: ['seasonality', 'trend'] | Learning Rate: 0 | Block: [5, 5]\n",
      "RMSE: 0.008267155944479701 | QLIKE: 0.13314326625631134 | MAPE: 0.004813084218699038\n"
     ]
    }
   ],
   "source": [
    "#Hyperparameters tuning\n",
    "import random\n",
    "from ripser import Rips\n",
    "import persim\n",
    "for m in range (1):\n",
    "  i=random.randrange(7)\n",
    "  h=random.randrange(4)\n",
    "  a=random.randrange(4)\n",
    "  k=random.randrange(9)\n",
    "  l=random.randrange(4)\n",
    "  n=random.randrange(4)\n",
    "  o=random.randrange(3)\n",
    "  model = NBEATSx(h=21, input_size=n_inputs[i],\n",
    "                loss=MSE_2DWD(),\n",
    "                scaler_type=scaler_type[o],\n",
    "                learning_rate=learning_rate[n],\n",
    "                stack_types=stack_types[l],\n",
    "                n_blocks=n_blocks[a],\n",
    "                mlp_units=mlp_units[h],\n",
    "                windows_batch_size=32,\n",
    "                num_lr_decays=num_lr_decays[n],\n",
    "                val_check_steps=500,\n",
    "                hist_exog_list=['BTC'],\n",
    "                n_harmonics=n_harmonics[l], n_polynomials=n_polynomials[l],\n",
    "                max_steps=epochs[k],\n",
    "                random_seed=random.randrange(129228148))\n",
    "  fcst = NeuralForecast(models=[model],freq='D')\n",
    "  forecasts = fcst.cross_validation(df=train,val_size=21,n_windows=None, test_size=validation_length-validation_length%21,step_size=1)\n",
    "  forecasts = forecasts.dropna().drop_duplicates(subset='ds', keep='first')\n",
    "  if \"NBEATSx-median\" not in list(forecasts.columns.values):\n",
    "    Y_hat=forecasts[\"NBEATSx\"].values\n",
    "  else:\n",
    "    Y_hat=forecasts[\"NBEATSx-median\"].values\n",
    "  Y_true=forecasts[\"y\"].values\n",
    "  RMSE=np.sqrt(np.sum(((Y_true-Y_hat)**2))/len(Y_true))\n",
    "  QLIKE=(np.sum(Y_true/Y_hat-np.log(abs(Y_true)/abs(Y_hat))-1)/len(Y_true))\n",
    "  MAE=np.sum(abs(Y_true-Y_hat))/len(Y_true)\n",
    "  print(f\"Epoch: {epochs[k]} | Inputs: {n_inputs[i]} | MLP units: {mlp_units[h]} | Scaler Type: {scaler_type[o]}\")\n",
    "  print(f\"Stack Types: {stack_types[l]} | Learning Rate: {n} | Block: {n_blocks[a]}\")\n",
    "  print(f\"RMSE: {RMSE} | QLIKE: {QLIKE} | MAPE: {MAE}\")"
   ]
  },
  {
   "cell_type": "code",
   "execution_count": 13,
   "id": "0c2fe5d8",
   "metadata": {},
   "outputs": [
    {
     "name": "stderr",
     "output_type": "stream",
     "text": [
      "Seed set to 55794636\n"
     ]
    },
    {
     "data": {
      "application/vnd.jupyter.widget-view+json": {
       "model_id": "",
       "version_major": 2,
       "version_minor": 0
      },
      "text/plain": [
       "Sanity Checking: |                                        | 0/? [00:00<?, ?it/s]"
      ]
     },
     "metadata": {},
     "output_type": "display_data"
    },
    {
     "data": {
      "application/vnd.jupyter.widget-view+json": {
       "model_id": "f42349f135d8479cb5cf70134ad7e6ad",
       "version_major": 2,
       "version_minor": 0
      },
      "text/plain": [
       "Training: |                                               | 0/? [00:00<?, ?it/s]"
      ]
     },
     "metadata": {},
     "output_type": "display_data"
    },
    {
     "data": {
      "application/vnd.jupyter.widget-view+json": {
       "model_id": "",
       "version_major": 2,
       "version_minor": 0
      },
      "text/plain": [
       "Validation: |                                             | 0/? [00:00<?, ?it/s]"
      ]
     },
     "metadata": {},
     "output_type": "display_data"
    },
    {
     "data": {
      "application/vnd.jupyter.widget-view+json": {
       "model_id": "25b374f2686741d0920bf20b5bfaf1b7",
       "version_major": 2,
       "version_minor": 0
      },
      "text/plain": [
       "Predicting: |                                             | 0/? [00:00<?, ?it/s]"
      ]
     },
     "metadata": {},
     "output_type": "display_data"
    },
    {
     "name": "stderr",
     "output_type": "stream",
     "text": [
      "Seed set to 3111650\n"
     ]
    },
    {
     "name": "stdout",
     "output_type": "stream",
     "text": [
      "Epoch: 750 | Inputs: 15 | MLP units: [[712, 712], [712, 712]] | Scaler Type: robust\n",
      "Stack Types: ['identity', 'trend'] | Learning Rate: 1 | Block: [2, 2]\n",
      "RMSE: 0.007650131981885769 | QLIKE: 0.1320491568481893 | MAPE: 0.004691210738941892\n"
     ]
    },
    {
     "data": {
      "application/vnd.jupyter.widget-view+json": {
       "model_id": "",
       "version_major": 2,
       "version_minor": 0
      },
      "text/plain": [
       "Sanity Checking: |                                        | 0/? [00:00<?, ?it/s]"
      ]
     },
     "metadata": {},
     "output_type": "display_data"
    },
    {
     "data": {
      "application/vnd.jupyter.widget-view+json": {
       "model_id": "25c475895aae4ce3b4e3cd43bd1537c0",
       "version_major": 2,
       "version_minor": 0
      },
      "text/plain": [
       "Training: |                                               | 0/? [00:00<?, ?it/s]"
      ]
     },
     "metadata": {},
     "output_type": "display_data"
    },
    {
     "data": {
      "application/vnd.jupyter.widget-view+json": {
       "model_id": "",
       "version_major": 2,
       "version_minor": 0
      },
      "text/plain": [
       "Validation: |                                             | 0/? [00:00<?, ?it/s]"
      ]
     },
     "metadata": {},
     "output_type": "display_data"
    },
    {
     "data": {
      "application/vnd.jupyter.widget-view+json": {
       "model_id": "a2dd97f87577469cb6031b7f7ca59763",
       "version_major": 2,
       "version_minor": 0
      },
      "text/plain": [
       "Predicting: |                                             | 0/? [00:00<?, ?it/s]"
      ]
     },
     "metadata": {},
     "output_type": "display_data"
    },
    {
     "name": "stderr",
     "output_type": "stream",
     "text": [
      "Seed set to 68670611\n"
     ]
    },
    {
     "name": "stdout",
     "output_type": "stream",
     "text": [
      "Epoch: 250 | Inputs: 42 | MLP units: [[512, 512], [512, 512]] | Scaler Type: standard\n",
      "Stack Types: ['seasonality', 'trend'] | Learning Rate: 3 | Block: [5, 5]\n",
      "RMSE: 0.0072584432054335676 | QLIKE: 0.13047498673822458 | MAPE: 0.004610996435479565\n"
     ]
    },
    {
     "data": {
      "application/vnd.jupyter.widget-view+json": {
       "model_id": "",
       "version_major": 2,
       "version_minor": 0
      },
      "text/plain": [
       "Sanity Checking: |                                        | 0/? [00:00<?, ?it/s]"
      ]
     },
     "metadata": {},
     "output_type": "display_data"
    },
    {
     "data": {
      "application/vnd.jupyter.widget-view+json": {
       "model_id": "9d838188a48d463384cf235338b05dce",
       "version_major": 2,
       "version_minor": 0
      },
      "text/plain": [
       "Training: |                                               | 0/? [00:00<?, ?it/s]"
      ]
     },
     "metadata": {},
     "output_type": "display_data"
    },
    {
     "data": {
      "application/vnd.jupyter.widget-view+json": {
       "model_id": "",
       "version_major": 2,
       "version_minor": 0
      },
      "text/plain": [
       "Validation: |                                             | 0/? [00:00<?, ?it/s]"
      ]
     },
     "metadata": {},
     "output_type": "display_data"
    },
    {
     "data": {
      "application/vnd.jupyter.widget-view+json": {
       "model_id": "061028086d4d4037b3909e5c36fbf183",
       "version_major": 2,
       "version_minor": 0
      },
      "text/plain": [
       "Predicting: |                                             | 0/? [00:00<?, ?it/s]"
      ]
     },
     "metadata": {},
     "output_type": "display_data"
    },
    {
     "name": "stderr",
     "output_type": "stream",
     "text": [
      "Seed set to 48711599\n"
     ]
    },
    {
     "name": "stdout",
     "output_type": "stream",
     "text": [
      "Epoch: 350 | Inputs: 84 | MLP units: [[712, 712], [712, 712]] | Scaler Type: robust\n",
      "Stack Types: ['seasonality', 'identity'] | Learning Rate: 3 | Block: [2, 2]\n",
      "RMSE: 0.006804661494356043 | QLIKE: 0.11262431323378244 | MAPE: 0.004254794312862865\n"
     ]
    },
    {
     "data": {
      "application/vnd.jupyter.widget-view+json": {
       "model_id": "",
       "version_major": 2,
       "version_minor": 0
      },
      "text/plain": [
       "Sanity Checking: |                                        | 0/? [00:00<?, ?it/s]"
      ]
     },
     "metadata": {},
     "output_type": "display_data"
    },
    {
     "data": {
      "application/vnd.jupyter.widget-view+json": {
       "model_id": "585cd15a81fc42b0875b97ce3999f7de",
       "version_major": 2,
       "version_minor": 0
      },
      "text/plain": [
       "Training: |                                               | 0/? [00:00<?, ?it/s]"
      ]
     },
     "metadata": {},
     "output_type": "display_data"
    },
    {
     "data": {
      "application/vnd.jupyter.widget-view+json": {
       "model_id": "",
       "version_major": 2,
       "version_minor": 0
      },
      "text/plain": [
       "Validation: |                                             | 0/? [00:00<?, ?it/s]"
      ]
     },
     "metadata": {},
     "output_type": "display_data"
    },
    {
     "data": {
      "application/vnd.jupyter.widget-view+json": {
       "model_id": "14083641b7994892981bdd0d1f641fae",
       "version_major": 2,
       "version_minor": 0
      },
      "text/plain": [
       "Predicting: |                                             | 0/? [00:00<?, ?it/s]"
      ]
     },
     "metadata": {},
     "output_type": "display_data"
    },
    {
     "name": "stdout",
     "output_type": "stream",
     "text": [
      "Epoch: 450 | Inputs: 10 | MLP units: [[712, 712], [712, 712]] | Scaler Type: robust\n",
      "Stack Types: ['identity', 'identity'] | Learning Rate: 0 | Block: [1, 1]\n",
      "RMSE: 0.008490479547181958 | QLIKE: 0.14569668889039444 | MAPE: 0.005123995031544627\n"
     ]
    }
   ],
   "source": [
    "for m in range (4):\n",
    "  i=random.randrange(7)\n",
    "  h=random.randrange(4)\n",
    "  a=random.randrange(4)\n",
    "  k=random.randrange(9)\n",
    "  l=random.randrange(4)\n",
    "  n=random.randrange(4)\n",
    "  o=random.randrange(3)\n",
    "  model = NBEATSx(h=21, input_size=n_inputs[i],\n",
    "                loss=MSE_2DWD(),\n",
    "                scaler_type=scaler_type[o],\n",
    "                learning_rate=learning_rate[n],\n",
    "                stack_types=stack_types[l],\n",
    "                n_blocks=n_blocks[a],\n",
    "                mlp_units=mlp_units[h],\n",
    "                windows_batch_size=32,\n",
    "                num_lr_decays=num_lr_decays[n],\n",
    "                val_check_steps=500,\n",
    "                hist_exog_list=['BTC'],\n",
    "                n_harmonics=n_harmonics[l], n_polynomials=n_polynomials[l],\n",
    "                max_steps=epochs[k],\n",
    "                random_seed=random.randrange(129228148))\n",
    "  fcst = NeuralForecast(models=[model],freq='D')\n",
    "  forecasts = fcst.cross_validation(df=train,val_size=21,n_windows=None, test_size=validation_length-validation_length%21,step_size=1)\n",
    "  forecasts = forecasts.dropna().drop_duplicates(subset='ds', keep='first')\n",
    "  if \"NBEATSx-median\" not in list(forecasts.columns.values):\n",
    "    Y_hat=forecasts[\"NBEATSx\"].values\n",
    "  else:\n",
    "    Y_hat=forecasts[\"NBEATSx-median\"].values\n",
    "  Y_true=forecasts[\"y\"].values\n",
    "  RMSE=np.sqrt(np.sum(((Y_true-Y_hat)**2))/len(Y_true))\n",
    "  QLIKE=(np.sum(Y_true/Y_hat-np.log(abs(Y_true)/abs(Y_hat))-1)/len(Y_true))\n",
    "  MAE=np.sum(abs(Y_true-Y_hat))/len(Y_true)\n",
    "  print(f\"Epoch: {epochs[k]} | Inputs: {n_inputs[i]} | MLP units: {mlp_units[h]} | Scaler Type: {scaler_type[o]}\")\n",
    "  print(f\"Stack Types: {stack_types[l]} | Learning Rate: {n} | Block: {n_blocks[a]}\")\n",
    "  print(f\"RMSE: {RMSE} | QLIKE: {QLIKE} | MAPE: {MAE}\")"
   ]
  },
  {
   "cell_type": "code",
   "execution_count": 14,
   "id": "daa332ae",
   "metadata": {},
   "outputs": [
    {
     "name": "stderr",
     "output_type": "stream",
     "text": [
      "Seed set to 46348483\n"
     ]
    },
    {
     "data": {
      "application/vnd.jupyter.widget-view+json": {
       "model_id": "",
       "version_major": 2,
       "version_minor": 0
      },
      "text/plain": [
       "Sanity Checking: |                                        | 0/? [00:00<?, ?it/s]"
      ]
     },
     "metadata": {},
     "output_type": "display_data"
    },
    {
     "data": {
      "application/vnd.jupyter.widget-view+json": {
       "model_id": "3573b74dd4bc41aa8e9db43c46edbe94",
       "version_major": 2,
       "version_minor": 0
      },
      "text/plain": [
       "Training: |                                               | 0/? [00:00<?, ?it/s]"
      ]
     },
     "metadata": {},
     "output_type": "display_data"
    },
    {
     "data": {
      "application/vnd.jupyter.widget-view+json": {
       "model_id": "",
       "version_major": 2,
       "version_minor": 0
      },
      "text/plain": [
       "Validation: |                                             | 0/? [00:00<?, ?it/s]"
      ]
     },
     "metadata": {},
     "output_type": "display_data"
    },
    {
     "data": {
      "application/vnd.jupyter.widget-view+json": {
       "model_id": "3209a4c71b1a40f7bd360038600b1411",
       "version_major": 2,
       "version_minor": 0
      },
      "text/plain": [
       "Predicting: |                                             | 0/? [00:00<?, ?it/s]"
      ]
     },
     "metadata": {},
     "output_type": "display_data"
    },
    {
     "name": "stderr",
     "output_type": "stream",
     "text": [
      "Seed set to 36782457\n"
     ]
    },
    {
     "name": "stdout",
     "output_type": "stream",
     "text": [
      "Epoch: 550 | Inputs: 42 | MLP units: [[712, 712], [712, 712]] | Scaler Type: robust\n",
      "Stack Types: ['identity', 'trend'] | Learning Rate: 2 | Block: [3, 3]\n",
      "RMSE: 0.008113005711844116 | QLIKE: 0.16062281820439842 | MAPE: 0.005469919305098301\n"
     ]
    },
    {
     "data": {
      "application/vnd.jupyter.widget-view+json": {
       "model_id": "",
       "version_major": 2,
       "version_minor": 0
      },
      "text/plain": [
       "Sanity Checking: |                                        | 0/? [00:00<?, ?it/s]"
      ]
     },
     "metadata": {},
     "output_type": "display_data"
    },
    {
     "data": {
      "application/vnd.jupyter.widget-view+json": {
       "model_id": "eac5373042684f8f8cd9d70a7a104553",
       "version_major": 2,
       "version_minor": 0
      },
      "text/plain": [
       "Training: |                                               | 0/? [00:00<?, ?it/s]"
      ]
     },
     "metadata": {},
     "output_type": "display_data"
    },
    {
     "data": {
      "application/vnd.jupyter.widget-view+json": {
       "model_id": "",
       "version_major": 2,
       "version_minor": 0
      },
      "text/plain": [
       "Validation: |                                             | 0/? [00:00<?, ?it/s]"
      ]
     },
     "metadata": {},
     "output_type": "display_data"
    },
    {
     "data": {
      "application/vnd.jupyter.widget-view+json": {
       "model_id": "46c8c6314bdd46ca8734cf55eeb2bc00",
       "version_major": 2,
       "version_minor": 0
      },
      "text/plain": [
       "Predicting: |                                             | 0/? [00:00<?, ?it/s]"
      ]
     },
     "metadata": {},
     "output_type": "display_data"
    },
    {
     "name": "stderr",
     "output_type": "stream",
     "text": [
      "Seed set to 25521967\n"
     ]
    },
    {
     "name": "stdout",
     "output_type": "stream",
     "text": [
      "Epoch: 750 | Inputs: 5 | MLP units: [[512, 512], [512, 512]] | Scaler Type: minmax\n",
      "Stack Types: ['identity', 'identity'] | Learning Rate: 0 | Block: [5, 5]\n",
      "RMSE: 0.008663084625960795 | QLIKE: 0.14587698421422163 | MAPE: 0.005223473180815985\n"
     ]
    },
    {
     "data": {
      "application/vnd.jupyter.widget-view+json": {
       "model_id": "",
       "version_major": 2,
       "version_minor": 0
      },
      "text/plain": [
       "Sanity Checking: |                                        | 0/? [00:00<?, ?it/s]"
      ]
     },
     "metadata": {},
     "output_type": "display_data"
    },
    {
     "data": {
      "application/vnd.jupyter.widget-view+json": {
       "model_id": "651843af18f84dbd88000e0de94aa2af",
       "version_major": 2,
       "version_minor": 0
      },
      "text/plain": [
       "Training: |                                               | 0/? [00:00<?, ?it/s]"
      ]
     },
     "metadata": {},
     "output_type": "display_data"
    },
    {
     "data": {
      "application/vnd.jupyter.widget-view+json": {
       "model_id": "",
       "version_major": 2,
       "version_minor": 0
      },
      "text/plain": [
       "Validation: |                                             | 0/? [00:00<?, ?it/s]"
      ]
     },
     "metadata": {},
     "output_type": "display_data"
    },
    {
     "data": {
      "application/vnd.jupyter.widget-view+json": {
       "model_id": "20f763dd06df4e0198812fb22b9c4b26",
       "version_major": 2,
       "version_minor": 0
      },
      "text/plain": [
       "Predicting: |                                             | 0/? [00:00<?, ?it/s]"
      ]
     },
     "metadata": {},
     "output_type": "display_data"
    },
    {
     "name": "stderr",
     "output_type": "stream",
     "text": [
      "Seed set to 128919308\n"
     ]
    },
    {
     "name": "stdout",
     "output_type": "stream",
     "text": [
      "Epoch: 750 | Inputs: 5 | MLP units: [[512, 512], [512, 512]] | Scaler Type: robust\n",
      "Stack Types: ['identity', 'trend'] | Learning Rate: 2 | Block: [5, 5]\n",
      "RMSE: 0.010788790118601406 | QLIKE: 0.17264718901411108 | MAPE: 0.00637229478642928\n"
     ]
    },
    {
     "data": {
      "application/vnd.jupyter.widget-view+json": {
       "model_id": "",
       "version_major": 2,
       "version_minor": 0
      },
      "text/plain": [
       "Sanity Checking: |                                        | 0/? [00:00<?, ?it/s]"
      ]
     },
     "metadata": {},
     "output_type": "display_data"
    },
    {
     "data": {
      "application/vnd.jupyter.widget-view+json": {
       "model_id": "69c34ff1d1234849bc0a3c5cc5148b39",
       "version_major": 2,
       "version_minor": 0
      },
      "text/plain": [
       "Training: |                                               | 0/? [00:00<?, ?it/s]"
      ]
     },
     "metadata": {},
     "output_type": "display_data"
    },
    {
     "data": {
      "application/vnd.jupyter.widget-view+json": {
       "model_id": "",
       "version_major": 2,
       "version_minor": 0
      },
      "text/plain": [
       "Validation: |                                             | 0/? [00:00<?, ?it/s]"
      ]
     },
     "metadata": {},
     "output_type": "display_data"
    },
    {
     "data": {
      "application/vnd.jupyter.widget-view+json": {
       "model_id": "0a41d3da0f514e20b90d0d1feed7c9d8",
       "version_major": 2,
       "version_minor": 0
      },
      "text/plain": [
       "Predicting: |                                             | 0/? [00:00<?, ?it/s]"
      ]
     },
     "metadata": {},
     "output_type": "display_data"
    },
    {
     "name": "stderr",
     "output_type": "stream",
     "text": [
      "Seed set to 126845591\n"
     ]
    },
    {
     "name": "stdout",
     "output_type": "stream",
     "text": [
      "Epoch: 750 | Inputs: 5 | MLP units: [[512, 512], [512, 512]] | Scaler Type: standard\n",
      "Stack Types: ['seasonality', 'trend'] | Learning Rate: 0 | Block: [2, 2]\n",
      "RMSE: 0.008022637851990897 | QLIKE: 0.14440261893077272 | MAPE: 0.004946522267320504\n"
     ]
    },
    {
     "data": {
      "application/vnd.jupyter.widget-view+json": {
       "model_id": "",
       "version_major": 2,
       "version_minor": 0
      },
      "text/plain": [
       "Sanity Checking: |                                        | 0/? [00:00<?, ?it/s]"
      ]
     },
     "metadata": {},
     "output_type": "display_data"
    },
    {
     "data": {
      "application/vnd.jupyter.widget-view+json": {
       "model_id": "dcab22707edb462395611688b723f142",
       "version_major": 2,
       "version_minor": 0
      },
      "text/plain": [
       "Training: |                                               | 0/? [00:00<?, ?it/s]"
      ]
     },
     "metadata": {},
     "output_type": "display_data"
    },
    {
     "data": {
      "application/vnd.jupyter.widget-view+json": {
       "model_id": "",
       "version_major": 2,
       "version_minor": 0
      },
      "text/plain": [
       "Validation: |                                             | 0/? [00:00<?, ?it/s]"
      ]
     },
     "metadata": {},
     "output_type": "display_data"
    },
    {
     "data": {
      "application/vnd.jupyter.widget-view+json": {
       "model_id": "487b075fae8a4726802faa1e14e2c5c4",
       "version_major": 2,
       "version_minor": 0
      },
      "text/plain": [
       "Predicting: |                                             | 0/? [00:00<?, ?it/s]"
      ]
     },
     "metadata": {},
     "output_type": "display_data"
    },
    {
     "name": "stdout",
     "output_type": "stream",
     "text": [
      "Epoch: 50 | Inputs: 21 | MLP units: [[100, 100], [100, 100]] | Scaler Type: minmax\n",
      "Stack Types: ['seasonality', 'trend'] | Learning Rate: 3 | Block: [2, 2]\n",
      "RMSE: 0.016975231129934848 | QLIKE: 0.25706110034002777 | MAPE: 0.01097930222938836\n"
     ]
    }
   ],
   "source": [
    "#First\n",
    "for m in range (5):\n",
    "  i=random.randrange(7)\n",
    "  h=random.randrange(4)\n",
    "  a=random.randrange(4)\n",
    "  k=random.randrange(9)\n",
    "  l=random.randrange(4)\n",
    "  n=random.randrange(4)\n",
    "  o=random.randrange(3)\n",
    "  model = NBEATSx(h=21, input_size=n_inputs[i],\n",
    "                loss=MSE_2DWD(),\n",
    "                scaler_type=scaler_type[o],\n",
    "                learning_rate=learning_rate[n],\n",
    "                stack_types=stack_types[l],\n",
    "                n_blocks=n_blocks[a],\n",
    "                mlp_units=mlp_units[h],\n",
    "                windows_batch_size=32,\n",
    "                num_lr_decays=num_lr_decays[n],\n",
    "                val_check_steps=500,\n",
    "                hist_exog_list=['BTC'],\n",
    "                n_harmonics=n_harmonics[l], n_polynomials=n_polynomials[l],\n",
    "                max_steps=epochs[k],\n",
    "                random_seed=random.randrange(129228148))\n",
    "  fcst = NeuralForecast(models=[model],freq='D')\n",
    "  forecasts = fcst.cross_validation(df=train,val_size=21,n_windows=None, test_size=validation_length-validation_length%21,step_size=1)\n",
    "  forecasts = forecasts.dropna().drop_duplicates(subset='ds', keep='first')\n",
    "  if \"NBEATSx-median\" not in list(forecasts.columns.values):\n",
    "    Y_hat=forecasts[\"NBEATSx\"].values\n",
    "  else:\n",
    "    Y_hat=forecasts[\"NBEATSx-median\"].values\n",
    "  Y_true=forecasts[\"y\"].values\n",
    "  RMSE=np.sqrt(np.sum(((Y_true-Y_hat)**2))/len(Y_true))\n",
    "  QLIKE=(np.sum(Y_true/Y_hat-np.log(abs(Y_true)/abs(Y_hat))-1)/len(Y_true))\n",
    "  MAE=np.sum(abs(Y_true-Y_hat))/len(Y_true)\n",
    "  print(f\"Epoch: {epochs[k]} | Inputs: {n_inputs[i]} | MLP units: {mlp_units[h]} | Scaler Type: {scaler_type[o]}\")\n",
    "  print(f\"Stack Types: {stack_types[l]} | Learning Rate: {n} | Block: {n_blocks[a]}\")\n",
    "  print(f\"RMSE: {RMSE} | QLIKE: {QLIKE} | MAPE: {MAE}\")"
   ]
  },
  {
   "cell_type": "code",
   "execution_count": 15,
   "id": "7bcd50a9",
   "metadata": {},
   "outputs": [
    {
     "name": "stderr",
     "output_type": "stream",
     "text": [
      "Seed set to 56547407\n"
     ]
    },
    {
     "data": {
      "application/vnd.jupyter.widget-view+json": {
       "model_id": "",
       "version_major": 2,
       "version_minor": 0
      },
      "text/plain": [
       "Sanity Checking: |                                        | 0/? [00:00<?, ?it/s]"
      ]
     },
     "metadata": {},
     "output_type": "display_data"
    },
    {
     "data": {
      "application/vnd.jupyter.widget-view+json": {
       "model_id": "3ffef91999434a8996f859635a6fb9a5",
       "version_major": 2,
       "version_minor": 0
      },
      "text/plain": [
       "Training: |                                               | 0/? [00:00<?, ?it/s]"
      ]
     },
     "metadata": {},
     "output_type": "display_data"
    },
    {
     "data": {
      "application/vnd.jupyter.widget-view+json": {
       "model_id": "",
       "version_major": 2,
       "version_minor": 0
      },
      "text/plain": [
       "Validation: |                                             | 0/? [00:00<?, ?it/s]"
      ]
     },
     "metadata": {},
     "output_type": "display_data"
    },
    {
     "data": {
      "application/vnd.jupyter.widget-view+json": {
       "model_id": "907e7f4552474539a7717a20f372391a",
       "version_major": 2,
       "version_minor": 0
      },
      "text/plain": [
       "Predicting: |                                             | 0/? [00:00<?, ?it/s]"
      ]
     },
     "metadata": {},
     "output_type": "display_data"
    },
    {
     "name": "stderr",
     "output_type": "stream",
     "text": [
      "Seed set to 5340023\n"
     ]
    },
    {
     "name": "stdout",
     "output_type": "stream",
     "text": [
      "Epoch: 250 | Inputs: 15 | MLP units: [[100, 100], [100, 100]] | Scaler Type: standard\n",
      "Stack Types: ['identity', 'identity'] | Learning Rate: 0 | Block: [1, 1]\n",
      "RMSE: 0.007418163340608881 | QLIKE: 0.11936752262288083 | MAPE: 0.004615783806931926\n"
     ]
    },
    {
     "data": {
      "application/vnd.jupyter.widget-view+json": {
       "model_id": "",
       "version_major": 2,
       "version_minor": 0
      },
      "text/plain": [
       "Sanity Checking: |                                        | 0/? [00:00<?, ?it/s]"
      ]
     },
     "metadata": {},
     "output_type": "display_data"
    },
    {
     "data": {
      "application/vnd.jupyter.widget-view+json": {
       "model_id": "de4b6dd0bd224c46a2d5ef8f9a1b1708",
       "version_major": 2,
       "version_minor": 0
      },
      "text/plain": [
       "Training: |                                               | 0/? [00:00<?, ?it/s]"
      ]
     },
     "metadata": {},
     "output_type": "display_data"
    },
    {
     "data": {
      "application/vnd.jupyter.widget-view+json": {
       "model_id": "",
       "version_major": 2,
       "version_minor": 0
      },
      "text/plain": [
       "Validation: |                                             | 0/? [00:00<?, ?it/s]"
      ]
     },
     "metadata": {},
     "output_type": "display_data"
    },
    {
     "data": {
      "application/vnd.jupyter.widget-view+json": {
       "model_id": "ced57aaf8c654f3e836c1462f8aaf3c6",
       "version_major": 2,
       "version_minor": 0
      },
      "text/plain": [
       "Predicting: |                                             | 0/? [00:00<?, ?it/s]"
      ]
     },
     "metadata": {},
     "output_type": "display_data"
    },
    {
     "name": "stderr",
     "output_type": "stream",
     "text": [
      "Seed set to 126835260\n"
     ]
    },
    {
     "name": "stdout",
     "output_type": "stream",
     "text": [
      "Epoch: 350 | Inputs: 3 | MLP units: [[250, 250], [250, 250]] | Scaler Type: robust\n",
      "Stack Types: ['seasonality', 'trend'] | Learning Rate: 0 | Block: [3, 3]\n",
      "RMSE: 0.017321203586902856 | QLIKE: 0.2879998964173985 | MAPE: 0.008248114224810149\n"
     ]
    },
    {
     "data": {
      "application/vnd.jupyter.widget-view+json": {
       "model_id": "",
       "version_major": 2,
       "version_minor": 0
      },
      "text/plain": [
       "Sanity Checking: |                                        | 0/? [00:00<?, ?it/s]"
      ]
     },
     "metadata": {},
     "output_type": "display_data"
    },
    {
     "data": {
      "application/vnd.jupyter.widget-view+json": {
       "model_id": "2e726f4c0171418eb5fdc70154d2934f",
       "version_major": 2,
       "version_minor": 0
      },
      "text/plain": [
       "Training: |                                               | 0/? [00:00<?, ?it/s]"
      ]
     },
     "metadata": {},
     "output_type": "display_data"
    },
    {
     "data": {
      "application/vnd.jupyter.widget-view+json": {
       "model_id": "",
       "version_major": 2,
       "version_minor": 0
      },
      "text/plain": [
       "Validation: |                                             | 0/? [00:00<?, ?it/s]"
      ]
     },
     "metadata": {},
     "output_type": "display_data"
    },
    {
     "data": {
      "application/vnd.jupyter.widget-view+json": {
       "model_id": "dc1f75ae64c84ee1a17a47af4813e767",
       "version_major": 2,
       "version_minor": 0
      },
      "text/plain": [
       "Predicting: |                                             | 0/? [00:00<?, ?it/s]"
      ]
     },
     "metadata": {},
     "output_type": "display_data"
    },
    {
     "name": "stderr",
     "output_type": "stream",
     "text": [
      "Seed set to 67083991\n"
     ]
    },
    {
     "name": "stdout",
     "output_type": "stream",
     "text": [
      "Epoch: 750 | Inputs: 5 | MLP units: [[100, 100], [100, 100]] | Scaler Type: standard\n",
      "Stack Types: ['identity', 'identity'] | Learning Rate: 1 | Block: [2, 2]\n",
      "RMSE: 0.009120963193335451 | QLIKE: 0.14187875392652488 | MAPE: 0.005342543049963073\n"
     ]
    },
    {
     "data": {
      "application/vnd.jupyter.widget-view+json": {
       "model_id": "",
       "version_major": 2,
       "version_minor": 0
      },
      "text/plain": [
       "Sanity Checking: |                                        | 0/? [00:00<?, ?it/s]"
      ]
     },
     "metadata": {},
     "output_type": "display_data"
    },
    {
     "data": {
      "application/vnd.jupyter.widget-view+json": {
       "model_id": "1422b1c0667841f8abd4bc1fbbfb03c1",
       "version_major": 2,
       "version_minor": 0
      },
      "text/plain": [
       "Training: |                                               | 0/? [00:00<?, ?it/s]"
      ]
     },
     "metadata": {},
     "output_type": "display_data"
    },
    {
     "data": {
      "application/vnd.jupyter.widget-view+json": {
       "model_id": "",
       "version_major": 2,
       "version_minor": 0
      },
      "text/plain": [
       "Validation: |                                             | 0/? [00:00<?, ?it/s]"
      ]
     },
     "metadata": {},
     "output_type": "display_data"
    },
    {
     "data": {
      "application/vnd.jupyter.widget-view+json": {
       "model_id": "a11a235ccc6a4a8dba20413750191c84",
       "version_major": 2,
       "version_minor": 0
      },
      "text/plain": [
       "Predicting: |                                             | 0/? [00:00<?, ?it/s]"
      ]
     },
     "metadata": {},
     "output_type": "display_data"
    },
    {
     "name": "stderr",
     "output_type": "stream",
     "text": [
      "Seed set to 4830332\n"
     ]
    },
    {
     "name": "stdout",
     "output_type": "stream",
     "text": [
      "Epoch: 250 | Inputs: 84 | MLP units: [[712, 712], [712, 712]] | Scaler Type: standard\n",
      "Stack Types: ['identity', 'identity'] | Learning Rate: 1 | Block: [2, 2]\n",
      "RMSE: 0.00671719726413307 | QLIKE: 0.11003854512472498 | MAPE: 0.004387613643502135\n"
     ]
    },
    {
     "data": {
      "application/vnd.jupyter.widget-view+json": {
       "model_id": "",
       "version_major": 2,
       "version_minor": 0
      },
      "text/plain": [
       "Sanity Checking: |                                        | 0/? [00:00<?, ?it/s]"
      ]
     },
     "metadata": {},
     "output_type": "display_data"
    },
    {
     "data": {
      "application/vnd.jupyter.widget-view+json": {
       "model_id": "27fc568dd30f419b96b888eb80c90462",
       "version_major": 2,
       "version_minor": 0
      },
      "text/plain": [
       "Training: |                                               | 0/? [00:00<?, ?it/s]"
      ]
     },
     "metadata": {},
     "output_type": "display_data"
    },
    {
     "data": {
      "application/vnd.jupyter.widget-view+json": {
       "model_id": "",
       "version_major": 2,
       "version_minor": 0
      },
      "text/plain": [
       "Validation: |                                             | 0/? [00:00<?, ?it/s]"
      ]
     },
     "metadata": {},
     "output_type": "display_data"
    },
    {
     "data": {
      "application/vnd.jupyter.widget-view+json": {
       "model_id": "df263ff924eb4a1abc5d457ec83a5555",
       "version_major": 2,
       "version_minor": 0
      },
      "text/plain": [
       "Predicting: |                                             | 0/? [00:00<?, ?it/s]"
      ]
     },
     "metadata": {},
     "output_type": "display_data"
    },
    {
     "name": "stdout",
     "output_type": "stream",
     "text": [
      "Epoch: 250 | Inputs: 42 | MLP units: [[100, 100], [100, 100]] | Scaler Type: robust\n",
      "Stack Types: ['identity', 'identity'] | Learning Rate: 1 | Block: [5, 5]\n",
      "RMSE: 0.007022281979872297 | QLIKE: 0.12255513421332935 | MAPE: 0.004203553611358196\n"
     ]
    }
   ],
   "source": [
    "#Second\n",
    "for m in range (5):\n",
    "  i=random.randrange(7)\n",
    "  h=random.randrange(4)\n",
    "  a=random.randrange(4)\n",
    "  k=random.randrange(9)\n",
    "  l=random.randrange(4)\n",
    "  n=random.randrange(4)\n",
    "  o=random.randrange(3)\n",
    "  model = NBEATSx(h=21, input_size=n_inputs[i],\n",
    "                loss=MSE_2DWD(),\n",
    "                scaler_type=scaler_type[o],\n",
    "                learning_rate=learning_rate[n],\n",
    "                stack_types=stack_types[l],\n",
    "                n_blocks=n_blocks[a],\n",
    "                mlp_units=mlp_units[h],\n",
    "                windows_batch_size=32,\n",
    "                num_lr_decays=num_lr_decays[n],\n",
    "                val_check_steps=500,\n",
    "                hist_exog_list=['BTC'],\n",
    "                n_harmonics=n_harmonics[l], n_polynomials=n_polynomials[l],\n",
    "                max_steps=epochs[k],\n",
    "                random_seed=random.randrange(129228148))\n",
    "  fcst = NeuralForecast(models=[model],freq='D')\n",
    "  forecasts = fcst.cross_validation(df=train,val_size=21,n_windows=None, test_size=validation_length-validation_length%21,step_size=1)\n",
    "  forecasts = forecasts.dropna().drop_duplicates(subset='ds', keep='first')\n",
    "  if \"NBEATSx-median\" not in list(forecasts.columns.values):\n",
    "    Y_hat=forecasts[\"NBEATSx\"].values\n",
    "  else:\n",
    "    Y_hat=forecasts[\"NBEATSx-median\"].values\n",
    "  Y_true=forecasts[\"y\"].values\n",
    "  RMSE=np.sqrt(np.sum(((Y_true-Y_hat)**2))/len(Y_true))\n",
    "  QLIKE=(np.sum(Y_true/Y_hat-np.log(abs(Y_true)/abs(Y_hat))-1)/len(Y_true))\n",
    "  MAE=np.sum(abs(Y_true-Y_hat))/len(Y_true)\n",
    "  print(f\"Epoch: {epochs[k]} | Inputs: {n_inputs[i]} | MLP units: {mlp_units[h]} | Scaler Type: {scaler_type[o]}\")\n",
    "  print(f\"Stack Types: {stack_types[l]} | Learning Rate: {n} | Block: {n_blocks[a]}\")\n",
    "  print(f\"RMSE: {RMSE} | QLIKE: {QLIKE} | MAPE: {MAE}\")"
   ]
  },
  {
   "cell_type": "code",
   "execution_count": 16,
   "id": "c102c4cb",
   "metadata": {},
   "outputs": [
    {
     "name": "stderr",
     "output_type": "stream",
     "text": [
      "Seed set to 107419533\n"
     ]
    },
    {
     "data": {
      "application/vnd.jupyter.widget-view+json": {
       "model_id": "",
       "version_major": 2,
       "version_minor": 0
      },
      "text/plain": [
       "Sanity Checking: |                                        | 0/? [00:00<?, ?it/s]"
      ]
     },
     "metadata": {},
     "output_type": "display_data"
    },
    {
     "data": {
      "application/vnd.jupyter.widget-view+json": {
       "model_id": "3c3c816a7da247e09ee0a7c941a7a5e7",
       "version_major": 2,
       "version_minor": 0
      },
      "text/plain": [
       "Training: |                                               | 0/? [00:00<?, ?it/s]"
      ]
     },
     "metadata": {},
     "output_type": "display_data"
    },
    {
     "data": {
      "application/vnd.jupyter.widget-view+json": {
       "model_id": "",
       "version_major": 2,
       "version_minor": 0
      },
      "text/plain": [
       "Validation: |                                             | 0/? [00:00<?, ?it/s]"
      ]
     },
     "metadata": {},
     "output_type": "display_data"
    },
    {
     "data": {
      "application/vnd.jupyter.widget-view+json": {
       "model_id": "2765a0e1ccc14ccb88e1f090a8af1df4",
       "version_major": 2,
       "version_minor": 0
      },
      "text/plain": [
       "Predicting: |                                             | 0/? [00:00<?, ?it/s]"
      ]
     },
     "metadata": {},
     "output_type": "display_data"
    },
    {
     "name": "stderr",
     "output_type": "stream",
     "text": [
      "Seed set to 58913223\n"
     ]
    },
    {
     "name": "stdout",
     "output_type": "stream",
     "text": [
      "Epoch: 550 | Inputs: 21 | MLP units: [[712, 712], [712, 712]] | Scaler Type: standard\n",
      "Stack Types: ['seasonality', 'identity'] | Learning Rate: 0 | Block: [2, 2]\n",
      "RMSE: 0.008041900364621666 | QLIKE: 0.16085121929040352 | MAPE: 0.004878974274295797\n"
     ]
    },
    {
     "data": {
      "application/vnd.jupyter.widget-view+json": {
       "model_id": "",
       "version_major": 2,
       "version_minor": 0
      },
      "text/plain": [
       "Sanity Checking: |                                        | 0/? [00:00<?, ?it/s]"
      ]
     },
     "metadata": {},
     "output_type": "display_data"
    },
    {
     "data": {
      "application/vnd.jupyter.widget-view+json": {
       "model_id": "a20a7522dac7424da7f59f7fe218d868",
       "version_major": 2,
       "version_minor": 0
      },
      "text/plain": [
       "Training: |                                               | 0/? [00:00<?, ?it/s]"
      ]
     },
     "metadata": {},
     "output_type": "display_data"
    },
    {
     "data": {
      "application/vnd.jupyter.widget-view+json": {
       "model_id": "",
       "version_major": 2,
       "version_minor": 0
      },
      "text/plain": [
       "Validation: |                                             | 0/? [00:00<?, ?it/s]"
      ]
     },
     "metadata": {},
     "output_type": "display_data"
    },
    {
     "data": {
      "application/vnd.jupyter.widget-view+json": {
       "model_id": "de17c0fbd6934880a377e4ac650a4917",
       "version_major": 2,
       "version_minor": 0
      },
      "text/plain": [
       "Predicting: |                                             | 0/? [00:00<?, ?it/s]"
      ]
     },
     "metadata": {},
     "output_type": "display_data"
    },
    {
     "name": "stderr",
     "output_type": "stream",
     "text": [
      "Seed set to 96499040\n"
     ]
    },
    {
     "name": "stdout",
     "output_type": "stream",
     "text": [
      "Epoch: 100 | Inputs: 15 | MLP units: [[250, 250], [250, 250]] | Scaler Type: robust\n",
      "Stack Types: ['seasonality', 'identity'] | Learning Rate: 3 | Block: [5, 5]\n",
      "RMSE: 0.007614535711315148 | QLIKE: 0.13074956063933688 | MAPE: 0.004430091603824323\n"
     ]
    },
    {
     "data": {
      "application/vnd.jupyter.widget-view+json": {
       "model_id": "",
       "version_major": 2,
       "version_minor": 0
      },
      "text/plain": [
       "Sanity Checking: |                                        | 0/? [00:00<?, ?it/s]"
      ]
     },
     "metadata": {},
     "output_type": "display_data"
    },
    {
     "data": {
      "application/vnd.jupyter.widget-view+json": {
       "model_id": "ed95f4d5c5c540309c7e6bdd28b679a0",
       "version_major": 2,
       "version_minor": 0
      },
      "text/plain": [
       "Training: |                                               | 0/? [00:00<?, ?it/s]"
      ]
     },
     "metadata": {},
     "output_type": "display_data"
    },
    {
     "data": {
      "application/vnd.jupyter.widget-view+json": {
       "model_id": "",
       "version_major": 2,
       "version_minor": 0
      },
      "text/plain": [
       "Validation: |                                             | 0/? [00:00<?, ?it/s]"
      ]
     },
     "metadata": {},
     "output_type": "display_data"
    },
    {
     "data": {
      "application/vnd.jupyter.widget-view+json": {
       "model_id": "655d4bd519f34e82a784c0182def1ed5",
       "version_major": 2,
       "version_minor": 0
      },
      "text/plain": [
       "Predicting: |                                             | 0/? [00:00<?, ?it/s]"
      ]
     },
     "metadata": {},
     "output_type": "display_data"
    },
    {
     "name": "stderr",
     "output_type": "stream",
     "text": [
      "Seed set to 19644366\n"
     ]
    },
    {
     "name": "stdout",
     "output_type": "stream",
     "text": [
      "Epoch: 50 | Inputs: 10 | MLP units: [[250, 250], [250, 250]] | Scaler Type: minmax\n",
      "Stack Types: ['seasonality', 'trend'] | Learning Rate: 0 | Block: [5, 5]\n",
      "RMSE: 0.007504399403628514 | QLIKE: 0.12308507583668947 | MAPE: 0.004636481951560874\n"
     ]
    },
    {
     "data": {
      "application/vnd.jupyter.widget-view+json": {
       "model_id": "",
       "version_major": 2,
       "version_minor": 0
      },
      "text/plain": [
       "Sanity Checking: |                                        | 0/? [00:00<?, ?it/s]"
      ]
     },
     "metadata": {},
     "output_type": "display_data"
    },
    {
     "data": {
      "application/vnd.jupyter.widget-view+json": {
       "model_id": "75dd9ff8ac90485ba50c201d7a989348",
       "version_major": 2,
       "version_minor": 0
      },
      "text/plain": [
       "Training: |                                               | 0/? [00:00<?, ?it/s]"
      ]
     },
     "metadata": {},
     "output_type": "display_data"
    },
    {
     "data": {
      "application/vnd.jupyter.widget-view+json": {
       "model_id": "",
       "version_major": 2,
       "version_minor": 0
      },
      "text/plain": [
       "Validation: |                                             | 0/? [00:00<?, ?it/s]"
      ]
     },
     "metadata": {},
     "output_type": "display_data"
    },
    {
     "data": {
      "application/vnd.jupyter.widget-view+json": {
       "model_id": "846d2de73627450596088ca63ef63c0b",
       "version_major": 2,
       "version_minor": 0
      },
      "text/plain": [
       "Predicting: |                                             | 0/? [00:00<?, ?it/s]"
      ]
     },
     "metadata": {},
     "output_type": "display_data"
    },
    {
     "name": "stderr",
     "output_type": "stream",
     "text": [
      "Seed set to 65896848\n"
     ]
    },
    {
     "name": "stdout",
     "output_type": "stream",
     "text": [
      "Epoch: 100 | Inputs: 21 | MLP units: [[250, 250], [250, 250]] | Scaler Type: robust\n",
      "Stack Types: ['seasonality', 'trend'] | Learning Rate: 2 | Block: [2, 2]\n",
      "RMSE: 0.0070289472981542155 | QLIKE: 0.11984034505613532 | MAPE: 0.004288393195761691\n"
     ]
    },
    {
     "data": {
      "application/vnd.jupyter.widget-view+json": {
       "model_id": "",
       "version_major": 2,
       "version_minor": 0
      },
      "text/plain": [
       "Sanity Checking: |                                        | 0/? [00:00<?, ?it/s]"
      ]
     },
     "metadata": {},
     "output_type": "display_data"
    },
    {
     "data": {
      "application/vnd.jupyter.widget-view+json": {
       "model_id": "84533f9cb1c74a7494b715ef70c9fadb",
       "version_major": 2,
       "version_minor": 0
      },
      "text/plain": [
       "Training: |                                               | 0/? [00:00<?, ?it/s]"
      ]
     },
     "metadata": {},
     "output_type": "display_data"
    },
    {
     "data": {
      "application/vnd.jupyter.widget-view+json": {
       "model_id": "",
       "version_major": 2,
       "version_minor": 0
      },
      "text/plain": [
       "Validation: |                                             | 0/? [00:00<?, ?it/s]"
      ]
     },
     "metadata": {},
     "output_type": "display_data"
    },
    {
     "data": {
      "application/vnd.jupyter.widget-view+json": {
       "model_id": "1d936eb2092a43d1873e0a5c86bf96da",
       "version_major": 2,
       "version_minor": 0
      },
      "text/plain": [
       "Predicting: |                                             | 0/? [00:00<?, ?it/s]"
      ]
     },
     "metadata": {},
     "output_type": "display_data"
    },
    {
     "name": "stdout",
     "output_type": "stream",
     "text": [
      "Epoch: 350 | Inputs: 10 | MLP units: [[250, 250], [250, 250]] | Scaler Type: robust\n",
      "Stack Types: ['seasonality', 'trend'] | Learning Rate: 3 | Block: [2, 2]\n",
      "RMSE: 0.0076399847748730996 | QLIKE: 0.12464781063629846 | MAPE: 0.004553751523257537\n"
     ]
    }
   ],
   "source": [
    "#Third\n",
    "for m in range (5):\n",
    "  i=random.randrange(7)\n",
    "  h=random.randrange(4)\n",
    "  a=random.randrange(4)\n",
    "  k=random.randrange(9)\n",
    "  l=random.randrange(4)\n",
    "  n=random.randrange(4)\n",
    "  o=random.randrange(3)\n",
    "  model = NBEATSx(h=21, input_size=n_inputs[i],\n",
    "                loss=MSE_2DWD(),\n",
    "                scaler_type=scaler_type[o],\n",
    "                learning_rate=learning_rate[n],\n",
    "                stack_types=stack_types[l],\n",
    "                n_blocks=n_blocks[a],\n",
    "                mlp_units=mlp_units[h],\n",
    "                windows_batch_size=32,\n",
    "                num_lr_decays=num_lr_decays[n],\n",
    "                val_check_steps=500,\n",
    "                hist_exog_list=['BTC'],\n",
    "                n_harmonics=n_harmonics[l], n_polynomials=n_polynomials[l],\n",
    "                max_steps=epochs[k],\n",
    "                random_seed=random.randrange(129228148))\n",
    "  fcst = NeuralForecast(models=[model],freq='D')\n",
    "  forecasts = fcst.cross_validation(df=train,val_size=21,n_windows=None, test_size=validation_length-validation_length%21,step_size=1)\n",
    "  forecasts = forecasts.dropna().drop_duplicates(subset='ds', keep='first')\n",
    "  if \"NBEATSx-median\" not in list(forecasts.columns.values):\n",
    "    Y_hat=forecasts[\"NBEATSx\"].values\n",
    "  else:\n",
    "    Y_hat=forecasts[\"NBEATSx-median\"].values\n",
    "  Y_true=forecasts[\"y\"].values\n",
    "  RMSE=np.sqrt(np.sum(((Y_true-Y_hat)**2))/len(Y_true))\n",
    "  QLIKE=(np.sum(Y_true/Y_hat-np.log(abs(Y_true)/abs(Y_hat))-1)/len(Y_true))\n",
    "  MAE=np.sum(abs(Y_true-Y_hat))/len(Y_true)\n",
    "  print(f\"Epoch: {epochs[k]} | Inputs: {n_inputs[i]} | MLP units: {mlp_units[h]} | Scaler Type: {scaler_type[o]}\")\n",
    "  print(f\"Stack Types: {stack_types[l]} | Learning Rate: {n} | Block: {n_blocks[a]}\")\n",
    "  print(f\"RMSE: {RMSE} | QLIKE: {QLIKE} | MAPE: {MAE}\")"
   ]
  },
  {
   "cell_type": "code",
   "execution_count": 17,
   "id": "166a5ceb",
   "metadata": {},
   "outputs": [
    {
     "name": "stderr",
     "output_type": "stream",
     "text": [
      "Seed set to 31161975\n"
     ]
    },
    {
     "data": {
      "application/vnd.jupyter.widget-view+json": {
       "model_id": "",
       "version_major": 2,
       "version_minor": 0
      },
      "text/plain": [
       "Sanity Checking: |                                        | 0/? [00:00<?, ?it/s]"
      ]
     },
     "metadata": {},
     "output_type": "display_data"
    },
    {
     "data": {
      "application/vnd.jupyter.widget-view+json": {
       "model_id": "6751b28e08e94aafba18d872030a7a1d",
       "version_major": 2,
       "version_minor": 0
      },
      "text/plain": [
       "Training: |                                               | 0/? [00:00<?, ?it/s]"
      ]
     },
     "metadata": {},
     "output_type": "display_data"
    },
    {
     "data": {
      "application/vnd.jupyter.widget-view+json": {
       "model_id": "",
       "version_major": 2,
       "version_minor": 0
      },
      "text/plain": [
       "Validation: |                                             | 0/? [00:00<?, ?it/s]"
      ]
     },
     "metadata": {},
     "output_type": "display_data"
    },
    {
     "data": {
      "application/vnd.jupyter.widget-view+json": {
       "model_id": "41a9656b7b5c4861a28011a553f97da2",
       "version_major": 2,
       "version_minor": 0
      },
      "text/plain": [
       "Predicting: |                                             | 0/? [00:00<?, ?it/s]"
      ]
     },
     "metadata": {},
     "output_type": "display_data"
    },
    {
     "name": "stderr",
     "output_type": "stream",
     "text": [
      "Seed set to 53440914\n"
     ]
    },
    {
     "name": "stdout",
     "output_type": "stream",
     "text": [
      "Epoch: 750 | Inputs: 15 | MLP units: [[100, 100], [100, 100]] | Scaler Type: robust\n",
      "Stack Types: ['identity', 'identity'] | Learning Rate: 2 | Block: [3, 3]\n",
      "RMSE: 0.00689413247779237 | QLIKE: 0.11255941349843006 | MAPE: 0.004194765508981397\n"
     ]
    },
    {
     "data": {
      "application/vnd.jupyter.widget-view+json": {
       "model_id": "",
       "version_major": 2,
       "version_minor": 0
      },
      "text/plain": [
       "Sanity Checking: |                                        | 0/? [00:00<?, ?it/s]"
      ]
     },
     "metadata": {},
     "output_type": "display_data"
    },
    {
     "data": {
      "application/vnd.jupyter.widget-view+json": {
       "model_id": "85fc10f805b04b3eb536272b61e67620",
       "version_major": 2,
       "version_minor": 0
      },
      "text/plain": [
       "Training: |                                               | 0/? [00:00<?, ?it/s]"
      ]
     },
     "metadata": {},
     "output_type": "display_data"
    },
    {
     "data": {
      "application/vnd.jupyter.widget-view+json": {
       "model_id": "",
       "version_major": 2,
       "version_minor": 0
      },
      "text/plain": [
       "Validation: |                                             | 0/? [00:00<?, ?it/s]"
      ]
     },
     "metadata": {},
     "output_type": "display_data"
    },
    {
     "data": {
      "application/vnd.jupyter.widget-view+json": {
       "model_id": "d92d2bc29e6045e7a02a2da80775c663",
       "version_major": 2,
       "version_minor": 0
      },
      "text/plain": [
       "Predicting: |                                             | 0/? [00:00<?, ?it/s]"
      ]
     },
     "metadata": {},
     "output_type": "display_data"
    },
    {
     "name": "stderr",
     "output_type": "stream",
     "text": [
      "Seed set to 33236775\n"
     ]
    },
    {
     "name": "stdout",
     "output_type": "stream",
     "text": [
      "Epoch: 750 | Inputs: 84 | MLP units: [[712, 712], [712, 712]] | Scaler Type: minmax\n",
      "Stack Types: ['seasonality', 'trend'] | Learning Rate: 1 | Block: [1, 1]\n",
      "RMSE: 0.007101827357392894 | QLIKE: 0.10688272434696308 | MAPE: 0.004778957635163385\n"
     ]
    },
    {
     "data": {
      "application/vnd.jupyter.widget-view+json": {
       "model_id": "",
       "version_major": 2,
       "version_minor": 0
      },
      "text/plain": [
       "Sanity Checking: |                                        | 0/? [00:00<?, ?it/s]"
      ]
     },
     "metadata": {},
     "output_type": "display_data"
    },
    {
     "data": {
      "application/vnd.jupyter.widget-view+json": {
       "model_id": "e69144777206499b8bfba23017821c4f",
       "version_major": 2,
       "version_minor": 0
      },
      "text/plain": [
       "Training: |                                               | 0/? [00:00<?, ?it/s]"
      ]
     },
     "metadata": {},
     "output_type": "display_data"
    },
    {
     "data": {
      "application/vnd.jupyter.widget-view+json": {
       "model_id": "",
       "version_major": 2,
       "version_minor": 0
      },
      "text/plain": [
       "Validation: |                                             | 0/? [00:00<?, ?it/s]"
      ]
     },
     "metadata": {},
     "output_type": "display_data"
    },
    {
     "data": {
      "application/vnd.jupyter.widget-view+json": {
       "model_id": "a284e847fe624522abcc5323d481f70f",
       "version_major": 2,
       "version_minor": 0
      },
      "text/plain": [
       "Predicting: |                                             | 0/? [00:00<?, ?it/s]"
      ]
     },
     "metadata": {},
     "output_type": "display_data"
    },
    {
     "name": "stderr",
     "output_type": "stream",
     "text": [
      "Seed set to 30846101\n"
     ]
    },
    {
     "name": "stdout",
     "output_type": "stream",
     "text": [
      "Epoch: 150 | Inputs: 42 | MLP units: [[712, 712], [712, 712]] | Scaler Type: minmax\n",
      "Stack Types: ['identity', 'identity'] | Learning Rate: 0 | Block: [3, 3]\n",
      "RMSE: 0.0072096653210406945 | QLIKE: 0.14072684404150151 | MAPE: 0.004556525726529768\n"
     ]
    },
    {
     "data": {
      "application/vnd.jupyter.widget-view+json": {
       "model_id": "",
       "version_major": 2,
       "version_minor": 0
      },
      "text/plain": [
       "Sanity Checking: |                                        | 0/? [00:00<?, ?it/s]"
      ]
     },
     "metadata": {},
     "output_type": "display_data"
    },
    {
     "data": {
      "application/vnd.jupyter.widget-view+json": {
       "model_id": "679962a369874e7ba302021eb94753d5",
       "version_major": 2,
       "version_minor": 0
      },
      "text/plain": [
       "Training: |                                               | 0/? [00:00<?, ?it/s]"
      ]
     },
     "metadata": {},
     "output_type": "display_data"
    },
    {
     "data": {
      "application/vnd.jupyter.widget-view+json": {
       "model_id": "",
       "version_major": 2,
       "version_minor": 0
      },
      "text/plain": [
       "Validation: |                                             | 0/? [00:00<?, ?it/s]"
      ]
     },
     "metadata": {},
     "output_type": "display_data"
    },
    {
     "data": {
      "application/vnd.jupyter.widget-view+json": {
       "model_id": "280d463fe78c45d2bcf7d3a9afc30e58",
       "version_major": 2,
       "version_minor": 0
      },
      "text/plain": [
       "Predicting: |                                             | 0/? [00:00<?, ?it/s]"
      ]
     },
     "metadata": {},
     "output_type": "display_data"
    },
    {
     "name": "stderr",
     "output_type": "stream",
     "text": [
      "Seed set to 115509950\n"
     ]
    },
    {
     "name": "stdout",
     "output_type": "stream",
     "text": [
      "Epoch: 450 | Inputs: 42 | MLP units: [[512, 512], [512, 512]] | Scaler Type: minmax\n",
      "Stack Types: ['seasonality', 'identity'] | Learning Rate: 2 | Block: [2, 2]\n",
      "RMSE: 0.007457594166941988 | QLIKE: 0.14217923537642121 | MAPE: 0.004810621715704411\n"
     ]
    },
    {
     "data": {
      "application/vnd.jupyter.widget-view+json": {
       "model_id": "",
       "version_major": 2,
       "version_minor": 0
      },
      "text/plain": [
       "Sanity Checking: |                                        | 0/? [00:00<?, ?it/s]"
      ]
     },
     "metadata": {},
     "output_type": "display_data"
    },
    {
     "data": {
      "application/vnd.jupyter.widget-view+json": {
       "model_id": "80d939814b2141c585bfaefcb91aac69",
       "version_major": 2,
       "version_minor": 0
      },
      "text/plain": [
       "Training: |                                               | 0/? [00:00<?, ?it/s]"
      ]
     },
     "metadata": {},
     "output_type": "display_data"
    },
    {
     "data": {
      "application/vnd.jupyter.widget-view+json": {
       "model_id": "",
       "version_major": 2,
       "version_minor": 0
      },
      "text/plain": [
       "Validation: |                                             | 0/? [00:00<?, ?it/s]"
      ]
     },
     "metadata": {},
     "output_type": "display_data"
    },
    {
     "data": {
      "application/vnd.jupyter.widget-view+json": {
       "model_id": "f1ed3edd3b3042db87c498e1c4f1cef9",
       "version_major": 2,
       "version_minor": 0
      },
      "text/plain": [
       "Predicting: |                                             | 0/? [00:00<?, ?it/s]"
      ]
     },
     "metadata": {},
     "output_type": "display_data"
    },
    {
     "name": "stdout",
     "output_type": "stream",
     "text": [
      "Epoch: 750 | Inputs: 42 | MLP units: [[250, 250], [250, 250]] | Scaler Type: robust\n",
      "Stack Types: ['seasonality', 'trend'] | Learning Rate: 1 | Block: [3, 3]\n",
      "RMSE: 0.007937619351098074 | QLIKE: 0.17997181104479673 | MAPE: 0.00525592528020922\n"
     ]
    }
   ],
   "source": [
    "#Fourth\n",
    "for m in range (5):\n",
    "  i=random.randrange(7)\n",
    "  h=random.randrange(4)\n",
    "  a=random.randrange(4)\n",
    "  k=random.randrange(9)\n",
    "  l=random.randrange(4)\n",
    "  n=random.randrange(4)\n",
    "  o=random.randrange(3)\n",
    "  model = NBEATSx(h=21, input_size=n_inputs[i],\n",
    "                loss=MSE_2DWD(),\n",
    "                scaler_type=scaler_type[o],\n",
    "                learning_rate=learning_rate[n],\n",
    "                stack_types=stack_types[l],\n",
    "                n_blocks=n_blocks[a],\n",
    "                mlp_units=mlp_units[h],\n",
    "                windows_batch_size=32,\n",
    "                num_lr_decays=num_lr_decays[n],\n",
    "                val_check_steps=500,\n",
    "                hist_exog_list=['BTC'],\n",
    "                n_harmonics=n_harmonics[l], n_polynomials=n_polynomials[l],\n",
    "                max_steps=epochs[k],\n",
    "                random_seed=random.randrange(129228148))\n",
    "  fcst = NeuralForecast(models=[model],freq='D')\n",
    "  forecasts = fcst.cross_validation(df=train,val_size=21,n_windows=None, test_size=validation_length-validation_length%21,step_size=1)\n",
    "  forecasts = forecasts.dropna().drop_duplicates(subset='ds', keep='first')\n",
    "  if \"NBEATSx-median\" not in list(forecasts.columns.values):\n",
    "    Y_hat=forecasts[\"NBEATSx\"].values\n",
    "  else:\n",
    "    Y_hat=forecasts[\"NBEATSx-median\"].values\n",
    "  Y_true=forecasts[\"y\"].values\n",
    "  RMSE=np.sqrt(np.sum(((Y_true-Y_hat)**2))/len(Y_true))\n",
    "  QLIKE=(np.sum(Y_true/Y_hat-np.log(abs(Y_true)/abs(Y_hat))-1)/len(Y_true))\n",
    "  MAE=np.sum(abs(Y_true-Y_hat))/len(Y_true)\n",
    "  print(f\"Epoch: {epochs[k]} | Inputs: {n_inputs[i]} | MLP units: {mlp_units[h]} | Scaler Type: {scaler_type[o]}\")\n",
    "  print(f\"Stack Types: {stack_types[l]} | Learning Rate: {n} | Block: {n_blocks[a]}\")\n",
    "  print(f\"RMSE: {RMSE} | QLIKE: {QLIKE} | MAPE: {MAE}\")"
   ]
  },
  {
   "cell_type": "code",
   "execution_count": 18,
   "id": "98143ddf",
   "metadata": {},
   "outputs": [
    {
     "name": "stderr",
     "output_type": "stream",
     "text": [
      "Seed set to 111085111\n"
     ]
    },
    {
     "data": {
      "application/vnd.jupyter.widget-view+json": {
       "model_id": "",
       "version_major": 2,
       "version_minor": 0
      },
      "text/plain": [
       "Sanity Checking: |                                        | 0/? [00:00<?, ?it/s]"
      ]
     },
     "metadata": {},
     "output_type": "display_data"
    },
    {
     "data": {
      "application/vnd.jupyter.widget-view+json": {
       "model_id": "236e510b29bb498fa59c947ecce933e2",
       "version_major": 2,
       "version_minor": 0
      },
      "text/plain": [
       "Training: |                                               | 0/? [00:00<?, ?it/s]"
      ]
     },
     "metadata": {},
     "output_type": "display_data"
    },
    {
     "data": {
      "application/vnd.jupyter.widget-view+json": {
       "model_id": "",
       "version_major": 2,
       "version_minor": 0
      },
      "text/plain": [
       "Validation: |                                             | 0/? [00:00<?, ?it/s]"
      ]
     },
     "metadata": {},
     "output_type": "display_data"
    },
    {
     "data": {
      "application/vnd.jupyter.widget-view+json": {
       "model_id": "094b74147ae142e3883db5ba85fe5171",
       "version_major": 2,
       "version_minor": 0
      },
      "text/plain": [
       "Predicting: |                                             | 0/? [00:00<?, ?it/s]"
      ]
     },
     "metadata": {},
     "output_type": "display_data"
    },
    {
     "name": "stderr",
     "output_type": "stream",
     "text": [
      "Seed set to 128750180\n"
     ]
    },
    {
     "name": "stdout",
     "output_type": "stream",
     "text": [
      "Epoch: 350 | Inputs: 3 | MLP units: [[250, 250], [250, 250]] | Scaler Type: standard\n",
      "Stack Types: ['identity', 'trend'] | Learning Rate: 3 | Block: [1, 1]\n",
      "RMSE: 0.00954603943437394 | QLIKE: 0.1518432064789573 | MAPE: 0.0053955970147723875\n"
     ]
    },
    {
     "data": {
      "application/vnd.jupyter.widget-view+json": {
       "model_id": "",
       "version_major": 2,
       "version_minor": 0
      },
      "text/plain": [
       "Sanity Checking: |                                        | 0/? [00:00<?, ?it/s]"
      ]
     },
     "metadata": {},
     "output_type": "display_data"
    },
    {
     "data": {
      "application/vnd.jupyter.widget-view+json": {
       "model_id": "cf214e27efa8465f8606d97205e004e8",
       "version_major": 2,
       "version_minor": 0
      },
      "text/plain": [
       "Training: |                                               | 0/? [00:00<?, ?it/s]"
      ]
     },
     "metadata": {},
     "output_type": "display_data"
    },
    {
     "data": {
      "application/vnd.jupyter.widget-view+json": {
       "model_id": "",
       "version_major": 2,
       "version_minor": 0
      },
      "text/plain": [
       "Validation: |                                             | 0/? [00:00<?, ?it/s]"
      ]
     },
     "metadata": {},
     "output_type": "display_data"
    },
    {
     "data": {
      "application/vnd.jupyter.widget-view+json": {
       "model_id": "1131fafb01a747e5a7129e91607cb838",
       "version_major": 2,
       "version_minor": 0
      },
      "text/plain": [
       "Predicting: |                                             | 0/? [00:00<?, ?it/s]"
      ]
     },
     "metadata": {},
     "output_type": "display_data"
    },
    {
     "name": "stderr",
     "output_type": "stream",
     "text": [
      "Seed set to 86372421\n"
     ]
    },
    {
     "name": "stdout",
     "output_type": "stream",
     "text": [
      "Epoch: 50 | Inputs: 84 | MLP units: [[712, 712], [712, 712]] | Scaler Type: robust\n",
      "Stack Types: ['identity', 'trend'] | Learning Rate: 1 | Block: [1, 1]\n",
      "RMSE: 0.007261595689208654 | QLIKE: 0.12366397739558603 | MAPE: 0.0042147265886609145\n"
     ]
    },
    {
     "data": {
      "application/vnd.jupyter.widget-view+json": {
       "model_id": "",
       "version_major": 2,
       "version_minor": 0
      },
      "text/plain": [
       "Sanity Checking: |                                        | 0/? [00:00<?, ?it/s]"
      ]
     },
     "metadata": {},
     "output_type": "display_data"
    },
    {
     "data": {
      "application/vnd.jupyter.widget-view+json": {
       "model_id": "2e1b9098a3b94ab1b99f37848e13bbb4",
       "version_major": 2,
       "version_minor": 0
      },
      "text/plain": [
       "Training: |                                               | 0/? [00:00<?, ?it/s]"
      ]
     },
     "metadata": {},
     "output_type": "display_data"
    },
    {
     "data": {
      "application/vnd.jupyter.widget-view+json": {
       "model_id": "",
       "version_major": 2,
       "version_minor": 0
      },
      "text/plain": [
       "Validation: |                                             | 0/? [00:00<?, ?it/s]"
      ]
     },
     "metadata": {},
     "output_type": "display_data"
    },
    {
     "data": {
      "application/vnd.jupyter.widget-view+json": {
       "model_id": "1fce023058c749dbba48211596466c9b",
       "version_major": 2,
       "version_minor": 0
      },
      "text/plain": [
       "Predicting: |                                             | 0/? [00:00<?, ?it/s]"
      ]
     },
     "metadata": {},
     "output_type": "display_data"
    },
    {
     "name": "stderr",
     "output_type": "stream",
     "text": [
      "Seed set to 21161866\n"
     ]
    },
    {
     "name": "stdout",
     "output_type": "stream",
     "text": [
      "Epoch: 150 | Inputs: 21 | MLP units: [[712, 712], [712, 712]] | Scaler Type: minmax\n",
      "Stack Types: ['seasonality', 'trend'] | Learning Rate: 1 | Block: [2, 2]\n",
      "RMSE: 0.006482457426727324 | QLIKE: 0.1123242680336208 | MAPE: 0.003965838417353504\n"
     ]
    },
    {
     "data": {
      "application/vnd.jupyter.widget-view+json": {
       "model_id": "",
       "version_major": 2,
       "version_minor": 0
      },
      "text/plain": [
       "Sanity Checking: |                                        | 0/? [00:00<?, ?it/s]"
      ]
     },
     "metadata": {},
     "output_type": "display_data"
    },
    {
     "data": {
      "application/vnd.jupyter.widget-view+json": {
       "model_id": "a6b8dc1ed25343b5a857560204d747af",
       "version_major": 2,
       "version_minor": 0
      },
      "text/plain": [
       "Training: |                                               | 0/? [00:00<?, ?it/s]"
      ]
     },
     "metadata": {},
     "output_type": "display_data"
    },
    {
     "data": {
      "application/vnd.jupyter.widget-view+json": {
       "model_id": "",
       "version_major": 2,
       "version_minor": 0
      },
      "text/plain": [
       "Validation: |                                             | 0/? [00:00<?, ?it/s]"
      ]
     },
     "metadata": {},
     "output_type": "display_data"
    },
    {
     "data": {
      "application/vnd.jupyter.widget-view+json": {
       "model_id": "9402e233dcaf4ad096472471514c3f9c",
       "version_major": 2,
       "version_minor": 0
      },
      "text/plain": [
       "Predicting: |                                             | 0/? [00:00<?, ?it/s]"
      ]
     },
     "metadata": {},
     "output_type": "display_data"
    },
    {
     "name": "stderr",
     "output_type": "stream",
     "text": [
      "Seed set to 43300412\n"
     ]
    },
    {
     "name": "stdout",
     "output_type": "stream",
     "text": [
      "Epoch: 550 | Inputs: 15 | MLP units: [[100, 100], [100, 100]] | Scaler Type: minmax\n",
      "Stack Types: ['seasonality', 'trend'] | Learning Rate: 3 | Block: [1, 1]\n",
      "RMSE: 0.009209434469575955 | QLIKE: 0.14428494363615663 | MAPE: 0.005629781421137964\n"
     ]
    },
    {
     "data": {
      "application/vnd.jupyter.widget-view+json": {
       "model_id": "",
       "version_major": 2,
       "version_minor": 0
      },
      "text/plain": [
       "Sanity Checking: |                                        | 0/? [00:00<?, ?it/s]"
      ]
     },
     "metadata": {},
     "output_type": "display_data"
    },
    {
     "data": {
      "application/vnd.jupyter.widget-view+json": {
       "model_id": "d588304bec424c17bffa9e3614aec546",
       "version_major": 2,
       "version_minor": 0
      },
      "text/plain": [
       "Training: |                                               | 0/? [00:00<?, ?it/s]"
      ]
     },
     "metadata": {},
     "output_type": "display_data"
    },
    {
     "data": {
      "application/vnd.jupyter.widget-view+json": {
       "model_id": "",
       "version_major": 2,
       "version_minor": 0
      },
      "text/plain": [
       "Validation: |                                             | 0/? [00:00<?, ?it/s]"
      ]
     },
     "metadata": {},
     "output_type": "display_data"
    },
    {
     "data": {
      "application/vnd.jupyter.widget-view+json": {
       "model_id": "cb65ce86541041ac8c7fa396bb81da57",
       "version_major": 2,
       "version_minor": 0
      },
      "text/plain": [
       "Predicting: |                                             | 0/? [00:00<?, ?it/s]"
      ]
     },
     "metadata": {},
     "output_type": "display_data"
    },
    {
     "name": "stdout",
     "output_type": "stream",
     "text": [
      "Epoch: 150 | Inputs: 5 | MLP units: [[250, 250], [250, 250]] | Scaler Type: robust\n",
      "Stack Types: ['seasonality', 'trend'] | Learning Rate: 0 | Block: [5, 5]\n",
      "RMSE: 0.009225947187054469 | QLIKE: 0.15685462850415027 | MAPE: 0.0054543627594128485\n"
     ]
    }
   ],
   "source": [
    "#Fifth\n",
    "for m in range (5):\n",
    "  i=random.randrange(7)\n",
    "  h=random.randrange(4)\n",
    "  a=random.randrange(4)\n",
    "  k=random.randrange(9)\n",
    "  l=random.randrange(4)\n",
    "  n=random.randrange(4)\n",
    "  o=random.randrange(3)\n",
    "  model = NBEATSx(h=21, input_size=n_inputs[i],\n",
    "                loss=MSE_2DWD(),\n",
    "                scaler_type=scaler_type[o],\n",
    "                learning_rate=learning_rate[n],\n",
    "                stack_types=stack_types[l],\n",
    "                n_blocks=n_blocks[a],\n",
    "                mlp_units=mlp_units[h],\n",
    "                windows_batch_size=32,\n",
    "                num_lr_decays=num_lr_decays[n],\n",
    "                val_check_steps=500,\n",
    "                hist_exog_list=['BTC'],\n",
    "                n_harmonics=n_harmonics[l], n_polynomials=n_polynomials[l],\n",
    "                max_steps=epochs[k],\n",
    "                random_seed=random.randrange(129228148))\n",
    "  fcst = NeuralForecast(models=[model],freq='D')\n",
    "  forecasts = fcst.cross_validation(df=train,val_size=21,n_windows=None, test_size=validation_length-validation_length%21,step_size=1)\n",
    "  forecasts = forecasts.dropna().drop_duplicates(subset='ds', keep='first')\n",
    "  if \"NBEATSx-median\" not in list(forecasts.columns.values):\n",
    "    Y_hat=forecasts[\"NBEATSx\"].values\n",
    "  else:\n",
    "    Y_hat=forecasts[\"NBEATSx-median\"].values\n",
    "  Y_true=forecasts[\"y\"].values\n",
    "  RMSE=np.sqrt(np.sum(((Y_true-Y_hat)**2))/len(Y_true))\n",
    "  QLIKE=(np.sum(Y_true/Y_hat-np.log(abs(Y_true)/abs(Y_hat))-1)/len(Y_true))\n",
    "  MAE=np.sum(abs(Y_true-Y_hat))/len(Y_true)\n",
    "  print(f\"Epoch: {epochs[k]} | Inputs: {n_inputs[i]} | MLP units: {mlp_units[h]} | Scaler Type: {scaler_type[o]}\")\n",
    "  print(f\"Stack Types: {stack_types[l]} | Learning Rate: {n} | Block: {n_blocks[a]}\")\n",
    "  print(f\"RMSE: {RMSE} | QLIKE: {QLIKE} | MAPE: {MAE}\")"
   ]
  },
  {
   "cell_type": "code",
   "execution_count": null,
   "id": "ff731990",
   "metadata": {},
   "outputs": [],
   "source": [
    "Seed set to 86372421\n",
    "Epoch: 150 | Inputs: 21 | MLP units: [[712, 712], [712, 712]] | Scaler Type: minmax\n",
    "Stack Types: ['seasonality', 'trend'] | Learning Rate: 1 | Block: [2, 2]\n",
    "RMSE: 0.006482457426727324 | QLIKE: 0.1123242680336208 | MAPE: 0.003965838417353504"
   ]
  },
  {
   "cell_type": "code",
   "execution_count": null,
   "id": "1e928bde",
   "metadata": {},
   "outputs": [],
   "source": [
    "#Hyperparameter search\n",
    "n_inputs = [3,5,10,15,21,42,84]\n",
    "mlp_units = [[[712, 712], [712, 712]],[[512, 512], [512, 512]],[[250, 250], [250, 250]],[[100, 100], [100, 100]]]\n",
    "epochs=[50,100,150,250,350,450,550,650,750]\n",
    "learning_rate=[0.0005,0.0001,0.00005,0.00001]\n",
    "num_lr_decays=[5,3,2,1]\n",
    "scaler_type=[\"robust\",\"standard\",'minmax']\n",
    "stack_types=[['identity','identity'],['identity','trend'],['seasonality','identity'],['seasonality','trend']]\n",
    "n_harmonics=[0,0,1,1]\n",
    "n_blocks=[[1, 1],[2, 2],[3, 3],[5, 5]]\n",
    "n_polynomials=[0,1,0,1]\n",
    "     "
   ]
  },
  {
   "cell_type": "code",
   "execution_count": 19,
   "id": "c0e1e961",
   "metadata": {},
   "outputs": [
    {
     "name": "stderr",
     "output_type": "stream",
     "text": [
      "Seed set to 55882355\n"
     ]
    },
    {
     "data": {
      "application/vnd.jupyter.widget-view+json": {
       "model_id": "",
       "version_major": 2,
       "version_minor": 0
      },
      "text/plain": [
       "Sanity Checking: |                                        | 0/? [00:00<?, ?it/s]"
      ]
     },
     "metadata": {},
     "output_type": "display_data"
    },
    {
     "data": {
      "application/vnd.jupyter.widget-view+json": {
       "model_id": "b12b625aa11d4526a4c9d766484742f5",
       "version_major": 2,
       "version_minor": 0
      },
      "text/plain": [
       "Training: |                                               | 0/? [00:00<?, ?it/s]"
      ]
     },
     "metadata": {},
     "output_type": "display_data"
    },
    {
     "data": {
      "application/vnd.jupyter.widget-view+json": {
       "model_id": "",
       "version_major": 2,
       "version_minor": 0
      },
      "text/plain": [
       "Validation: |                                             | 0/? [00:00<?, ?it/s]"
      ]
     },
     "metadata": {},
     "output_type": "display_data"
    },
    {
     "data": {
      "application/vnd.jupyter.widget-view+json": {
       "model_id": "c544070c24704f6b90b9ea8da09bfa36",
       "version_major": 2,
       "version_minor": 0
      },
      "text/plain": [
       "Predicting: |                                             | 0/? [00:00<?, ?it/s]"
      ]
     },
     "metadata": {},
     "output_type": "display_data"
    },
    {
     "name": "stderr",
     "output_type": "stream",
     "text": [
      "Seed set to 18687879\n"
     ]
    },
    {
     "name": "stdout",
     "output_type": "stream",
     "text": [
      "Random Seed: 55882355\n",
      "RMSE: 0.006840489318833021 | QLIKE: 0.11735014052900353 | MAPE: 0.004411329820382069\n"
     ]
    },
    {
     "data": {
      "application/vnd.jupyter.widget-view+json": {
       "model_id": "",
       "version_major": 2,
       "version_minor": 0
      },
      "text/plain": [
       "Sanity Checking: |                                        | 0/? [00:00<?, ?it/s]"
      ]
     },
     "metadata": {},
     "output_type": "display_data"
    },
    {
     "data": {
      "application/vnd.jupyter.widget-view+json": {
       "model_id": "069c8b288f8141bda56bde008b244c4e",
       "version_major": 2,
       "version_minor": 0
      },
      "text/plain": [
       "Training: |                                               | 0/? [00:00<?, ?it/s]"
      ]
     },
     "metadata": {},
     "output_type": "display_data"
    },
    {
     "data": {
      "application/vnd.jupyter.widget-view+json": {
       "model_id": "",
       "version_major": 2,
       "version_minor": 0
      },
      "text/plain": [
       "Validation: |                                             | 0/? [00:00<?, ?it/s]"
      ]
     },
     "metadata": {},
     "output_type": "display_data"
    },
    {
     "data": {
      "application/vnd.jupyter.widget-view+json": {
       "model_id": "2a9d222fefd74d089e457c97ae1fa8a0",
       "version_major": 2,
       "version_minor": 0
      },
      "text/plain": [
       "Predicting: |                                             | 0/? [00:00<?, ?it/s]"
      ]
     },
     "metadata": {},
     "output_type": "display_data"
    },
    {
     "name": "stderr",
     "output_type": "stream",
     "text": [
      "Seed set to 30408333\n"
     ]
    },
    {
     "name": "stdout",
     "output_type": "stream",
     "text": [
      "Random Seed: 18687879\n",
      "RMSE: 0.006667504013897203 | QLIKE: 0.12022550015074679 | MAPE: 0.004156466329196497\n"
     ]
    },
    {
     "data": {
      "application/vnd.jupyter.widget-view+json": {
       "model_id": "",
       "version_major": 2,
       "version_minor": 0
      },
      "text/plain": [
       "Sanity Checking: |                                        | 0/? [00:00<?, ?it/s]"
      ]
     },
     "metadata": {},
     "output_type": "display_data"
    },
    {
     "data": {
      "application/vnd.jupyter.widget-view+json": {
       "model_id": "3f2fac73c99845b782a6600499f275bb",
       "version_major": 2,
       "version_minor": 0
      },
      "text/plain": [
       "Training: |                                               | 0/? [00:00<?, ?it/s]"
      ]
     },
     "metadata": {},
     "output_type": "display_data"
    },
    {
     "data": {
      "application/vnd.jupyter.widget-view+json": {
       "model_id": "",
       "version_major": 2,
       "version_minor": 0
      },
      "text/plain": [
       "Validation: |                                             | 0/? [00:00<?, ?it/s]"
      ]
     },
     "metadata": {},
     "output_type": "display_data"
    },
    {
     "data": {
      "application/vnd.jupyter.widget-view+json": {
       "model_id": "94f511f9bf294681b713e7a15747c91f",
       "version_major": 2,
       "version_minor": 0
      },
      "text/plain": [
       "Predicting: |                                             | 0/? [00:00<?, ?it/s]"
      ]
     },
     "metadata": {},
     "output_type": "display_data"
    },
    {
     "name": "stderr",
     "output_type": "stream",
     "text": [
      "Seed set to 37043036\n"
     ]
    },
    {
     "name": "stdout",
     "output_type": "stream",
     "text": [
      "Random Seed: 30408333\n",
      "RMSE: 0.006408072987182865 | QLIKE: 0.10725377821878435 | MAPE: 0.004021665809045021\n"
     ]
    },
    {
     "data": {
      "application/vnd.jupyter.widget-view+json": {
       "model_id": "",
       "version_major": 2,
       "version_minor": 0
      },
      "text/plain": [
       "Sanity Checking: |                                        | 0/? [00:00<?, ?it/s]"
      ]
     },
     "metadata": {},
     "output_type": "display_data"
    },
    {
     "data": {
      "application/vnd.jupyter.widget-view+json": {
       "model_id": "e7c8b2bd90334ce4a3bbd3aba00bd6e5",
       "version_major": 2,
       "version_minor": 0
      },
      "text/plain": [
       "Training: |                                               | 0/? [00:00<?, ?it/s]"
      ]
     },
     "metadata": {},
     "output_type": "display_data"
    },
    {
     "data": {
      "application/vnd.jupyter.widget-view+json": {
       "model_id": "",
       "version_major": 2,
       "version_minor": 0
      },
      "text/plain": [
       "Validation: |                                             | 0/? [00:00<?, ?it/s]"
      ]
     },
     "metadata": {},
     "output_type": "display_data"
    },
    {
     "data": {
      "application/vnd.jupyter.widget-view+json": {
       "model_id": "97abeac096ab4e72b4cc957e89acea62",
       "version_major": 2,
       "version_minor": 0
      },
      "text/plain": [
       "Predicting: |                                             | 0/? [00:00<?, ?it/s]"
      ]
     },
     "metadata": {},
     "output_type": "display_data"
    },
    {
     "name": "stderr",
     "output_type": "stream",
     "text": [
      "Seed set to 23982368\n"
     ]
    },
    {
     "name": "stdout",
     "output_type": "stream",
     "text": [
      "Random Seed: 37043036\n",
      "RMSE: 0.006576326910628866 | QLIKE: 0.11281008321271668 | MAPE: 0.00411093543069717\n"
     ]
    },
    {
     "data": {
      "application/vnd.jupyter.widget-view+json": {
       "model_id": "",
       "version_major": 2,
       "version_minor": 0
      },
      "text/plain": [
       "Sanity Checking: |                                        | 0/? [00:00<?, ?it/s]"
      ]
     },
     "metadata": {},
     "output_type": "display_data"
    },
    {
     "data": {
      "application/vnd.jupyter.widget-view+json": {
       "model_id": "e7ce31a2463446b2829d973e7e9b7d68",
       "version_major": 2,
       "version_minor": 0
      },
      "text/plain": [
       "Training: |                                               | 0/? [00:00<?, ?it/s]"
      ]
     },
     "metadata": {},
     "output_type": "display_data"
    },
    {
     "data": {
      "application/vnd.jupyter.widget-view+json": {
       "model_id": "",
       "version_major": 2,
       "version_minor": 0
      },
      "text/plain": [
       "Validation: |                                             | 0/? [00:00<?, ?it/s]"
      ]
     },
     "metadata": {},
     "output_type": "display_data"
    },
    {
     "data": {
      "application/vnd.jupyter.widget-view+json": {
       "model_id": "648a099764004360bea352b92b906138",
       "version_major": 2,
       "version_minor": 0
      },
      "text/plain": [
       "Predicting: |                                             | 0/? [00:00<?, ?it/s]"
      ]
     },
     "metadata": {},
     "output_type": "display_data"
    },
    {
     "name": "stdout",
     "output_type": "stream",
     "text": [
      "Random Seed: 23982368\n",
      "RMSE: 0.006784388410273633 | QLIKE: 0.11857464094931645 | MAPE: 0.004235664721491611\n"
     ]
    }
   ],
   "source": [
    "#Random seed tuning\n",
    "for m in range (5):\n",
    "  randomseed=random.randrange(86372421)\n",
    "  model = NBEATSx(h=21, input_size=21,\n",
    "                loss=MSE_2DWD(),\n",
    "                scaler_type='minmax',\n",
    "                learning_rate=learning_rate[1],\n",
    "                stack_types=['seasonality', 'trend'],\n",
    "                n_blocks=[2,2],\n",
    "                mlp_units=[[712, 712], [712, 712]],\n",
    "                windows_batch_size=32,\n",
    "                num_lr_decays=num_lr_decays[1],\n",
    "                val_check_steps=500,\n",
    "                hist_exog_list=['BTC'],\n",
    "                n_harmonics=n_harmonics[3], n_polynomials=n_polynomials[3],\n",
    "                max_steps=150,\n",
    "                random_seed=randomseed)\n",
    "  fcst = NeuralForecast(models=[model],freq='D')\n",
    "  forecasts = fcst.cross_validation(df=train,val_size=21,n_windows=None, test_size=validation_length-validation_length%21,step_size=1)\n",
    "  forecasts = forecasts.dropna().drop_duplicates(subset='ds', keep='first')\n",
    "  if \"NBEATSx-median\" not in list(forecasts.columns.values):\n",
    "    Y_hat=forecasts[\"NBEATSx\"].values\n",
    "  else:\n",
    "    Y_hat=forecasts[\"NBEATSx-median\"].values\n",
    "  Y_true=forecasts[\"y\"].values\n",
    "  RMSE=np.sqrt(np.sum(((Y_true-Y_hat)**2))/len(Y_true))\n",
    "  QLIKE=(np.sum(Y_true/Y_hat-np.log(abs(Y_true)/abs(Y_hat))-1)/len(Y_true))\n",
    "  MAE=np.sum(abs(Y_true-Y_hat))/len(Y_true)\n",
    "  print(f\"Random Seed: {randomseed}\")\n",
    "  print(f\"RMSE: {RMSE} | QLIKE: {QLIKE} | MAPE: {MAE}\")"
   ]
  },
  {
   "cell_type": "code",
   "execution_count": 20,
   "id": "f8229a02",
   "metadata": {},
   "outputs": [
    {
     "name": "stderr",
     "output_type": "stream",
     "text": [
      "Seed set to 19536173\n"
     ]
    },
    {
     "data": {
      "application/vnd.jupyter.widget-view+json": {
       "model_id": "",
       "version_major": 2,
       "version_minor": 0
      },
      "text/plain": [
       "Sanity Checking: |                                        | 0/? [00:00<?, ?it/s]"
      ]
     },
     "metadata": {},
     "output_type": "display_data"
    },
    {
     "data": {
      "application/vnd.jupyter.widget-view+json": {
       "model_id": "280422cbf026436690495e06f9bf30ff",
       "version_major": 2,
       "version_minor": 0
      },
      "text/plain": [
       "Training: |                                               | 0/? [00:00<?, ?it/s]"
      ]
     },
     "metadata": {},
     "output_type": "display_data"
    },
    {
     "data": {
      "application/vnd.jupyter.widget-view+json": {
       "model_id": "",
       "version_major": 2,
       "version_minor": 0
      },
      "text/plain": [
       "Validation: |                                             | 0/? [00:00<?, ?it/s]"
      ]
     },
     "metadata": {},
     "output_type": "display_data"
    },
    {
     "data": {
      "application/vnd.jupyter.widget-view+json": {
       "model_id": "74186d47f43c4a4380549a0881597940",
       "version_major": 2,
       "version_minor": 0
      },
      "text/plain": [
       "Predicting: |                                             | 0/? [00:00<?, ?it/s]"
      ]
     },
     "metadata": {},
     "output_type": "display_data"
    },
    {
     "name": "stderr",
     "output_type": "stream",
     "text": [
      "Seed set to 72155283\n"
     ]
    },
    {
     "name": "stdout",
     "output_type": "stream",
     "text": [
      "Random Seed: 19536173\n",
      "RMSE: 0.006767656958257787 | QLIKE: 0.11611731136798674 | MAPE: 0.004309980617228019\n"
     ]
    },
    {
     "data": {
      "application/vnd.jupyter.widget-view+json": {
       "model_id": "",
       "version_major": 2,
       "version_minor": 0
      },
      "text/plain": [
       "Sanity Checking: |                                        | 0/? [00:00<?, ?it/s]"
      ]
     },
     "metadata": {},
     "output_type": "display_data"
    },
    {
     "data": {
      "application/vnd.jupyter.widget-view+json": {
       "model_id": "b506598e1f47411e99111ec8e18c7913",
       "version_major": 2,
       "version_minor": 0
      },
      "text/plain": [
       "Training: |                                               | 0/? [00:00<?, ?it/s]"
      ]
     },
     "metadata": {},
     "output_type": "display_data"
    },
    {
     "data": {
      "application/vnd.jupyter.widget-view+json": {
       "model_id": "",
       "version_major": 2,
       "version_minor": 0
      },
      "text/plain": [
       "Validation: |                                             | 0/? [00:00<?, ?it/s]"
      ]
     },
     "metadata": {},
     "output_type": "display_data"
    },
    {
     "data": {
      "application/vnd.jupyter.widget-view+json": {
       "model_id": "5bb6fb9cc2e94ab897228a3e6ec10468",
       "version_major": 2,
       "version_minor": 0
      },
      "text/plain": [
       "Predicting: |                                             | 0/? [00:00<?, ?it/s]"
      ]
     },
     "metadata": {},
     "output_type": "display_data"
    },
    {
     "name": "stderr",
     "output_type": "stream",
     "text": [
      "Seed set to 31691787\n"
     ]
    },
    {
     "name": "stdout",
     "output_type": "stream",
     "text": [
      "Random Seed: 72155283\n",
      "RMSE: 0.006831412482981173 | QLIKE: 0.11618473265965726 | MAPE: 0.004605811532738155\n"
     ]
    },
    {
     "data": {
      "application/vnd.jupyter.widget-view+json": {
       "model_id": "",
       "version_major": 2,
       "version_minor": 0
      },
      "text/plain": [
       "Sanity Checking: |                                        | 0/? [00:00<?, ?it/s]"
      ]
     },
     "metadata": {},
     "output_type": "display_data"
    },
    {
     "data": {
      "application/vnd.jupyter.widget-view+json": {
       "model_id": "0a65e296bfda401f9aabe46f71013895",
       "version_major": 2,
       "version_minor": 0
      },
      "text/plain": [
       "Training: |                                               | 0/? [00:00<?, ?it/s]"
      ]
     },
     "metadata": {},
     "output_type": "display_data"
    },
    {
     "data": {
      "application/vnd.jupyter.widget-view+json": {
       "model_id": "",
       "version_major": 2,
       "version_minor": 0
      },
      "text/plain": [
       "Validation: |                                             | 0/? [00:00<?, ?it/s]"
      ]
     },
     "metadata": {},
     "output_type": "display_data"
    },
    {
     "data": {
      "application/vnd.jupyter.widget-view+json": {
       "model_id": "12d0ad4520d04b1a866731f61dfa0175",
       "version_major": 2,
       "version_minor": 0
      },
      "text/plain": [
       "Predicting: |                                             | 0/? [00:00<?, ?it/s]"
      ]
     },
     "metadata": {},
     "output_type": "display_data"
    },
    {
     "name": "stderr",
     "output_type": "stream",
     "text": [
      "Seed set to 77331187\n"
     ]
    },
    {
     "name": "stdout",
     "output_type": "stream",
     "text": [
      "Random Seed: 31691787\n",
      "RMSE: 0.006651334197074078 | QLIKE: 0.11499216863374871 | MAPE: 0.0040796812481532965\n"
     ]
    },
    {
     "data": {
      "application/vnd.jupyter.widget-view+json": {
       "model_id": "",
       "version_major": 2,
       "version_minor": 0
      },
      "text/plain": [
       "Sanity Checking: |                                        | 0/? [00:00<?, ?it/s]"
      ]
     },
     "metadata": {},
     "output_type": "display_data"
    },
    {
     "data": {
      "application/vnd.jupyter.widget-view+json": {
       "model_id": "9546604c34594ae7b71078ec66c1667d",
       "version_major": 2,
       "version_minor": 0
      },
      "text/plain": [
       "Training: |                                               | 0/? [00:00<?, ?it/s]"
      ]
     },
     "metadata": {},
     "output_type": "display_data"
    },
    {
     "data": {
      "application/vnd.jupyter.widget-view+json": {
       "model_id": "",
       "version_major": 2,
       "version_minor": 0
      },
      "text/plain": [
       "Validation: |                                             | 0/? [00:00<?, ?it/s]"
      ]
     },
     "metadata": {},
     "output_type": "display_data"
    },
    {
     "data": {
      "application/vnd.jupyter.widget-view+json": {
       "model_id": "9af1f8dd518b4e00a78933f96869cb6c",
       "version_major": 2,
       "version_minor": 0
      },
      "text/plain": [
       "Predicting: |                                             | 0/? [00:00<?, ?it/s]"
      ]
     },
     "metadata": {},
     "output_type": "display_data"
    },
    {
     "name": "stderr",
     "output_type": "stream",
     "text": [
      "Seed set to 46943117\n"
     ]
    },
    {
     "name": "stdout",
     "output_type": "stream",
     "text": [
      "Random Seed: 77331187\n",
      "RMSE: 0.006882066515729475 | QLIKE: 0.11788178895192414 | MAPE: 0.004413046136813809\n"
     ]
    },
    {
     "data": {
      "application/vnd.jupyter.widget-view+json": {
       "model_id": "",
       "version_major": 2,
       "version_minor": 0
      },
      "text/plain": [
       "Sanity Checking: |                                        | 0/? [00:00<?, ?it/s]"
      ]
     },
     "metadata": {},
     "output_type": "display_data"
    },
    {
     "data": {
      "application/vnd.jupyter.widget-view+json": {
       "model_id": "c0f8423fd6ad4a5c8f2b6bb058d296dc",
       "version_major": 2,
       "version_minor": 0
      },
      "text/plain": [
       "Training: |                                               | 0/? [00:00<?, ?it/s]"
      ]
     },
     "metadata": {},
     "output_type": "display_data"
    },
    {
     "data": {
      "application/vnd.jupyter.widget-view+json": {
       "model_id": "",
       "version_major": 2,
       "version_minor": 0
      },
      "text/plain": [
       "Validation: |                                             | 0/? [00:00<?, ?it/s]"
      ]
     },
     "metadata": {},
     "output_type": "display_data"
    },
    {
     "data": {
      "application/vnd.jupyter.widget-view+json": {
       "model_id": "db9a8741695c41b881fc6b75ab3aba08",
       "version_major": 2,
       "version_minor": 0
      },
      "text/plain": [
       "Predicting: |                                             | 0/? [00:00<?, ?it/s]"
      ]
     },
     "metadata": {},
     "output_type": "display_data"
    },
    {
     "name": "stdout",
     "output_type": "stream",
     "text": [
      "Random Seed: 46943117\n",
      "RMSE: 0.006498032684382317 | QLIKE: 0.1128524641627898 | MAPE: 0.004004686347904561\n"
     ]
    }
   ],
   "source": [
    "for m in range (5):\n",
    "  randomseed=random.randrange(86372421)\n",
    "  model = NBEATSx(h=21, input_size=21,\n",
    "                loss=MSE_2DWD(),\n",
    "                scaler_type='minmax',\n",
    "                learning_rate=learning_rate[1],\n",
    "                stack_types=['seasonality', 'trend'],\n",
    "                n_blocks=[2,2],\n",
    "                mlp_units=[[712, 712], [712, 712]],\n",
    "                windows_batch_size=32,\n",
    "                num_lr_decays=num_lr_decays[1],\n",
    "                val_check_steps=500,\n",
    "                hist_exog_list=['BTC'],\n",
    "                n_harmonics=n_harmonics[3], n_polynomials=n_polynomials[3],\n",
    "                max_steps=150,\n",
    "                random_seed=randomseed)\n",
    "  fcst = NeuralForecast(models=[model],freq='D')\n",
    "  forecasts = fcst.cross_validation(df=train,val_size=21,n_windows=None, test_size=validation_length-validation_length%21,step_size=1)\n",
    "  forecasts = forecasts.dropna().drop_duplicates(subset='ds', keep='first')\n",
    "  if \"NBEATSx-median\" not in list(forecasts.columns.values):\n",
    "    Y_hat=forecasts[\"NBEATSx\"].values\n",
    "  else:\n",
    "    Y_hat=forecasts[\"NBEATSx-median\"].values\n",
    "  Y_true=forecasts[\"y\"].values\n",
    "  RMSE=np.sqrt(np.sum(((Y_true-Y_hat)**2))/len(Y_true))\n",
    "  QLIKE=(np.sum(Y_true/Y_hat-np.log(abs(Y_true)/abs(Y_hat))-1)/len(Y_true))\n",
    "  MAE=np.sum(abs(Y_true-Y_hat))/len(Y_true)\n",
    "  print(f\"Random Seed: {randomseed}\")\n",
    "  print(f\"RMSE: {RMSE} | QLIKE: {QLIKE} | MAPE: {MAE}\")"
   ]
  },
  {
   "cell_type": "code",
   "execution_count": 21,
   "id": "a1fcebfd",
   "metadata": {},
   "outputs": [
    {
     "name": "stderr",
     "output_type": "stream",
     "text": [
      "Seed set to 47180492\n"
     ]
    },
    {
     "data": {
      "application/vnd.jupyter.widget-view+json": {
       "model_id": "",
       "version_major": 2,
       "version_minor": 0
      },
      "text/plain": [
       "Sanity Checking: |                                        | 0/? [00:00<?, ?it/s]"
      ]
     },
     "metadata": {},
     "output_type": "display_data"
    },
    {
     "data": {
      "application/vnd.jupyter.widget-view+json": {
       "model_id": "7fe7c1dd98a8460baf594785e9e0313d",
       "version_major": 2,
       "version_minor": 0
      },
      "text/plain": [
       "Training: |                                               | 0/? [00:00<?, ?it/s]"
      ]
     },
     "metadata": {},
     "output_type": "display_data"
    },
    {
     "data": {
      "application/vnd.jupyter.widget-view+json": {
       "model_id": "",
       "version_major": 2,
       "version_minor": 0
      },
      "text/plain": [
       "Validation: |                                             | 0/? [00:00<?, ?it/s]"
      ]
     },
     "metadata": {},
     "output_type": "display_data"
    },
    {
     "data": {
      "application/vnd.jupyter.widget-view+json": {
       "model_id": "ddab873795494a049ddea4e496491a77",
       "version_major": 2,
       "version_minor": 0
      },
      "text/plain": [
       "Predicting: |                                             | 0/? [00:00<?, ?it/s]"
      ]
     },
     "metadata": {},
     "output_type": "display_data"
    },
    {
     "name": "stderr",
     "output_type": "stream",
     "text": [
      "Seed set to 25142080\n"
     ]
    },
    {
     "name": "stdout",
     "output_type": "stream",
     "text": [
      "Random Seed: 47180492\n",
      "RMSE: 0.00661190638648847 | QLIKE: 0.11433848954434657 | MAPE: 0.004053968534394056\n"
     ]
    },
    {
     "data": {
      "application/vnd.jupyter.widget-view+json": {
       "model_id": "",
       "version_major": 2,
       "version_minor": 0
      },
      "text/plain": [
       "Sanity Checking: |                                        | 0/? [00:00<?, ?it/s]"
      ]
     },
     "metadata": {},
     "output_type": "display_data"
    },
    {
     "data": {
      "application/vnd.jupyter.widget-view+json": {
       "model_id": "6e7711af2e474d088e5efb45257ea9b8",
       "version_major": 2,
       "version_minor": 0
      },
      "text/plain": [
       "Training: |                                               | 0/? [00:00<?, ?it/s]"
      ]
     },
     "metadata": {},
     "output_type": "display_data"
    },
    {
     "data": {
      "application/vnd.jupyter.widget-view+json": {
       "model_id": "",
       "version_major": 2,
       "version_minor": 0
      },
      "text/plain": [
       "Validation: |                                             | 0/? [00:00<?, ?it/s]"
      ]
     },
     "metadata": {},
     "output_type": "display_data"
    },
    {
     "data": {
      "application/vnd.jupyter.widget-view+json": {
       "model_id": "9c339202e5a24ec0912aa0c8f14be843",
       "version_major": 2,
       "version_minor": 0
      },
      "text/plain": [
       "Predicting: |                                             | 0/? [00:00<?, ?it/s]"
      ]
     },
     "metadata": {},
     "output_type": "display_data"
    },
    {
     "name": "stderr",
     "output_type": "stream",
     "text": [
      "Seed set to 76673412\n"
     ]
    },
    {
     "name": "stdout",
     "output_type": "stream",
     "text": [
      "Random Seed: 25142080\n",
      "RMSE: 0.006985792204862489 | QLIKE: 0.11845788977198263 | MAPE: 0.0046720425271153014\n"
     ]
    },
    {
     "data": {
      "application/vnd.jupyter.widget-view+json": {
       "model_id": "",
       "version_major": 2,
       "version_minor": 0
      },
      "text/plain": [
       "Sanity Checking: |                                        | 0/? [00:00<?, ?it/s]"
      ]
     },
     "metadata": {},
     "output_type": "display_data"
    },
    {
     "data": {
      "application/vnd.jupyter.widget-view+json": {
       "model_id": "86834765dae944c8a943f1045fdd3f89",
       "version_major": 2,
       "version_minor": 0
      },
      "text/plain": [
       "Training: |                                               | 0/? [00:00<?, ?it/s]"
      ]
     },
     "metadata": {},
     "output_type": "display_data"
    },
    {
     "data": {
      "application/vnd.jupyter.widget-view+json": {
       "model_id": "",
       "version_major": 2,
       "version_minor": 0
      },
      "text/plain": [
       "Validation: |                                             | 0/? [00:00<?, ?it/s]"
      ]
     },
     "metadata": {},
     "output_type": "display_data"
    },
    {
     "data": {
      "application/vnd.jupyter.widget-view+json": {
       "model_id": "89818683f6a745dc87bb4908911ec68c",
       "version_major": 2,
       "version_minor": 0
      },
      "text/plain": [
       "Predicting: |                                             | 0/? [00:00<?, ?it/s]"
      ]
     },
     "metadata": {},
     "output_type": "display_data"
    },
    {
     "name": "stderr",
     "output_type": "stream",
     "text": [
      "Seed set to 85027404\n"
     ]
    },
    {
     "name": "stdout",
     "output_type": "stream",
     "text": [
      "Random Seed: 76673412\n",
      "RMSE: 0.007130349103677476 | QLIKE: 0.12572707655878712 | MAPE: 0.0047082357892794845\n"
     ]
    },
    {
     "data": {
      "application/vnd.jupyter.widget-view+json": {
       "model_id": "",
       "version_major": 2,
       "version_minor": 0
      },
      "text/plain": [
       "Sanity Checking: |                                        | 0/? [00:00<?, ?it/s]"
      ]
     },
     "metadata": {},
     "output_type": "display_data"
    },
    {
     "data": {
      "application/vnd.jupyter.widget-view+json": {
       "model_id": "003918de1d1d45738460a5d2615f8167",
       "version_major": 2,
       "version_minor": 0
      },
      "text/plain": [
       "Training: |                                               | 0/? [00:00<?, ?it/s]"
      ]
     },
     "metadata": {},
     "output_type": "display_data"
    },
    {
     "data": {
      "application/vnd.jupyter.widget-view+json": {
       "model_id": "",
       "version_major": 2,
       "version_minor": 0
      },
      "text/plain": [
       "Validation: |                                             | 0/? [00:00<?, ?it/s]"
      ]
     },
     "metadata": {},
     "output_type": "display_data"
    },
    {
     "data": {
      "application/vnd.jupyter.widget-view+json": {
       "model_id": "9bc09c54dc584a9289fbbdf769b1b62b",
       "version_major": 2,
       "version_minor": 0
      },
      "text/plain": [
       "Predicting: |                                             | 0/? [00:00<?, ?it/s]"
      ]
     },
     "metadata": {},
     "output_type": "display_data"
    },
    {
     "name": "stderr",
     "output_type": "stream",
     "text": [
      "Seed set to 81040423\n"
     ]
    },
    {
     "name": "stdout",
     "output_type": "stream",
     "text": [
      "Random Seed: 85027404\n",
      "RMSE: 0.006582045629438435 | QLIKE: 0.11160707480147888 | MAPE: 0.00415853787126818\n"
     ]
    },
    {
     "data": {
      "application/vnd.jupyter.widget-view+json": {
       "model_id": "",
       "version_major": 2,
       "version_minor": 0
      },
      "text/plain": [
       "Sanity Checking: |                                        | 0/? [00:00<?, ?it/s]"
      ]
     },
     "metadata": {},
     "output_type": "display_data"
    },
    {
     "data": {
      "application/vnd.jupyter.widget-view+json": {
       "model_id": "6554e3bd0c3e492abeec3e0f8f4eaed3",
       "version_major": 2,
       "version_minor": 0
      },
      "text/plain": [
       "Training: |                                               | 0/? [00:00<?, ?it/s]"
      ]
     },
     "metadata": {},
     "output_type": "display_data"
    },
    {
     "data": {
      "application/vnd.jupyter.widget-view+json": {
       "model_id": "",
       "version_major": 2,
       "version_minor": 0
      },
      "text/plain": [
       "Validation: |                                             | 0/? [00:00<?, ?it/s]"
      ]
     },
     "metadata": {},
     "output_type": "display_data"
    },
    {
     "data": {
      "application/vnd.jupyter.widget-view+json": {
       "model_id": "56fe036d52d34ecd900fd6564d648e00",
       "version_major": 2,
       "version_minor": 0
      },
      "text/plain": [
       "Predicting: |                                             | 0/? [00:00<?, ?it/s]"
      ]
     },
     "metadata": {},
     "output_type": "display_data"
    },
    {
     "name": "stdout",
     "output_type": "stream",
     "text": [
      "Random Seed: 81040423\n",
      "RMSE: 0.006589415604451402 | QLIKE: 0.11154259724772422 | MAPE: 0.004182810599414569\n"
     ]
    }
   ],
   "source": [
    "for m in range (5):\n",
    "  randomseed=random.randrange(86372421)\n",
    "  model = NBEATSx(h=21, input_size=21,\n",
    "                loss=MSE_2DWD(),\n",
    "                scaler_type='minmax',\n",
    "                learning_rate=learning_rate[1],\n",
    "                stack_types=['seasonality', 'trend'],\n",
    "                n_blocks=[2,2],\n",
    "                mlp_units=[[712, 712], [712, 712]],\n",
    "                windows_batch_size=32,\n",
    "                num_lr_decays=num_lr_decays[1],\n",
    "                val_check_steps=500,\n",
    "                hist_exog_list=['BTC'],\n",
    "                n_harmonics=n_harmonics[3], n_polynomials=n_polynomials[3],\n",
    "                max_steps=150,\n",
    "                random_seed=randomseed)\n",
    "  fcst = NeuralForecast(models=[model],freq='D')\n",
    "  forecasts = fcst.cross_validation(df=train,val_size=21,n_windows=None, test_size=validation_length-validation_length%21,step_size=1)\n",
    "  forecasts = forecasts.dropna().drop_duplicates(subset='ds', keep='first')\n",
    "  if \"NBEATSx-median\" not in list(forecasts.columns.values):\n",
    "    Y_hat=forecasts[\"NBEATSx\"].values\n",
    "  else:\n",
    "    Y_hat=forecasts[\"NBEATSx-median\"].values\n",
    "  Y_true=forecasts[\"y\"].values\n",
    "  RMSE=np.sqrt(np.sum(((Y_true-Y_hat)**2))/len(Y_true))\n",
    "  QLIKE=(np.sum(Y_true/Y_hat-np.log(abs(Y_true)/abs(Y_hat))-1)/len(Y_true))\n",
    "  MAE=np.sum(abs(Y_true-Y_hat))/len(Y_true)\n",
    "  print(f\"Random Seed: {randomseed}\")\n",
    "  print(f\"RMSE: {RMSE} | QLIKE: {QLIKE} | MAPE: {MAE}\")"
   ]
  },
  {
   "cell_type": "code",
   "execution_count": 38,
   "id": "bb3883e1",
   "metadata": {},
   "outputs": [
    {
     "name": "stderr",
     "output_type": "stream",
     "text": [
      "Seed set to 3040833\n"
     ]
    },
    {
     "data": {
      "application/vnd.jupyter.widget-view+json": {
       "model_id": "",
       "version_major": 2,
       "version_minor": 0
      },
      "text/plain": [
       "Sanity Checking: |                                        | 0/? [00:00<?, ?it/s]"
      ]
     },
     "metadata": {},
     "output_type": "display_data"
    },
    {
     "data": {
      "application/vnd.jupyter.widget-view+json": {
       "model_id": "c2efb3794a324ee9b85a9f07e27191f7",
       "version_major": 2,
       "version_minor": 0
      },
      "text/plain": [
       "Training: |                                               | 0/? [00:00<?, ?it/s]"
      ]
     },
     "metadata": {},
     "output_type": "display_data"
    },
    {
     "data": {
      "application/vnd.jupyter.widget-view+json": {
       "model_id": "",
       "version_major": 2,
       "version_minor": 0
      },
      "text/plain": [
       "Validation: |                                             | 0/? [00:00<?, ?it/s]"
      ]
     },
     "metadata": {},
     "output_type": "display_data"
    },
    {
     "data": {
      "application/vnd.jupyter.widget-view+json": {
       "model_id": "ab5e500cf6fa43588a148b59fdfeff09",
       "version_major": 2,
       "version_minor": 0
      },
      "text/plain": [
       "Predicting: |                                             | 0/? [00:00<?, ?it/s]"
      ]
     },
     "metadata": {},
     "output_type": "display_data"
    },
    {
     "name": "stdout",
     "output_type": "stream",
     "text": [
      "RMSE: 0.006715387604345267 | QLIKE: 0.11568845584270006 | MAPE: 0.004214786259128669\n"
     ]
    }
   ],
   "source": [
    "model = NBEATSx(h=21, input_size=21,\n",
    "                loss=MSE_2DWD(),\n",
    "                scaler_type='minmax',\n",
    "                learning_rate=learning_rate[1],\n",
    "                stack_types=['seasonality', 'trend'],\n",
    "                n_blocks=[2,2],\n",
    "                mlp_units=[[712, 712], [712, 712]],\n",
    "                windows_batch_size=32,\n",
    "                num_lr_decays=num_lr_decays[1],\n",
    "                val_check_steps=500,\n",
    "                hist_exog_list=['BTC'],\n",
    "                n_harmonics=n_harmonics[3], n_polynomials=n_polynomials[3],\n",
    "                max_steps=150,\n",
    "                random_seed=3040833)\n",
    "fcst = NeuralForecast(models=[model],freq='D')\n",
    "forecasts = fcst.cross_validation(df=train,val_size=21,n_windows=None, test_size=validation_length-validation_length%21,step_size=1)\n",
    "forecasts = forecasts.dropna().drop_duplicates(subset='ds', keep='first')\n",
    "if \"NBEATSx-median\" not in list(forecasts.columns.values):\n",
    "    Y_hat=forecasts[\"NBEATSx\"].values\n",
    "else:\n",
    "    Y_hat=forecasts[\"NBEATSx-median\"].values\n",
    "Y_true=forecasts[\"y\"].values\n",
    "RMSE=np.sqrt(np.sum(((Y_true-Y_hat)**2))/len(Y_true))\n",
    "QLIKE=(np.sum(Y_true/Y_hat-np.log(abs(Y_true)/abs(Y_hat))-1)/len(Y_true))\n",
    "MAE=np.sum(abs(Y_true-Y_hat))/len(Y_true)\n",
    "print(f\"RMSE: {RMSE} | QLIKE: {QLIKE} | MAPE: {MAE}\")"
   ]
  },
  {
   "cell_type": "code",
   "execution_count": 39,
   "id": "3f233998",
   "metadata": {},
   "outputs": [],
   "source": [
    "#Testing\n",
    "test_length=int(len(RVETH)*0.3)"
   ]
  },
  {
   "cell_type": "code",
   "execution_count": 40,
   "id": "93e36802",
   "metadata": {},
   "outputs": [
    {
     "name": "stderr",
     "output_type": "stream",
     "text": [
      "Seed set to 30408333\n"
     ]
    },
    {
     "data": {
      "application/vnd.jupyter.widget-view+json": {
       "model_id": "",
       "version_major": 2,
       "version_minor": 0
      },
      "text/plain": [
       "Sanity Checking: |                                        | 0/? [00:00<?, ?it/s]"
      ]
     },
     "metadata": {},
     "output_type": "display_data"
    },
    {
     "data": {
      "application/vnd.jupyter.widget-view+json": {
       "model_id": "33aa84a1e3994aa0801a49dbb6484b44",
       "version_major": 2,
       "version_minor": 0
      },
      "text/plain": [
       "Training: |                                               | 0/? [00:00<?, ?it/s]"
      ]
     },
     "metadata": {},
     "output_type": "display_data"
    },
    {
     "data": {
      "application/vnd.jupyter.widget-view+json": {
       "model_id": "",
       "version_major": 2,
       "version_minor": 0
      },
      "text/plain": [
       "Validation: |                                             | 0/? [00:00<?, ?it/s]"
      ]
     },
     "metadata": {},
     "output_type": "display_data"
    },
    {
     "data": {
      "application/vnd.jupyter.widget-view+json": {
       "model_id": "7ff187d95997449bb2d4bd67bf4937e7",
       "version_major": 2,
       "version_minor": 0
      },
      "text/plain": [
       "Predicting: |                                             | 0/? [00:00<?, ?it/s]"
      ]
     },
     "metadata": {},
     "output_type": "display_data"
    },
    {
     "name": "stdout",
     "output_type": "stream",
     "text": [
      "RMSE: 0.0038051043050119646 | QLIKE: 0.1383672603091608 | MAPE: 0.002543097920916216\n"
     ]
    }
   ],
   "source": [
    "model = NBEATSx(h=21, input_size=21,\n",
    "                loss=MSE_2DWD(),\n",
    "                scaler_type='minmax',\n",
    "                learning_rate=learning_rate[1],\n",
    "                stack_types=['seasonality', 'trend'],\n",
    "                n_blocks=[2,2],\n",
    "                mlp_units=[[712, 712], [712, 712]],\n",
    "                windows_batch_size=32,\n",
    "                num_lr_decays=num_lr_decays[1],\n",
    "                val_check_steps=500,\n",
    "                hist_exog_list=['BTC'],\n",
    "                n_harmonics=n_harmonics[3], n_polynomials=n_polynomials[3],\n",
    "                max_steps=150,\n",
    "                random_seed=30408333)\n",
    "fcst = NeuralForecast(models=[model],freq='D')\n",
    "forecasts = fcst.cross_validation(df=RVETH,val_size=21,n_windows=None, test_size=test_length-test_length%21,step_size=1)\n",
    "forecasts = forecasts.dropna().drop_duplicates(subset='ds', keep='first')\n",
    "if \"NBEATSx-median\" not in list(forecasts.columns.values):\n",
    "    Y_hat=forecasts[\"NBEATSx\"].values\n",
    "else:\n",
    "    Y_hat=forecasts[\"NBEATSx-median\"].values\n",
    "Y_true=forecasts[\"y\"].values\n",
    "RMSE=np.sqrt(np.sum(((Y_true-Y_hat)**2))/len(Y_true))\n",
    "QLIKE=(np.sum(Y_true/Y_hat-np.log(abs(Y_true)/abs(Y_hat))-1)/len(Y_true))\n",
    "MAE=np.sum(abs(Y_true-Y_hat))/len(Y_true)\n",
    "print(f\"RMSE: {RMSE} | QLIKE: {QLIKE} | MAPE: {MAE}\")"
   ]
  },
  {
   "cell_type": "code",
   "execution_count": 41,
   "id": "5391d74c",
   "metadata": {},
   "outputs": [
    {
     "data": {
      "application/vnd.plotly.v1+json": {
       "config": {
        "plotlyServerURL": "https://plot.ly"
       },
       "data": [
        {
         "hovertemplate": "variable=NBEATSx<br>ds=%{x}<br>value=%{y}<extra></extra>",
         "legendgroup": "NBEATSx",
         "line": {
          "color": "#636efa",
          "dash": "solid"
         },
         "marker": {
          "symbol": "circle"
         },
         "mode": "lines",
         "name": "NBEATSx",
         "showlegend": true,
         "type": "scattergl",
         "x": [
          "2022-04-29T00:00:00",
          "2022-04-30T00:00:00",
          "2022-05-01T00:00:00",
          "2022-05-02T00:00:00",
          "2022-05-03T00:00:00",
          "2022-05-04T00:00:00",
          "2022-05-05T00:00:00",
          "2022-05-06T00:00:00",
          "2022-05-07T00:00:00",
          "2022-05-08T00:00:00",
          "2022-05-09T00:00:00",
          "2022-05-10T00:00:00",
          "2022-05-11T00:00:00",
          "2022-05-12T00:00:00",
          "2022-05-13T00:00:00",
          "2022-05-14T00:00:00",
          "2022-05-15T00:00:00",
          "2022-05-16T00:00:00",
          "2022-05-17T00:00:00",
          "2022-05-18T00:00:00",
          "2022-05-19T00:00:00",
          "2022-05-20T00:00:00",
          "2022-05-21T00:00:00",
          "2022-05-22T00:00:00",
          "2022-05-23T00:00:00",
          "2022-05-24T00:00:00",
          "2022-05-25T00:00:00",
          "2022-05-26T00:00:00",
          "2022-05-27T00:00:00",
          "2022-05-28T00:00:00",
          "2022-05-29T00:00:00",
          "2022-05-30T00:00:00",
          "2022-05-31T00:00:00",
          "2022-06-01T00:00:00",
          "2022-06-02T00:00:00",
          "2022-06-03T00:00:00",
          "2022-06-04T00:00:00",
          "2022-06-05T00:00:00",
          "2022-06-06T00:00:00",
          "2022-06-07T00:00:00",
          "2022-06-08T00:00:00",
          "2022-06-09T00:00:00",
          "2022-06-10T00:00:00",
          "2022-06-11T00:00:00",
          "2022-06-12T00:00:00",
          "2022-06-13T00:00:00",
          "2022-06-14T00:00:00",
          "2022-06-15T00:00:00",
          "2022-06-16T00:00:00",
          "2022-06-17T00:00:00",
          "2022-06-18T00:00:00",
          "2022-06-19T00:00:00",
          "2022-06-20T00:00:00",
          "2022-06-21T00:00:00",
          "2022-06-22T00:00:00",
          "2022-06-23T00:00:00",
          "2022-06-24T00:00:00",
          "2022-06-25T00:00:00",
          "2022-06-26T00:00:00",
          "2022-06-27T00:00:00",
          "2022-06-28T00:00:00",
          "2022-06-29T00:00:00",
          "2022-06-30T00:00:00",
          "2022-07-01T00:00:00",
          "2022-07-02T00:00:00",
          "2022-07-03T00:00:00",
          "2022-07-04T00:00:00",
          "2022-07-05T00:00:00",
          "2022-07-06T00:00:00",
          "2022-07-07T00:00:00",
          "2022-07-08T00:00:00",
          "2022-07-09T00:00:00",
          "2022-07-10T00:00:00",
          "2022-07-11T00:00:00",
          "2022-07-12T00:00:00",
          "2022-07-13T00:00:00",
          "2022-07-14T00:00:00",
          "2022-07-15T00:00:00",
          "2022-07-16T00:00:00",
          "2022-07-17T00:00:00",
          "2022-07-18T00:00:00",
          "2022-07-19T00:00:00",
          "2022-07-20T00:00:00",
          "2022-07-21T00:00:00",
          "2022-07-22T00:00:00",
          "2022-07-23T00:00:00",
          "2022-07-24T00:00:00",
          "2022-07-25T00:00:00",
          "2022-07-26T00:00:00",
          "2022-07-27T00:00:00",
          "2022-07-28T00:00:00",
          "2022-07-29T00:00:00",
          "2022-07-30T00:00:00",
          "2022-07-31T00:00:00",
          "2022-08-01T00:00:00",
          "2022-08-02T00:00:00",
          "2022-08-03T00:00:00",
          "2022-08-04T00:00:00",
          "2022-08-05T00:00:00",
          "2022-08-06T00:00:00",
          "2022-08-07T00:00:00",
          "2022-08-08T00:00:00",
          "2022-08-09T00:00:00",
          "2022-08-10T00:00:00",
          "2022-08-11T00:00:00",
          "2022-08-12T00:00:00",
          "2022-08-13T00:00:00",
          "2022-08-14T00:00:00",
          "2022-08-15T00:00:00",
          "2022-08-16T00:00:00",
          "2022-08-17T00:00:00",
          "2022-08-18T00:00:00",
          "2022-08-19T00:00:00",
          "2022-08-20T00:00:00",
          "2022-08-21T00:00:00",
          "2022-08-22T00:00:00",
          "2022-08-23T00:00:00",
          "2022-08-24T00:00:00",
          "2022-08-25T00:00:00",
          "2022-08-26T00:00:00",
          "2022-08-27T00:00:00",
          "2022-08-28T00:00:00",
          "2022-08-29T00:00:00",
          "2022-08-30T00:00:00",
          "2022-08-31T00:00:00",
          "2022-09-01T00:00:00",
          "2022-09-02T00:00:00",
          "2022-09-03T00:00:00",
          "2022-09-04T00:00:00",
          "2022-09-05T00:00:00",
          "2022-09-06T00:00:00",
          "2022-09-07T00:00:00",
          "2022-09-08T00:00:00",
          "2022-09-09T00:00:00",
          "2022-09-10T00:00:00",
          "2022-09-11T00:00:00",
          "2022-09-12T00:00:00",
          "2022-09-13T00:00:00",
          "2022-09-14T00:00:00",
          "2022-09-15T00:00:00",
          "2022-09-16T00:00:00",
          "2022-09-17T00:00:00",
          "2022-09-18T00:00:00",
          "2022-09-19T00:00:00",
          "2022-09-20T00:00:00",
          "2022-09-21T00:00:00",
          "2022-09-22T00:00:00",
          "2022-09-23T00:00:00",
          "2022-09-24T00:00:00",
          "2022-09-25T00:00:00",
          "2022-09-26T00:00:00",
          "2022-09-27T00:00:00",
          "2022-09-28T00:00:00",
          "2022-09-29T00:00:00",
          "2022-09-30T00:00:00",
          "2022-10-01T00:00:00",
          "2022-10-02T00:00:00",
          "2022-10-03T00:00:00",
          "2022-10-04T00:00:00",
          "2022-10-05T00:00:00",
          "2022-10-06T00:00:00",
          "2022-10-07T00:00:00",
          "2022-10-08T00:00:00",
          "2022-10-09T00:00:00",
          "2022-10-10T00:00:00",
          "2022-10-11T00:00:00",
          "2022-10-12T00:00:00",
          "2022-10-13T00:00:00",
          "2022-10-14T00:00:00",
          "2022-10-15T00:00:00",
          "2022-10-16T00:00:00",
          "2022-10-17T00:00:00",
          "2022-10-18T00:00:00",
          "2022-10-19T00:00:00",
          "2022-10-20T00:00:00",
          "2022-10-21T00:00:00",
          "2022-10-22T00:00:00",
          "2022-10-23T00:00:00",
          "2022-10-24T00:00:00",
          "2022-10-25T00:00:00",
          "2022-10-26T00:00:00",
          "2022-10-27T00:00:00",
          "2022-10-28T00:00:00",
          "2022-10-29T00:00:00",
          "2022-10-30T00:00:00",
          "2022-10-31T00:00:00",
          "2022-11-01T00:00:00",
          "2022-11-02T00:00:00",
          "2022-11-03T00:00:00",
          "2022-11-04T00:00:00",
          "2022-11-05T00:00:00",
          "2022-11-06T00:00:00",
          "2022-11-07T00:00:00",
          "2022-11-08T00:00:00",
          "2022-11-09T00:00:00",
          "2022-11-10T00:00:00",
          "2022-11-11T00:00:00",
          "2022-11-12T00:00:00",
          "2022-11-13T00:00:00",
          "2022-11-14T00:00:00",
          "2022-11-15T00:00:00",
          "2022-11-16T00:00:00",
          "2022-11-17T00:00:00",
          "2022-11-18T00:00:00",
          "2022-11-19T00:00:00",
          "2022-11-20T00:00:00",
          "2022-11-21T00:00:00",
          "2022-11-22T00:00:00",
          "2022-11-23T00:00:00",
          "2022-11-24T00:00:00",
          "2022-11-25T00:00:00",
          "2022-11-26T00:00:00",
          "2022-11-27T00:00:00",
          "2022-11-28T00:00:00",
          "2022-11-29T00:00:00",
          "2022-11-30T00:00:00",
          "2022-12-01T00:00:00",
          "2022-12-02T00:00:00",
          "2022-12-03T00:00:00",
          "2022-12-04T00:00:00",
          "2022-12-05T00:00:00",
          "2022-12-06T00:00:00",
          "2022-12-07T00:00:00",
          "2022-12-08T00:00:00",
          "2022-12-09T00:00:00",
          "2022-12-10T00:00:00",
          "2022-12-11T00:00:00",
          "2022-12-12T00:00:00",
          "2022-12-13T00:00:00",
          "2022-12-14T00:00:00",
          "2022-12-15T00:00:00",
          "2022-12-16T00:00:00",
          "2022-12-17T00:00:00",
          "2022-12-18T00:00:00",
          "2022-12-19T00:00:00",
          "2022-12-20T00:00:00",
          "2022-12-21T00:00:00",
          "2022-12-22T00:00:00",
          "2022-12-23T00:00:00",
          "2022-12-24T00:00:00",
          "2022-12-25T00:00:00",
          "2022-12-26T00:00:00",
          "2022-12-27T00:00:00",
          "2022-12-28T00:00:00",
          "2022-12-29T00:00:00",
          "2022-12-30T00:00:00",
          "2022-12-31T00:00:00",
          "2023-01-01T00:00:00",
          "2023-01-02T00:00:00",
          "2023-01-03T00:00:00",
          "2023-01-04T00:00:00",
          "2023-01-05T00:00:00",
          "2023-01-06T00:00:00",
          "2023-01-07T00:00:00",
          "2023-01-08T00:00:00",
          "2023-01-09T00:00:00",
          "2023-01-10T00:00:00",
          "2023-01-11T00:00:00",
          "2023-01-12T00:00:00",
          "2023-01-13T00:00:00",
          "2023-01-14T00:00:00",
          "2023-01-15T00:00:00",
          "2023-01-16T00:00:00",
          "2023-01-17T00:00:00",
          "2023-01-18T00:00:00",
          "2023-01-19T00:00:00",
          "2023-01-20T00:00:00",
          "2023-01-21T00:00:00",
          "2023-01-22T00:00:00",
          "2023-01-23T00:00:00",
          "2023-01-24T00:00:00",
          "2023-01-25T00:00:00",
          "2023-01-26T00:00:00",
          "2023-01-27T00:00:00",
          "2023-01-28T00:00:00",
          "2023-01-29T00:00:00",
          "2023-01-30T00:00:00",
          "2023-01-31T00:00:00",
          "2023-02-01T00:00:00",
          "2023-02-02T00:00:00",
          "2023-02-03T00:00:00",
          "2023-02-04T00:00:00",
          "2023-02-05T00:00:00",
          "2023-02-06T00:00:00",
          "2023-02-07T00:00:00",
          "2023-02-08T00:00:00",
          "2023-02-09T00:00:00",
          "2023-02-10T00:00:00",
          "2023-02-11T00:00:00",
          "2023-02-12T00:00:00",
          "2023-02-13T00:00:00",
          "2023-02-14T00:00:00",
          "2023-02-15T00:00:00",
          "2023-02-16T00:00:00",
          "2023-02-17T00:00:00",
          "2023-02-18T00:00:00",
          "2023-02-19T00:00:00",
          "2023-02-20T00:00:00",
          "2023-02-21T00:00:00",
          "2023-02-22T00:00:00",
          "2023-02-23T00:00:00",
          "2023-02-24T00:00:00",
          "2023-02-25T00:00:00",
          "2023-02-26T00:00:00",
          "2023-02-27T00:00:00",
          "2023-02-28T00:00:00",
          "2023-03-01T00:00:00",
          "2023-03-02T00:00:00",
          "2023-03-03T00:00:00",
          "2023-03-04T00:00:00",
          "2023-03-05T00:00:00",
          "2023-03-06T00:00:00",
          "2023-03-07T00:00:00",
          "2023-03-08T00:00:00",
          "2023-03-09T00:00:00",
          "2023-03-10T00:00:00",
          "2023-03-11T00:00:00",
          "2023-03-12T00:00:00",
          "2023-03-13T00:00:00",
          "2023-03-14T00:00:00",
          "2023-03-15T00:00:00",
          "2023-03-16T00:00:00",
          "2023-03-17T00:00:00",
          "2023-03-18T00:00:00",
          "2023-03-19T00:00:00",
          "2023-03-20T00:00:00",
          "2023-03-21T00:00:00",
          "2023-03-22T00:00:00",
          "2023-03-23T00:00:00",
          "2023-03-24T00:00:00",
          "2023-03-25T00:00:00",
          "2023-03-26T00:00:00",
          "2023-03-27T00:00:00",
          "2023-03-28T00:00:00",
          "2023-03-29T00:00:00",
          "2023-03-30T00:00:00",
          "2023-03-31T00:00:00",
          "2023-04-01T00:00:00",
          "2023-04-02T00:00:00",
          "2023-04-03T00:00:00",
          "2023-04-04T00:00:00",
          "2023-04-05T00:00:00",
          "2023-04-06T00:00:00",
          "2023-04-07T00:00:00",
          "2023-04-08T00:00:00",
          "2023-04-09T00:00:00",
          "2023-04-10T00:00:00",
          "2023-04-11T00:00:00",
          "2023-04-12T00:00:00",
          "2023-04-13T00:00:00",
          "2023-04-14T00:00:00",
          "2023-04-15T00:00:00",
          "2023-04-16T00:00:00",
          "2023-04-17T00:00:00",
          "2023-04-18T00:00:00",
          "2023-04-19T00:00:00",
          "2023-04-20T00:00:00",
          "2023-04-21T00:00:00",
          "2023-04-22T00:00:00",
          "2023-04-23T00:00:00",
          "2023-04-24T00:00:00",
          "2023-04-25T00:00:00",
          "2023-04-26T00:00:00",
          "2023-04-27T00:00:00",
          "2023-04-28T00:00:00",
          "2023-04-29T00:00:00",
          "2023-04-30T00:00:00",
          "2023-05-01T00:00:00",
          "2023-05-02T00:00:00",
          "2023-05-03T00:00:00",
          "2023-05-04T00:00:00",
          "2023-05-05T00:00:00",
          "2023-05-06T00:00:00",
          "2023-05-07T00:00:00",
          "2023-05-08T00:00:00",
          "2023-05-09T00:00:00",
          "2023-05-10T00:00:00",
          "2023-05-11T00:00:00",
          "2023-05-12T00:00:00",
          "2023-05-13T00:00:00",
          "2023-05-14T00:00:00",
          "2023-05-15T00:00:00",
          "2023-05-16T00:00:00",
          "2023-05-17T00:00:00",
          "2023-05-18T00:00:00",
          "2023-05-19T00:00:00",
          "2023-05-20T00:00:00",
          "2023-05-21T00:00:00",
          "2023-05-22T00:00:00",
          "2023-05-23T00:00:00",
          "2023-05-24T00:00:00",
          "2023-05-25T00:00:00",
          "2023-05-26T00:00:00",
          "2023-05-27T00:00:00",
          "2023-05-28T00:00:00",
          "2023-05-29T00:00:00",
          "2023-05-30T00:00:00",
          "2023-05-31T00:00:00",
          "2023-06-01T00:00:00",
          "2023-06-02T00:00:00",
          "2023-06-03T00:00:00",
          "2023-06-04T00:00:00",
          "2023-06-05T00:00:00",
          "2023-06-06T00:00:00",
          "2023-06-07T00:00:00",
          "2023-06-08T00:00:00",
          "2023-06-09T00:00:00",
          "2023-06-10T00:00:00",
          "2023-06-11T00:00:00",
          "2023-06-12T00:00:00",
          "2023-06-13T00:00:00",
          "2023-06-14T00:00:00",
          "2023-06-15T00:00:00",
          "2023-06-16T00:00:00",
          "2023-06-17T00:00:00",
          "2023-06-18T00:00:00",
          "2023-06-19T00:00:00",
          "2023-06-20T00:00:00",
          "2023-06-21T00:00:00",
          "2023-06-22T00:00:00",
          "2023-06-23T00:00:00",
          "2023-06-24T00:00:00",
          "2023-06-25T00:00:00",
          "2023-06-26T00:00:00",
          "2023-06-27T00:00:00",
          "2023-06-28T00:00:00",
          "2023-06-29T00:00:00",
          "2023-06-30T00:00:00",
          "2023-07-01T00:00:00",
          "2023-07-02T00:00:00",
          "2023-07-03T00:00:00",
          "2023-07-04T00:00:00",
          "2023-07-05T00:00:00",
          "2023-07-06T00:00:00",
          "2023-07-07T00:00:00",
          "2023-07-08T00:00:00",
          "2023-07-09T00:00:00",
          "2023-07-10T00:00:00",
          "2023-07-11T00:00:00",
          "2023-07-12T00:00:00",
          "2023-07-13T00:00:00",
          "2023-07-14T00:00:00",
          "2023-07-15T00:00:00",
          "2023-07-16T00:00:00",
          "2023-07-17T00:00:00",
          "2023-07-18T00:00:00",
          "2023-07-19T00:00:00",
          "2023-07-20T00:00:00",
          "2023-07-21T00:00:00",
          "2023-07-22T00:00:00",
          "2023-07-23T00:00:00",
          "2023-07-24T00:00:00",
          "2023-07-25T00:00:00",
          "2023-07-26T00:00:00",
          "2023-07-27T00:00:00",
          "2023-07-28T00:00:00",
          "2023-07-29T00:00:00",
          "2023-07-30T00:00:00",
          "2023-07-31T00:00:00",
          "2023-08-01T00:00:00",
          "2023-08-02T00:00:00",
          "2023-08-03T00:00:00",
          "2023-08-04T00:00:00",
          "2023-08-05T00:00:00",
          "2023-08-06T00:00:00",
          "2023-08-07T00:00:00",
          "2023-08-08T00:00:00",
          "2023-08-09T00:00:00",
          "2023-08-10T00:00:00",
          "2023-08-11T00:00:00",
          "2023-08-12T00:00:00",
          "2023-08-13T00:00:00",
          "2023-08-14T00:00:00",
          "2023-08-15T00:00:00",
          "2023-08-16T00:00:00",
          "2023-08-17T00:00:00",
          "2023-08-18T00:00:00",
          "2023-08-19T00:00:00",
          "2023-08-20T00:00:00",
          "2023-08-21T00:00:00",
          "2023-08-22T00:00:00",
          "2023-08-23T00:00:00",
          "2023-08-24T00:00:00",
          "2023-08-25T00:00:00",
          "2023-08-26T00:00:00",
          "2023-08-27T00:00:00",
          "2023-08-28T00:00:00",
          "2023-08-29T00:00:00",
          "2023-08-30T00:00:00",
          "2023-08-31T00:00:00",
          "2023-09-01T00:00:00",
          "2023-09-02T00:00:00",
          "2023-09-03T00:00:00",
          "2023-09-04T00:00:00",
          "2023-09-05T00:00:00",
          "2023-09-06T00:00:00",
          "2023-09-07T00:00:00",
          "2023-09-08T00:00:00",
          "2023-09-09T00:00:00",
          "2023-09-10T00:00:00",
          "2023-09-11T00:00:00",
          "2023-09-12T00:00:00",
          "2023-09-13T00:00:00",
          "2023-09-14T00:00:00",
          "2023-09-15T00:00:00",
          "2023-09-16T00:00:00",
          "2023-09-17T00:00:00",
          "2023-09-18T00:00:00",
          "2023-09-19T00:00:00",
          "2023-09-20T00:00:00",
          "2023-09-21T00:00:00",
          "2023-09-22T00:00:00",
          "2023-09-23T00:00:00",
          "2023-09-24T00:00:00",
          "2023-09-25T00:00:00",
          "2023-09-26T00:00:00",
          "2023-09-27T00:00:00",
          "2023-09-28T00:00:00",
          "2023-09-29T00:00:00",
          "2023-09-30T00:00:00",
          "2023-10-01T00:00:00",
          "2023-10-02T00:00:00",
          "2023-10-03T00:00:00",
          "2023-10-04T00:00:00",
          "2023-10-05T00:00:00",
          "2023-10-06T00:00:00",
          "2023-10-07T00:00:00",
          "2023-10-08T00:00:00",
          "2023-10-09T00:00:00",
          "2023-10-10T00:00:00",
          "2023-10-11T00:00:00",
          "2023-10-12T00:00:00",
          "2023-10-13T00:00:00",
          "2023-10-14T00:00:00",
          "2023-10-15T00:00:00",
          "2023-10-16T00:00:00",
          "2023-10-17T00:00:00",
          "2023-10-18T00:00:00",
          "2023-10-19T00:00:00",
          "2023-10-20T00:00:00",
          "2023-10-21T00:00:00",
          "2023-10-22T00:00:00",
          "2023-10-23T00:00:00",
          "2023-10-24T00:00:00",
          "2023-10-25T00:00:00",
          "2023-10-26T00:00:00",
          "2023-10-27T00:00:00",
          "2023-10-28T00:00:00",
          "2023-10-29T00:00:00",
          "2023-10-30T00:00:00",
          "2023-10-31T00:00:00",
          "2023-11-01T00:00:00",
          "2023-11-02T00:00:00",
          "2023-11-03T00:00:00",
          "2023-11-04T00:00:00",
          "2023-11-05T00:00:00",
          "2023-11-06T00:00:00",
          "2023-11-07T00:00:00",
          "2023-11-08T00:00:00",
          "2023-11-09T00:00:00",
          "2023-11-10T00:00:00",
          "2023-11-11T00:00:00",
          "2023-11-12T00:00:00",
          "2023-11-13T00:00:00",
          "2023-11-14T00:00:00",
          "2023-11-15T00:00:00",
          "2023-11-16T00:00:00",
          "2023-11-17T00:00:00",
          "2023-11-18T00:00:00",
          "2023-11-19T00:00:00",
          "2023-11-20T00:00:00",
          "2023-11-21T00:00:00",
          "2023-11-22T00:00:00",
          "2023-11-23T00:00:00",
          "2023-11-24T00:00:00",
          "2023-11-25T00:00:00",
          "2023-11-26T00:00:00",
          "2023-11-27T00:00:00",
          "2023-11-28T00:00:00",
          "2023-11-29T00:00:00",
          "2023-11-30T00:00:00",
          "2023-12-01T00:00:00",
          "2023-12-02T00:00:00",
          "2023-12-03T00:00:00",
          "2023-12-04T00:00:00",
          "2023-12-05T00:00:00",
          "2023-12-06T00:00:00",
          "2023-12-07T00:00:00",
          "2023-12-08T00:00:00",
          "2023-12-09T00:00:00",
          "2023-12-10T00:00:00",
          "2023-12-11T00:00:00",
          "2023-12-12T00:00:00",
          "2023-12-13T00:00:00",
          "2023-12-14T00:00:00",
          "2023-12-15T00:00:00",
          "2023-12-16T00:00:00",
          "2023-12-17T00:00:00",
          "2023-12-18T00:00:00",
          "2023-12-19T00:00:00",
          "2023-12-20T00:00:00",
          "2023-12-21T00:00:00",
          "2023-12-22T00:00:00",
          "2023-12-23T00:00:00",
          "2023-12-24T00:00:00",
          "2023-12-25T00:00:00",
          "2023-12-26T00:00:00",
          "2023-12-27T00:00:00",
          "2023-12-28T00:00:00",
          "2023-12-29T00:00:00",
          "2023-12-30T00:00:00",
          "2023-12-31T00:00:00",
          "2024-01-01T00:00:00",
          "2024-01-02T00:00:00",
          "2024-01-03T00:00:00",
          "2024-01-04T00:00:00",
          "2024-01-05T00:00:00",
          "2024-01-06T00:00:00",
          "2024-01-07T00:00:00",
          "2024-01-08T00:00:00",
          "2024-01-09T00:00:00",
          "2024-01-10T00:00:00",
          "2024-01-11T00:00:00",
          "2024-01-12T00:00:00",
          "2024-01-13T00:00:00",
          "2024-01-14T00:00:00",
          "2024-01-15T00:00:00",
          "2024-01-16T00:00:00",
          "2024-01-17T00:00:00",
          "2024-01-18T00:00:00",
          "2024-01-19T00:00:00",
          "2024-01-20T00:00:00",
          "2024-01-21T00:00:00",
          "2024-01-22T00:00:00",
          "2024-01-23T00:00:00",
          "2024-01-24T00:00:00",
          "2024-01-25T00:00:00",
          "2024-01-26T00:00:00",
          "2024-01-27T00:00:00",
          "2024-01-28T00:00:00",
          "2024-01-29T00:00:00",
          "2024-01-30T00:00:00",
          "2024-01-31T00:00:00",
          "2024-02-01T00:00:00",
          "2024-02-02T00:00:00",
          "2024-02-03T00:00:00",
          "2024-02-04T00:00:00",
          "2024-02-05T00:00:00",
          "2024-02-06T00:00:00",
          "2024-02-07T00:00:00",
          "2024-02-08T00:00:00",
          "2024-02-09T00:00:00",
          "2024-02-10T00:00:00",
          "2024-02-11T00:00:00",
          "2024-02-12T00:00:00",
          "2024-02-13T00:00:00",
          "2024-02-14T00:00:00",
          "2024-02-15T00:00:00",
          "2024-02-16T00:00:00",
          "2024-02-17T00:00:00",
          "2024-02-18T00:00:00",
          "2024-02-19T00:00:00",
          "2024-02-20T00:00:00",
          "2024-02-21T00:00:00",
          "2024-02-22T00:00:00",
          "2024-02-23T00:00:00",
          "2024-02-24T00:00:00",
          "2024-02-25T00:00:00",
          "2024-02-26T00:00:00",
          "2024-02-27T00:00:00",
          "2024-02-28T00:00:00",
          "2024-02-29T00:00:00"
         ],
         "xaxis": "x",
         "y": [
          0.00817868486046791,
          0.007435668725520372,
          0.0069023678079247475,
          0.007750729098916054,
          0.007840104401111603,
          0.008158836513757706,
          0.0075370268896222115,
          0.007853176444768906,
          0.0068925186060369015,
          0.006819135509431362,
          0.007257867604494095,
          0.007118905428797007,
          0.0071157533675432205,
          0.00734578026458621,
          0.006990149617195129,
          0.006678454577922821,
          0.006786063313484192,
          0.008013837970793247,
          0.007655506953597069,
          0.007528217043727636,
          0.007774294354021549,
          0.006799925118684769,
          0.006279567256569862,
          0.0076277004554867744,
          0.00750384759157896,
          0.0069528063759207726,
          0.007553200237452984,
          0.007938911207020283,
          0.008348618634045124,
          0.00782483909279108,
          0.008322160691022873,
          0.006538478657603264,
          0.00802471674978733,
          0.009175153449177742,
          0.011226946488022804,
          0.009904319420456886,
          0.007858047261834145,
          0.005070756189525127,
          0.0055238171480596066,
          0.005841002333909273,
          0.0075096385553479195,
          0.008788454346358776,
          0.007378412876278162,
          0.008494660258293152,
          0.008499262854456902,
          0.006743201985955238,
          0.00838378630578518,
          0.009183873422443867,
          0.010264677926898003,
          0.010389473289251328,
          0.007032367400825024,
          0.009428412653505802,
          0.007477574050426483,
          0.00826365314424038,
          0.010170048102736473,
          0.011272095143795013,
          0.00893663614988327,
          0.008004099130630493,
          0.00824650563299656,
          0.008670395240187645,
          0.00900193303823471,
          0.009885618463158607,
          0.009323503822088242,
          0.01033871155232191,
          0.008905532769858837,
          0.008590742014348507,
          0.008806251920759678,
          0.012128125876188278,
          0.015114620327949524,
          0.015058198012411594,
          0.010701429098844528,
          0.008638683706521988,
          0.00850098580121994,
          0.014817481860518456,
          0.012355342507362366,
          0.011991994455456734,
          0.012437880039215088,
          0.012879423797130585,
          0.014549363404512405,
          0.012245699763298035,
          0.013640373013913631,
          0.014538963325321674,
          0.011799906380474567,
          0.0112453056499362,
          0.013044055551290512,
          0.01049397885799408,
          0.012095537967979908,
          0.009668678045272827,
          0.009801673702895641,
          0.013351475819945335,
          0.011024541221559048,
          0.010784747079014778,
          0.008530454710125923,
          0.010943826287984848,
          0.011078442446887493,
          0.008719601668417454,
          0.011474666185677052,
          0.012046786025166512,
          0.012477057054638863,
          0.01284605823457241,
          0.010525936260819435,
          0.011856334283947945,
          0.012488366104662418,
          0.014266201294958591,
          0.014416618272662163,
          0.01310734637081623,
          0.012287762016057968,
          0.012012729421257973,
          0.013641799800097942,
          0.014347841031849384,
          0.013258667662739754,
          0.01581164449453354,
          0.014742779545485973,
          0.0124273169785738,
          0.013685802929103374,
          0.012149950489401817,
          0.011995507404208183,
          0.012459665536880493,
          0.011329269036650658,
          0.01084139198064804,
          0.01074938289821148,
          0.011417578905820847,
          0.01008046604692936,
          0.00959857553243637,
          0.010220546275377274,
          0.009441697970032692,
          0.009499896317720413,
          0.009052399545907974,
          0.007832789793610573,
          0.009607712738215923,
          0.008703325875103474,
          0.009898290038108826,
          0.008874253369867802,
          0.007828830741345882,
          0.010883715935051441,
          0.009558180347084999,
          0.00990970991551876,
          0.009526301175355911,
          0.010090451687574387,
          0.010158570483326912,
          0.00955286156386137,
          0.008773280307650566,
          0.008880808018147945,
          0.010401677340269089,
          0.01079043559730053,
          0.010658319108188152,
          0.010653546079993248,
          0.010838712565600872,
          0.00969892181456089,
          0.010001729242503643,
          0.0100840600207448,
          0.011293305084109306,
          0.010644955560564995,
          0.010781490243971348,
          0.009876975789666176,
          0.009617630392313004,
          0.009660751558840275,
          0.008768954314291477,
          0.010253285057842731,
          0.011003348976373672,
          0.012333804741501808,
          0.01107088103890419,
          0.008314670994877815,
          0.009297259151935577,
          0.010463487356901169,
          0.011399054899811745,
          0.011955740861594677,
          0.012248938903212547,
          0.012608252465724945,
          0.010014601051807404,
          0.008800428360700607,
          0.010931061580777168,
          0.00953709241002798,
          0.012118825688958168,
          0.00946676917374134,
          0.010013863444328308,
          0.010866829194128513,
          0.008642997592687607,
          0.009370733052492142,
          0.009144918993115425,
          0.008078385144472122,
          0.007749301381409168,
          0.007022564299404621,
          0.005769966170191765,
          0.006942890118807554,
          0.00506977504119277,
          0.006240846123546362,
          0.005820616614073515,
          0.008642427623271942,
          0.006611470133066177,
          0.005622789263725281,
          0.005783906206488609,
          0.004918169230222702,
          0.0055661918595433235,
          0.0061671314761042595,
          0.007058321498334408,
          0.004446098580956459,
          0.0037397914566099644,
          0.005073067732155323,
          0.0041249715723097324,
          0.006219795905053616,
          0.007336202077567577,
          0.007879221811890602,
          0.008309741504490376,
          0.006145625840872526,
          0.00581842428073287,
          0.0075758593156933784,
          0.007007577456533909,
          0.009896901436150074,
          0.008869476616382599,
          0.00844758190214634,
          0.007938794791698456,
          0.007720109075307846,
          0.008831936866044998,
          0.00828438438475132,
          0.013567943125963211,
          0.015114734880626202,
          0.01624516025185585,
          0.012103142216801643,
          0.009262913838028908,
          0.0089256651699543,
          0.01077071949839592,
          0.010568203404545784,
          0.009872231632471085,
          0.009105948731303215,
          0.007815106771886349,
          0.010385853238403797,
          0.010762159712612629,
          0.011168450117111206,
          0.011723821051418781,
          0.00952826626598835,
          0.006408090703189373,
          0.009091481566429138,
          0.009093033149838448,
          0.009625861421227455,
          0.00820980779826641,
          0.00832382868975401,
          0.007753168232738972,
          0.007090545725077391,
          0.0062655918300151825,
          0.005888498388230801,
          0.007580632343888283,
          0.006475946865975857,
          0.0061395978555083275,
          0.005717660300433636,
          0.006138845346868038,
          0.00556124746799469,
          0.005332262255251408,
          0.005675433669239283,
          0.005750325508415699,
          0.006126857362687588,
          0.006139844655990601,
          0.006405325140804052,
          0.0051020048558712006,
          0.005818217061460018,
          0.005468405783176422,
          0.005584739614278078,
          0.00601406954228878,
          0.006019289139658213,
          0.005552665330469608,
          0.005242904648184776,
          0.005831433460116386,
          0.005254517309367657,
          0.005240157246589661,
          0.005401909351348877,
          0.00458889827132225,
          0.003942534327507019,
          0.004217947833240032,
          0.004014736972749233,
          0.00387679785490036,
          0.0036243030335754156,
          0.005032891873270273,
          0.003626397578045726,
          0.003999833017587662,
          0.0037886977661401033,
          0.0025828788056969643,
          0.005504267290234566,
          0.003868994303047657,
          0.004477617796510458,
          0.004153305198997259,
          0.004058993421494961,
          0.0042236060835421085,
          0.004058070480823517,
          0.003488200018182397,
          0.004022832494229078,
          0.0037353725638240576,
          0.00477689690887928,
          0.0025881719775497913,
          0.004698971286416054,
          0.005404188763350248,
          0.0062993173487484455,
          0.00808948278427124,
          0.006181118078529835,
          0.008500546216964722,
          0.009438554756343365,
          0.007026443723589182,
          0.00647480133920908,
          0.007522341795265675,
          0.006626340094953775,
          0.00826787669211626,
          0.006681347265839577,
          0.007201085798442364,
          0.007264817599207163,
          0.00769196730107069,
          0.006391598843038082,
          0.007197129540145397,
          0.007668384350836277,
          0.007867357693612576,
          0.007078598253428936,
          0.00645238533616066,
          0.007120898924767971,
          0.006261743605136871,
          0.007755385711789131,
          0.007148094475269318,
          0.008413225412368774,
          0.007772115524858236,
          0.006615533493459225,
          0.0069950055330991745,
          0.006430644541978836,
          0.006472487933933735,
          0.00803550984710455,
          0.006850024219602346,
          0.0070005375891923904,
          0.006405355408787727,
          0.0058555323630571365,
          0.006503441371023655,
          0.006046776194125414,
          0.006816858425736427,
          0.0058129653334617615,
          0.005859392695128918,
          0.00596484262496233,
          0.00529306847602129,
          0.006179705262184143,
          0.004905061796307564,
          0.006095007061958313,
          0.00660939235240221,
          0.006727606989443302,
          0.006245914846658707,
          0.006794636137783527,
          0.006726885214447975,
          0.006494252942502499,
          0.008063612505793571,
          0.007490451447665691,
          0.007788279093801975,
          0.007737315259873867,
          0.007758659310638905,
          0.008041229099035263,
          0.008025124669075012,
          0.008284574374556541,
          0.009926853701472282,
          0.009227761067450047,
          0.007659425958991051,
          0.007408845704048872,
          0.007485494948923588,
          0.007215146906673908,
          0.00670581916347146,
          0.006579956039786339,
          0.0058538587763905525,
          0.00628212746232748,
          0.006655900739133358,
          0.005694474093616009,
          0.0067209517583251,
          0.007295215968042612,
          0.00690880510956049,
          0.005326489452272654,
          0.00620680209249258,
          0.006301218643784523,
          0.006154312752187252,
          0.0050577400252223015,
          0.006508672144263983,
          0.006135937757790089,
          0.00635958556085825,
          0.005865377373993397,
          0.005538755562156439,
          0.006092829164117575,
          0.005981797352433205,
          0.007672509178519249,
          0.007004208862781525,
          0.007050091866403818,
          0.006126623600721359,
          0.005673592910170555,
          0.0066682458855211735,
          0.006402571685612202,
          0.0067022922448813915,
          0.007319968193769455,
          0.0072717564180493355,
          0.006902380380779505,
          0.00510730966925621,
          0.005314511246979237,
          0.006442533805966377,
          0.006522935815155506,
          0.005682777147740126,
          0.005256012547761202,
          0.005941636394709349,
          0.005623462609946728,
          0.0047856345772743225,
          0.005515835247933865,
          0.0059374552220106125,
          0.006637998390942812,
          0.005992408841848373,
          0.005206704139709473,
          0.00478828139603138,
          0.005920477211475372,
          0.005078022833913565,
          0.005946149118244648,
          0.0049616009928286076,
          0.004342638421803713,
          0.0050191013142466545,
          0.004973154515028,
          0.0038901602383702993,
          0.004445606376975775,
          0.004314993508160114,
          0.004738586954772472,
          0.004212263971567154,
          0.003427363932132721,
          0.004396103322505951,
          0.0033375569619238377,
          0.004128523636609316,
          0.004564167000353336,
          0.0036533870734274387,
          0.004635695833712816,
          0.0042228251695632935,
          0.004037878476083279,
          0.0037657374050468206,
          0.004294749349355698,
          0.005212724674493074,
          0.00455907266587019,
          0.0038319341838359833,
          0.0032175923697650433,
          0.004110109992325306,
          0.004737485200166702,
          0.004355789162218571,
          0.004596860148012638,
          0.0054551539942622185,
          0.004454748705029488,
          0.004934962838888168,
          0.0037150727584958076,
          0.005036182701587677,
          0.005929021164774895,
          0.005427161231637001,
          0.0055765025317668915,
          0.005870319437235594,
          0.005508751608431339,
          0.005629408173263073,
          0.00540976133197546,
          0.00502025056630373,
          0.005743687506765127,
          0.004986913409084082,
          0.005875958129763603,
          0.005654395557940006,
          0.005788977257907391,
          0.0052610295824706554,
          0.004466120153665543,
          0.005589375272393227,
          0.005242043174803257,
          0.005043377634137869,
          0.0038809925317764282,
          0.004936175420880318,
          0.004361809231340885,
          0.003918220289051533,
          0.004278227686882019,
          0.0052697062492370605,
          0.004248327575623989,
          0.0037981290370225906,
          0.004054745193570852,
          0.0034036010038107634,
          0.00357273081317544,
          0.00389899592846632,
          0.004326856695115566,
          0.003522228915244341,
          0.003619519528001547,
          0.0036986200138926506,
          0.003357477253302932,
          0.0032846671529114246,
          0.0037118701729923487,
          0.0034993477165699005,
          0.0027778251096606255,
          0.002951910486444831,
          0.0028629202861338854,
          0.0031153690069913864,
          0.0033078042324632406,
          0.003594815731048584,
          0.003266810206696391,
          0.003551159054040909,
          0.002800561022013426,
          0.003379759145900607,
          0.003433431964367628,
          0.003485518041998148,
          0.003412502119317651,
          0.0029926765710115433,
          0.0030102296732366085,
          0.0024042408913373947,
          0.0028774808160960674,
          0.002751378808170557,
          0.0029158620163798332,
          0.002952003385871649,
          0.0035306019708514214,
          0.0029235510155558586,
          0.002645894419401884,
          0.0018218279583379626,
          0.0005356448236852884,
          0.0021068453788757324,
          0.001770437229424715,
          0.002483213786035776,
          0.0025427909567952156,
          0.001707807183265686,
          0.003634627442806959,
          0.0019703172147274017,
          0.0025595854967832565,
          0.003822922706604004,
          0.0046318951062858105,
          0.0034405519254505634,
          0.0011466313153505325,
          0.0014112023636698723,
          0.003929788246750832,
          0.003378708381205797,
          0.005227121990174055,
          0.004706065636128187,
          0.004375947639346123,
          0.004031368065625429,
          0.003934487234801054,
          0.004832122474908829,
          0.0048909843899309635,
          0.005823398008942604,
          0.0047621699050068855,
          0.0044607138261199,
          0.004495888017117977,
          0.004381194245070219,
          0.004710199311375618,
          0.004251919221132994,
          0.004889199975878,
          0.005482298322021961,
          0.004057054407894611,
          0.003268613014370203,
          0.003986849915236235,
          0.004653662443161011,
          0.00464889919385314,
          0.004057175479829311,
          0.003809527028352022,
          0.003876186441630125,
          0.004090749658644199,
          0.004291842691600323,
          0.004390629939734936,
          0.004479226656258106,
          0.005087817553430796,
          0.004202627576887608,
          0.0033496117684990168,
          0.003978496417403221,
          0.00414284085854888,
          0.005066859535872936,
          0.00426253629848361,
          0.005189422518014908,
          0.005186460912227631,
          0.004118165001273155,
          0.003713024780154228,
          0.004530034493654966,
          0.004293360747396946,
          0.004468110855668783,
          0.003948464058339596,
          0.004372190218418837,
          0.003777791280299425,
          0.004095321986824274,
          0.004340115003287792,
          0.004888603463768959,
          0.005729116499423981,
          0.00649690069258213,
          0.007905954495072365,
          0.0050060986541211605,
          0.00402225274592638,
          0.0063142795115709305,
          0.006578969769179821,
          0.005694069433957338,
          0.005444730166345835,
          0.006438229698687792,
          0.006134073715656996,
          0.004788326099514961,
          0.005770194344222546,
          0.0050897481851279736,
          0.00514624360948801,
          0.004698019940406084,
          0.005928611382842064,
          0.006135465577244759,
          0.005917285569012165,
          0.005906321574002504,
          0.005334907211363316,
          0.006183200981467962,
          0.006233355030417442,
          0.006727546453475952,
          0.005512023810297251,
          0.00548439659178257,
          0.005942182615399361,
          0.0056543173268437386,
          0.006598170846700668,
          0.0065486617386341095,
          0.00624579144641757,
          0.006184256169945002,
          0.005448200274258852,
          0.005716690327972174,
          0.0071823494508862495,
          0.005102807190269232,
          0.005837245844304562,
          0.005327651277184486,
          0.005851295776665211,
          0.004880920983850956,
          0.004928089678287506,
          0.006400017999112606,
          0.005484749563038349,
          0.006440849043428898,
          0.006050652824342251,
          0.005516670644283295,
          0.005504978355020285,
          0.005004256963729858,
          0.0059667350724339485,
          0.005496137775480747,
          0.005280523095279932,
          0.00597965344786644,
          0.005194776225835085,
          0.004004177171736956,
          0.004743579775094986,
          0.004992953035980463,
          0.005802418105304241,
          0.005716681480407715,
          0.0064054010435938835,
          0.005574484821408987,
          0.004975589457899332,
          0.006289612501859665,
          0.005236536264419556,
          0.005743557587265968,
          0.005911622196435928,
          0.0056673623621463776,
          0.006207336205989122,
          0.004624176770448685,
          0.005381609313189983,
          0.005478704813867807,
          0.005935859866440296,
          0.006921409163624048,
          0.004970580339431763,
          0.004851099103689194,
          0.004566709045320749,
          0.0028420076705515385,
          0.0037849019281566143,
          0.004720753990113735,
          0.008223838172852993,
          0.007305321283638477,
          0.009030229412019253,
          0.007510306313633919,
          0.00426595751196146,
          0.005915318615734577,
          0.0069729601964354515,
          0.00881868414580822,
          0.006882810965180397,
          0.0060243746265769005,
          0.004667322151362896,
          0.006761183030903339,
          0.005469231866300106,
          0.00741960946470499,
          0.007547413464635611,
          0.007757322397083044,
          0.005229261703789234,
          0.005676576402038336,
          0.005751514341682196,
          0.00699119595810771,
          0.005319024436175823,
          0.005466570146381855,
          0.005451126955449581,
          0.005439923144876957,
          0.004476339090615511,
          0.0049164434894919395,
          0.005032381508499384,
          0.0059545207768678665,
          0.005531930364668369,
          0.004076104611158371
         ],
         "yaxis": "y"
        },
        {
         "hovertemplate": "variable=y<br>ds=%{x}<br>value=%{y}<extra></extra>",
         "legendgroup": "y",
         "line": {
          "color": "#EF553B",
          "dash": "solid"
         },
         "marker": {
          "symbol": "circle"
         },
         "mode": "lines",
         "name": "y",
         "showlegend": true,
         "type": "scattergl",
         "x": [
          "2022-04-29T00:00:00",
          "2022-04-30T00:00:00",
          "2022-05-01T00:00:00",
          "2022-05-02T00:00:00",
          "2022-05-03T00:00:00",
          "2022-05-04T00:00:00",
          "2022-05-05T00:00:00",
          "2022-05-06T00:00:00",
          "2022-05-07T00:00:00",
          "2022-05-08T00:00:00",
          "2022-05-09T00:00:00",
          "2022-05-10T00:00:00",
          "2022-05-11T00:00:00",
          "2022-05-12T00:00:00",
          "2022-05-13T00:00:00",
          "2022-05-14T00:00:00",
          "2022-05-15T00:00:00",
          "2022-05-16T00:00:00",
          "2022-05-17T00:00:00",
          "2022-05-18T00:00:00",
          "2022-05-19T00:00:00",
          "2022-05-20T00:00:00",
          "2022-05-21T00:00:00",
          "2022-05-22T00:00:00",
          "2022-05-23T00:00:00",
          "2022-05-24T00:00:00",
          "2022-05-25T00:00:00",
          "2022-05-26T00:00:00",
          "2022-05-27T00:00:00",
          "2022-05-28T00:00:00",
          "2022-05-29T00:00:00",
          "2022-05-30T00:00:00",
          "2022-05-31T00:00:00",
          "2022-06-01T00:00:00",
          "2022-06-02T00:00:00",
          "2022-06-03T00:00:00",
          "2022-06-04T00:00:00",
          "2022-06-05T00:00:00",
          "2022-06-06T00:00:00",
          "2022-06-07T00:00:00",
          "2022-06-08T00:00:00",
          "2022-06-09T00:00:00",
          "2022-06-10T00:00:00",
          "2022-06-11T00:00:00",
          "2022-06-12T00:00:00",
          "2022-06-13T00:00:00",
          "2022-06-14T00:00:00",
          "2022-06-15T00:00:00",
          "2022-06-16T00:00:00",
          "2022-06-17T00:00:00",
          "2022-06-18T00:00:00",
          "2022-06-19T00:00:00",
          "2022-06-20T00:00:00",
          "2022-06-21T00:00:00",
          "2022-06-22T00:00:00",
          "2022-06-23T00:00:00",
          "2022-06-24T00:00:00",
          "2022-06-25T00:00:00",
          "2022-06-26T00:00:00",
          "2022-06-27T00:00:00",
          "2022-06-28T00:00:00",
          "2022-06-29T00:00:00",
          "2022-06-30T00:00:00",
          "2022-07-01T00:00:00",
          "2022-07-02T00:00:00",
          "2022-07-03T00:00:00",
          "2022-07-04T00:00:00",
          "2022-07-05T00:00:00",
          "2022-07-06T00:00:00",
          "2022-07-07T00:00:00",
          "2022-07-08T00:00:00",
          "2022-07-09T00:00:00",
          "2022-07-10T00:00:00",
          "2022-07-11T00:00:00",
          "2022-07-12T00:00:00",
          "2022-07-13T00:00:00",
          "2022-07-14T00:00:00",
          "2022-07-15T00:00:00",
          "2022-07-16T00:00:00",
          "2022-07-17T00:00:00",
          "2022-07-18T00:00:00",
          "2022-07-19T00:00:00",
          "2022-07-20T00:00:00",
          "2022-07-21T00:00:00",
          "2022-07-22T00:00:00",
          "2022-07-23T00:00:00",
          "2022-07-24T00:00:00",
          "2022-07-25T00:00:00",
          "2022-07-26T00:00:00",
          "2022-07-27T00:00:00",
          "2022-07-28T00:00:00",
          "2022-07-29T00:00:00",
          "2022-07-30T00:00:00",
          "2022-07-31T00:00:00",
          "2022-08-01T00:00:00",
          "2022-08-02T00:00:00",
          "2022-08-03T00:00:00",
          "2022-08-04T00:00:00",
          "2022-08-05T00:00:00",
          "2022-08-06T00:00:00",
          "2022-08-07T00:00:00",
          "2022-08-08T00:00:00",
          "2022-08-09T00:00:00",
          "2022-08-10T00:00:00",
          "2022-08-11T00:00:00",
          "2022-08-12T00:00:00",
          "2022-08-13T00:00:00",
          "2022-08-14T00:00:00",
          "2022-08-15T00:00:00",
          "2022-08-16T00:00:00",
          "2022-08-17T00:00:00",
          "2022-08-18T00:00:00",
          "2022-08-19T00:00:00",
          "2022-08-20T00:00:00",
          "2022-08-21T00:00:00",
          "2022-08-22T00:00:00",
          "2022-08-23T00:00:00",
          "2022-08-24T00:00:00",
          "2022-08-25T00:00:00",
          "2022-08-26T00:00:00",
          "2022-08-27T00:00:00",
          "2022-08-28T00:00:00",
          "2022-08-29T00:00:00",
          "2022-08-30T00:00:00",
          "2022-08-31T00:00:00",
          "2022-09-01T00:00:00",
          "2022-09-02T00:00:00",
          "2022-09-03T00:00:00",
          "2022-09-04T00:00:00",
          "2022-09-05T00:00:00",
          "2022-09-06T00:00:00",
          "2022-09-07T00:00:00",
          "2022-09-08T00:00:00",
          "2022-09-09T00:00:00",
          "2022-09-10T00:00:00",
          "2022-09-11T00:00:00",
          "2022-09-12T00:00:00",
          "2022-09-13T00:00:00",
          "2022-09-14T00:00:00",
          "2022-09-15T00:00:00",
          "2022-09-16T00:00:00",
          "2022-09-17T00:00:00",
          "2022-09-18T00:00:00",
          "2022-09-19T00:00:00",
          "2022-09-20T00:00:00",
          "2022-09-21T00:00:00",
          "2022-09-22T00:00:00",
          "2022-09-23T00:00:00",
          "2022-09-24T00:00:00",
          "2022-09-25T00:00:00",
          "2022-09-26T00:00:00",
          "2022-09-27T00:00:00",
          "2022-09-28T00:00:00",
          "2022-09-29T00:00:00",
          "2022-09-30T00:00:00",
          "2022-10-01T00:00:00",
          "2022-10-02T00:00:00",
          "2022-10-03T00:00:00",
          "2022-10-04T00:00:00",
          "2022-10-05T00:00:00",
          "2022-10-06T00:00:00",
          "2022-10-07T00:00:00",
          "2022-10-08T00:00:00",
          "2022-10-09T00:00:00",
          "2022-10-10T00:00:00",
          "2022-10-11T00:00:00",
          "2022-10-12T00:00:00",
          "2022-10-13T00:00:00",
          "2022-10-14T00:00:00",
          "2022-10-15T00:00:00",
          "2022-10-16T00:00:00",
          "2022-10-17T00:00:00",
          "2022-10-18T00:00:00",
          "2022-10-19T00:00:00",
          "2022-10-20T00:00:00",
          "2022-10-21T00:00:00",
          "2022-10-22T00:00:00",
          "2022-10-23T00:00:00",
          "2022-10-24T00:00:00",
          "2022-10-25T00:00:00",
          "2022-10-26T00:00:00",
          "2022-10-27T00:00:00",
          "2022-10-28T00:00:00",
          "2022-10-29T00:00:00",
          "2022-10-30T00:00:00",
          "2022-10-31T00:00:00",
          "2022-11-01T00:00:00",
          "2022-11-02T00:00:00",
          "2022-11-03T00:00:00",
          "2022-11-04T00:00:00",
          "2022-11-05T00:00:00",
          "2022-11-06T00:00:00",
          "2022-11-07T00:00:00",
          "2022-11-08T00:00:00",
          "2022-11-09T00:00:00",
          "2022-11-10T00:00:00",
          "2022-11-11T00:00:00",
          "2022-11-12T00:00:00",
          "2022-11-13T00:00:00",
          "2022-11-14T00:00:00",
          "2022-11-15T00:00:00",
          "2022-11-16T00:00:00",
          "2022-11-17T00:00:00",
          "2022-11-18T00:00:00",
          "2022-11-19T00:00:00",
          "2022-11-20T00:00:00",
          "2022-11-21T00:00:00",
          "2022-11-22T00:00:00",
          "2022-11-23T00:00:00",
          "2022-11-24T00:00:00",
          "2022-11-25T00:00:00",
          "2022-11-26T00:00:00",
          "2022-11-27T00:00:00",
          "2022-11-28T00:00:00",
          "2022-11-29T00:00:00",
          "2022-11-30T00:00:00",
          "2022-12-01T00:00:00",
          "2022-12-02T00:00:00",
          "2022-12-03T00:00:00",
          "2022-12-04T00:00:00",
          "2022-12-05T00:00:00",
          "2022-12-06T00:00:00",
          "2022-12-07T00:00:00",
          "2022-12-08T00:00:00",
          "2022-12-09T00:00:00",
          "2022-12-10T00:00:00",
          "2022-12-11T00:00:00",
          "2022-12-12T00:00:00",
          "2022-12-13T00:00:00",
          "2022-12-14T00:00:00",
          "2022-12-15T00:00:00",
          "2022-12-16T00:00:00",
          "2022-12-17T00:00:00",
          "2022-12-18T00:00:00",
          "2022-12-19T00:00:00",
          "2022-12-20T00:00:00",
          "2022-12-21T00:00:00",
          "2022-12-22T00:00:00",
          "2022-12-23T00:00:00",
          "2022-12-24T00:00:00",
          "2022-12-25T00:00:00",
          "2022-12-26T00:00:00",
          "2022-12-27T00:00:00",
          "2022-12-28T00:00:00",
          "2022-12-29T00:00:00",
          "2022-12-30T00:00:00",
          "2022-12-31T00:00:00",
          "2023-01-01T00:00:00",
          "2023-01-02T00:00:00",
          "2023-01-03T00:00:00",
          "2023-01-04T00:00:00",
          "2023-01-05T00:00:00",
          "2023-01-06T00:00:00",
          "2023-01-07T00:00:00",
          "2023-01-08T00:00:00",
          "2023-01-09T00:00:00",
          "2023-01-10T00:00:00",
          "2023-01-11T00:00:00",
          "2023-01-12T00:00:00",
          "2023-01-13T00:00:00",
          "2023-01-14T00:00:00",
          "2023-01-15T00:00:00",
          "2023-01-16T00:00:00",
          "2023-01-17T00:00:00",
          "2023-01-18T00:00:00",
          "2023-01-19T00:00:00",
          "2023-01-20T00:00:00",
          "2023-01-21T00:00:00",
          "2023-01-22T00:00:00",
          "2023-01-23T00:00:00",
          "2023-01-24T00:00:00",
          "2023-01-25T00:00:00",
          "2023-01-26T00:00:00",
          "2023-01-27T00:00:00",
          "2023-01-28T00:00:00",
          "2023-01-29T00:00:00",
          "2023-01-30T00:00:00",
          "2023-01-31T00:00:00",
          "2023-02-01T00:00:00",
          "2023-02-02T00:00:00",
          "2023-02-03T00:00:00",
          "2023-02-04T00:00:00",
          "2023-02-05T00:00:00",
          "2023-02-06T00:00:00",
          "2023-02-07T00:00:00",
          "2023-02-08T00:00:00",
          "2023-02-09T00:00:00",
          "2023-02-10T00:00:00",
          "2023-02-11T00:00:00",
          "2023-02-12T00:00:00",
          "2023-02-13T00:00:00",
          "2023-02-14T00:00:00",
          "2023-02-15T00:00:00",
          "2023-02-16T00:00:00",
          "2023-02-17T00:00:00",
          "2023-02-18T00:00:00",
          "2023-02-19T00:00:00",
          "2023-02-20T00:00:00",
          "2023-02-21T00:00:00",
          "2023-02-22T00:00:00",
          "2023-02-23T00:00:00",
          "2023-02-24T00:00:00",
          "2023-02-25T00:00:00",
          "2023-02-26T00:00:00",
          "2023-02-27T00:00:00",
          "2023-02-28T00:00:00",
          "2023-03-01T00:00:00",
          "2023-03-02T00:00:00",
          "2023-03-03T00:00:00",
          "2023-03-04T00:00:00",
          "2023-03-05T00:00:00",
          "2023-03-06T00:00:00",
          "2023-03-07T00:00:00",
          "2023-03-08T00:00:00",
          "2023-03-09T00:00:00",
          "2023-03-10T00:00:00",
          "2023-03-11T00:00:00",
          "2023-03-12T00:00:00",
          "2023-03-13T00:00:00",
          "2023-03-14T00:00:00",
          "2023-03-15T00:00:00",
          "2023-03-16T00:00:00",
          "2023-03-17T00:00:00",
          "2023-03-18T00:00:00",
          "2023-03-19T00:00:00",
          "2023-03-20T00:00:00",
          "2023-03-21T00:00:00",
          "2023-03-22T00:00:00",
          "2023-03-23T00:00:00",
          "2023-03-24T00:00:00",
          "2023-03-25T00:00:00",
          "2023-03-26T00:00:00",
          "2023-03-27T00:00:00",
          "2023-03-28T00:00:00",
          "2023-03-29T00:00:00",
          "2023-03-30T00:00:00",
          "2023-03-31T00:00:00",
          "2023-04-01T00:00:00",
          "2023-04-02T00:00:00",
          "2023-04-03T00:00:00",
          "2023-04-04T00:00:00",
          "2023-04-05T00:00:00",
          "2023-04-06T00:00:00",
          "2023-04-07T00:00:00",
          "2023-04-08T00:00:00",
          "2023-04-09T00:00:00",
          "2023-04-10T00:00:00",
          "2023-04-11T00:00:00",
          "2023-04-12T00:00:00",
          "2023-04-13T00:00:00",
          "2023-04-14T00:00:00",
          "2023-04-15T00:00:00",
          "2023-04-16T00:00:00",
          "2023-04-17T00:00:00",
          "2023-04-18T00:00:00",
          "2023-04-19T00:00:00",
          "2023-04-20T00:00:00",
          "2023-04-21T00:00:00",
          "2023-04-22T00:00:00",
          "2023-04-23T00:00:00",
          "2023-04-24T00:00:00",
          "2023-04-25T00:00:00",
          "2023-04-26T00:00:00",
          "2023-04-27T00:00:00",
          "2023-04-28T00:00:00",
          "2023-04-29T00:00:00",
          "2023-04-30T00:00:00",
          "2023-05-01T00:00:00",
          "2023-05-02T00:00:00",
          "2023-05-03T00:00:00",
          "2023-05-04T00:00:00",
          "2023-05-05T00:00:00",
          "2023-05-06T00:00:00",
          "2023-05-07T00:00:00",
          "2023-05-08T00:00:00",
          "2023-05-09T00:00:00",
          "2023-05-10T00:00:00",
          "2023-05-11T00:00:00",
          "2023-05-12T00:00:00",
          "2023-05-13T00:00:00",
          "2023-05-14T00:00:00",
          "2023-05-15T00:00:00",
          "2023-05-16T00:00:00",
          "2023-05-17T00:00:00",
          "2023-05-18T00:00:00",
          "2023-05-19T00:00:00",
          "2023-05-20T00:00:00",
          "2023-05-21T00:00:00",
          "2023-05-22T00:00:00",
          "2023-05-23T00:00:00",
          "2023-05-24T00:00:00",
          "2023-05-25T00:00:00",
          "2023-05-26T00:00:00",
          "2023-05-27T00:00:00",
          "2023-05-28T00:00:00",
          "2023-05-29T00:00:00",
          "2023-05-30T00:00:00",
          "2023-05-31T00:00:00",
          "2023-06-01T00:00:00",
          "2023-06-02T00:00:00",
          "2023-06-03T00:00:00",
          "2023-06-04T00:00:00",
          "2023-06-05T00:00:00",
          "2023-06-06T00:00:00",
          "2023-06-07T00:00:00",
          "2023-06-08T00:00:00",
          "2023-06-09T00:00:00",
          "2023-06-10T00:00:00",
          "2023-06-11T00:00:00",
          "2023-06-12T00:00:00",
          "2023-06-13T00:00:00",
          "2023-06-14T00:00:00",
          "2023-06-15T00:00:00",
          "2023-06-16T00:00:00",
          "2023-06-17T00:00:00",
          "2023-06-18T00:00:00",
          "2023-06-19T00:00:00",
          "2023-06-20T00:00:00",
          "2023-06-21T00:00:00",
          "2023-06-22T00:00:00",
          "2023-06-23T00:00:00",
          "2023-06-24T00:00:00",
          "2023-06-25T00:00:00",
          "2023-06-26T00:00:00",
          "2023-06-27T00:00:00",
          "2023-06-28T00:00:00",
          "2023-06-29T00:00:00",
          "2023-06-30T00:00:00",
          "2023-07-01T00:00:00",
          "2023-07-02T00:00:00",
          "2023-07-03T00:00:00",
          "2023-07-04T00:00:00",
          "2023-07-05T00:00:00",
          "2023-07-06T00:00:00",
          "2023-07-07T00:00:00",
          "2023-07-08T00:00:00",
          "2023-07-09T00:00:00",
          "2023-07-10T00:00:00",
          "2023-07-11T00:00:00",
          "2023-07-12T00:00:00",
          "2023-07-13T00:00:00",
          "2023-07-14T00:00:00",
          "2023-07-15T00:00:00",
          "2023-07-16T00:00:00",
          "2023-07-17T00:00:00",
          "2023-07-18T00:00:00",
          "2023-07-19T00:00:00",
          "2023-07-20T00:00:00",
          "2023-07-21T00:00:00",
          "2023-07-22T00:00:00",
          "2023-07-23T00:00:00",
          "2023-07-24T00:00:00",
          "2023-07-25T00:00:00",
          "2023-07-26T00:00:00",
          "2023-07-27T00:00:00",
          "2023-07-28T00:00:00",
          "2023-07-29T00:00:00",
          "2023-07-30T00:00:00",
          "2023-07-31T00:00:00",
          "2023-08-01T00:00:00",
          "2023-08-02T00:00:00",
          "2023-08-03T00:00:00",
          "2023-08-04T00:00:00",
          "2023-08-05T00:00:00",
          "2023-08-06T00:00:00",
          "2023-08-07T00:00:00",
          "2023-08-08T00:00:00",
          "2023-08-09T00:00:00",
          "2023-08-10T00:00:00",
          "2023-08-11T00:00:00",
          "2023-08-12T00:00:00",
          "2023-08-13T00:00:00",
          "2023-08-14T00:00:00",
          "2023-08-15T00:00:00",
          "2023-08-16T00:00:00",
          "2023-08-17T00:00:00",
          "2023-08-18T00:00:00",
          "2023-08-19T00:00:00",
          "2023-08-20T00:00:00",
          "2023-08-21T00:00:00",
          "2023-08-22T00:00:00",
          "2023-08-23T00:00:00",
          "2023-08-24T00:00:00",
          "2023-08-25T00:00:00",
          "2023-08-26T00:00:00",
          "2023-08-27T00:00:00",
          "2023-08-28T00:00:00",
          "2023-08-29T00:00:00",
          "2023-08-30T00:00:00",
          "2023-08-31T00:00:00",
          "2023-09-01T00:00:00",
          "2023-09-02T00:00:00",
          "2023-09-03T00:00:00",
          "2023-09-04T00:00:00",
          "2023-09-05T00:00:00",
          "2023-09-06T00:00:00",
          "2023-09-07T00:00:00",
          "2023-09-08T00:00:00",
          "2023-09-09T00:00:00",
          "2023-09-10T00:00:00",
          "2023-09-11T00:00:00",
          "2023-09-12T00:00:00",
          "2023-09-13T00:00:00",
          "2023-09-14T00:00:00",
          "2023-09-15T00:00:00",
          "2023-09-16T00:00:00",
          "2023-09-17T00:00:00",
          "2023-09-18T00:00:00",
          "2023-09-19T00:00:00",
          "2023-09-20T00:00:00",
          "2023-09-21T00:00:00",
          "2023-09-22T00:00:00",
          "2023-09-23T00:00:00",
          "2023-09-24T00:00:00",
          "2023-09-25T00:00:00",
          "2023-09-26T00:00:00",
          "2023-09-27T00:00:00",
          "2023-09-28T00:00:00",
          "2023-09-29T00:00:00",
          "2023-09-30T00:00:00",
          "2023-10-01T00:00:00",
          "2023-10-02T00:00:00",
          "2023-10-03T00:00:00",
          "2023-10-04T00:00:00",
          "2023-10-05T00:00:00",
          "2023-10-06T00:00:00",
          "2023-10-07T00:00:00",
          "2023-10-08T00:00:00",
          "2023-10-09T00:00:00",
          "2023-10-10T00:00:00",
          "2023-10-11T00:00:00",
          "2023-10-12T00:00:00",
          "2023-10-13T00:00:00",
          "2023-10-14T00:00:00",
          "2023-10-15T00:00:00",
          "2023-10-16T00:00:00",
          "2023-10-17T00:00:00",
          "2023-10-18T00:00:00",
          "2023-10-19T00:00:00",
          "2023-10-20T00:00:00",
          "2023-10-21T00:00:00",
          "2023-10-22T00:00:00",
          "2023-10-23T00:00:00",
          "2023-10-24T00:00:00",
          "2023-10-25T00:00:00",
          "2023-10-26T00:00:00",
          "2023-10-27T00:00:00",
          "2023-10-28T00:00:00",
          "2023-10-29T00:00:00",
          "2023-10-30T00:00:00",
          "2023-10-31T00:00:00",
          "2023-11-01T00:00:00",
          "2023-11-02T00:00:00",
          "2023-11-03T00:00:00",
          "2023-11-04T00:00:00",
          "2023-11-05T00:00:00",
          "2023-11-06T00:00:00",
          "2023-11-07T00:00:00",
          "2023-11-08T00:00:00",
          "2023-11-09T00:00:00",
          "2023-11-10T00:00:00",
          "2023-11-11T00:00:00",
          "2023-11-12T00:00:00",
          "2023-11-13T00:00:00",
          "2023-11-14T00:00:00",
          "2023-11-15T00:00:00",
          "2023-11-16T00:00:00",
          "2023-11-17T00:00:00",
          "2023-11-18T00:00:00",
          "2023-11-19T00:00:00",
          "2023-11-20T00:00:00",
          "2023-11-21T00:00:00",
          "2023-11-22T00:00:00",
          "2023-11-23T00:00:00",
          "2023-11-24T00:00:00",
          "2023-11-25T00:00:00",
          "2023-11-26T00:00:00",
          "2023-11-27T00:00:00",
          "2023-11-28T00:00:00",
          "2023-11-29T00:00:00",
          "2023-11-30T00:00:00",
          "2023-12-01T00:00:00",
          "2023-12-02T00:00:00",
          "2023-12-03T00:00:00",
          "2023-12-04T00:00:00",
          "2023-12-05T00:00:00",
          "2023-12-06T00:00:00",
          "2023-12-07T00:00:00",
          "2023-12-08T00:00:00",
          "2023-12-09T00:00:00",
          "2023-12-10T00:00:00",
          "2023-12-11T00:00:00",
          "2023-12-12T00:00:00",
          "2023-12-13T00:00:00",
          "2023-12-14T00:00:00",
          "2023-12-15T00:00:00",
          "2023-12-16T00:00:00",
          "2023-12-17T00:00:00",
          "2023-12-18T00:00:00",
          "2023-12-19T00:00:00",
          "2023-12-20T00:00:00",
          "2023-12-21T00:00:00",
          "2023-12-22T00:00:00",
          "2023-12-23T00:00:00",
          "2023-12-24T00:00:00",
          "2023-12-25T00:00:00",
          "2023-12-26T00:00:00",
          "2023-12-27T00:00:00",
          "2023-12-28T00:00:00",
          "2023-12-29T00:00:00",
          "2023-12-30T00:00:00",
          "2023-12-31T00:00:00",
          "2024-01-01T00:00:00",
          "2024-01-02T00:00:00",
          "2024-01-03T00:00:00",
          "2024-01-04T00:00:00",
          "2024-01-05T00:00:00",
          "2024-01-06T00:00:00",
          "2024-01-07T00:00:00",
          "2024-01-08T00:00:00",
          "2024-01-09T00:00:00",
          "2024-01-10T00:00:00",
          "2024-01-11T00:00:00",
          "2024-01-12T00:00:00",
          "2024-01-13T00:00:00",
          "2024-01-14T00:00:00",
          "2024-01-15T00:00:00",
          "2024-01-16T00:00:00",
          "2024-01-17T00:00:00",
          "2024-01-18T00:00:00",
          "2024-01-19T00:00:00",
          "2024-01-20T00:00:00",
          "2024-01-21T00:00:00",
          "2024-01-22T00:00:00",
          "2024-01-23T00:00:00",
          "2024-01-24T00:00:00",
          "2024-01-25T00:00:00",
          "2024-01-26T00:00:00",
          "2024-01-27T00:00:00",
          "2024-01-28T00:00:00",
          "2024-01-29T00:00:00",
          "2024-01-30T00:00:00",
          "2024-01-31T00:00:00",
          "2024-02-01T00:00:00",
          "2024-02-02T00:00:00",
          "2024-02-03T00:00:00",
          "2024-02-04T00:00:00",
          "2024-02-05T00:00:00",
          "2024-02-06T00:00:00",
          "2024-02-07T00:00:00",
          "2024-02-08T00:00:00",
          "2024-02-09T00:00:00",
          "2024-02-10T00:00:00",
          "2024-02-11T00:00:00",
          "2024-02-12T00:00:00",
          "2024-02-13T00:00:00",
          "2024-02-14T00:00:00",
          "2024-02-15T00:00:00",
          "2024-02-16T00:00:00",
          "2024-02-17T00:00:00",
          "2024-02-18T00:00:00",
          "2024-02-19T00:00:00",
          "2024-02-20T00:00:00",
          "2024-02-21T00:00:00",
          "2024-02-22T00:00:00",
          "2024-02-23T00:00:00",
          "2024-02-24T00:00:00",
          "2024-02-25T00:00:00",
          "2024-02-26T00:00:00",
          "2024-02-27T00:00:00",
          "2024-02-28T00:00:00",
          "2024-02-29T00:00:00"
         ],
         "xaxis": "x",
         "y": [
          0.00645936838319249,
          0.005402755814233682,
          0.006517977645790208,
          0.0068228853453233705,
          0.005157341875375899,
          0.00704614771949822,
          0.007800573664798336,
          0.008675197147365688,
          0.00556800060811191,
          0.00826327500939768,
          0.015412385721635556,
          0.014715160394757624,
          0.026387169896975378,
          0.028766070537048105,
          0.014659794828904548,
          0.010382417002707927,
          0.008516858713094875,
          0.01055430560490159,
          0.00911627666155862,
          0.0087127010472742,
          0.00965542703201521,
          0.008584252516097415,
          0.005244990896993608,
          0.005516279130736146,
          0.0075157212106170945,
          0.007186154668351176,
          0.006789989388165798,
          0.013678926155139895,
          0.013207401457161646,
          0.007688156747091799,
          0.0052618828759630944,
          0.00834915071781723,
          0.00832945665301414,
          0.00988240230543604,
          0.007973075469065425,
          0.007098080560528001,
          0.004800317597327611,
          0.0050876525442412725,
          0.0071054972089937135,
          0.013625670002323386,
          0.009404926470199736,
          0.005357970551944971,
          0.009452129039370706,
          0.012956183073829066,
          0.014130396959718773,
          0.02795110389168944,
          0.02464863825913955,
          0.03401353939003318,
          0.018402181739635644,
          0.013341545415289658,
          0.02148096749014893,
          0.021033127189787514,
          0.01695017189920171,
          0.012170567669987647,
          0.012161118248212826,
          0.011065470480432932,
          0.011862355083832399,
          0.009417685020865171,
          0.009143155118666226,
          0.00885863146823097,
          0.009029320725274573,
          0.009972061978560745,
          0.014165716020441855,
          0.01428933121426827,
          0.008266287539659904,
          0.008731674501066636,
          0.010347771539132272,
          0.010519484053603298,
          0.010760438513286162,
          0.007947229858738135,
          0.011151923361819093,
          0.005886680355172682,
          0.006995188977998287,
          0.007561424523682404,
          0.007668300457056982,
          0.014795492258047415,
          0.010720149243951763,
          0.010931368124418965,
          0.017391607239705377,
          0.012240094559467963,
          0.014227133039086143,
          0.015931233230634476,
          0.013813578813116083,
          0.011468269210747046,
          0.010107856540354903,
          0.0095415076512063,
          0.011596281214602093,
          0.012697850724002951,
          0.011277480340151615,
          0.011673958340645512,
          0.014801334696747959,
          0.01288019526868354,
          0.008912535771912556,
          0.008975138881275485,
          0.008629190814652032,
          0.011368455260650542,
          0.008030067752029817,
          0.008724017900295476,
          0.009235786152911459,
          0.005689671610837287,
          0.005059731933255093,
          0.007040455630323687,
          0.0070170757363631885,
          0.011178929079311358,
          0.008933521903816985,
          0.0073007601059238755,
          0.006474316937789919,
          0.006228044551542359,
          0.009969052577327471,
          0.007731456557550121,
          0.008335301801228405,
          0.006252816183047238,
          0.012221461351953455,
          0.009557668148745032,
          0.009725632154910626,
          0.009698309724876487,
          0.00926473650108368,
          0.007951992424862976,
          0.006198052560609728,
          0.010980774729181717,
          0.009259296848503283,
          0.0071103564609903075,
          0.009055432342220723,
          0.012174880564692,
          0.011268561071902357,
          0.009595568316798132,
          0.009475196090543921,
          0.005745472045030468,
          0.005044890078364404,
          0.006083809517692366,
          0.011650709973734321,
          0.010047622694367467,
          0.009206652935465092,
          0.008208329730135652,
          0.006643364599138254,
          0.006473317033067736,
          0.008583193697645852,
          0.01348628866276176,
          0.00885986947561552,
          0.014268160699203501,
          0.009814164351987785,
          0.005973814861907153,
          0.008401683501338995,
          0.010929997537232887,
          0.009079185222756903,
          0.016396477255687384,
          0.010353201780258902,
          0.011146111285464508,
          0.005968569030602312,
          0.006873059710466839,
          0.00814708919716109,
          0.008453387453900759,
          0.010532113626187459,
          0.008843617179568707,
          0.007855784758294616,
          0.003907045469298599,
          0.005587611532167066,
          0.005755147642925288,
          0.005234270558367975,
          0.0051793246608689445,
          0.006008070273836662,
          0.004890174808000762,
          0.002986120477203508,
          0.003102535026406488,
          0.004595492971721398,
          0.005209049319813296,
          0.004258708565054343,
          0.012747194000599047,
          0.006540793256664933,
          0.0038711275756682898,
          0.004285764977866988,
          0.004392086240291504,
          0.005081373655837963,
          0.004451222884746833,
          0.0046484970258127345,
          0.005028331496314179,
          0.0025935173902278228,
          0.004065181991668455,
          0.005165209955678169,
          0.011498272478647584,
          0.010760597453587964,
          0.009552962450753296,
          0.008120327848902808,
          0.009147302180763912,
          0.005688318444523032,
          0.008379858158415422,
          0.006054871888913447,
          0.011879349310250621,
          0.005726308708205154,
          0.00888810345354409,
          0.004410797308743236,
          0.005224634441389675,
          0.006363120440885709,
          0.024745656483434863,
          0.024449585284827154,
          0.022441788234894764,
          0.01866062651106002,
          0.008592766605580216,
          0.00879428782652474,
          0.013368411414496021,
          0.008364824129598034,
          0.0078489680368315,
          0.007710457254815553,
          0.00525381212412573,
          0.0038419447679060898,
          0.007753361905227769,
          0.011367862188155404,
          0.00906081634774633,
          0.007937355320672095,
          0.005778016135145905,
          0.005172361102729403,
          0.005599156986202278,
          0.004256610770623167,
          0.006862098793214878,
          0.006317286183428425,
          0.008571945778176937,
          0.005407166880789838,
          0.005061248365940331,
          0.004820655869712709,
          0.004765611089439883,
          0.005189602255592472,
          0.004521515890231487,
          0.004962569796099856,
          0.00523263550878201,
          0.006211913288860369,
          0.0027493519887382663,
          0.002869526999714397,
          0.0037985295341299223,
          0.0071593919050513335,
          0.006446295336081165,
          0.004320698840223145,
          0.007507634177678901,
          0.004339916991297162,
          0.004341147648357898,
          0.0052825116848914146,
          0.006310290813660475,
          0.0036023710273615666,
          0.00582117450690352,
          0.003691724219553042,
          0.001456261811313515,
          0.005000950963026484,
          0.0024408287869020365,
          0.003226665096539094,
          0.004724237502723817,
          0.0032717273951106255,
          0.002924012688014431,
          0.002081784016389712,
          0.001664594232473413,
          0.003096755779886864,
          0.002259979582522671,
          0.005232833115230917,
          0.002246982126737203,
          0.0036803727822384493,
          0.0013661114246589325,
          0.0033550717271642275,
          0.005280900394607963,
          0.00343612504883887,
          0.005171694372865482,
          0.008766240002261942,
          0.005614006934148076,
          0.014726130256610927,
          0.0061955153960047485,
          0.0074062760928706155,
          0.007023363244705397,
          0.009790901308387112,
          0.004946181455519993,
          0.005915843363564208,
          0.0076581160397404015,
          0.0060131386177364925,
          0.006987029719468632,
          0.007446495886430474,
          0.008539665175048197,
          0.006533127068911923,
          0.006632423604595081,
          0.004037934306733339,
          0.006553508057257048,
          0.007070412366335734,
          0.005242978633422058,
          0.007409048812998182,
          0.008011173832538968,
          0.006155305405978722,
          0.004330577923685397,
          0.004647183817227787,
          0.005234607288326045,
          0.006109715265226493,
          0.005030971106094355,
          0.00805024644190027,
          0.006732553559408332,
          0.0034772661432519295,
          0.004250192686237563,
          0.0065167920829400225,
          0.00844027180643665,
          0.006374744525134566,
          0.00859182274824904,
          0.007509839157055149,
          0.0036139753653754232,
          0.005285579706485102,
          0.005500698785806934,
          0.006113944093265498,
          0.006212033813861828,
          0.006087150182721261,
          0.005853309495558731,
          0.004233710649602532,
          0.004192804187859536,
          0.005015536165090919,
          0.004514474573115614,
          0.005340088249192303,
          0.004218544379534809,
          0.007052985238469144,
          0.0028154508403960008,
          0.0041801878423789705,
          0.003154034327954307,
          0.004826723685512348,
          0.004326726318771766,
          0.007577896762319496,
          0.009649940070211574,
          0.008350268772322773,
          0.009328390416001519,
          0.009360348875054316,
          0.011328538499966054,
          0.009295875492936324,
          0.0064776753461526235,
          0.008209566203062003,
          0.009400611611330848,
          0.007265104332782686,
          0.0072688228541185704,
          0.0072794325105815655,
          0.0077991322811641565,
          0.007123865744389788,
          0.006153402894850346,
          0.0044004221358659446,
          0.0054610496912789,
          0.00577786655791239,
          0.006041364847351235,
          0.0050504820034688565,
          0.006387801090776028,
          0.005442129153658756,
          0.003232608942818878,
          0.003849310715166018,
          0.0062389737623073415,
          0.005689024775510793,
          0.006370328918147735,
          0.004355786587823503,
          0.003666189452176318,
          0.002474177146431841,
          0.0038055422101376537,
          0.0042246198638729695,
          0.004591239020661489,
          0.006669746590745379,
          0.0055995189596186705,
          0.008516179714020876,
          0.003909902429124699,
          0.004670058017918585,
          0.004796248674027422,
          0.004480189031133479,
          0.008242092202816893,
          0.006541123233567155,
          0.006532707720203107,
          0.003405029927701722,
          0.004817795970472282,
          0.0064258431619329,
          0.004951740335213858,
          0.010721012625555425,
          0.008554685909358511,
          0.004547741538618988,
          0.002984604445714579,
          0.00465187677346179,
          0.005772458263236874,
          0.004617970802379037,
          0.005211716707693835,
          0.00353807319966534,
          0.005448531689989649,
          0.006175984755542006,
          0.004919547827932405,
          0.006367585834494965,
          0.00401010222511686,
          0.007987067878949145,
          0.005489890727080131,
          0.006846139801555457,
          0.00360228167274334,
          0.0030353815881564183,
          0.004389170568886238,
          0.003556658203197511,
          0.0037245253608607794,
          0.004220831276678443,
          0.003178532704692775,
          0.0017906867607116069,
          0.002281155934639948,
          0.0030981634460775834,
          0.003671063118526795,
          0.004642469487647516,
          0.004440435197205729,
          0.0029235049823150296,
          0.002275586123608824,
          0.004521686076842979,
          0.0038045181122640156,
          0.0036047701986795595,
          0.0038123822609330196,
          0.0042071251045303504,
          0.003335155153549231,
          0.002114990685308432,
          0.0024598556756887206,
          0.0057874088609169766,
          0.0045080112881589335,
          0.0042826138524416505,
          0.002950152791883961,
          0.00271096220682447,
          0.007404190545599836,
          0.003897426194201068,
          0.004620014741534279,
          0.0049874054221039155,
          0.006410008724571496,
          0.004491327660371184,
          0.004668406618903142,
          0.004091501763742995,
          0.003189455120376426,
          0.005298376811116315,
          0.004594437713046871,
          0.007028528338679221,
          0.004988767620306434,
          0.00573226923396231,
          0.00327821572099962,
          0.004536575855218034,
          0.005446799942550849,
          0.004312873668818188,
          0.004714634114097441,
          0.0038429286426329462,
          0.008898310296825113,
          0.0025601286792840067,
          0.005389174266556211,
          0.0038433975804598054,
          0.002824657713169584,
          0.0035576024728737384,
          0.0051789651911940075,
          0.003643988246970242,
          0.002038853444473278,
          0.0027187375387150757,
          0.0033235392487917944,
          0.0027756851008359645,
          0.0035351146044698086,
          0.0060280720669762975,
          0.005238984956668763,
          0.0020792449617618894,
          0.0028399993062257016,
          0.004562590742339889,
          0.003597806463288029,
          0.0034580992445002834,
          0.0033611424670658215,
          0.0022918480322678173,
          0.002742035299828136,
          0.0025370500976947363,
          0.0034383319312199217,
          0.0023169845283690605,
          0.003338916460406824,
          0.002172791864038666,
          0.00190540986998063,
          0.001260938874247975,
          0.002561455423212192,
          0.0020924042694390787,
          0.004053138793345148,
          0.002996375556358219,
          0.002829145527825465,
          0.002848260821681727,
          0.0010867830804342678,
          0.0014596143855580915,
          0.0031204024070492944,
          0.0031064755034789174,
          0.00213041528145581,
          0.0018869216526236382,
          0.0015680993720580457,
          0.0007316596833159248,
          0.0014436144090929379,
          0.0016731436635845675,
          0.002386723680562478,
          0.0026875540602104737,
          0.01669743134466084,
          0.005921394694771536,
          0.002899678865242417,
          0.0025617643449173987,
          0.003518971441688313,
          0.006435374629463304,
          0.005096786907699401,
          0.0035046064938963877,
          0.0049440912738780846,
          0.001282743318736334,
          0.0016470560124017097,
          0.0038510053506053774,
          0.006730765943459111,
          0.0035101481364678486,
          0.005157624478554593,
          0.004490101260814241,
          0.0019108998983120421,
          0.0024205090781006145,
          0.0025900266488689916,
          0.0030938488960189615,
          0.005662180125613258,
          0.003102231746926792,
          0.0028749026709096693,
          0.0009596125570365624,
          0.0036973009315678655,
          0.005433004039334705,
          0.006077097518099649,
          0.0043760557418784105,
          0.0038948065766398767,
          0.0030437799714090686,
          0.0019710284671521816,
          0.002207297880645431,
          0.004210792102825521,
          0.0033620449078513104,
          0.004010066231104014,
          0.0036008418570009216,
          0.002622388879009262,
          0.0012649621327391629,
          0.003160019979163183,
          0.003655516749270881,
          0.0025209268721903995,
          0.003600250724381928,
          0.004376388286982169,
          0.00389953206903476,
          0.0026707120346693113,
          0.005282908108791826,
          0.006696834661852621,
          0.0032263989218506285,
          0.004002515760898412,
          0.003903162009582561,
          0.004077977440691359,
          0.0015078069256366264,
          0.002624942787814846,
          0.00544567714390418,
          0.0039944752959639495,
          0.004423139384347698,
          0.004063596055918422,
          0.0037546979619509867,
          0.0017359986802311636,
          0.002486817393127948,
          0.007948873442237513,
          0.0032944297943797232,
          0.003284433344661299,
          0.0035482697496160612,
          0.004728318018961004,
          0.003300269726726566,
          0.0041050388339354486,
          0.00798782674060071,
          0.009443550133121995,
          0.005727986006040797,
          0.007365246090382582,
          0.004902068998757035,
          0.0029474822545007746,
          0.0036049552523114755,
          0.00513442711881781,
          0.004527505064101098,
          0.005703280778676096,
          0.004940090268405441,
          0.004354552439856622,
          0.003127580506745438,
          0.006041744763307451,
          0.004287192780861217,
          0.004344979544955804,
          0.0033639967933153346,
          0.010117956577195822,
          0.005849149386415217,
          0.005346687002518231,
          0.0049445692849937285,
          0.00656567342584794,
          0.00756228726589183,
          0.005044224757641701,
          0.007935380438825086,
          0.005444648210879125,
          0.0033488392050491024,
          0.0037385661595732457,
          0.006957722904441501,
          0.008013560176570386,
          0.005187045959775444,
          0.004360149505170331,
          0.005587067223454739,
          0.0023173376344681113,
          0.004087428003319271,
          0.00491915545064186,
          0.004358692531821912,
          0.003991396975174694,
          0.003179528174653296,
          0.0041929818529160105,
          0.004821428105375406,
          0.0037594288221911936,
          0.0066358647256425495,
          0.006214288574073238,
          0.005997342370093455,
          0.005812473973193598,
          0.004575021610396738,
          0.004907087994380945,
          0.0030646689089412465,
          0.012151154776261604,
          0.004815821374878746,
          0.005908662419377152,
          0.007005860654727471,
          0.004498488444648071,
          0.0033525514709488555,
          0.004527205119755389,
          0.0054650413036080965,
          0.005237724172792689,
          0.00663197571659034,
          0.005604093398781196,
          0.007088042343754529,
          0.003907238459879475,
          0.0048560466924451005,
          0.0038489957137670698,
          0.005206579645768209,
          0.005523294143952391,
          0.007555324461488903,
          0.0069299610540159585,
          0.003830700327742743,
          0.0042768684724407875,
          0.0034024378629104613,
          0.005985535488863375,
          0.0168009897737863,
          0.005801353739432005,
          0.00633973624823859,
          0.0031709077021311754,
          0.004009720378887208,
          0.0063946120211325,
          0.01082691850209619,
          0.01220500137257353,
          0.00879645126870749,
          0.01103862705553717,
          0.004820804913130806,
          0.004609281329176909,
          0.004299452558798816,
          0.005139079474621173,
          0.004574598629673367,
          0.0052217213165038434,
          0.005300782428244675,
          0.0025245593097827125,
          0.0019421208913766026,
          0.007367789725363357,
          0.007729622125969161,
          0.005314641349229437,
          0.00481855874645051,
          0.004295904832794855,
          0.0025496503549931023,
          0.004099173343882962,
          0.0043983182938313985,
          0.004950405433149171,
          0.005319344901651204,
          0.004602657145506411,
          0.0035600539183799165,
          0.002435727363453118,
          0.0037894570478255816,
          0.0035500706844909503,
          0.004518424390367362,
          0.0038802400927349665,
          0.003941313131819081,
          0.005268134959130603,
          0.0029219538682350244,
          0.0032684716722300344,
          0.005653723257919192,
          0.00716538936831546,
          0.005280031813518352,
          0.006862404154967274,
          0.00614564125838986,
          0.0038417271583259787,
          0.004405426460171253,
          0.00551247465033425,
          0.007264224729535419,
          0.007074700104386434,
          0.006532806247608144,
          0.005041755077488847,
          0.003450763924641566,
          0.004872073474317649,
          0.0057432836464817475,
          0.006462201504995092,
          0.01675562181521557,
          0.009991995780385773
         ],
         "yaxis": "y"
        }
       ],
       "layout": {
        "legend": {
         "title": {
          "text": "variable"
         },
         "tracegroupgap": 0
        },
        "template": {
         "data": {
          "bar": [
           {
            "error_x": {
             "color": "#2a3f5f"
            },
            "error_y": {
             "color": "#2a3f5f"
            },
            "marker": {
             "line": {
              "color": "#E5ECF6",
              "width": 0.5
             },
             "pattern": {
              "fillmode": "overlay",
              "size": 10,
              "solidity": 0.2
             }
            },
            "type": "bar"
           }
          ],
          "barpolar": [
           {
            "marker": {
             "line": {
              "color": "#E5ECF6",
              "width": 0.5
             },
             "pattern": {
              "fillmode": "overlay",
              "size": 10,
              "solidity": 0.2
             }
            },
            "type": "barpolar"
           }
          ],
          "carpet": [
           {
            "aaxis": {
             "endlinecolor": "#2a3f5f",
             "gridcolor": "white",
             "linecolor": "white",
             "minorgridcolor": "white",
             "startlinecolor": "#2a3f5f"
            },
            "baxis": {
             "endlinecolor": "#2a3f5f",
             "gridcolor": "white",
             "linecolor": "white",
             "minorgridcolor": "white",
             "startlinecolor": "#2a3f5f"
            },
            "type": "carpet"
           }
          ],
          "choropleth": [
           {
            "colorbar": {
             "outlinewidth": 0,
             "ticks": ""
            },
            "type": "choropleth"
           }
          ],
          "contour": [
           {
            "colorbar": {
             "outlinewidth": 0,
             "ticks": ""
            },
            "colorscale": [
             [
              0,
              "#0d0887"
             ],
             [
              0.1111111111111111,
              "#46039f"
             ],
             [
              0.2222222222222222,
              "#7201a8"
             ],
             [
              0.3333333333333333,
              "#9c179e"
             ],
             [
              0.4444444444444444,
              "#bd3786"
             ],
             [
              0.5555555555555556,
              "#d8576b"
             ],
             [
              0.6666666666666666,
              "#ed7953"
             ],
             [
              0.7777777777777778,
              "#fb9f3a"
             ],
             [
              0.8888888888888888,
              "#fdca26"
             ],
             [
              1,
              "#f0f921"
             ]
            ],
            "type": "contour"
           }
          ],
          "contourcarpet": [
           {
            "colorbar": {
             "outlinewidth": 0,
             "ticks": ""
            },
            "type": "contourcarpet"
           }
          ],
          "heatmap": [
           {
            "colorbar": {
             "outlinewidth": 0,
             "ticks": ""
            },
            "colorscale": [
             [
              0,
              "#0d0887"
             ],
             [
              0.1111111111111111,
              "#46039f"
             ],
             [
              0.2222222222222222,
              "#7201a8"
             ],
             [
              0.3333333333333333,
              "#9c179e"
             ],
             [
              0.4444444444444444,
              "#bd3786"
             ],
             [
              0.5555555555555556,
              "#d8576b"
             ],
             [
              0.6666666666666666,
              "#ed7953"
             ],
             [
              0.7777777777777778,
              "#fb9f3a"
             ],
             [
              0.8888888888888888,
              "#fdca26"
             ],
             [
              1,
              "#f0f921"
             ]
            ],
            "type": "heatmap"
           }
          ],
          "heatmapgl": [
           {
            "colorbar": {
             "outlinewidth": 0,
             "ticks": ""
            },
            "colorscale": [
             [
              0,
              "#0d0887"
             ],
             [
              0.1111111111111111,
              "#46039f"
             ],
             [
              0.2222222222222222,
              "#7201a8"
             ],
             [
              0.3333333333333333,
              "#9c179e"
             ],
             [
              0.4444444444444444,
              "#bd3786"
             ],
             [
              0.5555555555555556,
              "#d8576b"
             ],
             [
              0.6666666666666666,
              "#ed7953"
             ],
             [
              0.7777777777777778,
              "#fb9f3a"
             ],
             [
              0.8888888888888888,
              "#fdca26"
             ],
             [
              1,
              "#f0f921"
             ]
            ],
            "type": "heatmapgl"
           }
          ],
          "histogram": [
           {
            "marker": {
             "pattern": {
              "fillmode": "overlay",
              "size": 10,
              "solidity": 0.2
             }
            },
            "type": "histogram"
           }
          ],
          "histogram2d": [
           {
            "colorbar": {
             "outlinewidth": 0,
             "ticks": ""
            },
            "colorscale": [
             [
              0,
              "#0d0887"
             ],
             [
              0.1111111111111111,
              "#46039f"
             ],
             [
              0.2222222222222222,
              "#7201a8"
             ],
             [
              0.3333333333333333,
              "#9c179e"
             ],
             [
              0.4444444444444444,
              "#bd3786"
             ],
             [
              0.5555555555555556,
              "#d8576b"
             ],
             [
              0.6666666666666666,
              "#ed7953"
             ],
             [
              0.7777777777777778,
              "#fb9f3a"
             ],
             [
              0.8888888888888888,
              "#fdca26"
             ],
             [
              1,
              "#f0f921"
             ]
            ],
            "type": "histogram2d"
           }
          ],
          "histogram2dcontour": [
           {
            "colorbar": {
             "outlinewidth": 0,
             "ticks": ""
            },
            "colorscale": [
             [
              0,
              "#0d0887"
             ],
             [
              0.1111111111111111,
              "#46039f"
             ],
             [
              0.2222222222222222,
              "#7201a8"
             ],
             [
              0.3333333333333333,
              "#9c179e"
             ],
             [
              0.4444444444444444,
              "#bd3786"
             ],
             [
              0.5555555555555556,
              "#d8576b"
             ],
             [
              0.6666666666666666,
              "#ed7953"
             ],
             [
              0.7777777777777778,
              "#fb9f3a"
             ],
             [
              0.8888888888888888,
              "#fdca26"
             ],
             [
              1,
              "#f0f921"
             ]
            ],
            "type": "histogram2dcontour"
           }
          ],
          "mesh3d": [
           {
            "colorbar": {
             "outlinewidth": 0,
             "ticks": ""
            },
            "type": "mesh3d"
           }
          ],
          "parcoords": [
           {
            "line": {
             "colorbar": {
              "outlinewidth": 0,
              "ticks": ""
             }
            },
            "type": "parcoords"
           }
          ],
          "pie": [
           {
            "automargin": true,
            "type": "pie"
           }
          ],
          "scatter": [
           {
            "fillpattern": {
             "fillmode": "overlay",
             "size": 10,
             "solidity": 0.2
            },
            "type": "scatter"
           }
          ],
          "scatter3d": [
           {
            "line": {
             "colorbar": {
              "outlinewidth": 0,
              "ticks": ""
             }
            },
            "marker": {
             "colorbar": {
              "outlinewidth": 0,
              "ticks": ""
             }
            },
            "type": "scatter3d"
           }
          ],
          "scattercarpet": [
           {
            "marker": {
             "colorbar": {
              "outlinewidth": 0,
              "ticks": ""
             }
            },
            "type": "scattercarpet"
           }
          ],
          "scattergeo": [
           {
            "marker": {
             "colorbar": {
              "outlinewidth": 0,
              "ticks": ""
             }
            },
            "type": "scattergeo"
           }
          ],
          "scattergl": [
           {
            "marker": {
             "colorbar": {
              "outlinewidth": 0,
              "ticks": ""
             }
            },
            "type": "scattergl"
           }
          ],
          "scattermapbox": [
           {
            "marker": {
             "colorbar": {
              "outlinewidth": 0,
              "ticks": ""
             }
            },
            "type": "scattermapbox"
           }
          ],
          "scatterpolar": [
           {
            "marker": {
             "colorbar": {
              "outlinewidth": 0,
              "ticks": ""
             }
            },
            "type": "scatterpolar"
           }
          ],
          "scatterpolargl": [
           {
            "marker": {
             "colorbar": {
              "outlinewidth": 0,
              "ticks": ""
             }
            },
            "type": "scatterpolargl"
           }
          ],
          "scatterternary": [
           {
            "marker": {
             "colorbar": {
              "outlinewidth": 0,
              "ticks": ""
             }
            },
            "type": "scatterternary"
           }
          ],
          "surface": [
           {
            "colorbar": {
             "outlinewidth": 0,
             "ticks": ""
            },
            "colorscale": [
             [
              0,
              "#0d0887"
             ],
             [
              0.1111111111111111,
              "#46039f"
             ],
             [
              0.2222222222222222,
              "#7201a8"
             ],
             [
              0.3333333333333333,
              "#9c179e"
             ],
             [
              0.4444444444444444,
              "#bd3786"
             ],
             [
              0.5555555555555556,
              "#d8576b"
             ],
             [
              0.6666666666666666,
              "#ed7953"
             ],
             [
              0.7777777777777778,
              "#fb9f3a"
             ],
             [
              0.8888888888888888,
              "#fdca26"
             ],
             [
              1,
              "#f0f921"
             ]
            ],
            "type": "surface"
           }
          ],
          "table": [
           {
            "cells": {
             "fill": {
              "color": "#EBF0F8"
             },
             "line": {
              "color": "white"
             }
            },
            "header": {
             "fill": {
              "color": "#C8D4E3"
             },
             "line": {
              "color": "white"
             }
            },
            "type": "table"
           }
          ]
         },
         "layout": {
          "annotationdefaults": {
           "arrowcolor": "#2a3f5f",
           "arrowhead": 0,
           "arrowwidth": 1
          },
          "autotypenumbers": "strict",
          "coloraxis": {
           "colorbar": {
            "outlinewidth": 0,
            "ticks": ""
           }
          },
          "colorscale": {
           "diverging": [
            [
             0,
             "#8e0152"
            ],
            [
             0.1,
             "#c51b7d"
            ],
            [
             0.2,
             "#de77ae"
            ],
            [
             0.3,
             "#f1b6da"
            ],
            [
             0.4,
             "#fde0ef"
            ],
            [
             0.5,
             "#f7f7f7"
            ],
            [
             0.6,
             "#e6f5d0"
            ],
            [
             0.7,
             "#b8e186"
            ],
            [
             0.8,
             "#7fbc41"
            ],
            [
             0.9,
             "#4d9221"
            ],
            [
             1,
             "#276419"
            ]
           ],
           "sequential": [
            [
             0,
             "#0d0887"
            ],
            [
             0.1111111111111111,
             "#46039f"
            ],
            [
             0.2222222222222222,
             "#7201a8"
            ],
            [
             0.3333333333333333,
             "#9c179e"
            ],
            [
             0.4444444444444444,
             "#bd3786"
            ],
            [
             0.5555555555555556,
             "#d8576b"
            ],
            [
             0.6666666666666666,
             "#ed7953"
            ],
            [
             0.7777777777777778,
             "#fb9f3a"
            ],
            [
             0.8888888888888888,
             "#fdca26"
            ],
            [
             1,
             "#f0f921"
            ]
           ],
           "sequentialminus": [
            [
             0,
             "#0d0887"
            ],
            [
             0.1111111111111111,
             "#46039f"
            ],
            [
             0.2222222222222222,
             "#7201a8"
            ],
            [
             0.3333333333333333,
             "#9c179e"
            ],
            [
             0.4444444444444444,
             "#bd3786"
            ],
            [
             0.5555555555555556,
             "#d8576b"
            ],
            [
             0.6666666666666666,
             "#ed7953"
            ],
            [
             0.7777777777777778,
             "#fb9f3a"
            ],
            [
             0.8888888888888888,
             "#fdca26"
            ],
            [
             1,
             "#f0f921"
            ]
           ]
          },
          "colorway": [
           "#636efa",
           "#EF553B",
           "#00cc96",
           "#ab63fa",
           "#FFA15A",
           "#19d3f3",
           "#FF6692",
           "#B6E880",
           "#FF97FF",
           "#FECB52"
          ],
          "font": {
           "color": "#2a3f5f"
          },
          "geo": {
           "bgcolor": "white",
           "lakecolor": "white",
           "landcolor": "#E5ECF6",
           "showlakes": true,
           "showland": true,
           "subunitcolor": "white"
          },
          "hoverlabel": {
           "align": "left"
          },
          "hovermode": "closest",
          "mapbox": {
           "style": "light"
          },
          "paper_bgcolor": "white",
          "plot_bgcolor": "#E5ECF6",
          "polar": {
           "angularaxis": {
            "gridcolor": "white",
            "linecolor": "white",
            "ticks": ""
           },
           "bgcolor": "#E5ECF6",
           "radialaxis": {
            "gridcolor": "white",
            "linecolor": "white",
            "ticks": ""
           }
          },
          "scene": {
           "xaxis": {
            "backgroundcolor": "#E5ECF6",
            "gridcolor": "white",
            "gridwidth": 2,
            "linecolor": "white",
            "showbackground": true,
            "ticks": "",
            "zerolinecolor": "white"
           },
           "yaxis": {
            "backgroundcolor": "#E5ECF6",
            "gridcolor": "white",
            "gridwidth": 2,
            "linecolor": "white",
            "showbackground": true,
            "ticks": "",
            "zerolinecolor": "white"
           },
           "zaxis": {
            "backgroundcolor": "#E5ECF6",
            "gridcolor": "white",
            "gridwidth": 2,
            "linecolor": "white",
            "showbackground": true,
            "ticks": "",
            "zerolinecolor": "white"
           }
          },
          "shapedefaults": {
           "line": {
            "color": "#2a3f5f"
           }
          },
          "ternary": {
           "aaxis": {
            "gridcolor": "white",
            "linecolor": "white",
            "ticks": ""
           },
           "baxis": {
            "gridcolor": "white",
            "linecolor": "white",
            "ticks": ""
           },
           "bgcolor": "#E5ECF6",
           "caxis": {
            "gridcolor": "white",
            "linecolor": "white",
            "ticks": ""
           }
          },
          "title": {
           "x": 0.05
          },
          "xaxis": {
           "automargin": true,
           "gridcolor": "white",
           "linecolor": "white",
           "ticks": "",
           "title": {
            "standoff": 15
           },
           "zerolinecolor": "white",
           "zerolinewidth": 2
          },
          "yaxis": {
           "automargin": true,
           "gridcolor": "white",
           "linecolor": "white",
           "ticks": "",
           "title": {
            "standoff": 15
           },
           "zerolinecolor": "white",
           "zerolinewidth": 2
          }
         }
        },
        "title": {
         "text": "H=21 N-BEATSx prediction"
        },
        "xaxis": {
         "anchor": "y",
         "domain": [
          0,
          1
         ],
         "title": {
          "text": "ds"
         }
        },
        "yaxis": {
         "anchor": "x",
         "domain": [
          0,
          1
         ],
         "title": {
          "text": "value"
         }
        }
       }
      },
      "text/html": [
       "<div>                            <div id=\"536b809c-0253-4e22-96d7-7bf1ce34fedc\" class=\"plotly-graph-div\" style=\"height:525px; width:100%;\"></div>            <script type=\"text/javascript\">                require([\"plotly\"], function(Plotly) {                    window.PLOTLYENV=window.PLOTLYENV || {};                                    if (document.getElementById(\"536b809c-0253-4e22-96d7-7bf1ce34fedc\")) {                    Plotly.newPlot(                        \"536b809c-0253-4e22-96d7-7bf1ce34fedc\",                        [{\"hovertemplate\":\"variable=NBEATSx<br>ds=%{x}<br>value=%{y}<extra></extra>\",\"legendgroup\":\"NBEATSx\",\"line\":{\"color\":\"#636efa\",\"dash\":\"solid\"},\"marker\":{\"symbol\":\"circle\"},\"mode\":\"lines\",\"name\":\"NBEATSx\",\"showlegend\":true,\"x\":[\"2022-04-29T00:00:00\",\"2022-04-30T00:00:00\",\"2022-05-01T00:00:00\",\"2022-05-02T00:00:00\",\"2022-05-03T00:00:00\",\"2022-05-04T00:00:00\",\"2022-05-05T00:00:00\",\"2022-05-06T00:00:00\",\"2022-05-07T00:00:00\",\"2022-05-08T00:00:00\",\"2022-05-09T00:00:00\",\"2022-05-10T00:00:00\",\"2022-05-11T00:00:00\",\"2022-05-12T00:00:00\",\"2022-05-13T00:00:00\",\"2022-05-14T00:00:00\",\"2022-05-15T00:00:00\",\"2022-05-16T00:00:00\",\"2022-05-17T00:00:00\",\"2022-05-18T00:00:00\",\"2022-05-19T00:00:00\",\"2022-05-20T00:00:00\",\"2022-05-21T00:00:00\",\"2022-05-22T00:00:00\",\"2022-05-23T00:00:00\",\"2022-05-24T00:00:00\",\"2022-05-25T00:00:00\",\"2022-05-26T00:00:00\",\"2022-05-27T00:00:00\",\"2022-05-28T00:00:00\",\"2022-05-29T00:00:00\",\"2022-05-30T00:00:00\",\"2022-05-31T00:00:00\",\"2022-06-01T00:00:00\",\"2022-06-02T00:00:00\",\"2022-06-03T00:00:00\",\"2022-06-04T00:00:00\",\"2022-06-05T00:00:00\",\"2022-06-06T00:00:00\",\"2022-06-07T00:00:00\",\"2022-06-08T00:00:00\",\"2022-06-09T00:00:00\",\"2022-06-10T00:00:00\",\"2022-06-11T00:00:00\",\"2022-06-12T00:00:00\",\"2022-06-13T00:00:00\",\"2022-06-14T00:00:00\",\"2022-06-15T00:00:00\",\"2022-06-16T00:00:00\",\"2022-06-17T00:00:00\",\"2022-06-18T00:00:00\",\"2022-06-19T00:00:00\",\"2022-06-20T00:00:00\",\"2022-06-21T00:00:00\",\"2022-06-22T00:00:00\",\"2022-06-23T00:00:00\",\"2022-06-24T00:00:00\",\"2022-06-25T00:00:00\",\"2022-06-26T00:00:00\",\"2022-06-27T00:00:00\",\"2022-06-28T00:00:00\",\"2022-06-29T00:00:00\",\"2022-06-30T00:00:00\",\"2022-07-01T00:00:00\",\"2022-07-02T00:00:00\",\"2022-07-03T00:00:00\",\"2022-07-04T00:00:00\",\"2022-07-05T00:00:00\",\"2022-07-06T00:00:00\",\"2022-07-07T00:00:00\",\"2022-07-08T00:00:00\",\"2022-07-09T00:00:00\",\"2022-07-10T00:00:00\",\"2022-07-11T00:00:00\",\"2022-07-12T00:00:00\",\"2022-07-13T00:00:00\",\"2022-07-14T00:00:00\",\"2022-07-15T00:00:00\",\"2022-07-16T00:00:00\",\"2022-07-17T00:00:00\",\"2022-07-18T00:00:00\",\"2022-07-19T00:00:00\",\"2022-07-20T00:00:00\",\"2022-07-21T00:00:00\",\"2022-07-22T00:00:00\",\"2022-07-23T00:00:00\",\"2022-07-24T00:00:00\",\"2022-07-25T00:00:00\",\"2022-07-26T00:00:00\",\"2022-07-27T00:00:00\",\"2022-07-28T00:00:00\",\"2022-07-29T00:00:00\",\"2022-07-30T00:00:00\",\"2022-07-31T00:00:00\",\"2022-08-01T00:00:00\",\"2022-08-02T00:00:00\",\"2022-08-03T00:00:00\",\"2022-08-04T00:00:00\",\"2022-08-05T00:00:00\",\"2022-08-06T00:00:00\",\"2022-08-07T00:00:00\",\"2022-08-08T00:00:00\",\"2022-08-09T00:00:00\",\"2022-08-10T00:00:00\",\"2022-08-11T00:00:00\",\"2022-08-12T00:00:00\",\"2022-08-13T00:00:00\",\"2022-08-14T00:00:00\",\"2022-08-15T00:00:00\",\"2022-08-16T00:00:00\",\"2022-08-17T00:00:00\",\"2022-08-18T00:00:00\",\"2022-08-19T00:00:00\",\"2022-08-20T00:00:00\",\"2022-08-21T00:00:00\",\"2022-08-22T00:00:00\",\"2022-08-23T00:00:00\",\"2022-08-24T00:00:00\",\"2022-08-25T00:00:00\",\"2022-08-26T00:00:00\",\"2022-08-27T00:00:00\",\"2022-08-28T00:00:00\",\"2022-08-29T00:00:00\",\"2022-08-30T00:00:00\",\"2022-08-31T00:00:00\",\"2022-09-01T00:00:00\",\"2022-09-02T00:00:00\",\"2022-09-03T00:00:00\",\"2022-09-04T00:00:00\",\"2022-09-05T00:00:00\",\"2022-09-06T00:00:00\",\"2022-09-07T00:00:00\",\"2022-09-08T00:00:00\",\"2022-09-09T00:00:00\",\"2022-09-10T00:00:00\",\"2022-09-11T00:00:00\",\"2022-09-12T00:00:00\",\"2022-09-13T00:00:00\",\"2022-09-14T00:00:00\",\"2022-09-15T00:00:00\",\"2022-09-16T00:00:00\",\"2022-09-17T00:00:00\",\"2022-09-18T00:00:00\",\"2022-09-19T00:00:00\",\"2022-09-20T00:00:00\",\"2022-09-21T00:00:00\",\"2022-09-22T00:00:00\",\"2022-09-23T00:00:00\",\"2022-09-24T00:00:00\",\"2022-09-25T00:00:00\",\"2022-09-26T00:00:00\",\"2022-09-27T00:00:00\",\"2022-09-28T00:00:00\",\"2022-09-29T00:00:00\",\"2022-09-30T00:00:00\",\"2022-10-01T00:00:00\",\"2022-10-02T00:00:00\",\"2022-10-03T00:00:00\",\"2022-10-04T00:00:00\",\"2022-10-05T00:00:00\",\"2022-10-06T00:00:00\",\"2022-10-07T00:00:00\",\"2022-10-08T00:00:00\",\"2022-10-09T00:00:00\",\"2022-10-10T00:00:00\",\"2022-10-11T00:00:00\",\"2022-10-12T00:00:00\",\"2022-10-13T00:00:00\",\"2022-10-14T00:00:00\",\"2022-10-15T00:00:00\",\"2022-10-16T00:00:00\",\"2022-10-17T00:00:00\",\"2022-10-18T00:00:00\",\"2022-10-19T00:00:00\",\"2022-10-20T00:00:00\",\"2022-10-21T00:00:00\",\"2022-10-22T00:00:00\",\"2022-10-23T00:00:00\",\"2022-10-24T00:00:00\",\"2022-10-25T00:00:00\",\"2022-10-26T00:00:00\",\"2022-10-27T00:00:00\",\"2022-10-28T00:00:00\",\"2022-10-29T00:00:00\",\"2022-10-30T00:00:00\",\"2022-10-31T00:00:00\",\"2022-11-01T00:00:00\",\"2022-11-02T00:00:00\",\"2022-11-03T00:00:00\",\"2022-11-04T00:00:00\",\"2022-11-05T00:00:00\",\"2022-11-06T00:00:00\",\"2022-11-07T00:00:00\",\"2022-11-08T00:00:00\",\"2022-11-09T00:00:00\",\"2022-11-10T00:00:00\",\"2022-11-11T00:00:00\",\"2022-11-12T00:00:00\",\"2022-11-13T00:00:00\",\"2022-11-14T00:00:00\",\"2022-11-15T00:00:00\",\"2022-11-16T00:00:00\",\"2022-11-17T00:00:00\",\"2022-11-18T00:00:00\",\"2022-11-19T00:00:00\",\"2022-11-20T00:00:00\",\"2022-11-21T00:00:00\",\"2022-11-22T00:00:00\",\"2022-11-23T00:00:00\",\"2022-11-24T00:00:00\",\"2022-11-25T00:00:00\",\"2022-11-26T00:00:00\",\"2022-11-27T00:00:00\",\"2022-11-28T00:00:00\",\"2022-11-29T00:00:00\",\"2022-11-30T00:00:00\",\"2022-12-01T00:00:00\",\"2022-12-02T00:00:00\",\"2022-12-03T00:00:00\",\"2022-12-04T00:00:00\",\"2022-12-05T00:00:00\",\"2022-12-06T00:00:00\",\"2022-12-07T00:00:00\",\"2022-12-08T00:00:00\",\"2022-12-09T00:00:00\",\"2022-12-10T00:00:00\",\"2022-12-11T00:00:00\",\"2022-12-12T00:00:00\",\"2022-12-13T00:00:00\",\"2022-12-14T00:00:00\",\"2022-12-15T00:00:00\",\"2022-12-16T00:00:00\",\"2022-12-17T00:00:00\",\"2022-12-18T00:00:00\",\"2022-12-19T00:00:00\",\"2022-12-20T00:00:00\",\"2022-12-21T00:00:00\",\"2022-12-22T00:00:00\",\"2022-12-23T00:00:00\",\"2022-12-24T00:00:00\",\"2022-12-25T00:00:00\",\"2022-12-26T00:00:00\",\"2022-12-27T00:00:00\",\"2022-12-28T00:00:00\",\"2022-12-29T00:00:00\",\"2022-12-30T00:00:00\",\"2022-12-31T00:00:00\",\"2023-01-01T00:00:00\",\"2023-01-02T00:00:00\",\"2023-01-03T00:00:00\",\"2023-01-04T00:00:00\",\"2023-01-05T00:00:00\",\"2023-01-06T00:00:00\",\"2023-01-07T00:00:00\",\"2023-01-08T00:00:00\",\"2023-01-09T00:00:00\",\"2023-01-10T00:00:00\",\"2023-01-11T00:00:00\",\"2023-01-12T00:00:00\",\"2023-01-13T00:00:00\",\"2023-01-14T00:00:00\",\"2023-01-15T00:00:00\",\"2023-01-16T00:00:00\",\"2023-01-17T00:00:00\",\"2023-01-18T00:00:00\",\"2023-01-19T00:00:00\",\"2023-01-20T00:00:00\",\"2023-01-21T00:00:00\",\"2023-01-22T00:00:00\",\"2023-01-23T00:00:00\",\"2023-01-24T00:00:00\",\"2023-01-25T00:00:00\",\"2023-01-26T00:00:00\",\"2023-01-27T00:00:00\",\"2023-01-28T00:00:00\",\"2023-01-29T00:00:00\",\"2023-01-30T00:00:00\",\"2023-01-31T00:00:00\",\"2023-02-01T00:00:00\",\"2023-02-02T00:00:00\",\"2023-02-03T00:00:00\",\"2023-02-04T00:00:00\",\"2023-02-05T00:00:00\",\"2023-02-06T00:00:00\",\"2023-02-07T00:00:00\",\"2023-02-08T00:00:00\",\"2023-02-09T00:00:00\",\"2023-02-10T00:00:00\",\"2023-02-11T00:00:00\",\"2023-02-12T00:00:00\",\"2023-02-13T00:00:00\",\"2023-02-14T00:00:00\",\"2023-02-15T00:00:00\",\"2023-02-16T00:00:00\",\"2023-02-17T00:00:00\",\"2023-02-18T00:00:00\",\"2023-02-19T00:00:00\",\"2023-02-20T00:00:00\",\"2023-02-21T00:00:00\",\"2023-02-22T00:00:00\",\"2023-02-23T00:00:00\",\"2023-02-24T00:00:00\",\"2023-02-25T00:00:00\",\"2023-02-26T00:00:00\",\"2023-02-27T00:00:00\",\"2023-02-28T00:00:00\",\"2023-03-01T00:00:00\",\"2023-03-02T00:00:00\",\"2023-03-03T00:00:00\",\"2023-03-04T00:00:00\",\"2023-03-05T00:00:00\",\"2023-03-06T00:00:00\",\"2023-03-07T00:00:00\",\"2023-03-08T00:00:00\",\"2023-03-09T00:00:00\",\"2023-03-10T00:00:00\",\"2023-03-11T00:00:00\",\"2023-03-12T00:00:00\",\"2023-03-13T00:00:00\",\"2023-03-14T00:00:00\",\"2023-03-15T00:00:00\",\"2023-03-16T00:00:00\",\"2023-03-17T00:00:00\",\"2023-03-18T00:00:00\",\"2023-03-19T00:00:00\",\"2023-03-20T00:00:00\",\"2023-03-21T00:00:00\",\"2023-03-22T00:00:00\",\"2023-03-23T00:00:00\",\"2023-03-24T00:00:00\",\"2023-03-25T00:00:00\",\"2023-03-26T00:00:00\",\"2023-03-27T00:00:00\",\"2023-03-28T00:00:00\",\"2023-03-29T00:00:00\",\"2023-03-30T00:00:00\",\"2023-03-31T00:00:00\",\"2023-04-01T00:00:00\",\"2023-04-02T00:00:00\",\"2023-04-03T00:00:00\",\"2023-04-04T00:00:00\",\"2023-04-05T00:00:00\",\"2023-04-06T00:00:00\",\"2023-04-07T00:00:00\",\"2023-04-08T00:00:00\",\"2023-04-09T00:00:00\",\"2023-04-10T00:00:00\",\"2023-04-11T00:00:00\",\"2023-04-12T00:00:00\",\"2023-04-13T00:00:00\",\"2023-04-14T00:00:00\",\"2023-04-15T00:00:00\",\"2023-04-16T00:00:00\",\"2023-04-17T00:00:00\",\"2023-04-18T00:00:00\",\"2023-04-19T00:00:00\",\"2023-04-20T00:00:00\",\"2023-04-21T00:00:00\",\"2023-04-22T00:00:00\",\"2023-04-23T00:00:00\",\"2023-04-24T00:00:00\",\"2023-04-25T00:00:00\",\"2023-04-26T00:00:00\",\"2023-04-27T00:00:00\",\"2023-04-28T00:00:00\",\"2023-04-29T00:00:00\",\"2023-04-30T00:00:00\",\"2023-05-01T00:00:00\",\"2023-05-02T00:00:00\",\"2023-05-03T00:00:00\",\"2023-05-04T00:00:00\",\"2023-05-05T00:00:00\",\"2023-05-06T00:00:00\",\"2023-05-07T00:00:00\",\"2023-05-08T00:00:00\",\"2023-05-09T00:00:00\",\"2023-05-10T00:00:00\",\"2023-05-11T00:00:00\",\"2023-05-12T00:00:00\",\"2023-05-13T00:00:00\",\"2023-05-14T00:00:00\",\"2023-05-15T00:00:00\",\"2023-05-16T00:00:00\",\"2023-05-17T00:00:00\",\"2023-05-18T00:00:00\",\"2023-05-19T00:00:00\",\"2023-05-20T00:00:00\",\"2023-05-21T00:00:00\",\"2023-05-22T00:00:00\",\"2023-05-23T00:00:00\",\"2023-05-24T00:00:00\",\"2023-05-25T00:00:00\",\"2023-05-26T00:00:00\",\"2023-05-27T00:00:00\",\"2023-05-28T00:00:00\",\"2023-05-29T00:00:00\",\"2023-05-30T00:00:00\",\"2023-05-31T00:00:00\",\"2023-06-01T00:00:00\",\"2023-06-02T00:00:00\",\"2023-06-03T00:00:00\",\"2023-06-04T00:00:00\",\"2023-06-05T00:00:00\",\"2023-06-06T00:00:00\",\"2023-06-07T00:00:00\",\"2023-06-08T00:00:00\",\"2023-06-09T00:00:00\",\"2023-06-10T00:00:00\",\"2023-06-11T00:00:00\",\"2023-06-12T00:00:00\",\"2023-06-13T00:00:00\",\"2023-06-14T00:00:00\",\"2023-06-15T00:00:00\",\"2023-06-16T00:00:00\",\"2023-06-17T00:00:00\",\"2023-06-18T00:00:00\",\"2023-06-19T00:00:00\",\"2023-06-20T00:00:00\",\"2023-06-21T00:00:00\",\"2023-06-22T00:00:00\",\"2023-06-23T00:00:00\",\"2023-06-24T00:00:00\",\"2023-06-25T00:00:00\",\"2023-06-26T00:00:00\",\"2023-06-27T00:00:00\",\"2023-06-28T00:00:00\",\"2023-06-29T00:00:00\",\"2023-06-30T00:00:00\",\"2023-07-01T00:00:00\",\"2023-07-02T00:00:00\",\"2023-07-03T00:00:00\",\"2023-07-04T00:00:00\",\"2023-07-05T00:00:00\",\"2023-07-06T00:00:00\",\"2023-07-07T00:00:00\",\"2023-07-08T00:00:00\",\"2023-07-09T00:00:00\",\"2023-07-10T00:00:00\",\"2023-07-11T00:00:00\",\"2023-07-12T00:00:00\",\"2023-07-13T00:00:00\",\"2023-07-14T00:00:00\",\"2023-07-15T00:00:00\",\"2023-07-16T00:00:00\",\"2023-07-17T00:00:00\",\"2023-07-18T00:00:00\",\"2023-07-19T00:00:00\",\"2023-07-20T00:00:00\",\"2023-07-21T00:00:00\",\"2023-07-22T00:00:00\",\"2023-07-23T00:00:00\",\"2023-07-24T00:00:00\",\"2023-07-25T00:00:00\",\"2023-07-26T00:00:00\",\"2023-07-27T00:00:00\",\"2023-07-28T00:00:00\",\"2023-07-29T00:00:00\",\"2023-07-30T00:00:00\",\"2023-07-31T00:00:00\",\"2023-08-01T00:00:00\",\"2023-08-02T00:00:00\",\"2023-08-03T00:00:00\",\"2023-08-04T00:00:00\",\"2023-08-05T00:00:00\",\"2023-08-06T00:00:00\",\"2023-08-07T00:00:00\",\"2023-08-08T00:00:00\",\"2023-08-09T00:00:00\",\"2023-08-10T00:00:00\",\"2023-08-11T00:00:00\",\"2023-08-12T00:00:00\",\"2023-08-13T00:00:00\",\"2023-08-14T00:00:00\",\"2023-08-15T00:00:00\",\"2023-08-16T00:00:00\",\"2023-08-17T00:00:00\",\"2023-08-18T00:00:00\",\"2023-08-19T00:00:00\",\"2023-08-20T00:00:00\",\"2023-08-21T00:00:00\",\"2023-08-22T00:00:00\",\"2023-08-23T00:00:00\",\"2023-08-24T00:00:00\",\"2023-08-25T00:00:00\",\"2023-08-26T00:00:00\",\"2023-08-27T00:00:00\",\"2023-08-28T00:00:00\",\"2023-08-29T00:00:00\",\"2023-08-30T00:00:00\",\"2023-08-31T00:00:00\",\"2023-09-01T00:00:00\",\"2023-09-02T00:00:00\",\"2023-09-03T00:00:00\",\"2023-09-04T00:00:00\",\"2023-09-05T00:00:00\",\"2023-09-06T00:00:00\",\"2023-09-07T00:00:00\",\"2023-09-08T00:00:00\",\"2023-09-09T00:00:00\",\"2023-09-10T00:00:00\",\"2023-09-11T00:00:00\",\"2023-09-12T00:00:00\",\"2023-09-13T00:00:00\",\"2023-09-14T00:00:00\",\"2023-09-15T00:00:00\",\"2023-09-16T00:00:00\",\"2023-09-17T00:00:00\",\"2023-09-18T00:00:00\",\"2023-09-19T00:00:00\",\"2023-09-20T00:00:00\",\"2023-09-21T00:00:00\",\"2023-09-22T00:00:00\",\"2023-09-23T00:00:00\",\"2023-09-24T00:00:00\",\"2023-09-25T00:00:00\",\"2023-09-26T00:00:00\",\"2023-09-27T00:00:00\",\"2023-09-28T00:00:00\",\"2023-09-29T00:00:00\",\"2023-09-30T00:00:00\",\"2023-10-01T00:00:00\",\"2023-10-02T00:00:00\",\"2023-10-03T00:00:00\",\"2023-10-04T00:00:00\",\"2023-10-05T00:00:00\",\"2023-10-06T00:00:00\",\"2023-10-07T00:00:00\",\"2023-10-08T00:00:00\",\"2023-10-09T00:00:00\",\"2023-10-10T00:00:00\",\"2023-10-11T00:00:00\",\"2023-10-12T00:00:00\",\"2023-10-13T00:00:00\",\"2023-10-14T00:00:00\",\"2023-10-15T00:00:00\",\"2023-10-16T00:00:00\",\"2023-10-17T00:00:00\",\"2023-10-18T00:00:00\",\"2023-10-19T00:00:00\",\"2023-10-20T00:00:00\",\"2023-10-21T00:00:00\",\"2023-10-22T00:00:00\",\"2023-10-23T00:00:00\",\"2023-10-24T00:00:00\",\"2023-10-25T00:00:00\",\"2023-10-26T00:00:00\",\"2023-10-27T00:00:00\",\"2023-10-28T00:00:00\",\"2023-10-29T00:00:00\",\"2023-10-30T00:00:00\",\"2023-10-31T00:00:00\",\"2023-11-01T00:00:00\",\"2023-11-02T00:00:00\",\"2023-11-03T00:00:00\",\"2023-11-04T00:00:00\",\"2023-11-05T00:00:00\",\"2023-11-06T00:00:00\",\"2023-11-07T00:00:00\",\"2023-11-08T00:00:00\",\"2023-11-09T00:00:00\",\"2023-11-10T00:00:00\",\"2023-11-11T00:00:00\",\"2023-11-12T00:00:00\",\"2023-11-13T00:00:00\",\"2023-11-14T00:00:00\",\"2023-11-15T00:00:00\",\"2023-11-16T00:00:00\",\"2023-11-17T00:00:00\",\"2023-11-18T00:00:00\",\"2023-11-19T00:00:00\",\"2023-11-20T00:00:00\",\"2023-11-21T00:00:00\",\"2023-11-22T00:00:00\",\"2023-11-23T00:00:00\",\"2023-11-24T00:00:00\",\"2023-11-25T00:00:00\",\"2023-11-26T00:00:00\",\"2023-11-27T00:00:00\",\"2023-11-28T00:00:00\",\"2023-11-29T00:00:00\",\"2023-11-30T00:00:00\",\"2023-12-01T00:00:00\",\"2023-12-02T00:00:00\",\"2023-12-03T00:00:00\",\"2023-12-04T00:00:00\",\"2023-12-05T00:00:00\",\"2023-12-06T00:00:00\",\"2023-12-07T00:00:00\",\"2023-12-08T00:00:00\",\"2023-12-09T00:00:00\",\"2023-12-10T00:00:00\",\"2023-12-11T00:00:00\",\"2023-12-12T00:00:00\",\"2023-12-13T00:00:00\",\"2023-12-14T00:00:00\",\"2023-12-15T00:00:00\",\"2023-12-16T00:00:00\",\"2023-12-17T00:00:00\",\"2023-12-18T00:00:00\",\"2023-12-19T00:00:00\",\"2023-12-20T00:00:00\",\"2023-12-21T00:00:00\",\"2023-12-22T00:00:00\",\"2023-12-23T00:00:00\",\"2023-12-24T00:00:00\",\"2023-12-25T00:00:00\",\"2023-12-26T00:00:00\",\"2023-12-27T00:00:00\",\"2023-12-28T00:00:00\",\"2023-12-29T00:00:00\",\"2023-12-30T00:00:00\",\"2023-12-31T00:00:00\",\"2024-01-01T00:00:00\",\"2024-01-02T00:00:00\",\"2024-01-03T00:00:00\",\"2024-01-04T00:00:00\",\"2024-01-05T00:00:00\",\"2024-01-06T00:00:00\",\"2024-01-07T00:00:00\",\"2024-01-08T00:00:00\",\"2024-01-09T00:00:00\",\"2024-01-10T00:00:00\",\"2024-01-11T00:00:00\",\"2024-01-12T00:00:00\",\"2024-01-13T00:00:00\",\"2024-01-14T00:00:00\",\"2024-01-15T00:00:00\",\"2024-01-16T00:00:00\",\"2024-01-17T00:00:00\",\"2024-01-18T00:00:00\",\"2024-01-19T00:00:00\",\"2024-01-20T00:00:00\",\"2024-01-21T00:00:00\",\"2024-01-22T00:00:00\",\"2024-01-23T00:00:00\",\"2024-01-24T00:00:00\",\"2024-01-25T00:00:00\",\"2024-01-26T00:00:00\",\"2024-01-27T00:00:00\",\"2024-01-28T00:00:00\",\"2024-01-29T00:00:00\",\"2024-01-30T00:00:00\",\"2024-01-31T00:00:00\",\"2024-02-01T00:00:00\",\"2024-02-02T00:00:00\",\"2024-02-03T00:00:00\",\"2024-02-04T00:00:00\",\"2024-02-05T00:00:00\",\"2024-02-06T00:00:00\",\"2024-02-07T00:00:00\",\"2024-02-08T00:00:00\",\"2024-02-09T00:00:00\",\"2024-02-10T00:00:00\",\"2024-02-11T00:00:00\",\"2024-02-12T00:00:00\",\"2024-02-13T00:00:00\",\"2024-02-14T00:00:00\",\"2024-02-15T00:00:00\",\"2024-02-16T00:00:00\",\"2024-02-17T00:00:00\",\"2024-02-18T00:00:00\",\"2024-02-19T00:00:00\",\"2024-02-20T00:00:00\",\"2024-02-21T00:00:00\",\"2024-02-22T00:00:00\",\"2024-02-23T00:00:00\",\"2024-02-24T00:00:00\",\"2024-02-25T00:00:00\",\"2024-02-26T00:00:00\",\"2024-02-27T00:00:00\",\"2024-02-28T00:00:00\",\"2024-02-29T00:00:00\"],\"xaxis\":\"x\",\"y\":[0.00817868486046791,0.007435668725520372,0.0069023678079247475,0.007750729098916054,0.007840104401111603,0.008158836513757706,0.0075370268896222115,0.007853176444768906,0.0068925186060369015,0.006819135509431362,0.007257867604494095,0.007118905428797007,0.0071157533675432205,0.00734578026458621,0.006990149617195129,0.006678454577922821,0.006786063313484192,0.008013837970793247,0.007655506953597069,0.007528217043727636,0.007774294354021549,0.006799925118684769,0.006279567256569862,0.0076277004554867744,0.00750384759157896,0.0069528063759207726,0.007553200237452984,0.007938911207020283,0.008348618634045124,0.00782483909279108,0.008322160691022873,0.006538478657603264,0.00802471674978733,0.009175153449177742,0.011226946488022804,0.009904319420456886,0.007858047261834145,0.005070756189525127,0.0055238171480596066,0.005841002333909273,0.0075096385553479195,0.008788454346358776,0.007378412876278162,0.008494660258293152,0.008499262854456902,0.006743201985955238,0.00838378630578518,0.009183873422443867,0.010264677926898003,0.010389473289251328,0.007032367400825024,0.009428412653505802,0.007477574050426483,0.00826365314424038,0.010170048102736473,0.011272095143795013,0.00893663614988327,0.008004099130630493,0.00824650563299656,0.008670395240187645,0.00900193303823471,0.009885618463158607,0.009323503822088242,0.01033871155232191,0.008905532769858837,0.008590742014348507,0.008806251920759678,0.012128125876188278,0.015114620327949524,0.015058198012411594,0.010701429098844528,0.008638683706521988,0.00850098580121994,0.014817481860518456,0.012355342507362366,0.011991994455456734,0.012437880039215088,0.012879423797130585,0.014549363404512405,0.012245699763298035,0.013640373013913631,0.014538963325321674,0.011799906380474567,0.0112453056499362,0.013044055551290512,0.01049397885799408,0.012095537967979908,0.009668678045272827,0.009801673702895641,0.013351475819945335,0.011024541221559048,0.010784747079014778,0.008530454710125923,0.010943826287984848,0.011078442446887493,0.008719601668417454,0.011474666185677052,0.012046786025166512,0.012477057054638863,0.01284605823457241,0.010525936260819435,0.011856334283947945,0.012488366104662418,0.014266201294958591,0.014416618272662163,0.01310734637081623,0.012287762016057968,0.012012729421257973,0.013641799800097942,0.014347841031849384,0.013258667662739754,0.01581164449453354,0.014742779545485973,0.0124273169785738,0.013685802929103374,0.012149950489401817,0.011995507404208183,0.012459665536880493,0.011329269036650658,0.01084139198064804,0.01074938289821148,0.011417578905820847,0.01008046604692936,0.00959857553243637,0.010220546275377274,0.009441697970032692,0.009499896317720413,0.009052399545907974,0.007832789793610573,0.009607712738215923,0.008703325875103474,0.009898290038108826,0.008874253369867802,0.007828830741345882,0.010883715935051441,0.009558180347084999,0.00990970991551876,0.009526301175355911,0.010090451687574387,0.010158570483326912,0.00955286156386137,0.008773280307650566,0.008880808018147945,0.010401677340269089,0.01079043559730053,0.010658319108188152,0.010653546079993248,0.010838712565600872,0.00969892181456089,0.010001729242503643,0.0100840600207448,0.011293305084109306,0.010644955560564995,0.010781490243971348,0.009876975789666176,0.009617630392313004,0.009660751558840275,0.008768954314291477,0.010253285057842731,0.011003348976373672,0.012333804741501808,0.01107088103890419,0.008314670994877815,0.009297259151935577,0.010463487356901169,0.011399054899811745,0.011955740861594677,0.012248938903212547,0.012608252465724945,0.010014601051807404,0.008800428360700607,0.010931061580777168,0.00953709241002798,0.012118825688958168,0.00946676917374134,0.010013863444328308,0.010866829194128513,0.008642997592687607,0.009370733052492142,0.009144918993115425,0.008078385144472122,0.007749301381409168,0.007022564299404621,0.005769966170191765,0.006942890118807554,0.00506977504119277,0.006240846123546362,0.005820616614073515,0.008642427623271942,0.006611470133066177,0.005622789263725281,0.005783906206488609,0.004918169230222702,0.0055661918595433235,0.0061671314761042595,0.007058321498334408,0.004446098580956459,0.0037397914566099644,0.005073067732155323,0.0041249715723097324,0.006219795905053616,0.007336202077567577,0.007879221811890602,0.008309741504490376,0.006145625840872526,0.00581842428073287,0.0075758593156933784,0.007007577456533909,0.009896901436150074,0.008869476616382599,0.00844758190214634,0.007938794791698456,0.007720109075307846,0.008831936866044998,0.00828438438475132,0.013567943125963211,0.015114734880626202,0.01624516025185585,0.012103142216801643,0.009262913838028908,0.0089256651699543,0.01077071949839592,0.010568203404545784,0.009872231632471085,0.009105948731303215,0.007815106771886349,0.010385853238403797,0.010762159712612629,0.011168450117111206,0.011723821051418781,0.00952826626598835,0.006408090703189373,0.009091481566429138,0.009093033149838448,0.009625861421227455,0.00820980779826641,0.00832382868975401,0.007753168232738972,0.007090545725077391,0.0062655918300151825,0.005888498388230801,0.007580632343888283,0.006475946865975857,0.0061395978555083275,0.005717660300433636,0.006138845346868038,0.00556124746799469,0.005332262255251408,0.005675433669239283,0.005750325508415699,0.006126857362687588,0.006139844655990601,0.006405325140804052,0.0051020048558712006,0.005818217061460018,0.005468405783176422,0.005584739614278078,0.00601406954228878,0.006019289139658213,0.005552665330469608,0.005242904648184776,0.005831433460116386,0.005254517309367657,0.005240157246589661,0.005401909351348877,0.00458889827132225,0.003942534327507019,0.004217947833240032,0.004014736972749233,0.00387679785490036,0.0036243030335754156,0.005032891873270273,0.003626397578045726,0.003999833017587662,0.0037886977661401033,0.0025828788056969643,0.005504267290234566,0.003868994303047657,0.004477617796510458,0.004153305198997259,0.004058993421494961,0.0042236060835421085,0.004058070480823517,0.003488200018182397,0.004022832494229078,0.0037353725638240576,0.00477689690887928,0.0025881719775497913,0.004698971286416054,0.005404188763350248,0.0062993173487484455,0.00808948278427124,0.006181118078529835,0.008500546216964722,0.009438554756343365,0.007026443723589182,0.00647480133920908,0.007522341795265675,0.006626340094953775,0.00826787669211626,0.006681347265839577,0.007201085798442364,0.007264817599207163,0.00769196730107069,0.006391598843038082,0.007197129540145397,0.007668384350836277,0.007867357693612576,0.007078598253428936,0.00645238533616066,0.007120898924767971,0.006261743605136871,0.007755385711789131,0.007148094475269318,0.008413225412368774,0.007772115524858236,0.006615533493459225,0.0069950055330991745,0.006430644541978836,0.006472487933933735,0.00803550984710455,0.006850024219602346,0.0070005375891923904,0.006405355408787727,0.0058555323630571365,0.006503441371023655,0.006046776194125414,0.006816858425736427,0.0058129653334617615,0.005859392695128918,0.00596484262496233,0.00529306847602129,0.006179705262184143,0.004905061796307564,0.006095007061958313,0.00660939235240221,0.006727606989443302,0.006245914846658707,0.006794636137783527,0.006726885214447975,0.006494252942502499,0.008063612505793571,0.007490451447665691,0.007788279093801975,0.007737315259873867,0.007758659310638905,0.008041229099035263,0.008025124669075012,0.008284574374556541,0.009926853701472282,0.009227761067450047,0.007659425958991051,0.007408845704048872,0.007485494948923588,0.007215146906673908,0.00670581916347146,0.006579956039786339,0.0058538587763905525,0.00628212746232748,0.006655900739133358,0.005694474093616009,0.0067209517583251,0.007295215968042612,0.00690880510956049,0.005326489452272654,0.00620680209249258,0.006301218643784523,0.006154312752187252,0.0050577400252223015,0.006508672144263983,0.006135937757790089,0.00635958556085825,0.005865377373993397,0.005538755562156439,0.006092829164117575,0.005981797352433205,0.007672509178519249,0.007004208862781525,0.007050091866403818,0.006126623600721359,0.005673592910170555,0.0066682458855211735,0.006402571685612202,0.0067022922448813915,0.007319968193769455,0.0072717564180493355,0.006902380380779505,0.00510730966925621,0.005314511246979237,0.006442533805966377,0.006522935815155506,0.005682777147740126,0.005256012547761202,0.005941636394709349,0.005623462609946728,0.0047856345772743225,0.005515835247933865,0.0059374552220106125,0.006637998390942812,0.005992408841848373,0.005206704139709473,0.00478828139603138,0.005920477211475372,0.005078022833913565,0.005946149118244648,0.0049616009928286076,0.004342638421803713,0.0050191013142466545,0.004973154515028,0.0038901602383702993,0.004445606376975775,0.004314993508160114,0.004738586954772472,0.004212263971567154,0.003427363932132721,0.004396103322505951,0.0033375569619238377,0.004128523636609316,0.004564167000353336,0.0036533870734274387,0.004635695833712816,0.0042228251695632935,0.004037878476083279,0.0037657374050468206,0.004294749349355698,0.005212724674493074,0.00455907266587019,0.0038319341838359833,0.0032175923697650433,0.004110109992325306,0.004737485200166702,0.004355789162218571,0.004596860148012638,0.0054551539942622185,0.004454748705029488,0.004934962838888168,0.0037150727584958076,0.005036182701587677,0.005929021164774895,0.005427161231637001,0.0055765025317668915,0.005870319437235594,0.005508751608431339,0.005629408173263073,0.00540976133197546,0.00502025056630373,0.005743687506765127,0.004986913409084082,0.005875958129763603,0.005654395557940006,0.005788977257907391,0.0052610295824706554,0.004466120153665543,0.005589375272393227,0.005242043174803257,0.005043377634137869,0.0038809925317764282,0.004936175420880318,0.004361809231340885,0.003918220289051533,0.004278227686882019,0.0052697062492370605,0.004248327575623989,0.0037981290370225906,0.004054745193570852,0.0034036010038107634,0.00357273081317544,0.00389899592846632,0.004326856695115566,0.003522228915244341,0.003619519528001547,0.0036986200138926506,0.003357477253302932,0.0032846671529114246,0.0037118701729923487,0.0034993477165699005,0.0027778251096606255,0.002951910486444831,0.0028629202861338854,0.0031153690069913864,0.0033078042324632406,0.003594815731048584,0.003266810206696391,0.003551159054040909,0.002800561022013426,0.003379759145900607,0.003433431964367628,0.003485518041998148,0.003412502119317651,0.0029926765710115433,0.0030102296732366085,0.0024042408913373947,0.0028774808160960674,0.002751378808170557,0.0029158620163798332,0.002952003385871649,0.0035306019708514214,0.0029235510155558586,0.002645894419401884,0.0018218279583379626,0.0005356448236852884,0.0021068453788757324,0.001770437229424715,0.002483213786035776,0.0025427909567952156,0.001707807183265686,0.003634627442806959,0.0019703172147274017,0.0025595854967832565,0.003822922706604004,0.0046318951062858105,0.0034405519254505634,0.0011466313153505325,0.0014112023636698723,0.003929788246750832,0.003378708381205797,0.005227121990174055,0.004706065636128187,0.004375947639346123,0.004031368065625429,0.003934487234801054,0.004832122474908829,0.0048909843899309635,0.005823398008942604,0.0047621699050068855,0.0044607138261199,0.004495888017117977,0.004381194245070219,0.004710199311375618,0.004251919221132994,0.004889199975878,0.005482298322021961,0.004057054407894611,0.003268613014370203,0.003986849915236235,0.004653662443161011,0.00464889919385314,0.004057175479829311,0.003809527028352022,0.003876186441630125,0.004090749658644199,0.004291842691600323,0.004390629939734936,0.004479226656258106,0.005087817553430796,0.004202627576887608,0.0033496117684990168,0.003978496417403221,0.00414284085854888,0.005066859535872936,0.00426253629848361,0.005189422518014908,0.005186460912227631,0.004118165001273155,0.003713024780154228,0.004530034493654966,0.004293360747396946,0.004468110855668783,0.003948464058339596,0.004372190218418837,0.003777791280299425,0.004095321986824274,0.004340115003287792,0.004888603463768959,0.005729116499423981,0.00649690069258213,0.007905954495072365,0.0050060986541211605,0.00402225274592638,0.0063142795115709305,0.006578969769179821,0.005694069433957338,0.005444730166345835,0.006438229698687792,0.006134073715656996,0.004788326099514961,0.005770194344222546,0.0050897481851279736,0.00514624360948801,0.004698019940406084,0.005928611382842064,0.006135465577244759,0.005917285569012165,0.005906321574002504,0.005334907211363316,0.006183200981467962,0.006233355030417442,0.006727546453475952,0.005512023810297251,0.00548439659178257,0.005942182615399361,0.0056543173268437386,0.006598170846700668,0.0065486617386341095,0.00624579144641757,0.006184256169945002,0.005448200274258852,0.005716690327972174,0.0071823494508862495,0.005102807190269232,0.005837245844304562,0.005327651277184486,0.005851295776665211,0.004880920983850956,0.004928089678287506,0.006400017999112606,0.005484749563038349,0.006440849043428898,0.006050652824342251,0.005516670644283295,0.005504978355020285,0.005004256963729858,0.0059667350724339485,0.005496137775480747,0.005280523095279932,0.00597965344786644,0.005194776225835085,0.004004177171736956,0.004743579775094986,0.004992953035980463,0.005802418105304241,0.005716681480407715,0.0064054010435938835,0.005574484821408987,0.004975589457899332,0.006289612501859665,0.005236536264419556,0.005743557587265968,0.005911622196435928,0.0056673623621463776,0.006207336205989122,0.004624176770448685,0.005381609313189983,0.005478704813867807,0.005935859866440296,0.006921409163624048,0.004970580339431763,0.004851099103689194,0.004566709045320749,0.0028420076705515385,0.0037849019281566143,0.004720753990113735,0.008223838172852993,0.007305321283638477,0.009030229412019253,0.007510306313633919,0.00426595751196146,0.005915318615734577,0.0069729601964354515,0.00881868414580822,0.006882810965180397,0.0060243746265769005,0.004667322151362896,0.006761183030903339,0.005469231866300106,0.00741960946470499,0.007547413464635611,0.007757322397083044,0.005229261703789234,0.005676576402038336,0.005751514341682196,0.00699119595810771,0.005319024436175823,0.005466570146381855,0.005451126955449581,0.005439923144876957,0.004476339090615511,0.0049164434894919395,0.005032381508499384,0.0059545207768678665,0.005531930364668369,0.004076104611158371],\"yaxis\":\"y\",\"type\":\"scattergl\"},{\"hovertemplate\":\"variable=y<br>ds=%{x}<br>value=%{y}<extra></extra>\",\"legendgroup\":\"y\",\"line\":{\"color\":\"#EF553B\",\"dash\":\"solid\"},\"marker\":{\"symbol\":\"circle\"},\"mode\":\"lines\",\"name\":\"y\",\"showlegend\":true,\"x\":[\"2022-04-29T00:00:00\",\"2022-04-30T00:00:00\",\"2022-05-01T00:00:00\",\"2022-05-02T00:00:00\",\"2022-05-03T00:00:00\",\"2022-05-04T00:00:00\",\"2022-05-05T00:00:00\",\"2022-05-06T00:00:00\",\"2022-05-07T00:00:00\",\"2022-05-08T00:00:00\",\"2022-05-09T00:00:00\",\"2022-05-10T00:00:00\",\"2022-05-11T00:00:00\",\"2022-05-12T00:00:00\",\"2022-05-13T00:00:00\",\"2022-05-14T00:00:00\",\"2022-05-15T00:00:00\",\"2022-05-16T00:00:00\",\"2022-05-17T00:00:00\",\"2022-05-18T00:00:00\",\"2022-05-19T00:00:00\",\"2022-05-20T00:00:00\",\"2022-05-21T00:00:00\",\"2022-05-22T00:00:00\",\"2022-05-23T00:00:00\",\"2022-05-24T00:00:00\",\"2022-05-25T00:00:00\",\"2022-05-26T00:00:00\",\"2022-05-27T00:00:00\",\"2022-05-28T00:00:00\",\"2022-05-29T00:00:00\",\"2022-05-30T00:00:00\",\"2022-05-31T00:00:00\",\"2022-06-01T00:00:00\",\"2022-06-02T00:00:00\",\"2022-06-03T00:00:00\",\"2022-06-04T00:00:00\",\"2022-06-05T00:00:00\",\"2022-06-06T00:00:00\",\"2022-06-07T00:00:00\",\"2022-06-08T00:00:00\",\"2022-06-09T00:00:00\",\"2022-06-10T00:00:00\",\"2022-06-11T00:00:00\",\"2022-06-12T00:00:00\",\"2022-06-13T00:00:00\",\"2022-06-14T00:00:00\",\"2022-06-15T00:00:00\",\"2022-06-16T00:00:00\",\"2022-06-17T00:00:00\",\"2022-06-18T00:00:00\",\"2022-06-19T00:00:00\",\"2022-06-20T00:00:00\",\"2022-06-21T00:00:00\",\"2022-06-22T00:00:00\",\"2022-06-23T00:00:00\",\"2022-06-24T00:00:00\",\"2022-06-25T00:00:00\",\"2022-06-26T00:00:00\",\"2022-06-27T00:00:00\",\"2022-06-28T00:00:00\",\"2022-06-29T00:00:00\",\"2022-06-30T00:00:00\",\"2022-07-01T00:00:00\",\"2022-07-02T00:00:00\",\"2022-07-03T00:00:00\",\"2022-07-04T00:00:00\",\"2022-07-05T00:00:00\",\"2022-07-06T00:00:00\",\"2022-07-07T00:00:00\",\"2022-07-08T00:00:00\",\"2022-07-09T00:00:00\",\"2022-07-10T00:00:00\",\"2022-07-11T00:00:00\",\"2022-07-12T00:00:00\",\"2022-07-13T00:00:00\",\"2022-07-14T00:00:00\",\"2022-07-15T00:00:00\",\"2022-07-16T00:00:00\",\"2022-07-17T00:00:00\",\"2022-07-18T00:00:00\",\"2022-07-19T00:00:00\",\"2022-07-20T00:00:00\",\"2022-07-21T00:00:00\",\"2022-07-22T00:00:00\",\"2022-07-23T00:00:00\",\"2022-07-24T00:00:00\",\"2022-07-25T00:00:00\",\"2022-07-26T00:00:00\",\"2022-07-27T00:00:00\",\"2022-07-28T00:00:00\",\"2022-07-29T00:00:00\",\"2022-07-30T00:00:00\",\"2022-07-31T00:00:00\",\"2022-08-01T00:00:00\",\"2022-08-02T00:00:00\",\"2022-08-03T00:00:00\",\"2022-08-04T00:00:00\",\"2022-08-05T00:00:00\",\"2022-08-06T00:00:00\",\"2022-08-07T00:00:00\",\"2022-08-08T00:00:00\",\"2022-08-09T00:00:00\",\"2022-08-10T00:00:00\",\"2022-08-11T00:00:00\",\"2022-08-12T00:00:00\",\"2022-08-13T00:00:00\",\"2022-08-14T00:00:00\",\"2022-08-15T00:00:00\",\"2022-08-16T00:00:00\",\"2022-08-17T00:00:00\",\"2022-08-18T00:00:00\",\"2022-08-19T00:00:00\",\"2022-08-20T00:00:00\",\"2022-08-21T00:00:00\",\"2022-08-22T00:00:00\",\"2022-08-23T00:00:00\",\"2022-08-24T00:00:00\",\"2022-08-25T00:00:00\",\"2022-08-26T00:00:00\",\"2022-08-27T00:00:00\",\"2022-08-28T00:00:00\",\"2022-08-29T00:00:00\",\"2022-08-30T00:00:00\",\"2022-08-31T00:00:00\",\"2022-09-01T00:00:00\",\"2022-09-02T00:00:00\",\"2022-09-03T00:00:00\",\"2022-09-04T00:00:00\",\"2022-09-05T00:00:00\",\"2022-09-06T00:00:00\",\"2022-09-07T00:00:00\",\"2022-09-08T00:00:00\",\"2022-09-09T00:00:00\",\"2022-09-10T00:00:00\",\"2022-09-11T00:00:00\",\"2022-09-12T00:00:00\",\"2022-09-13T00:00:00\",\"2022-09-14T00:00:00\",\"2022-09-15T00:00:00\",\"2022-09-16T00:00:00\",\"2022-09-17T00:00:00\",\"2022-09-18T00:00:00\",\"2022-09-19T00:00:00\",\"2022-09-20T00:00:00\",\"2022-09-21T00:00:00\",\"2022-09-22T00:00:00\",\"2022-09-23T00:00:00\",\"2022-09-24T00:00:00\",\"2022-09-25T00:00:00\",\"2022-09-26T00:00:00\",\"2022-09-27T00:00:00\",\"2022-09-28T00:00:00\",\"2022-09-29T00:00:00\",\"2022-09-30T00:00:00\",\"2022-10-01T00:00:00\",\"2022-10-02T00:00:00\",\"2022-10-03T00:00:00\",\"2022-10-04T00:00:00\",\"2022-10-05T00:00:00\",\"2022-10-06T00:00:00\",\"2022-10-07T00:00:00\",\"2022-10-08T00:00:00\",\"2022-10-09T00:00:00\",\"2022-10-10T00:00:00\",\"2022-10-11T00:00:00\",\"2022-10-12T00:00:00\",\"2022-10-13T00:00:00\",\"2022-10-14T00:00:00\",\"2022-10-15T00:00:00\",\"2022-10-16T00:00:00\",\"2022-10-17T00:00:00\",\"2022-10-18T00:00:00\",\"2022-10-19T00:00:00\",\"2022-10-20T00:00:00\",\"2022-10-21T00:00:00\",\"2022-10-22T00:00:00\",\"2022-10-23T00:00:00\",\"2022-10-24T00:00:00\",\"2022-10-25T00:00:00\",\"2022-10-26T00:00:00\",\"2022-10-27T00:00:00\",\"2022-10-28T00:00:00\",\"2022-10-29T00:00:00\",\"2022-10-30T00:00:00\",\"2022-10-31T00:00:00\",\"2022-11-01T00:00:00\",\"2022-11-02T00:00:00\",\"2022-11-03T00:00:00\",\"2022-11-04T00:00:00\",\"2022-11-05T00:00:00\",\"2022-11-06T00:00:00\",\"2022-11-07T00:00:00\",\"2022-11-08T00:00:00\",\"2022-11-09T00:00:00\",\"2022-11-10T00:00:00\",\"2022-11-11T00:00:00\",\"2022-11-12T00:00:00\",\"2022-11-13T00:00:00\",\"2022-11-14T00:00:00\",\"2022-11-15T00:00:00\",\"2022-11-16T00:00:00\",\"2022-11-17T00:00:00\",\"2022-11-18T00:00:00\",\"2022-11-19T00:00:00\",\"2022-11-20T00:00:00\",\"2022-11-21T00:00:00\",\"2022-11-22T00:00:00\",\"2022-11-23T00:00:00\",\"2022-11-24T00:00:00\",\"2022-11-25T00:00:00\",\"2022-11-26T00:00:00\",\"2022-11-27T00:00:00\",\"2022-11-28T00:00:00\",\"2022-11-29T00:00:00\",\"2022-11-30T00:00:00\",\"2022-12-01T00:00:00\",\"2022-12-02T00:00:00\",\"2022-12-03T00:00:00\",\"2022-12-04T00:00:00\",\"2022-12-05T00:00:00\",\"2022-12-06T00:00:00\",\"2022-12-07T00:00:00\",\"2022-12-08T00:00:00\",\"2022-12-09T00:00:00\",\"2022-12-10T00:00:00\",\"2022-12-11T00:00:00\",\"2022-12-12T00:00:00\",\"2022-12-13T00:00:00\",\"2022-12-14T00:00:00\",\"2022-12-15T00:00:00\",\"2022-12-16T00:00:00\",\"2022-12-17T00:00:00\",\"2022-12-18T00:00:00\",\"2022-12-19T00:00:00\",\"2022-12-20T00:00:00\",\"2022-12-21T00:00:00\",\"2022-12-22T00:00:00\",\"2022-12-23T00:00:00\",\"2022-12-24T00:00:00\",\"2022-12-25T00:00:00\",\"2022-12-26T00:00:00\",\"2022-12-27T00:00:00\",\"2022-12-28T00:00:00\",\"2022-12-29T00:00:00\",\"2022-12-30T00:00:00\",\"2022-12-31T00:00:00\",\"2023-01-01T00:00:00\",\"2023-01-02T00:00:00\",\"2023-01-03T00:00:00\",\"2023-01-04T00:00:00\",\"2023-01-05T00:00:00\",\"2023-01-06T00:00:00\",\"2023-01-07T00:00:00\",\"2023-01-08T00:00:00\",\"2023-01-09T00:00:00\",\"2023-01-10T00:00:00\",\"2023-01-11T00:00:00\",\"2023-01-12T00:00:00\",\"2023-01-13T00:00:00\",\"2023-01-14T00:00:00\",\"2023-01-15T00:00:00\",\"2023-01-16T00:00:00\",\"2023-01-17T00:00:00\",\"2023-01-18T00:00:00\",\"2023-01-19T00:00:00\",\"2023-01-20T00:00:00\",\"2023-01-21T00:00:00\",\"2023-01-22T00:00:00\",\"2023-01-23T00:00:00\",\"2023-01-24T00:00:00\",\"2023-01-25T00:00:00\",\"2023-01-26T00:00:00\",\"2023-01-27T00:00:00\",\"2023-01-28T00:00:00\",\"2023-01-29T00:00:00\",\"2023-01-30T00:00:00\",\"2023-01-31T00:00:00\",\"2023-02-01T00:00:00\",\"2023-02-02T00:00:00\",\"2023-02-03T00:00:00\",\"2023-02-04T00:00:00\",\"2023-02-05T00:00:00\",\"2023-02-06T00:00:00\",\"2023-02-07T00:00:00\",\"2023-02-08T00:00:00\",\"2023-02-09T00:00:00\",\"2023-02-10T00:00:00\",\"2023-02-11T00:00:00\",\"2023-02-12T00:00:00\",\"2023-02-13T00:00:00\",\"2023-02-14T00:00:00\",\"2023-02-15T00:00:00\",\"2023-02-16T00:00:00\",\"2023-02-17T00:00:00\",\"2023-02-18T00:00:00\",\"2023-02-19T00:00:00\",\"2023-02-20T00:00:00\",\"2023-02-21T00:00:00\",\"2023-02-22T00:00:00\",\"2023-02-23T00:00:00\",\"2023-02-24T00:00:00\",\"2023-02-25T00:00:00\",\"2023-02-26T00:00:00\",\"2023-02-27T00:00:00\",\"2023-02-28T00:00:00\",\"2023-03-01T00:00:00\",\"2023-03-02T00:00:00\",\"2023-03-03T00:00:00\",\"2023-03-04T00:00:00\",\"2023-03-05T00:00:00\",\"2023-03-06T00:00:00\",\"2023-03-07T00:00:00\",\"2023-03-08T00:00:00\",\"2023-03-09T00:00:00\",\"2023-03-10T00:00:00\",\"2023-03-11T00:00:00\",\"2023-03-12T00:00:00\",\"2023-03-13T00:00:00\",\"2023-03-14T00:00:00\",\"2023-03-15T00:00:00\",\"2023-03-16T00:00:00\",\"2023-03-17T00:00:00\",\"2023-03-18T00:00:00\",\"2023-03-19T00:00:00\",\"2023-03-20T00:00:00\",\"2023-03-21T00:00:00\",\"2023-03-22T00:00:00\",\"2023-03-23T00:00:00\",\"2023-03-24T00:00:00\",\"2023-03-25T00:00:00\",\"2023-03-26T00:00:00\",\"2023-03-27T00:00:00\",\"2023-03-28T00:00:00\",\"2023-03-29T00:00:00\",\"2023-03-30T00:00:00\",\"2023-03-31T00:00:00\",\"2023-04-01T00:00:00\",\"2023-04-02T00:00:00\",\"2023-04-03T00:00:00\",\"2023-04-04T00:00:00\",\"2023-04-05T00:00:00\",\"2023-04-06T00:00:00\",\"2023-04-07T00:00:00\",\"2023-04-08T00:00:00\",\"2023-04-09T00:00:00\",\"2023-04-10T00:00:00\",\"2023-04-11T00:00:00\",\"2023-04-12T00:00:00\",\"2023-04-13T00:00:00\",\"2023-04-14T00:00:00\",\"2023-04-15T00:00:00\",\"2023-04-16T00:00:00\",\"2023-04-17T00:00:00\",\"2023-04-18T00:00:00\",\"2023-04-19T00:00:00\",\"2023-04-20T00:00:00\",\"2023-04-21T00:00:00\",\"2023-04-22T00:00:00\",\"2023-04-23T00:00:00\",\"2023-04-24T00:00:00\",\"2023-04-25T00:00:00\",\"2023-04-26T00:00:00\",\"2023-04-27T00:00:00\",\"2023-04-28T00:00:00\",\"2023-04-29T00:00:00\",\"2023-04-30T00:00:00\",\"2023-05-01T00:00:00\",\"2023-05-02T00:00:00\",\"2023-05-03T00:00:00\",\"2023-05-04T00:00:00\",\"2023-05-05T00:00:00\",\"2023-05-06T00:00:00\",\"2023-05-07T00:00:00\",\"2023-05-08T00:00:00\",\"2023-05-09T00:00:00\",\"2023-05-10T00:00:00\",\"2023-05-11T00:00:00\",\"2023-05-12T00:00:00\",\"2023-05-13T00:00:00\",\"2023-05-14T00:00:00\",\"2023-05-15T00:00:00\",\"2023-05-16T00:00:00\",\"2023-05-17T00:00:00\",\"2023-05-18T00:00:00\",\"2023-05-19T00:00:00\",\"2023-05-20T00:00:00\",\"2023-05-21T00:00:00\",\"2023-05-22T00:00:00\",\"2023-05-23T00:00:00\",\"2023-05-24T00:00:00\",\"2023-05-25T00:00:00\",\"2023-05-26T00:00:00\",\"2023-05-27T00:00:00\",\"2023-05-28T00:00:00\",\"2023-05-29T00:00:00\",\"2023-05-30T00:00:00\",\"2023-05-31T00:00:00\",\"2023-06-01T00:00:00\",\"2023-06-02T00:00:00\",\"2023-06-03T00:00:00\",\"2023-06-04T00:00:00\",\"2023-06-05T00:00:00\",\"2023-06-06T00:00:00\",\"2023-06-07T00:00:00\",\"2023-06-08T00:00:00\",\"2023-06-09T00:00:00\",\"2023-06-10T00:00:00\",\"2023-06-11T00:00:00\",\"2023-06-12T00:00:00\",\"2023-06-13T00:00:00\",\"2023-06-14T00:00:00\",\"2023-06-15T00:00:00\",\"2023-06-16T00:00:00\",\"2023-06-17T00:00:00\",\"2023-06-18T00:00:00\",\"2023-06-19T00:00:00\",\"2023-06-20T00:00:00\",\"2023-06-21T00:00:00\",\"2023-06-22T00:00:00\",\"2023-06-23T00:00:00\",\"2023-06-24T00:00:00\",\"2023-06-25T00:00:00\",\"2023-06-26T00:00:00\",\"2023-06-27T00:00:00\",\"2023-06-28T00:00:00\",\"2023-06-29T00:00:00\",\"2023-06-30T00:00:00\",\"2023-07-01T00:00:00\",\"2023-07-02T00:00:00\",\"2023-07-03T00:00:00\",\"2023-07-04T00:00:00\",\"2023-07-05T00:00:00\",\"2023-07-06T00:00:00\",\"2023-07-07T00:00:00\",\"2023-07-08T00:00:00\",\"2023-07-09T00:00:00\",\"2023-07-10T00:00:00\",\"2023-07-11T00:00:00\",\"2023-07-12T00:00:00\",\"2023-07-13T00:00:00\",\"2023-07-14T00:00:00\",\"2023-07-15T00:00:00\",\"2023-07-16T00:00:00\",\"2023-07-17T00:00:00\",\"2023-07-18T00:00:00\",\"2023-07-19T00:00:00\",\"2023-07-20T00:00:00\",\"2023-07-21T00:00:00\",\"2023-07-22T00:00:00\",\"2023-07-23T00:00:00\",\"2023-07-24T00:00:00\",\"2023-07-25T00:00:00\",\"2023-07-26T00:00:00\",\"2023-07-27T00:00:00\",\"2023-07-28T00:00:00\",\"2023-07-29T00:00:00\",\"2023-07-30T00:00:00\",\"2023-07-31T00:00:00\",\"2023-08-01T00:00:00\",\"2023-08-02T00:00:00\",\"2023-08-03T00:00:00\",\"2023-08-04T00:00:00\",\"2023-08-05T00:00:00\",\"2023-08-06T00:00:00\",\"2023-08-07T00:00:00\",\"2023-08-08T00:00:00\",\"2023-08-09T00:00:00\",\"2023-08-10T00:00:00\",\"2023-08-11T00:00:00\",\"2023-08-12T00:00:00\",\"2023-08-13T00:00:00\",\"2023-08-14T00:00:00\",\"2023-08-15T00:00:00\",\"2023-08-16T00:00:00\",\"2023-08-17T00:00:00\",\"2023-08-18T00:00:00\",\"2023-08-19T00:00:00\",\"2023-08-20T00:00:00\",\"2023-08-21T00:00:00\",\"2023-08-22T00:00:00\",\"2023-08-23T00:00:00\",\"2023-08-24T00:00:00\",\"2023-08-25T00:00:00\",\"2023-08-26T00:00:00\",\"2023-08-27T00:00:00\",\"2023-08-28T00:00:00\",\"2023-08-29T00:00:00\",\"2023-08-30T00:00:00\",\"2023-08-31T00:00:00\",\"2023-09-01T00:00:00\",\"2023-09-02T00:00:00\",\"2023-09-03T00:00:00\",\"2023-09-04T00:00:00\",\"2023-09-05T00:00:00\",\"2023-09-06T00:00:00\",\"2023-09-07T00:00:00\",\"2023-09-08T00:00:00\",\"2023-09-09T00:00:00\",\"2023-09-10T00:00:00\",\"2023-09-11T00:00:00\",\"2023-09-12T00:00:00\",\"2023-09-13T00:00:00\",\"2023-09-14T00:00:00\",\"2023-09-15T00:00:00\",\"2023-09-16T00:00:00\",\"2023-09-17T00:00:00\",\"2023-09-18T00:00:00\",\"2023-09-19T00:00:00\",\"2023-09-20T00:00:00\",\"2023-09-21T00:00:00\",\"2023-09-22T00:00:00\",\"2023-09-23T00:00:00\",\"2023-09-24T00:00:00\",\"2023-09-25T00:00:00\",\"2023-09-26T00:00:00\",\"2023-09-27T00:00:00\",\"2023-09-28T00:00:00\",\"2023-09-29T00:00:00\",\"2023-09-30T00:00:00\",\"2023-10-01T00:00:00\",\"2023-10-02T00:00:00\",\"2023-10-03T00:00:00\",\"2023-10-04T00:00:00\",\"2023-10-05T00:00:00\",\"2023-10-06T00:00:00\",\"2023-10-07T00:00:00\",\"2023-10-08T00:00:00\",\"2023-10-09T00:00:00\",\"2023-10-10T00:00:00\",\"2023-10-11T00:00:00\",\"2023-10-12T00:00:00\",\"2023-10-13T00:00:00\",\"2023-10-14T00:00:00\",\"2023-10-15T00:00:00\",\"2023-10-16T00:00:00\",\"2023-10-17T00:00:00\",\"2023-10-18T00:00:00\",\"2023-10-19T00:00:00\",\"2023-10-20T00:00:00\",\"2023-10-21T00:00:00\",\"2023-10-22T00:00:00\",\"2023-10-23T00:00:00\",\"2023-10-24T00:00:00\",\"2023-10-25T00:00:00\",\"2023-10-26T00:00:00\",\"2023-10-27T00:00:00\",\"2023-10-28T00:00:00\",\"2023-10-29T00:00:00\",\"2023-10-30T00:00:00\",\"2023-10-31T00:00:00\",\"2023-11-01T00:00:00\",\"2023-11-02T00:00:00\",\"2023-11-03T00:00:00\",\"2023-11-04T00:00:00\",\"2023-11-05T00:00:00\",\"2023-11-06T00:00:00\",\"2023-11-07T00:00:00\",\"2023-11-08T00:00:00\",\"2023-11-09T00:00:00\",\"2023-11-10T00:00:00\",\"2023-11-11T00:00:00\",\"2023-11-12T00:00:00\",\"2023-11-13T00:00:00\",\"2023-11-14T00:00:00\",\"2023-11-15T00:00:00\",\"2023-11-16T00:00:00\",\"2023-11-17T00:00:00\",\"2023-11-18T00:00:00\",\"2023-11-19T00:00:00\",\"2023-11-20T00:00:00\",\"2023-11-21T00:00:00\",\"2023-11-22T00:00:00\",\"2023-11-23T00:00:00\",\"2023-11-24T00:00:00\",\"2023-11-25T00:00:00\",\"2023-11-26T00:00:00\",\"2023-11-27T00:00:00\",\"2023-11-28T00:00:00\",\"2023-11-29T00:00:00\",\"2023-11-30T00:00:00\",\"2023-12-01T00:00:00\",\"2023-12-02T00:00:00\",\"2023-12-03T00:00:00\",\"2023-12-04T00:00:00\",\"2023-12-05T00:00:00\",\"2023-12-06T00:00:00\",\"2023-12-07T00:00:00\",\"2023-12-08T00:00:00\",\"2023-12-09T00:00:00\",\"2023-12-10T00:00:00\",\"2023-12-11T00:00:00\",\"2023-12-12T00:00:00\",\"2023-12-13T00:00:00\",\"2023-12-14T00:00:00\",\"2023-12-15T00:00:00\",\"2023-12-16T00:00:00\",\"2023-12-17T00:00:00\",\"2023-12-18T00:00:00\",\"2023-12-19T00:00:00\",\"2023-12-20T00:00:00\",\"2023-12-21T00:00:00\",\"2023-12-22T00:00:00\",\"2023-12-23T00:00:00\",\"2023-12-24T00:00:00\",\"2023-12-25T00:00:00\",\"2023-12-26T00:00:00\",\"2023-12-27T00:00:00\",\"2023-12-28T00:00:00\",\"2023-12-29T00:00:00\",\"2023-12-30T00:00:00\",\"2023-12-31T00:00:00\",\"2024-01-01T00:00:00\",\"2024-01-02T00:00:00\",\"2024-01-03T00:00:00\",\"2024-01-04T00:00:00\",\"2024-01-05T00:00:00\",\"2024-01-06T00:00:00\",\"2024-01-07T00:00:00\",\"2024-01-08T00:00:00\",\"2024-01-09T00:00:00\",\"2024-01-10T00:00:00\",\"2024-01-11T00:00:00\",\"2024-01-12T00:00:00\",\"2024-01-13T00:00:00\",\"2024-01-14T00:00:00\",\"2024-01-15T00:00:00\",\"2024-01-16T00:00:00\",\"2024-01-17T00:00:00\",\"2024-01-18T00:00:00\",\"2024-01-19T00:00:00\",\"2024-01-20T00:00:00\",\"2024-01-21T00:00:00\",\"2024-01-22T00:00:00\",\"2024-01-23T00:00:00\",\"2024-01-24T00:00:00\",\"2024-01-25T00:00:00\",\"2024-01-26T00:00:00\",\"2024-01-27T00:00:00\",\"2024-01-28T00:00:00\",\"2024-01-29T00:00:00\",\"2024-01-30T00:00:00\",\"2024-01-31T00:00:00\",\"2024-02-01T00:00:00\",\"2024-02-02T00:00:00\",\"2024-02-03T00:00:00\",\"2024-02-04T00:00:00\",\"2024-02-05T00:00:00\",\"2024-02-06T00:00:00\",\"2024-02-07T00:00:00\",\"2024-02-08T00:00:00\",\"2024-02-09T00:00:00\",\"2024-02-10T00:00:00\",\"2024-02-11T00:00:00\",\"2024-02-12T00:00:00\",\"2024-02-13T00:00:00\",\"2024-02-14T00:00:00\",\"2024-02-15T00:00:00\",\"2024-02-16T00:00:00\",\"2024-02-17T00:00:00\",\"2024-02-18T00:00:00\",\"2024-02-19T00:00:00\",\"2024-02-20T00:00:00\",\"2024-02-21T00:00:00\",\"2024-02-22T00:00:00\",\"2024-02-23T00:00:00\",\"2024-02-24T00:00:00\",\"2024-02-25T00:00:00\",\"2024-02-26T00:00:00\",\"2024-02-27T00:00:00\",\"2024-02-28T00:00:00\",\"2024-02-29T00:00:00\"],\"xaxis\":\"x\",\"y\":[0.00645936838319249,0.005402755814233682,0.006517977645790208,0.0068228853453233705,0.005157341875375899,0.00704614771949822,0.007800573664798336,0.008675197147365688,0.00556800060811191,0.00826327500939768,0.015412385721635556,0.014715160394757624,0.026387169896975378,0.028766070537048105,0.014659794828904548,0.010382417002707927,0.008516858713094875,0.01055430560490159,0.00911627666155862,0.0087127010472742,0.00965542703201521,0.008584252516097415,0.005244990896993608,0.005516279130736146,0.0075157212106170945,0.007186154668351176,0.006789989388165798,0.013678926155139895,0.013207401457161646,0.007688156747091799,0.0052618828759630944,0.00834915071781723,0.00832945665301414,0.00988240230543604,0.007973075469065425,0.007098080560528001,0.004800317597327611,0.0050876525442412725,0.0071054972089937135,0.013625670002323386,0.009404926470199736,0.005357970551944971,0.009452129039370706,0.012956183073829066,0.014130396959718773,0.02795110389168944,0.02464863825913955,0.03401353939003318,0.018402181739635644,0.013341545415289658,0.02148096749014893,0.021033127189787514,0.01695017189920171,0.012170567669987647,0.012161118248212826,0.011065470480432932,0.011862355083832399,0.009417685020865171,0.009143155118666226,0.00885863146823097,0.009029320725274573,0.009972061978560745,0.014165716020441855,0.01428933121426827,0.008266287539659904,0.008731674501066636,0.010347771539132272,0.010519484053603298,0.010760438513286162,0.007947229858738135,0.011151923361819093,0.005886680355172682,0.006995188977998287,0.007561424523682404,0.007668300457056982,0.014795492258047415,0.010720149243951763,0.010931368124418965,0.017391607239705377,0.012240094559467963,0.014227133039086143,0.015931233230634476,0.013813578813116083,0.011468269210747046,0.010107856540354903,0.0095415076512063,0.011596281214602093,0.012697850724002951,0.011277480340151615,0.011673958340645512,0.014801334696747959,0.01288019526868354,0.008912535771912556,0.008975138881275485,0.008629190814652032,0.011368455260650542,0.008030067752029817,0.008724017900295476,0.009235786152911459,0.005689671610837287,0.005059731933255093,0.007040455630323687,0.0070170757363631885,0.011178929079311358,0.008933521903816985,0.0073007601059238755,0.006474316937789919,0.006228044551542359,0.009969052577327471,0.007731456557550121,0.008335301801228405,0.006252816183047238,0.012221461351953455,0.009557668148745032,0.009725632154910626,0.009698309724876487,0.00926473650108368,0.007951992424862976,0.006198052560609728,0.010980774729181717,0.009259296848503283,0.0071103564609903075,0.009055432342220723,0.012174880564692,0.011268561071902357,0.009595568316798132,0.009475196090543921,0.005745472045030468,0.005044890078364404,0.006083809517692366,0.011650709973734321,0.010047622694367467,0.009206652935465092,0.008208329730135652,0.006643364599138254,0.006473317033067736,0.008583193697645852,0.01348628866276176,0.00885986947561552,0.014268160699203501,0.009814164351987785,0.005973814861907153,0.008401683501338995,0.010929997537232887,0.009079185222756903,0.016396477255687384,0.010353201780258902,0.011146111285464508,0.005968569030602312,0.006873059710466839,0.00814708919716109,0.008453387453900759,0.010532113626187459,0.008843617179568707,0.007855784758294616,0.003907045469298599,0.005587611532167066,0.005755147642925288,0.005234270558367975,0.0051793246608689445,0.006008070273836662,0.004890174808000762,0.002986120477203508,0.003102535026406488,0.004595492971721398,0.005209049319813296,0.004258708565054343,0.012747194000599047,0.006540793256664933,0.0038711275756682898,0.004285764977866988,0.004392086240291504,0.005081373655837963,0.004451222884746833,0.0046484970258127345,0.005028331496314179,0.0025935173902278228,0.004065181991668455,0.005165209955678169,0.011498272478647584,0.010760597453587964,0.009552962450753296,0.008120327848902808,0.009147302180763912,0.005688318444523032,0.008379858158415422,0.006054871888913447,0.011879349310250621,0.005726308708205154,0.00888810345354409,0.004410797308743236,0.005224634441389675,0.006363120440885709,0.024745656483434863,0.024449585284827154,0.022441788234894764,0.01866062651106002,0.008592766605580216,0.00879428782652474,0.013368411414496021,0.008364824129598034,0.0078489680368315,0.007710457254815553,0.00525381212412573,0.0038419447679060898,0.007753361905227769,0.011367862188155404,0.00906081634774633,0.007937355320672095,0.005778016135145905,0.005172361102729403,0.005599156986202278,0.004256610770623167,0.006862098793214878,0.006317286183428425,0.008571945778176937,0.005407166880789838,0.005061248365940331,0.004820655869712709,0.004765611089439883,0.005189602255592472,0.004521515890231487,0.004962569796099856,0.00523263550878201,0.006211913288860369,0.0027493519887382663,0.002869526999714397,0.0037985295341299223,0.0071593919050513335,0.006446295336081165,0.004320698840223145,0.007507634177678901,0.004339916991297162,0.004341147648357898,0.0052825116848914146,0.006310290813660475,0.0036023710273615666,0.00582117450690352,0.003691724219553042,0.001456261811313515,0.005000950963026484,0.0024408287869020365,0.003226665096539094,0.004724237502723817,0.0032717273951106255,0.002924012688014431,0.002081784016389712,0.001664594232473413,0.003096755779886864,0.002259979582522671,0.005232833115230917,0.002246982126737203,0.0036803727822384493,0.0013661114246589325,0.0033550717271642275,0.005280900394607963,0.00343612504883887,0.005171694372865482,0.008766240002261942,0.005614006934148076,0.014726130256610927,0.0061955153960047485,0.0074062760928706155,0.007023363244705397,0.009790901308387112,0.004946181455519993,0.005915843363564208,0.0076581160397404015,0.0060131386177364925,0.006987029719468632,0.007446495886430474,0.008539665175048197,0.006533127068911923,0.006632423604595081,0.004037934306733339,0.006553508057257048,0.007070412366335734,0.005242978633422058,0.007409048812998182,0.008011173832538968,0.006155305405978722,0.004330577923685397,0.004647183817227787,0.005234607288326045,0.006109715265226493,0.005030971106094355,0.00805024644190027,0.006732553559408332,0.0034772661432519295,0.004250192686237563,0.0065167920829400225,0.00844027180643665,0.006374744525134566,0.00859182274824904,0.007509839157055149,0.0036139753653754232,0.005285579706485102,0.005500698785806934,0.006113944093265498,0.006212033813861828,0.006087150182721261,0.005853309495558731,0.004233710649602532,0.004192804187859536,0.005015536165090919,0.004514474573115614,0.005340088249192303,0.004218544379534809,0.007052985238469144,0.0028154508403960008,0.0041801878423789705,0.003154034327954307,0.004826723685512348,0.004326726318771766,0.007577896762319496,0.009649940070211574,0.008350268772322773,0.009328390416001519,0.009360348875054316,0.011328538499966054,0.009295875492936324,0.0064776753461526235,0.008209566203062003,0.009400611611330848,0.007265104332782686,0.0072688228541185704,0.0072794325105815655,0.0077991322811641565,0.007123865744389788,0.006153402894850346,0.0044004221358659446,0.0054610496912789,0.00577786655791239,0.006041364847351235,0.0050504820034688565,0.006387801090776028,0.005442129153658756,0.003232608942818878,0.003849310715166018,0.0062389737623073415,0.005689024775510793,0.006370328918147735,0.004355786587823503,0.003666189452176318,0.002474177146431841,0.0038055422101376537,0.0042246198638729695,0.004591239020661489,0.006669746590745379,0.0055995189596186705,0.008516179714020876,0.003909902429124699,0.004670058017918585,0.004796248674027422,0.004480189031133479,0.008242092202816893,0.006541123233567155,0.006532707720203107,0.003405029927701722,0.004817795970472282,0.0064258431619329,0.004951740335213858,0.010721012625555425,0.008554685909358511,0.004547741538618988,0.002984604445714579,0.00465187677346179,0.005772458263236874,0.004617970802379037,0.005211716707693835,0.00353807319966534,0.005448531689989649,0.006175984755542006,0.004919547827932405,0.006367585834494965,0.00401010222511686,0.007987067878949145,0.005489890727080131,0.006846139801555457,0.00360228167274334,0.0030353815881564183,0.004389170568886238,0.003556658203197511,0.0037245253608607794,0.004220831276678443,0.003178532704692775,0.0017906867607116069,0.002281155934639948,0.0030981634460775834,0.003671063118526795,0.004642469487647516,0.004440435197205729,0.0029235049823150296,0.002275586123608824,0.004521686076842979,0.0038045181122640156,0.0036047701986795595,0.0038123822609330196,0.0042071251045303504,0.003335155153549231,0.002114990685308432,0.0024598556756887206,0.0057874088609169766,0.0045080112881589335,0.0042826138524416505,0.002950152791883961,0.00271096220682447,0.007404190545599836,0.003897426194201068,0.004620014741534279,0.0049874054221039155,0.006410008724571496,0.004491327660371184,0.004668406618903142,0.004091501763742995,0.003189455120376426,0.005298376811116315,0.004594437713046871,0.007028528338679221,0.004988767620306434,0.00573226923396231,0.00327821572099962,0.004536575855218034,0.005446799942550849,0.004312873668818188,0.004714634114097441,0.0038429286426329462,0.008898310296825113,0.0025601286792840067,0.005389174266556211,0.0038433975804598054,0.002824657713169584,0.0035576024728737384,0.0051789651911940075,0.003643988246970242,0.002038853444473278,0.0027187375387150757,0.0033235392487917944,0.0027756851008359645,0.0035351146044698086,0.0060280720669762975,0.005238984956668763,0.0020792449617618894,0.0028399993062257016,0.004562590742339889,0.003597806463288029,0.0034580992445002834,0.0033611424670658215,0.0022918480322678173,0.002742035299828136,0.0025370500976947363,0.0034383319312199217,0.0023169845283690605,0.003338916460406824,0.002172791864038666,0.00190540986998063,0.001260938874247975,0.002561455423212192,0.0020924042694390787,0.004053138793345148,0.002996375556358219,0.002829145527825465,0.002848260821681727,0.0010867830804342678,0.0014596143855580915,0.0031204024070492944,0.0031064755034789174,0.00213041528145581,0.0018869216526236382,0.0015680993720580457,0.0007316596833159248,0.0014436144090929379,0.0016731436635845675,0.002386723680562478,0.0026875540602104737,0.01669743134466084,0.005921394694771536,0.002899678865242417,0.0025617643449173987,0.003518971441688313,0.006435374629463304,0.005096786907699401,0.0035046064938963877,0.0049440912738780846,0.001282743318736334,0.0016470560124017097,0.0038510053506053774,0.006730765943459111,0.0035101481364678486,0.005157624478554593,0.004490101260814241,0.0019108998983120421,0.0024205090781006145,0.0025900266488689916,0.0030938488960189615,0.005662180125613258,0.003102231746926792,0.0028749026709096693,0.0009596125570365624,0.0036973009315678655,0.005433004039334705,0.006077097518099649,0.0043760557418784105,0.0038948065766398767,0.0030437799714090686,0.0019710284671521816,0.002207297880645431,0.004210792102825521,0.0033620449078513104,0.004010066231104014,0.0036008418570009216,0.002622388879009262,0.0012649621327391629,0.003160019979163183,0.003655516749270881,0.0025209268721903995,0.003600250724381928,0.004376388286982169,0.00389953206903476,0.0026707120346693113,0.005282908108791826,0.006696834661852621,0.0032263989218506285,0.004002515760898412,0.003903162009582561,0.004077977440691359,0.0015078069256366264,0.002624942787814846,0.00544567714390418,0.0039944752959639495,0.004423139384347698,0.004063596055918422,0.0037546979619509867,0.0017359986802311636,0.002486817393127948,0.007948873442237513,0.0032944297943797232,0.003284433344661299,0.0035482697496160612,0.004728318018961004,0.003300269726726566,0.0041050388339354486,0.00798782674060071,0.009443550133121995,0.005727986006040797,0.007365246090382582,0.004902068998757035,0.0029474822545007746,0.0036049552523114755,0.00513442711881781,0.004527505064101098,0.005703280778676096,0.004940090268405441,0.004354552439856622,0.003127580506745438,0.006041744763307451,0.004287192780861217,0.004344979544955804,0.0033639967933153346,0.010117956577195822,0.005849149386415217,0.005346687002518231,0.0049445692849937285,0.00656567342584794,0.00756228726589183,0.005044224757641701,0.007935380438825086,0.005444648210879125,0.0033488392050491024,0.0037385661595732457,0.006957722904441501,0.008013560176570386,0.005187045959775444,0.004360149505170331,0.005587067223454739,0.0023173376344681113,0.004087428003319271,0.00491915545064186,0.004358692531821912,0.003991396975174694,0.003179528174653296,0.0041929818529160105,0.004821428105375406,0.0037594288221911936,0.0066358647256425495,0.006214288574073238,0.005997342370093455,0.005812473973193598,0.004575021610396738,0.004907087994380945,0.0030646689089412465,0.012151154776261604,0.004815821374878746,0.005908662419377152,0.007005860654727471,0.004498488444648071,0.0033525514709488555,0.004527205119755389,0.0054650413036080965,0.005237724172792689,0.00663197571659034,0.005604093398781196,0.007088042343754529,0.003907238459879475,0.0048560466924451005,0.0038489957137670698,0.005206579645768209,0.005523294143952391,0.007555324461488903,0.0069299610540159585,0.003830700327742743,0.0042768684724407875,0.0034024378629104613,0.005985535488863375,0.0168009897737863,0.005801353739432005,0.00633973624823859,0.0031709077021311754,0.004009720378887208,0.0063946120211325,0.01082691850209619,0.01220500137257353,0.00879645126870749,0.01103862705553717,0.004820804913130806,0.004609281329176909,0.004299452558798816,0.005139079474621173,0.004574598629673367,0.0052217213165038434,0.005300782428244675,0.0025245593097827125,0.0019421208913766026,0.007367789725363357,0.007729622125969161,0.005314641349229437,0.00481855874645051,0.004295904832794855,0.0025496503549931023,0.004099173343882962,0.0043983182938313985,0.004950405433149171,0.005319344901651204,0.004602657145506411,0.0035600539183799165,0.002435727363453118,0.0037894570478255816,0.0035500706844909503,0.004518424390367362,0.0038802400927349665,0.003941313131819081,0.005268134959130603,0.0029219538682350244,0.0032684716722300344,0.005653723257919192,0.00716538936831546,0.005280031813518352,0.006862404154967274,0.00614564125838986,0.0038417271583259787,0.004405426460171253,0.00551247465033425,0.007264224729535419,0.007074700104386434,0.006532806247608144,0.005041755077488847,0.003450763924641566,0.004872073474317649,0.0057432836464817475,0.006462201504995092,0.01675562181521557,0.009991995780385773],\"yaxis\":\"y\",\"type\":\"scattergl\"}],                        {\"template\":{\"data\":{\"histogram2dcontour\":[{\"type\":\"histogram2dcontour\",\"colorbar\":{\"outlinewidth\":0,\"ticks\":\"\"},\"colorscale\":[[0.0,\"#0d0887\"],[0.1111111111111111,\"#46039f\"],[0.2222222222222222,\"#7201a8\"],[0.3333333333333333,\"#9c179e\"],[0.4444444444444444,\"#bd3786\"],[0.5555555555555556,\"#d8576b\"],[0.6666666666666666,\"#ed7953\"],[0.7777777777777778,\"#fb9f3a\"],[0.8888888888888888,\"#fdca26\"],[1.0,\"#f0f921\"]]}],\"choropleth\":[{\"type\":\"choropleth\",\"colorbar\":{\"outlinewidth\":0,\"ticks\":\"\"}}],\"histogram2d\":[{\"type\":\"histogram2d\",\"colorbar\":{\"outlinewidth\":0,\"ticks\":\"\"},\"colorscale\":[[0.0,\"#0d0887\"],[0.1111111111111111,\"#46039f\"],[0.2222222222222222,\"#7201a8\"],[0.3333333333333333,\"#9c179e\"],[0.4444444444444444,\"#bd3786\"],[0.5555555555555556,\"#d8576b\"],[0.6666666666666666,\"#ed7953\"],[0.7777777777777778,\"#fb9f3a\"],[0.8888888888888888,\"#fdca26\"],[1.0,\"#f0f921\"]]}],\"heatmap\":[{\"type\":\"heatmap\",\"colorbar\":{\"outlinewidth\":0,\"ticks\":\"\"},\"colorscale\":[[0.0,\"#0d0887\"],[0.1111111111111111,\"#46039f\"],[0.2222222222222222,\"#7201a8\"],[0.3333333333333333,\"#9c179e\"],[0.4444444444444444,\"#bd3786\"],[0.5555555555555556,\"#d8576b\"],[0.6666666666666666,\"#ed7953\"],[0.7777777777777778,\"#fb9f3a\"],[0.8888888888888888,\"#fdca26\"],[1.0,\"#f0f921\"]]}],\"heatmapgl\":[{\"type\":\"heatmapgl\",\"colorbar\":{\"outlinewidth\":0,\"ticks\":\"\"},\"colorscale\":[[0.0,\"#0d0887\"],[0.1111111111111111,\"#46039f\"],[0.2222222222222222,\"#7201a8\"],[0.3333333333333333,\"#9c179e\"],[0.4444444444444444,\"#bd3786\"],[0.5555555555555556,\"#d8576b\"],[0.6666666666666666,\"#ed7953\"],[0.7777777777777778,\"#fb9f3a\"],[0.8888888888888888,\"#fdca26\"],[1.0,\"#f0f921\"]]}],\"contourcarpet\":[{\"type\":\"contourcarpet\",\"colorbar\":{\"outlinewidth\":0,\"ticks\":\"\"}}],\"contour\":[{\"type\":\"contour\",\"colorbar\":{\"outlinewidth\":0,\"ticks\":\"\"},\"colorscale\":[[0.0,\"#0d0887\"],[0.1111111111111111,\"#46039f\"],[0.2222222222222222,\"#7201a8\"],[0.3333333333333333,\"#9c179e\"],[0.4444444444444444,\"#bd3786\"],[0.5555555555555556,\"#d8576b\"],[0.6666666666666666,\"#ed7953\"],[0.7777777777777778,\"#fb9f3a\"],[0.8888888888888888,\"#fdca26\"],[1.0,\"#f0f921\"]]}],\"surface\":[{\"type\":\"surface\",\"colorbar\":{\"outlinewidth\":0,\"ticks\":\"\"},\"colorscale\":[[0.0,\"#0d0887\"],[0.1111111111111111,\"#46039f\"],[0.2222222222222222,\"#7201a8\"],[0.3333333333333333,\"#9c179e\"],[0.4444444444444444,\"#bd3786\"],[0.5555555555555556,\"#d8576b\"],[0.6666666666666666,\"#ed7953\"],[0.7777777777777778,\"#fb9f3a\"],[0.8888888888888888,\"#fdca26\"],[1.0,\"#f0f921\"]]}],\"mesh3d\":[{\"type\":\"mesh3d\",\"colorbar\":{\"outlinewidth\":0,\"ticks\":\"\"}}],\"scatter\":[{\"fillpattern\":{\"fillmode\":\"overlay\",\"size\":10,\"solidity\":0.2},\"type\":\"scatter\"}],\"parcoords\":[{\"type\":\"parcoords\",\"line\":{\"colorbar\":{\"outlinewidth\":0,\"ticks\":\"\"}}}],\"scatterpolargl\":[{\"type\":\"scatterpolargl\",\"marker\":{\"colorbar\":{\"outlinewidth\":0,\"ticks\":\"\"}}}],\"bar\":[{\"error_x\":{\"color\":\"#2a3f5f\"},\"error_y\":{\"color\":\"#2a3f5f\"},\"marker\":{\"line\":{\"color\":\"#E5ECF6\",\"width\":0.5},\"pattern\":{\"fillmode\":\"overlay\",\"size\":10,\"solidity\":0.2}},\"type\":\"bar\"}],\"scattergeo\":[{\"type\":\"scattergeo\",\"marker\":{\"colorbar\":{\"outlinewidth\":0,\"ticks\":\"\"}}}],\"scatterpolar\":[{\"type\":\"scatterpolar\",\"marker\":{\"colorbar\":{\"outlinewidth\":0,\"ticks\":\"\"}}}],\"histogram\":[{\"marker\":{\"pattern\":{\"fillmode\":\"overlay\",\"size\":10,\"solidity\":0.2}},\"type\":\"histogram\"}],\"scattergl\":[{\"type\":\"scattergl\",\"marker\":{\"colorbar\":{\"outlinewidth\":0,\"ticks\":\"\"}}}],\"scatter3d\":[{\"type\":\"scatter3d\",\"line\":{\"colorbar\":{\"outlinewidth\":0,\"ticks\":\"\"}},\"marker\":{\"colorbar\":{\"outlinewidth\":0,\"ticks\":\"\"}}}],\"scattermapbox\":[{\"type\":\"scattermapbox\",\"marker\":{\"colorbar\":{\"outlinewidth\":0,\"ticks\":\"\"}}}],\"scatterternary\":[{\"type\":\"scatterternary\",\"marker\":{\"colorbar\":{\"outlinewidth\":0,\"ticks\":\"\"}}}],\"scattercarpet\":[{\"type\":\"scattercarpet\",\"marker\":{\"colorbar\":{\"outlinewidth\":0,\"ticks\":\"\"}}}],\"carpet\":[{\"aaxis\":{\"endlinecolor\":\"#2a3f5f\",\"gridcolor\":\"white\",\"linecolor\":\"white\",\"minorgridcolor\":\"white\",\"startlinecolor\":\"#2a3f5f\"},\"baxis\":{\"endlinecolor\":\"#2a3f5f\",\"gridcolor\":\"white\",\"linecolor\":\"white\",\"minorgridcolor\":\"white\",\"startlinecolor\":\"#2a3f5f\"},\"type\":\"carpet\"}],\"table\":[{\"cells\":{\"fill\":{\"color\":\"#EBF0F8\"},\"line\":{\"color\":\"white\"}},\"header\":{\"fill\":{\"color\":\"#C8D4E3\"},\"line\":{\"color\":\"white\"}},\"type\":\"table\"}],\"barpolar\":[{\"marker\":{\"line\":{\"color\":\"#E5ECF6\",\"width\":0.5},\"pattern\":{\"fillmode\":\"overlay\",\"size\":10,\"solidity\":0.2}},\"type\":\"barpolar\"}],\"pie\":[{\"automargin\":true,\"type\":\"pie\"}]},\"layout\":{\"autotypenumbers\":\"strict\",\"colorway\":[\"#636efa\",\"#EF553B\",\"#00cc96\",\"#ab63fa\",\"#FFA15A\",\"#19d3f3\",\"#FF6692\",\"#B6E880\",\"#FF97FF\",\"#FECB52\"],\"font\":{\"color\":\"#2a3f5f\"},\"hovermode\":\"closest\",\"hoverlabel\":{\"align\":\"left\"},\"paper_bgcolor\":\"white\",\"plot_bgcolor\":\"#E5ECF6\",\"polar\":{\"bgcolor\":\"#E5ECF6\",\"angularaxis\":{\"gridcolor\":\"white\",\"linecolor\":\"white\",\"ticks\":\"\"},\"radialaxis\":{\"gridcolor\":\"white\",\"linecolor\":\"white\",\"ticks\":\"\"}},\"ternary\":{\"bgcolor\":\"#E5ECF6\",\"aaxis\":{\"gridcolor\":\"white\",\"linecolor\":\"white\",\"ticks\":\"\"},\"baxis\":{\"gridcolor\":\"white\",\"linecolor\":\"white\",\"ticks\":\"\"},\"caxis\":{\"gridcolor\":\"white\",\"linecolor\":\"white\",\"ticks\":\"\"}},\"coloraxis\":{\"colorbar\":{\"outlinewidth\":0,\"ticks\":\"\"}},\"colorscale\":{\"sequential\":[[0.0,\"#0d0887\"],[0.1111111111111111,\"#46039f\"],[0.2222222222222222,\"#7201a8\"],[0.3333333333333333,\"#9c179e\"],[0.4444444444444444,\"#bd3786\"],[0.5555555555555556,\"#d8576b\"],[0.6666666666666666,\"#ed7953\"],[0.7777777777777778,\"#fb9f3a\"],[0.8888888888888888,\"#fdca26\"],[1.0,\"#f0f921\"]],\"sequentialminus\":[[0.0,\"#0d0887\"],[0.1111111111111111,\"#46039f\"],[0.2222222222222222,\"#7201a8\"],[0.3333333333333333,\"#9c179e\"],[0.4444444444444444,\"#bd3786\"],[0.5555555555555556,\"#d8576b\"],[0.6666666666666666,\"#ed7953\"],[0.7777777777777778,\"#fb9f3a\"],[0.8888888888888888,\"#fdca26\"],[1.0,\"#f0f921\"]],\"diverging\":[[0,\"#8e0152\"],[0.1,\"#c51b7d\"],[0.2,\"#de77ae\"],[0.3,\"#f1b6da\"],[0.4,\"#fde0ef\"],[0.5,\"#f7f7f7\"],[0.6,\"#e6f5d0\"],[0.7,\"#b8e186\"],[0.8,\"#7fbc41\"],[0.9,\"#4d9221\"],[1,\"#276419\"]]},\"xaxis\":{\"gridcolor\":\"white\",\"linecolor\":\"white\",\"ticks\":\"\",\"title\":{\"standoff\":15},\"zerolinecolor\":\"white\",\"automargin\":true,\"zerolinewidth\":2},\"yaxis\":{\"gridcolor\":\"white\",\"linecolor\":\"white\",\"ticks\":\"\",\"title\":{\"standoff\":15},\"zerolinecolor\":\"white\",\"automargin\":true,\"zerolinewidth\":2},\"scene\":{\"xaxis\":{\"backgroundcolor\":\"#E5ECF6\",\"gridcolor\":\"white\",\"linecolor\":\"white\",\"showbackground\":true,\"ticks\":\"\",\"zerolinecolor\":\"white\",\"gridwidth\":2},\"yaxis\":{\"backgroundcolor\":\"#E5ECF6\",\"gridcolor\":\"white\",\"linecolor\":\"white\",\"showbackground\":true,\"ticks\":\"\",\"zerolinecolor\":\"white\",\"gridwidth\":2},\"zaxis\":{\"backgroundcolor\":\"#E5ECF6\",\"gridcolor\":\"white\",\"linecolor\":\"white\",\"showbackground\":true,\"ticks\":\"\",\"zerolinecolor\":\"white\",\"gridwidth\":2}},\"shapedefaults\":{\"line\":{\"color\":\"#2a3f5f\"}},\"annotationdefaults\":{\"arrowcolor\":\"#2a3f5f\",\"arrowhead\":0,\"arrowwidth\":1},\"geo\":{\"bgcolor\":\"white\",\"landcolor\":\"#E5ECF6\",\"subunitcolor\":\"white\",\"showland\":true,\"showlakes\":true,\"lakecolor\":\"white\"},\"title\":{\"x\":0.05},\"mapbox\":{\"style\":\"light\"}}},\"xaxis\":{\"anchor\":\"y\",\"domain\":[0.0,1.0],\"title\":{\"text\":\"ds\"}},\"yaxis\":{\"anchor\":\"x\",\"domain\":[0.0,1.0],\"title\":{\"text\":\"value\"}},\"legend\":{\"title\":{\"text\":\"variable\"},\"tracegroupgap\":0},\"title\":{\"text\":\"H=21 N-BEATSx prediction\"}},                        {\"responsive\": true}                    ).then(function(){\n",
       "                            \n",
       "var gd = document.getElementById('536b809c-0253-4e22-96d7-7bf1ce34fedc');\n",
       "var x = new MutationObserver(function (mutations, observer) {{\n",
       "        var display = window.getComputedStyle(gd).display;\n",
       "        if (!display || display === 'none') {{\n",
       "            console.log([gd, 'removed!']);\n",
       "            Plotly.purge(gd);\n",
       "            observer.disconnect();\n",
       "        }}\n",
       "}});\n",
       "\n",
       "// Listen for the removal of the full notebook cells\n",
       "var notebookContainer = gd.closest('#notebook-container');\n",
       "if (notebookContainer) {{\n",
       "    x.observe(notebookContainer, {childList: true});\n",
       "}}\n",
       "\n",
       "// Listen for the clearing of the current output cell\n",
       "var outputEl = gd.closest('.output');\n",
       "if (outputEl) {{\n",
       "    x.observe(outputEl, {childList: true});\n",
       "}}\n",
       "\n",
       "                        })                };                });            </script>        </div>"
      ]
     },
     "metadata": {},
     "output_type": "display_data"
    }
   ],
   "source": [
    "import plotly.express as px\n",
    "import pandas as pd\n",
    "import numpy as np\n",
    "fig = px.line(forecasts, x='ds', y=forecasts.columns[3:5], color='variable', title='H=21 N-BEATSx prediction')\n",
    "\n",
    "fig.show()"
   ]
  },
  {
   "cell_type": "code",
   "execution_count": 42,
   "id": "d379f358",
   "metadata": {},
   "outputs": [
    {
     "data": {
      "text/html": [
       "<div>\n",
       "<style scoped>\n",
       "    .dataframe tbody tr th:only-of-type {\n",
       "        vertical-align: middle;\n",
       "    }\n",
       "\n",
       "    .dataframe tbody tr th {\n",
       "        vertical-align: top;\n",
       "    }\n",
       "\n",
       "    .dataframe thead th {\n",
       "        text-align: right;\n",
       "    }\n",
       "</style>\n",
       "<table border=\"1\" class=\"dataframe\">\n",
       "  <thead>\n",
       "    <tr style=\"text-align: right;\">\n",
       "      <th></th>\n",
       "      <th>unique_id</th>\n",
       "      <th>ds</th>\n",
       "      <th>cutoff</th>\n",
       "      <th>NBEATSx</th>\n",
       "      <th>Real_value</th>\n",
       "      <th>external_BTC</th>\n",
       "    </tr>\n",
       "  </thead>\n",
       "  <tbody>\n",
       "    <tr>\n",
       "      <th>0</th>\n",
       "      <td>ETH</td>\n",
       "      <td>2022-04-29</td>\n",
       "      <td>2022-04-28</td>\n",
       "      <td>0.008179</td>\n",
       "      <td>0.006459</td>\n",
       "      <td>0.005412</td>\n",
       "    </tr>\n",
       "    <tr>\n",
       "      <th>1</th>\n",
       "      <td>ETH</td>\n",
       "      <td>2022-04-30</td>\n",
       "      <td>2022-04-28</td>\n",
       "      <td>0.007436</td>\n",
       "      <td>0.005403</td>\n",
       "      <td>0.003551</td>\n",
       "    </tr>\n",
       "    <tr>\n",
       "      <th>2</th>\n",
       "      <td>ETH</td>\n",
       "      <td>2022-05-01</td>\n",
       "      <td>2022-04-28</td>\n",
       "      <td>0.006902</td>\n",
       "      <td>0.006518</td>\n",
       "      <td>0.005401</td>\n",
       "    </tr>\n",
       "    <tr>\n",
       "      <th>3</th>\n",
       "      <td>ETH</td>\n",
       "      <td>2022-05-02</td>\n",
       "      <td>2022-04-28</td>\n",
       "      <td>0.007751</td>\n",
       "      <td>0.006823</td>\n",
       "      <td>0.006042</td>\n",
       "    </tr>\n",
       "    <tr>\n",
       "      <th>4</th>\n",
       "      <td>ETH</td>\n",
       "      <td>2022-05-03</td>\n",
       "      <td>2022-04-28</td>\n",
       "      <td>0.007840</td>\n",
       "      <td>0.005157</td>\n",
       "      <td>0.004382</td>\n",
       "    </tr>\n",
       "    <tr>\n",
       "      <th>...</th>\n",
       "      <td>...</td>\n",
       "      <td>...</td>\n",
       "      <td>...</td>\n",
       "      <td>...</td>\n",
       "      <td>...</td>\n",
       "      <td>...</td>\n",
       "    </tr>\n",
       "    <tr>\n",
       "      <th>13607</th>\n",
       "      <td>ETH</td>\n",
       "      <td>2024-02-25</td>\n",
       "      <td>2024-02-04</td>\n",
       "      <td>0.004916</td>\n",
       "      <td>0.004872</td>\n",
       "      <td>0.002504</td>\n",
       "    </tr>\n",
       "    <tr>\n",
       "      <th>13628</th>\n",
       "      <td>ETH</td>\n",
       "      <td>2024-02-26</td>\n",
       "      <td>2024-02-05</td>\n",
       "      <td>0.005032</td>\n",
       "      <td>0.005743</td>\n",
       "      <td>0.004685</td>\n",
       "    </tr>\n",
       "    <tr>\n",
       "      <th>13649</th>\n",
       "      <td>ETH</td>\n",
       "      <td>2024-02-27</td>\n",
       "      <td>2024-02-06</td>\n",
       "      <td>0.005955</td>\n",
       "      <td>0.006462</td>\n",
       "      <td>0.007689</td>\n",
       "    </tr>\n",
       "    <tr>\n",
       "      <th>13670</th>\n",
       "      <td>ETH</td>\n",
       "      <td>2024-02-28</td>\n",
       "      <td>2024-02-07</td>\n",
       "      <td>0.005532</td>\n",
       "      <td>0.016756</td>\n",
       "      <td>0.015570</td>\n",
       "    </tr>\n",
       "    <tr>\n",
       "      <th>13691</th>\n",
       "      <td>ETH</td>\n",
       "      <td>2024-02-29</td>\n",
       "      <td>2024-02-08</td>\n",
       "      <td>0.004076</td>\n",
       "      <td>0.009992</td>\n",
       "      <td>0.010279</td>\n",
       "    </tr>\n",
       "  </tbody>\n",
       "</table>\n",
       "<p>672 rows × 6 columns</p>\n",
       "</div>"
      ],
      "text/plain": [
       "      unique_id         ds     cutoff   NBEATSx  Real_value  external_BTC\n",
       "0           ETH 2022-04-29 2022-04-28  0.008179    0.006459      0.005412\n",
       "1           ETH 2022-04-30 2022-04-28  0.007436    0.005403      0.003551\n",
       "2           ETH 2022-05-01 2022-04-28  0.006902    0.006518      0.005401\n",
       "3           ETH 2022-05-02 2022-04-28  0.007751    0.006823      0.006042\n",
       "4           ETH 2022-05-03 2022-04-28  0.007840    0.005157      0.004382\n",
       "...         ...        ...        ...       ...         ...           ...\n",
       "13607       ETH 2024-02-25 2024-02-04  0.004916    0.004872      0.002504\n",
       "13628       ETH 2024-02-26 2024-02-05  0.005032    0.005743      0.004685\n",
       "13649       ETH 2024-02-27 2024-02-06  0.005955    0.006462      0.007689\n",
       "13670       ETH 2024-02-28 2024-02-07  0.005532    0.016756      0.015570\n",
       "13691       ETH 2024-02-29 2024-02-08  0.004076    0.009992      0.010279\n",
       "\n",
       "[672 rows x 6 columns]"
      ]
     },
     "execution_count": 42,
     "metadata": {},
     "output_type": "execute_result"
    }
   ],
   "source": [
    "forecasts=forecasts.rename(columns={'y':'Real_value','BTC':'external_BTC'})\n",
    "forecasts"
   ]
  },
  {
   "cell_type": "code",
   "execution_count": 43,
   "id": "cc828361",
   "metadata": {},
   "outputs": [],
   "source": [
    "forecasts.to_csv('ETH_H=21_NBEATSx_modify.csv')"
   ]
  },
  {
   "cell_type": "code",
   "execution_count": null,
   "id": "fe6a306d",
   "metadata": {},
   "outputs": [],
   "source": []
  }
 ],
 "metadata": {
  "kernelspec": {
   "display_name": "Python 3 (ipykernel)",
   "language": "python",
   "name": "python3"
  },
  "language_info": {
   "codemirror_mode": {
    "name": "ipython",
    "version": 3
   },
   "file_extension": ".py",
   "mimetype": "text/x-python",
   "name": "python",
   "nbconvert_exporter": "python",
   "pygments_lexer": "ipython3",
   "version": "3.11.5"
  }
 },
 "nbformat": 4,
 "nbformat_minor": 5
}
